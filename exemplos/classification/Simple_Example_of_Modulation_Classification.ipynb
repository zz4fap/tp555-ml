{
 "cells": [
  {
   "cell_type": "code",
   "execution_count": 2,
   "metadata": {},
   "outputs": [],
   "source": [
    "import numpy as np\n",
    "import matplotlib.pyplot as plt\n",
    "from scipy.special import erfc"
   ]
  },
  {
   "cell_type": "code",
   "execution_count": 59,
   "metadata": {},
   "outputs": [],
   "source": [
    "# Definition of several utility functions.\n",
    "def mod(bits, modtype):\n",
    "    symbols = []\n",
    "    ip = np.zeros((len(bits),1), dtype=complex)\n",
    "    inc = 0\n",
    "    if(modtype==2):\n",
    "        symbols_bpsk = [-1.0 + 1j*0.0, 1.0 + 1j*0.0]\n",
    "        for b in bits:\n",
    "            ip[inc] = symbols_bpsk[b[0]]\n",
    "            inc += 1\n",
    "        # Normalization of energy to 1.\n",
    "        symbols = (1.0/np.sqrt(1.0))*ip\n",
    "    elif(modtype==4):\n",
    "        symbols_qpsk = [-1.0 - 1j*1.0, -1.0 + 1j*1.0, 1.0 - 1j*1.0, 1.0 + 1j*1.0]\n",
    "        for b in bits:\n",
    "            ip[inc] = symbols_qpsk[b[0]]\n",
    "            inc += 1\n",
    "        # Normalization of energy to 1.\n",
    "        symbols = (1.0/np.sqrt(2.0))*ip\n",
    "    elif(modtype==16):\n",
    "        symbols_16qam = [-3.0 - 1j*3.0, -3.0 - 1j*1.0, -3.0 + 1j*3.0, -3.0 + 1j*1.0, \n",
    "                         -1.0 - 1j*3.0, -1.0 - 1j*1.0, -1.0 + 1j*3.0, -1.0 + 1j*1.0, \n",
    "                         +3.0 - 1j*3.0, +3.0 - 1j*1.0, +3.0 + 1j*3.0, +3.0 + 1j*1.0,\n",
    "                         +1.0 - 1j*3.0, +1.0 - 1j*1.0, +1.0 + 1j*3.0, +1.0 + 1j*1.0\n",
    "                        ]\n",
    "        for b in bits:\n",
    "            ip[inc] = symbols_16qam[b[0]]\n",
    "            inc += 1\n",
    "        # Normalization of energy to 1.\n",
    "        symbols = (1.0/np.sqrt(10.0))*ip\n",
    "    else:\n",
    "        print('Error: Modulation not implemented.')\n",
    "        \n",
    "    return symbols"
   ]
  },
  {
   "cell_type": "code",
   "execution_count": 79,
   "metadata": {},
   "outputs": [],
   "source": [
    "# Number of symbols to be transmitted.\n",
    "N = 100\n",
    "\n",
    "# Create Es/N0 vector.\n",
    "EsN0dB = 3\n",
    "EsN0Lin = 10.0**(-(EsN0dB/10.0))\n",
    "\n",
    "# Generate BPSK symbols.\n",
    "bits_bpsk = np.random.randint(0, 2, (N, 1))\n",
    "# Modulate the binary stream into BPSK symbols.\n",
    "bpsk = mod(bits_bpsk, 2)\n",
    "# Pass BPSK symbols through AWGN channel.\n",
    "noise = np.sqrt(EsN0Lin/2.0)*(np.random.randn(N, 1) + 1j*np.random.randn(N, 1))\n",
    "y_bpsk = bpsk + noise\n",
    "\n",
    "# Generate QPSK symbols.\n",
    "bits_qpsk = np.random.randint(0, 4, (N, 1))\n",
    "# Modulate the binary stream into QPSK symbols.\n",
    "qpsk = mod(bits_qpsk, 4)\n",
    "# Pass QPSK symbols through AWGN channel.\n",
    "noise = np.sqrt(EsN0Lin/2.0)*(np.random.randn(N, 1) + 1j*np.random.randn(N, 1))    \n",
    "y_qpsk = qpsk + noise\n",
    "\n",
    "# Generate 16QAM symbols.\n",
    "bits_16qam = np.random.randint(0, 16, (N, 1))\n",
    "# Modulate the binary stream into 16QAM symbols.\n",
    "qam16 = mod(bits_16qam, 16)\n",
    "# Pass 16QAM symbols through AWGN channel.\n",
    "noise = np.sqrt(EsN0Lin/2.0)*(np.random.randn(N, 1) + 1j*np.random.randn(N, 1))    \n",
    "y_qam16 = qam16 + noise"
   ]
  },
  {
   "cell_type": "code",
   "execution_count": 80,
   "metadata": {},
   "outputs": [
    {
     "data": {
      "image/png": "[encoded data removed]",
      "text/plain": [
       "<Figure size 432x288 with 1 Axes>"
      ]
     },
     "metadata": {
      "needs_background": "light"
     },
     "output_type": "display_data"
    }
   ],
   "source": [
    "plt.plot(np.real(y_bpsk), np.zeros((N,1)), '.', label='BPSK')\n",
    "plt.plot(np.real(y_qpsk), np.imag(y_qpsk), 'r.', label='QPSK')\n",
    "plt.plot(np.real(y_qam16), np.imag(y_qam16), 'k.', label='16QAM')\n",
    "plt.grid()\n",
    "plt.legend()\n",
    "plt.savefig('modulation_classification', dpi=600)\n",
    "plt.show()"
   ]
  },
  {
   "cell_type": "markdown",
   "metadata": {},
   "source": [
    "## Using SVM for classifying BPSK symbols"
   ]
  },
  {
   "cell_type": "code",
   "execution_count": 81,
   "metadata": {},
   "outputs": [
    {
     "name": "stdout",
     "output_type": "stream",
     "text": [
      "BPSK BER: 0.02\n"
     ]
    }
   ],
   "source": [
    "from sklearn.svm import SVC\n",
    "\n",
    "clf = SVC(gamma='auto')\n",
    "clf.fit(np.real(y_bpsk), bits_bpsk.ravel())\n",
    "\n",
    "bits_bpsk_pred = clf.predict(np.real(y_bpsk))\n",
    "\n",
    "error = 0\n",
    "for i in range(0, len(bits_bpsk_pred)):\n",
    "    if bits_bpsk_pred[i] != bits_bpsk.ravel()[i]:\n",
    "        error += 1\n",
    "        \n",
    "print('BPSK BER:', error/len(bits_bpsk_pred))"
   ]
  },
  {
   "cell_type": "code",
   "execution_count": null,
   "metadata": {},
   "outputs": [],
   "source": []
  }
 ],
 "metadata": {
  "kernelspec": {
   "display_name": "Python 3",
   "language": "python",
   "name": "python3"
  },
  "language_info": {
   "codemirror_mode": {
    "name": "ipython",
    "version": 3
   },
   "file_extension": ".py",
   "mimetype": "text/x-python",
   "name": "python",
   "nbconvert_exporter": "python",
   "pygments_lexer": "ipython3",
   "version": "3.7.7"
  }
 },
 "nbformat": 4,
 "nbformat_minor": 4
}
