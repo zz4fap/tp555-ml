{
 "cells": [
  {
   "cell_type": "code",
   "execution_count": 1,
   "metadata": {},
   "outputs": [
    {
     "name": "stderr",
     "output_type": "stream",
     "text": [
      "C:\\Users\\felipe.figueiredo\\Anaconda3\\lib\\site-packages\\numpy\\_distributor_init.py:32: UserWarning: loaded more than 1 DLL from .libs:\n",
      "C:\\Users\\felipe.figueiredo\\Anaconda3\\lib\\site-packages\\numpy\\.libs\\libopenblas.NOIJJG62EMASZI6NYURL6JBKM4EVBGM7.gfortran-win_amd64.dll\n",
      "C:\\Users\\felipe.figueiredo\\Anaconda3\\lib\\site-packages\\numpy\\.libs\\libopenblas.PYQHXLVVQ7VESDPUVUADXEVJOBGHJPAY.gfortran-win_amd64.dll\n",
      "  stacklevel=1)\n"
     ]
    }
   ],
   "source": [
    "# Import all necessary libraries.\n",
    "import numpy as np\n",
    "from scipy.special import erfc\n",
    "from sklearn.naive_bayes import GaussianNB\n",
    "from sklearn.model_selection import train_test_split\n",
    "from sklearn.metrics import confusion_matrix, accuracy_score\n",
    "import seaborn as sns\n",
    "import matplotlib.pyplot as plt"
   ]
  },
  {
   "cell_type": "code",
   "execution_count": 2,
   "metadata": {},
   "outputs": [],
   "source": [
    "# Reset the PN sequence generator.\n",
    "seed = 42\n",
    "np.random.seed(seed)"
   ]
  },
  {
   "cell_type": "code",
   "execution_count": 3,
   "metadata": {},
   "outputs": [],
   "source": [
    "# Number of BPSK symbols to be transmitted.\n",
    "N = 100000"
   ]
  },
  {
   "cell_type": "code",
   "execution_count": 4,
   "metadata": {},
   "outputs": [],
   "source": [
    "# Instantiate a Gaussian naive Bayes classifier.\n",
    "gnb = GaussianNB()"
   ]
  },
  {
   "cell_type": "code",
   "execution_count": 5,
   "metadata": {},
   "outputs": [
    {
     "name": "stdout",
     "output_type": "stream",
     "text": [
      "Acurácia: 1.0\n"
     ]
    }
   ],
   "source": [
    "# Create Es/N0 vector.\n",
    "EsN0dB = 10\n",
    "\n",
    "# Convert into linear value.\n",
    "EsN0Lin = 10.0**(-(EsN0dB/10.0))\n",
    "    \n",
    "# Generate N BPSK symbols.\n",
    "x = (2.0 * (np.random.rand(N) >= 0.5) - 1.0).reshape(N, 1)\n",
    "    \n",
    "# Generate noise vector. \n",
    "# Divide by two once the theoretical ber uses a complex Normal pdf with variance of each part = 1/2.\n",
    "noise = np.sqrt(EsN0Lin/2.0)*np.random.randn(N, 1)\n",
    "    \n",
    "# Pass symbols through AWGN channel.\n",
    "y = x + noise\n",
    "    \n",
    "# Split array into random train and test subsets.\n",
    "x_test, x_train, y_test, y_train = train_test_split(x, y, random_state=42)\n",
    "    \n",
    "# Fit.\n",
    "gnb.fit(y_train, x_train.ravel())\n",
    "\n",
    "# Predict.\n",
    "detected_x = gnb.predict(y_test).reshape(len(y_test), 1)\n",
    "\n",
    "acc = accuracy_score(x_test, detected_x)\n",
    "print('Acurácia:',acc)"
   ]
  },
  {
   "cell_type": "code",
   "execution_count": 6,
   "metadata": {},
   "outputs": [
    {
     "data": {
      "image/png": "[encoded data removed]",
      "text/plain": [
       "<Figure size 432x288 with 1 Axes>"
      ]
     },
     "metadata": {
      "needs_background": "light"
     },
     "output_type": "display_data"
    }
   ],
   "source": [
    "# Plot the confusion matrix\n",
    "x_pred = gnb.predict(y)\n",
    "\n",
    "fig = plt.figure()\n",
    "mat = confusion_matrix(x, x_pred)\n",
    "sns.heatmap(mat.T, square=True, annot=True, fmt='d', cbar=False, xticklabels=['0','1'], yticklabels=['0','1'], cmap=\"Blues\")\n",
    "plt.xlabel('true label')\n",
    "plt.ylabel('predicted label')\n",
    "plt.show()"
   ]
  },
  {
   "cell_type": "code",
   "execution_count": 7,
   "metadata": {},
   "outputs": [],
   "source": [
    "# Number of BPSK symbols to be transmitted.\n",
    "N = 1000000"
   ]
  },
  {
   "cell_type": "code",
   "execution_count": 8,
   "metadata": {},
   "outputs": [
    {
     "name": "stdout",
     "output_type": "stream",
     "text": [
      "Es/N0 dB: -10\n",
      "Es/N0 dB: -8\n",
      "Es/N0 dB: -6\n",
      "Es/N0 dB: -4\n",
      "Es/N0 dB: -2\n",
      "Es/N0 dB: 0\n",
      "Es/N0 dB: 2\n",
      "Es/N0 dB: 4\n",
      "Es/N0 dB: 6\n",
      "Es/N0 dB: 8\n",
      "Es/N0 dB: 10\n"
     ]
    }
   ],
   "source": [
    "# Create Es/N0 vector.\n",
    "EsN0dB = np.arange(-10,12,2)\n",
    "\n",
    "ber_theo = ber_simu = np.zeros(len(EsN0dB))\n",
    "for idx in range(0,len(EsN0dB)):\n",
    "    \n",
    "    print('Es/N0 dB:', EsN0dB[idx])\n",
    "    \n",
    "    EsN0Lin = 10.0**(-(EsN0dB[idx]/10.0))\n",
    "    \n",
    "    # Generate N BPSK symbols.\n",
    "    x = (2.0 * (np.random.rand(N) >= 0.5) - 1.0).reshape(N, 1)\n",
    "    \n",
    "    # Generate noise vector. \n",
    "    # Divide by two once the theoretical ber uses a complex Normal pdf with variance of each part = 1/2.\n",
    "    noise = np.sqrt(EsN0Lin/2.0)*np.random.randn(N, 1)\n",
    "    \n",
    "    # Pass symbols through AWGN channel.\n",
    "    y = x + noise\n",
    "    \n",
    "    # Predict.\n",
    "    detected_x = gnb.predict(y).reshape(len(y), 1)\n",
    "    \n",
    "    # Simulated BPSK BER.\n",
    "    error = (x != detected_x).sum()\n",
    "    ber_simu[idx] = 1.0 * error / len(y)\n",
    "    \n",
    "    # Theoretical BPSK BER.\n",
    "    ber_theo[idx] = 0.5*erfc(np.sqrt(10.0**((EsN0dB[idx]/10.0))))"
   ]
  },
  {
   "cell_type": "code",
   "execution_count": 9,
   "metadata": {},
   "outputs": [
    {
     "name": "stdout",
     "output_type": "stream",
     "text": [
      "Es/N0:-10 \t- BER: 3.273604e-01\n",
      "Es/N0:-8 \t- BER: 2.867145e-01\n",
      "Es/N0:-6 \t- BER: 2.392287e-01\n",
      "Es/N0:-4 \t- BER: 1.861138e-01\n",
      "Es/N0:-2 \t- BER: 1.306445e-01\n",
      "Es/N0:0 \t- BER: 7.864960e-02\n",
      "Es/N0:2 \t- BER: 3.750613e-02\n",
      "Es/N0:4 \t- BER: 1.250082e-02\n",
      "Es/N0:6 \t- BER: 2.388291e-03\n",
      "Es/N0:8 \t- BER: 1.909078e-04\n",
      "Es/N0:10 \t- BER: 3.872108e-06\n"
     ]
    }
   ],
   "source": [
    "# Print Es/N0 versus BER values.\n",
    "for i in range(0,len(ber_simu)): print('Es/N0:%d \\t- BER: %e' % (EsN0dB[i], ber_simu[i]))"
   ]
  },
  {
   "cell_type": "code",
   "execution_count": 10,
   "metadata": {},
   "outputs": [
    {
     "data": {
      "image/png": "[encoded data removed]",
      "text/plain": [
       "<Figure size 504x504 with 1 Axes>"
      ]
     },
     "metadata": {
      "needs_background": "light"
     },
     "output_type": "display_data"
    }
   ],
   "source": [
    "# Plot Es/N0 versus BER values.\n",
    "fig = plt.figure(figsize=(7,7))\n",
    "plt.plot(EsN0dB, ber_theo, label='theoretical')\n",
    "plt.plot(EsN0dB, ber_simu, 'ro', label='simulated')\n",
    "plt.xscale('linear')\n",
    "plt.yscale('log')\n",
    "plt.xlabel('Es/N0 [dB]')\n",
    "plt.ylabel('BER')\n",
    "plt.grid(True)\n",
    "plt.title('BPSK detection')\n",
    "plt.legend()\n",
    "plt.xlim([-10, 10])\n",
    "plt.ylim([1e-5, 1])\n",
    "plt.savefig(\"bpsk_ber_curves.png\", dpi=600)\n",
    "plt.show()"
   ]
  },
  {
   "cell_type": "code",
   "execution_count": null,
   "metadata": {},
   "outputs": [],
   "source": []
  },
  {
   "cell_type": "code",
   "execution_count": null,
   "metadata": {},
   "outputs": [],
   "source": []
  },
  {
   "cell_type": "code",
   "execution_count": null,
   "metadata": {},
   "outputs": [],
   "source": []
  },
  {
   "cell_type": "code",
   "execution_count": null,
   "metadata": {},
   "outputs": [],
   "source": []
  }
 ],
 "metadata": {
  "kernelspec": {
   "display_name": "Python 3",
   "language": "python",
   "name": "python3"
  },
  "language_info": {
   "codemirror_mode": {
    "name": "ipython",
    "version": 3
   },
   "file_extension": ".py",
   "mimetype": "text/x-python",
   "name": "python",
   "nbconvert_exporter": "python",
   "pygments_lexer": "ipython3",
   "version": "3.7.7"
  }
 },
 "nbformat": 4,
 "nbformat_minor": 2
}
