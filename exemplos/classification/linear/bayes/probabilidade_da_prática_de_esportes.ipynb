{
 "cells": [
  {
   "cell_type": "code",
   "execution_count": 8,
   "metadata": {},
   "outputs": [],
   "source": [
    "# Import all necessary libraries.\n",
    "import numpy as np\n",
    "from sklearn.naive_bayes import GaussianNB"
   ]
  },
  {
   "cell_type": "code",
   "execution_count": 9,
   "metadata": {},
   "outputs": [],
   "source": [
    "X = np.array([[29.44,85],[26.67,90],[28.33,86],[21.11,96],[20.00,80],[18.33,70],[17.78,65],[22.22,95],[20.56,70],[23.89,80],[23.89,70],[22.22,90],[27.22,75],[21.67,91]\n",
    "])\n",
    "\n",
    "y = np.array(['Não','Não','Sim','Sim','Sim','Não','Sim','Não','Sim','Sim','Sim','Sim','Sim','Não'])"
   ]
  },
  {
   "cell_type": "code",
   "execution_count": 10,
   "metadata": {},
   "outputs": [
    {
     "name": "stdout",
     "output_type": "stream",
     "text": [
      "Resposta: Sim!\n"
     ]
    }
   ],
   "source": [
    "# Instantiate a Gaussian naive Bayes classifier.\n",
    "gnb = GaussianNB()\n",
    "\n",
    "# fit.\n",
    "gnb.fit(X, y)\n",
    "\n",
    "# Predict.\n",
    "print('Resposta: %s!' % gnb.predict([[25,62]])[0])"
   ]
  },
  {
   "cell_type": "code",
   "execution_count": null,
   "metadata": {},
   "outputs": [],
   "source": []
  }
 ],
 "metadata": {
  "kernelspec": {
   "display_name": "Python 3",
   "language": "python",
   "name": "python3"
  },
  "language_info": {
   "codemirror_mode": {
    "name": "ipython",
    "version": 3
   },
   "file_extension": ".py",
   "mimetype": "text/x-python",
   "name": "python",
   "nbconvert_exporter": "python",
   "pygments_lexer": "ipython3",
   "version": "3.7.3"
  }
 },
 "nbformat": 4,
 "nbformat_minor": 2
}
