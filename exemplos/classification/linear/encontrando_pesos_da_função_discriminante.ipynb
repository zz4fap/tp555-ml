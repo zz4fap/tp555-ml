{
 "cells": [
  {
   "cell_type": "code",
   "execution_count": 7,
   "metadata": {},
   "outputs": [],
   "source": [
    "# importing libraries\n",
    "import numpy as np\n",
    "import matplotlib.pyplot as plt"
   ]
  },
  {
   "cell_type": "markdown",
   "metadata": {},
   "source": [
    "### Definindo os exemplos"
   ]
  },
  {
   "cell_type": "code",
   "execution_count": 2,
   "metadata": {},
   "outputs": [],
   "source": [
    "# Exemplos.\n",
    "X = np.array([\n",
    "    [0.3, 1.8],[0.5, 2.5],[0.1, 3],[0.75, 3.5],[1, 2.8],[1.5, 3.25],[2.3, 3.7],\n",
    "    [0.5, 0.5],[0.75, 1.2],[1, 0.5],[1.2, 1.3],[1.7, 0.9],[2, 1],[1.7, 2],[2.8, 0.5],[2.7, 1.7],[2.2, 2.5],[2.9, 3.1],[3.2, 3.5],[3.3, 2.7],\n",
    "])\n",
    "\n",
    "# Classes a que os exemplos pertencem.\n",
    "y = np.array([0,0,0,0,0,0,0,1,1,1,1,1,1,1,1,1,1,1,1,1])"
   ]
  },
  {
   "cell_type": "markdown",
   "metadata": {},
   "source": [
    "### Mostrando as classes."
   ]
  },
  {
   "cell_type": "code",
   "execution_count": 3,
   "metadata": {},
   "outputs": [
    {
     "data": {
      "image/png": "[encoded data removed]",
      "text/plain": [
       "<Figure size 432x288 with 1 Axes>"
      ]
     },
     "metadata": {
      "needs_background": "light"
     },
     "output_type": "display_data"
    }
   ],
   "source": [
    "axis1 = np.argwhere(y==0)\n",
    "axis2 = np.argwhere(y==1)\n",
    "\n",
    "plt.plot(X[axis1,0],X[axis1,1], '.', markersize=10, label='Classe 0')\n",
    "plt.plot(X[axis2,0],X[axis2,1], 'r^', markersize=10, label='Classe 1')\n",
    "plt.xlabel('$x_1$', fontsize=14)\n",
    "plt.ylabel('$x_2$', fontsize=14)\n",
    "plt.grid()\n",
    "plt.xlim([0,4])\n",
    "plt.ylim([0,4])\n",
    "plt.legend()\n",
    "plt.show()"
   ]
  },
  {
   "cell_type": "markdown",
   "metadata": {},
   "source": [
    "### Classificando"
   ]
  },
  {
   "cell_type": "code",
   "execution_count": 4,
   "metadata": {},
   "outputs": [],
   "source": [
    "def predict(X):\n",
    "    N = X.shape[0]\n",
    "    y_pred = np.zeros((N,))\n",
    "    for i in range(0, N):\n",
    "        # Acesse os valores de cada um dos 2 atributos.\n",
    "        x1 = X[i,0]\n",
    "        x2 = X[i,1]\n",
    "\n",
    "        # Função discriminante.\n",
    "        g = 1 + x1 - x2\n",
    "\n",
    "        # Eu escolhi atribuir g == 0 à classe 0, mas poderia ser a 1.\n",
    "        if(g <= 0):\n",
    "            y_pred[i] = 0\n",
    "        elif(g > 0):\n",
    "            y_pred[i] = 1\n",
    "\n",
    "    return y_pred\n",
    "    \n",
    "\n",
    "# realizando a predição.\n",
    "y_pred = predict(X)"
   ]
  },
  {
   "cell_type": "markdown",
   "metadata": {},
   "source": [
    "### Calculando o erro"
   ]
  },
  {
   "cell_type": "code",
   "execution_count": 5,
   "metadata": {},
   "outputs": [
    {
     "name": "stdout",
     "output_type": "stream",
     "text": [
      "Erro de predição: 0\n",
      "Precisão de predição: 1\n"
     ]
    }
   ],
   "source": [
    "error = 0\n",
    "acc = 0\n",
    "for i in range(0, len(y)):\n",
    "    if(y_pred[i] != y[i]):\n",
    "        error += 1\n",
    "    else:\n",
    "        acc += 1\n",
    "        \n",
    "print('Erro de predição:', error)\n",
    "print('Precisão de predição:',(1-error))"
   ]
  },
  {
   "cell_type": "markdown",
   "metadata": {},
   "source": [
    "### Mostrando as regiões de decisão"
   ]
  },
  {
   "cell_type": "code",
   "execution_count": 6,
   "metadata": {},
   "outputs": [
    {
     "data": {
      "image/png": "[encoded data removed]",
      "text/plain": [
       "<Figure size 432x288 with 1 Axes>"
      ]
     },
     "metadata": {
      "needs_background": "light"
     },
     "output_type": "display_data"
    }
   ],
   "source": [
    "# Plot the decision boundary. For that, we will assign a color to each\n",
    "# point in the mesh [x_min, x_max]x[y_min, y_max].\n",
    "x_min, x_max = 0, 4\n",
    "y_min, y_max = 0, 4\n",
    "h = .01  # step size in the mesh\n",
    "xx, yy = np.meshgrid(np.arange(x_min, x_max, h), np.arange(y_min, y_max, h))\n",
    "\n",
    "Z = predict(np.c_[xx.ravel(), yy.ravel()])\n",
    "\n",
    "# Put the result into a color plot\n",
    "Z = Z.reshape(xx.shape)\n",
    "plt.figure()\n",
    "plt.pcolormesh(xx, yy, Z, cmap=plt.cm.Greens, shading='auto')\n",
    "# Plot also the training points\n",
    "plt.plot(X[axis1,0],X[axis1,1], '.', markersize=10, label='Classe 0')\n",
    "plt.plot(X[axis2,0],X[axis2,1], 'r^', markersize=10, label='Classe 1')\n",
    "plt.xlabel('$x_1$', fontsize=14)\n",
    "plt.ylabel('$x_2$', fontsize=14)\n",
    "\n",
    "plt.xlim(0, 4)\n",
    "plt.ylim(0, 4)\n",
    "\n",
    "plt.legend()\n",
    "plt.show()"
   ]
  }
 ],
 "metadata": {
  "kernelspec": {
   "display_name": "Python 3",
   "language": "python",
   "name": "python3"
  },
  "language_info": {
   "codemirror_mode": {
    "name": "ipython",
    "version": 3
   },
   "file_extension": ".py",
   "mimetype": "text/x-python",
   "name": "python",
   "nbconvert_exporter": "python",
   "pygments_lexer": "ipython3",
   "version": "3.7.7"
  }
 },
 "nbformat": 4,
 "nbformat_minor": 4
}
