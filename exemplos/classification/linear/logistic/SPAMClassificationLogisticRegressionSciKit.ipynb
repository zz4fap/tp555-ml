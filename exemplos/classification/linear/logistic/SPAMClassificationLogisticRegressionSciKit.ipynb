{
 "cells": [
  {
   "cell_type": "code",
   "execution_count": 1,
   "metadata": {},
   "outputs": [],
   "source": [
    "# Import all necessary libraries.\n",
    "import numpy as np\n",
    "import seaborn as sns\n",
    "import matplotlib.pyplot as plt\n",
    "import pandas as pd\n",
    "from sklearn.linear_model import LogisticRegression\n",
    "from sklearn.feature_extraction.text import CountVectorizer\n",
    "from sklearn.model_selection import train_test_split\n",
    "from sklearn.metrics import confusion_matrix\n",
    "from sklearn.metrics import accuracy_score\n",
    "from sklearn.metrics import classification_report"
   ]
  },
  {
   "cell_type": "code",
   "execution_count": 2,
   "metadata": {},
   "outputs": [],
   "source": [
    "seed = 42\n",
    "np.random.seed(seed)"
   ]
  },
  {
   "cell_type": "markdown",
   "metadata": {},
   "source": [
    "### Conjunto de dados.\n",
    "\n",
    "Conjunto de mensagens de SMS para detecção de spam em telefones celulares.\n",
    "\n",
    "O conjunto é composto por 5574 mensagens rotuladas (spam ou ham)."
   ]
  },
  {
   "cell_type": "code",
   "execution_count": 3,
   "metadata": {
    "scrolled": true
   },
   "outputs": [
    {
     "name": "stdout",
     "output_type": "stream",
     "text": [
      "  label                                            message\n",
      "0   ham  Go until jurong point, crazy.. Available only ...\n",
      "1   ham                      Ok lar... Joking wif u oni...\n",
      "2  spam  Free entry in 2 a wkly comp to win FA Cup fina...\n",
      "3   ham  U dun say so early hor... U c already then say...\n",
      "4   ham  Nah I don't think he goes to usf, he lives aro...\n"
     ]
    }
   ],
   "source": [
    "# Read SMS data base with pandas.\n",
    "# Public set of SMS messages for mobile phone spam research.\n",
    "# It is composed of 5574 tagged messages (spam or ham).\n",
    "url = 'https://raw.githubusercontent.com/justmarkham/pycon-2016-tutorial/master/data/sms.tsv'\n",
    "sms = pd.read_table(url, header=None, names=['label', 'message'])\n",
    "#file='../../../../data/sms.tsv'\n",
    "#sms = pd.read_table(file, header=None, names=['label', 'message'])\n",
    "\n",
    "# examine the first 5 rows\n",
    "print(sms.head())"
   ]
  },
  {
   "cell_type": "markdown",
   "metadata": {},
   "source": [
    "### Quantidade de exemplos em cada classe.\n",
    "\n",
    "+ Percebam que as classes são **desbalanceadas**, ou seja, uma das classes tem muito mais exemplos do que a outra.\n",
    "\n",
    "\n",
    "+ O modelo de classificação pode ter dificuldade em aprender a classificar a classe minoritária corretamente, pois ele \"vê\" exemplos desta classe um número menor de vezes.\n",
    "\n",
    "\n",
    "+ Deve-se utilizar alguma estratégia para equilibtar o número de exemplos em cada classe: coletar mais exemplos, oversampling, downsampling, geração sintética de dados, etc."
   ]
  },
  {
   "cell_type": "code",
   "execution_count": 4,
   "metadata": {},
   "outputs": [
    {
     "data": {
      "image/png": "[encoded data removed]",
      "text/plain": [
       "<Figure size 640x480 with 1 Axes>"
      ]
     },
     "metadata": {},
     "output_type": "display_data"
    }
   ],
   "source": [
    "sns.countplot(x='label', data=sms, palette='hls')\n",
    "plt.grid()\n",
    "plt.show()"
   ]
  },
  {
   "cell_type": "markdown",
   "metadata": {},
   "source": [
    "### Cria vetores de atributo e rótulo.\n",
    "\n",
    "Como os rótulos são textuais (i.e., strings), precisamos alterá-los para valores númericos, 0 e 1, para representar as classes negativa e positiva."
   ]
  },
  {
   "cell_type": "code",
   "execution_count": 5,
   "metadata": {},
   "outputs": [],
   "source": [
    "# Convert label to a numerical variable\n",
    "sms['label_num'] = sms.label.map({'ham':0, 'spam':1})\n",
    "\n",
    "# Create feature and label vectors.\n",
    "X = sms.message\n",
    "\n",
    "y = sms.label_num"
   ]
  },
  {
   "cell_type": "markdown",
   "metadata": {},
   "source": [
    "### Cria os conjuntos de treinamento e validação.\n",
    "\n",
    "Dividimos o conjunto total de dados em 75% para treinamento e 25% para validação (por padrão, `test_size = 0.25`)."
   ]
  },
  {
   "cell_type": "code",
   "execution_count": 6,
   "metadata": {},
   "outputs": [],
   "source": [
    "# Split array into random train and test subsets.\n",
    "X_train, X_test, y_train, y_test = train_test_split(X, y, random_state=seed)"
   ]
  },
  {
   "cell_type": "markdown",
   "metadata": {},
   "source": [
    "### Converte texto de entrada em frequência de cada uma de duas palavras.\n",
    "\n",
    "+ O objeto da classe `CountVectorizer` é usado para criar uma matriz registrando o número de vezes (frequência) com que cada palavra aparece na mensagem.\n",
    "\n",
    "\n",
    "+ O método `fit_transform` cria um vocabulário com as palavras presentes no conjunto e converte as mensagens em uma matriz com a frequência de cada palavra no conjunto\n",
    "\n",
    "\n",
    "+ O método `transform` converte as mensagens de validação em uma matriz com a frequência de cada palavra, baseado no vocabulário criado com o conjunto de treinamento. \n",
    "\n",
    "\n",
    "+ O seguinte exemplo mostra como a classe `CountVectorizer` funciona: [how_count_vectorizer_works](https://colab.research.google.com/github/zz4fap/tp555-ml/blob/main/exemplos/classification/linear/logistic/how_count_vectorizer_works.ipynb)"
   ]
  },
  {
   "cell_type": "code",
   "execution_count": 7,
   "metadata": {},
   "outputs": [],
   "source": [
    "# Convert a collection of text documents into a matrix of token counts.\n",
    "vect = CountVectorizer()\n",
    "\n",
    "# Learn the vocabulary dictionary and return term-document matrix for the training set.\n",
    "X_train_dtm = vect.fit_transform(X_train)\n",
    "\n",
    "# Transform validation set into document-term matrix.\n",
    "X_test_dtm = vect.transform(X_test)"
   ]
  },
  {
   "cell_type": "markdown",
   "metadata": {},
   "source": [
    "### Instancia regressor logístico e o treina.\n",
    "\n",
    "A biblioteca SciKit-Learn implementa o regressor logístico através da classe [LogisticRegression](https://scikit-learn.org/stable/modules/generated/sklearn.linear_model.LogisticRegression.html#sklearn.linear_model.LogisticRegression)."
   ]
  },
  {
   "cell_type": "code",
   "execution_count": 8,
   "metadata": {},
   "outputs": [
    {
     "data": {
      "text/plain": [
       "LogisticRegression()"
      ]
     },
     "execution_count": 8,
     "metadata": {},
     "output_type": "execute_result"
    }
   ],
   "source": [
    "# Instantiate Logistic classifier.\n",
    "classifier = LogisticRegression()\n",
    "\n",
    "# Train the model.\n",
    "classifier.fit(X_train_dtm, y_train.ravel())"
   ]
  },
  {
   "cell_type": "markdown",
   "metadata": {},
   "source": [
    "### Cálculo da acurácia com o conjunto de validação.\n",
    "\n",
    "**Acurácia**: quantos exemplos estão corretos dentre todos os exemplos do conjunto de validação.\n",
    "\n",
    "A função `accuracy_score` calcula a acurácia."
   ]
  },
  {
   "cell_type": "code",
   "execution_count": 9,
   "metadata": {},
   "outputs": [
    {
     "data": {
      "text/plain": [
       "0.9856424982053122"
      ]
     },
     "execution_count": 9,
     "metadata": {},
     "output_type": "execute_result"
    }
   ],
   "source": [
    "# Prediction.\n",
    "y_pred_class = classifier.predict(X_test_dtm)\n",
    "\n",
    "# Calculate accuracy of class predictions.\n",
    "accuracy_score(y_test, y_pred_class)"
   ]
  },
  {
   "cell_type": "markdown",
   "metadata": {},
   "source": [
    "### Plotando a matriz de confusão\n",
    "\n",
    "Uma métrica muito comum para verificar o desempenho de classificadores é a matriz de confusão.\n",
    "\n",
    "Através dela, podemos extrair várias métricas de desempenho, como veremos mais adiante.\n",
    "\n",
    "Vejamos o exemplo abaixo. As diferentes cores indicam a quantidade de exemplos num dado grupo, quanto mais escura for a cor, maior o número de exemplos naquele grupo.\n",
    "\n",
    "<img src=\"../../../../figures/matriz_de_confusão.png\" width=\"500\" height=\"500\">"
   ]
  },
  {
   "cell_type": "code",
   "execution_count": 10,
   "metadata": {},
   "outputs": [
    {
     "data": {
      "image/png": "[encoded data removed]",
      "text/plain": [
       "<Figure size 640x480 with 1 Axes>"
      ]
     },
     "metadata": {},
     "output_type": "display_data"
    }
   ],
   "source": [
    "# Plot the confusion matrix\n",
    "mat = confusion_matrix(y_test, y_pred_class)\n",
    "sns.heatmap(mat.T, square=True, annot=True, fmt='d', cbar=False, xticklabels=['ham','spam'], yticklabels=['ham','spam'], cmap=\"Blues\")\n",
    "plt.xlabel('True', fontsize=14)\n",
    "plt.ylabel('Predicted', fontsize=14)\n",
    "#plt.savefig(\"confusion_matrix_spam_classification_logistic_regression.png\", dpi=600)\n",
    "plt.show()"
   ]
  }
 ],
 "metadata": {
  "kernelspec": {
   "display_name": "Python 3 (ipykernel)",
   "language": "python",
   "name": "python3"
  },
  "language_info": {
   "codemirror_mode": {
    "name": "ipython",
    "version": 3
   },
   "file_extension": ".py",
   "mimetype": "text/x-python",
   "name": "python",
   "nbconvert_exporter": "python",
   "pygments_lexer": "ipython3",
   "version": "3.9.13"
  }
 },
 "nbformat": 4,
 "nbformat_minor": 2
}
