{
 "cells": [
  {
   "cell_type": "code",
   "execution_count": 35,
   "metadata": {},
   "outputs": [],
   "source": [
    "# Import all necessary libraries\n",
    "from mpl_toolkits.mplot3d import Axes3D\n",
    "from matplotlib import cm\n",
    "import matplotlib.pyplot as plt\n",
    "import matplotlib\n",
    "from pylab import *\n",
    "import numpy as np\n",
    "import random\n",
    "from sklearn.preprocessing import StandardScaler\n",
    "\n",
    "%matplotlib inline"
   ]
  },
  {
   "cell_type": "markdown",
   "metadata": {},
   "source": [
    "Sejam as seguintes funções hipótese:\n",
    "\n",
    "$y = a_0 + a_1 x$\n",
    "\n",
    "$y = a_0' + a_1' x'$\n",
    "\n",
    "Padronizando $x$ na equação acima como mostrado abaixo\n",
    "\n",
    "$x' = \\frac{x - \\mu_x}{\\sigma_x}$\n",
    "\n",
    "nós temos\n",
    "\n",
    "$y = a_0' + a_1' \\frac{x - \\mu_x}{\\sigma_x}$\n",
    "\n",
    "$y = a_0 + \\frac{a_1}{\\sigma_x}x - \\frac{a_1 \\mu_x}{\\sigma_x}$\n",
    "\n",
    "$y = \\left( a_0- \\frac{a_1 \\mu_x}{\\sigma_x} \\right) + \\frac{a_1}{\\sigma_x}x $\n",
    "\n",
    "Sabendo que as duas equações iniciais resultam nos mesmo valores, nós podemos escrever\n",
    "\n",
    "$ a_0 + a_1 x = \\left( a_0- \\frac{a_1 \\mu_x}{\\sigma_x} \\right) + \\frac{a_1}{\\sigma_x}x $\n",
    "\n",
    "Que pode ser re-escrita como\n",
    "\n",
    "$\\left( a_0 - a_0' + \\frac{a_1' \\mu_x}{\\sigma_x}  \\right) + \\left(a_1 - \\frac{a_1'}{\\sigma_x} \\right)x = 0$\n",
    "\n",
    "A unica forma da equação acima ser igual a zero é quando\n",
    "\n",
    "$\\left( a_0 - a_0' + \\frac{a_1' \\mu_x}{\\sigma_x}  \\right) = 0$\n",
    "\n",
    "e\n",
    "\n",
    "$\\left(a_1 - \\frac{a_1'}{\\sigma_x} \\right) = 0$\n",
    "\n",
    "Resolvendo cada uma das equações acima para $a_0'$ e $a_1'$ temos\n",
    "\n",
    "$a_1' = a_1 \\sigma_x$\n",
    "\n",
    "$a_0' = a_0 + a_1 \\mu_x$"
   ]
  },
  {
   "cell_type": "code",
   "execution_count": 36,
   "metadata": {},
   "outputs": [],
   "source": [
    "M = 1000\n",
    "\n",
    "x = 10.0*np.random.rand(M,) - 5.0\n",
    "\n",
    "a0 = 1.0\n",
    "\n",
    "a1 = 2.0\n",
    "\n",
    "y = a0 + a1*x\n",
    "\n",
    "x = x.reshape(M,1)\n",
    "y = y.reshape(M,1)"
   ]
  },
  {
   "cell_type": "code",
   "execution_count": 37,
   "metadata": {},
   "outputs": [
    {
     "data": {
      "image/png": "[encoded data removed]",
      "text/plain": [
       "<Figure size 432x288 with 1 Axes>"
      ]
     },
     "metadata": {
      "needs_background": "light"
     },
     "output_type": "display_data"
    }
   ],
   "source": [
    "plt.plot(x,y,'.')\n",
    "plt.show()"
   ]
  },
  {
   "cell_type": "code",
   "execution_count": 38,
   "metadata": {},
   "outputs": [
    {
     "name": "stdout",
     "output_type": "stream",
     "text": [
      "a0 0.9999999999999997\n",
      "a1 2.0000000000000013\n"
     ]
    }
   ],
   "source": [
    "X = np.c_[np.ones((M,1)), x]\n",
    "\n",
    "a_opt = np.linalg.pinv(np.transpose(X).dot(X)).dot(np.transpose(X).dot(y))\n",
    "\n",
    "print('a0', a_opt[0][0])\n",
    "print('a1', a_opt[1][0])"
   ]
  },
  {
   "cell_type": "code",
   "execution_count": 39,
   "metadata": {},
   "outputs": [],
   "source": [
    "scaler = StandardScaler()\n",
    "\n",
    "xl = scaler.fit_transform(x)\n",
    "\n",
    "Xl = np.c_[np.ones((M,1)), xl]"
   ]
  },
  {
   "cell_type": "code",
   "execution_count": 45,
   "metadata": {},
   "outputs": [
    {
     "name": "stdout",
     "output_type": "stream",
     "text": [
      "a0': 1.259537\n",
      "a1': 5.701668\n"
     ]
    }
   ],
   "source": [
    "a_opt_std = np.linalg.pinv(np.transpose(Xl).dot(Xl)).dot(np.transpose(Xl).dot(y))\n",
    "\n",
    "print('a0\\': %1.6f' % a_opt_std[0][0])\n",
    "print('a1\\': %1.6f' % a_opt_std[1][0])"
   ]
  },
  {
   "cell_type": "code",
   "execution_count": 44,
   "metadata": {},
   "outputs": [
    {
     "name": "stdout",
     "output_type": "stream",
     "text": [
      "mean: 0.129769 - std: 2.850834\n",
      "a0': 1.259537\n",
      "a1': 5.701668\n"
     ]
    }
   ],
   "source": [
    "mean = scaler.mean_[0]\n",
    "std = np.sqrt(scaler.var_[0])\n",
    "\n",
    "print('mean: %f - std: %f' % (mean,std))\n",
    "\n",
    "print('a0\\': %1.6f' % (a0 + a1*mean))\n",
    "print('a1\\': %1.6f' % (a1*std))"
   ]
  },
  {
   "cell_type": "code",
   "execution_count": null,
   "metadata": {},
   "outputs": [],
   "source": []
  }
 ],
 "metadata": {
  "kernelspec": {
   "display_name": "Python 3",
   "language": "python",
   "name": "python3"
  },
  "language_info": {
   "codemirror_mode": {
    "name": "ipython",
    "version": 3
   },
   "file_extension": ".py",
   "mimetype": "text/x-python",
   "name": "python",
   "nbconvert_exporter": "python",
   "pygments_lexer": "ipython3",
   "version": "3.7.7"
  }
 },
 "nbformat": 4,
 "nbformat_minor": 4
}
