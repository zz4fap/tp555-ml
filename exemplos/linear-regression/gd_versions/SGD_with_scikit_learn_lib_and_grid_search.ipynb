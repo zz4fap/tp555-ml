{
 "cells": [
  {
   "cell_type": "code",
   "execution_count": 1,
   "metadata": {},
   "outputs": [
    {
     "name": "stderr",
     "output_type": "stream",
     "text": [
      "C:\\Users\\felipe.figueiredo\\Anaconda3\\lib\\site-packages\\numpy\\_distributor_init.py:32: UserWarning: loaded more than 1 DLL from .libs:\n",
      "C:\\Users\\felipe.figueiredo\\Anaconda3\\lib\\site-packages\\numpy\\.libs\\libopenblas.NOIJJG62EMASZI6NYURL6JBKM4EVBGM7.gfortran-win_amd64.dll\n",
      "C:\\Users\\felipe.figueiredo\\Anaconda3\\lib\\site-packages\\numpy\\.libs\\libopenblas.PYQHXLVVQ7VESDPUVUADXEVJOBGHJPAY.gfortran-win_amd64.dll\n",
      "  stacklevel=1)\n"
     ]
    }
   ],
   "source": [
    "import numpy as np\n",
    "import random\n",
    "from sklearn.model_selection import GridSearchCV\n",
    "# Usamos a classe SGDRegressor do módulo Linear da biblioteca sklearn.\n",
    "from sklearn.linear_model import SGDRegressor"
   ]
  },
  {
   "cell_type": "code",
   "execution_count": 2,
   "metadata": {},
   "outputs": [],
   "source": [
    "seed = 42\n",
    "np.random.seed(seed)\n",
    "random.seed(seed)"
   ]
  },
  {
   "cell_type": "code",
   "execution_count": 3,
   "metadata": {},
   "outputs": [],
   "source": [
    "# Número de exemplos\n",
    "N = 1000\n",
    "\n",
    "# Atributos.\n",
    "x1 = np.random.randn(N, 1)\n",
    "x2 = np.random.randn(N, 1)\n",
    "x3 = np.random.randn(N, 1)\n",
    "\n",
    "# Ruído.\n",
    "w = np.random.randn(N, 1)\n",
    "\n",
    "# Modelo gerador.\n",
    "y = 2*x1 + 3*x2 + 4*x3\n",
    "\n",
    "# Função observável.\n",
    "y_noisy = y + w"
   ]
  },
  {
   "cell_type": "code",
   "execution_count": 23,
   "metadata": {},
   "outputs": [
    {
     "data": {
      "text/plain": [
       "{'eta0': 0.01, 'power_t': 0.01}"
      ]
     },
     "execution_count": 23,
     "metadata": {},
     "output_type": "execute_result"
    }
   ],
   "source": [
    "# Concatena os vetores coluna x1, x2 e x3.\n",
    "X = np.c_[x1, x2, x3]\n",
    "\n",
    "parameters = {'eta0':[0.0001, 0.001, 0.01, 0.1, 1.0], 'power_t':[0.001, 0.01, 0.1, 1.0]}\n",
    "\n",
    "# Instancia a classe SGDRegressor.\n",
    "sgd = SGDRegressor(learning_rate='invscaling', eta0=0.01, power_t=1, max_iter=1000, fit_intercept=False, shuffle=False)\n",
    "\n",
    "clf = GridSearchCV(sgd, parameters)\n",
    "\n",
    "# Treina o modelo.\n",
    "clf.fit(X, y.ravel())\n",
    "\n",
    "clf.best_params_"
   ]
  },
  {
   "cell_type": "code",
   "execution_count": 24,
   "metadata": {},
   "outputs": [
    {
     "data": {
      "text/plain": [
       "{'eta0': 0.008, 'power_t': 0.001}"
      ]
     },
     "execution_count": 24,
     "metadata": {},
     "output_type": "execute_result"
    }
   ],
   "source": [
    "# Concatena os vetores coluna x1, x2 e x3.\n",
    "X = np.c_[x1, x2, x3]\n",
    "\n",
    "parameters = {'eta0':[0.007, 0.008, 0.009, 0.01, 0.02, 0.03], 'power_t':[0.0009, 0.001, 0.002, 0.003, 0.01, 0.1, 1.0]}\n",
    "\n",
    "# Instancia a classe SGDRegressor.\n",
    "sgd = SGDRegressor(learning_rate='invscaling', eta0=0.01, power_t=1, max_iter=1000, fit_intercept=False, shuffle=False)\n",
    "\n",
    "clf = GridSearchCV(sgd, parameters)\n",
    "\n",
    "# Treina o modelo.\n",
    "clf.fit(X, y.ravel())\n",
    "\n",
    "clf.best_params_"
   ]
  },
  {
   "cell_type": "code",
   "execution_count": 25,
   "metadata": {},
   "outputs": [
    {
     "name": "stdout",
     "output_type": "stream",
     "text": [
      "Jgde: 1.0542730984627369\n"
     ]
    }
   ],
   "source": [
    "# Faz previsão com o modelo treinado.\n",
    "y_pred = clf.predict(X)\n",
    "\n",
    "Jgde = (1.0/N)*np.sum(np.square(y_noisy - y_pred.reshape(N,1)))\n",
    "print('Jgde:', Jgde)"
   ]
  },
  {
   "cell_type": "code",
   "execution_count": 29,
   "metadata": {},
   "outputs": [
    {
     "name": "stdout",
     "output_type": "stream",
     "text": [
      "a1: 1.9998\n",
      "a2: 2.9997\n",
      "a3: 3.9996\n"
     ]
    }
   ],
   "source": [
    "# Imprime valores encontrados pelo GDE.\n",
    "print('a1: %1.4f' % (clf.best_estimator_.coef_[0]))\n",
    "print('a2: %1.4f' % (clf.best_estimator_.coef_[1]))\n",
    "print('a3: %1.4f' % (clf.best_estimator_.coef_[2]))"
   ]
  },
  {
   "cell_type": "code",
   "execution_count": null,
   "metadata": {},
   "outputs": [],
   "source": []
  }
 ],
 "metadata": {
  "kernelspec": {
   "display_name": "Python 3",
   "language": "python",
   "name": "python3"
  },
  "language_info": {
   "codemirror_mode": {
    "name": "ipython",
    "version": 3
   },
   "file_extension": ".py",
   "mimetype": "text/x-python",
   "name": "python",
   "nbconvert_exporter": "python",
   "pygments_lexer": "ipython3",
   "version": "3.7.7"
  }
 },
 "nbformat": 4,
 "nbformat_minor": 4
}
