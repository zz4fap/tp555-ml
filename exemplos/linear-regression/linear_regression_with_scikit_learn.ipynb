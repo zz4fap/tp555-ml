{
 "cells": [
  {
   "cell_type": "code",
   "execution_count": 1,
   "metadata": {},
   "outputs": [
    {
     "name": "stdout",
     "output_type": "stream",
     "text": [
      "a0: 1.0299\n",
      "a1: 2.0018\n",
      "a1: 2.9800\n"
     ]
    }
   ],
   "source": [
    "# Import all the necessary libraries.\n",
    "import numpy as np\n",
    "import matplotlib.pyplot as plt\n",
    "# The equivalent solution using the Scikit-Learn library is given below\n",
    "# Import the linear regression module form the library.\n",
    "from sklearn.linear_model import LinearRegression\n",
    "\n",
    "# Generate input/ouput (features/labels) values.\n",
    "N = 1000; # Number of observations.\n",
    "\n",
    "x1 = np.random.randn(N, 1)\n",
    "x2 = np.random.randn(N, 1)\n",
    "y = 1.0 + 2.0*x1 + 3.0*x2 + np.random.randn(N, 1)\n",
    "\n",
    "# Concatenate both column vectors, x1 and x2.\n",
    "X = np.c_[x1, x2]\n",
    "\n",
    "# Instantiate the LinearRegression class.\n",
    "lin_reg = LinearRegression()\n",
    "lin_reg.fit(X, y)\n",
    "\n",
    "print('a0: %1.4f' % (lin_reg.intercept_[0])) # Value that crosses the y-axis when all features are equal to 0.\n",
    "print('a1: %1.4f' % (lin_reg.coef_[0][0])) # parameters associated with the features.\n",
    "print('a1: %1.4f' % (lin_reg.coef_[0][1])) # parameters associated with the features."
   ]
  },
  {
   "cell_type": "code",
   "execution_count": null,
   "metadata": {},
   "outputs": [],
   "source": []
  }
 ],
 "metadata": {
  "kernelspec": {
   "display_name": "Python 3",
   "language": "python",
   "name": "python3"
  },
  "language_info": {
   "codemirror_mode": {
    "name": "ipython",
    "version": 3
   },
   "file_extension": ".py",
   "mimetype": "text/x-python",
   "name": "python",
   "nbconvert_exporter": "python",
   "pygments_lexer": "ipython3",
   "version": "3.7.7"
  }
 },
 "nbformat": 4,
 "nbformat_minor": 4
}
