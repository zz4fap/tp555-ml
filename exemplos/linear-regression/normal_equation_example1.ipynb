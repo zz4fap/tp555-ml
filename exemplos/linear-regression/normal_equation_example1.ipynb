{
 "cells": [
  {
   "cell_type": "code",
   "execution_count": 1,
   "metadata": {},
   "outputs": [],
   "source": [
    "# Import all the necessary libraries.\n",
    "import numpy as np\n",
    "import matplotlib.pyplot as plt\n",
    "\n",
    "# Import the linear regression module from the scikit-learn library.\n",
    "from sklearn.linear_model import LinearRegression"
   ]
  },
  {
   "cell_type": "code",
   "execution_count": 2,
   "metadata": {},
   "outputs": [],
   "source": [
    "# Always reset the pseudo-random numbers generator to a known value so that your results are always the same.\n",
    "seed = 1234\n",
    "np.random.seed(seed)"
   ]
  },
  {
   "cell_type": "code",
   "execution_count": 3,
   "metadata": {},
   "outputs": [],
   "source": [
    "# Generate input/ouput (features/labels) values.\n",
    "N = 100 # Number of observations (pairs of features and labels).\n",
    "\n",
    "# Attribute.\n",
    "x = np.linspace(0, 2, N).reshape(N, 1)\n",
    "\n",
    "# True function.\n",
    "y = 4.0 + 3.0*x \n",
    "\n",
    "# Noise.\n",
    "w = np.random.randn(N, 1)\n",
    "\n",
    "# Observable function.\n",
    "y_noisy = y + w"
   ]
  },
  {
   "cell_type": "code",
   "execution_count": 4,
   "metadata": {},
   "outputs": [
    {
     "data": {
      "image/png": "[encoded data removed]",
      "text/plain": [
       "<Figure size 432x288 with 1 Axes>"
      ]
     },
     "metadata": {
      "needs_background": "light"
     },
     "output_type": "display_data"
    }
   ],
   "source": [
    "# Plot pair example/label.\n",
    "fig = plt.figure()\n",
    "plt.plot(x, y_noisy, '.', label='Noisy function')\n",
    "plt.plot(x, y, label='True function')\n",
    "plt.xlabel('x')\n",
    "plt.ylabel('y')\n",
    "plt.grid()\n",
    "plt.legend()\n",
    "plt.show()"
   ]
  },
  {
   "cell_type": "markdown",
   "metadata": {},
   "source": [
    "## Normal equation\n",
    "\n",
    "Considered hypothesis function: \n",
    "\n",
    "$$\\hat{y} = h(x) = \\hat{a}_0 + \\hat{a}_1x = \\textbf{X} \\hat{\\textbf{a}} $$"
   ]
  },
  {
   "cell_type": "code",
   "execution_count": 5,
   "metadata": {},
   "outputs": [
    {
     "name": "stdout",
     "output_type": "stream",
     "text": [
      "a0: 4.0696\n",
      "a1: 2.9656\n"
     ]
    }
   ],
   "source": [
    "# Concatenate the two attributes, x0 and x1.\n",
    "X = np.c_[np.ones((N, 1)), x] # add x0 = 1 to each instance\n",
    "\n",
    "# Solve by applying the least-Squares method.\n",
    "# We use the inv() function from NumPy’s Linear \n",
    "# Algebra module (np.linalg) to compute the inverse of a matrix.\n",
    "# We use dot() method for matrix multiplication.\n",
    "a_optimum = np.linalg.inv(X.T.dot(X)).dot(X.T).dot(y_noisy)\n",
    "\n",
    "# Print best solution.\n",
    "print('a0: %1.4f' % (a_optimum[0][0]))\n",
    "print('a1: %1.4f' % (a_optimum[1][0]))"
   ]
  },
  {
   "cell_type": "markdown",
   "metadata": {},
   "source": [
    "#### Calculating the MSE"
   ]
  },
  {
   "cell_type": "code",
   "execution_count": 6,
   "metadata": {},
   "outputs": [
    {
     "name": "stdout",
     "output_type": "stream",
     "text": [
      "MSE: 0.9910\n"
     ]
    }
   ],
   "source": [
    "# Hypothesis function. \n",
    "yhat = X.dot(a_optimum)\n",
    "\n",
    "# MSE equation.\n",
    "Je_optimum = (1.0/N)*np.sum(np.power((y_noisy - yhat), 2))\n",
    "print('MSE: %1.4f' % (Je_optimum))"
   ]
  },
  {
   "cell_type": "markdown",
   "metadata": {},
   "source": [
    "## Scikit-learn's solution\n",
    "\n",
    "The equivalent solution using the Scikit-Learn library is given below."
   ]
  },
  {
   "cell_type": "code",
   "execution_count": 7,
   "metadata": {},
   "outputs": [
    {
     "name": "stdout",
     "output_type": "stream",
     "text": [
      "a0: 4.0696\n",
      "a1: 2.9656\n"
     ]
    }
   ],
   "source": [
    "# Instantiate the LinearRegression class.\n",
    "lin_reg = LinearRegression()\n",
    "\n",
    "# Train the model.\n",
    "lin_reg.fit(x, y_noisy)\n",
    "\n",
    "print('a0: %1.4f' % (lin_reg.intercept_[0])) # Value that crosses the y-axis when all features are equal to 0.\n",
    "print('a1: %1.4f' % (lin_reg.coef_[0][0])) # parameters associated with the features.\n",
    "\n",
    "# Create column vector.\n",
    "a_sklearn = np.zeros((2, 1))\n",
    "a_sklearn[0][0] = lin_reg.intercept_[0]\n",
    "a_sklearn[1][0] = lin_reg.coef_[0][0]"
   ]
  },
  {
   "cell_type": "markdown",
   "metadata": {},
   "source": [
    "#### Observações\n",
    "\n",
    "+ Percebam que o argumento $x$ passado para o método `fit` da classe `LinearRegression` é uma matriz com N x K.\n",
    "+ Porém, lembrem-se que neste exemplo temos peso $a_0$ e, portanto, $x$ deveria ter dimensão $N \\times K+1$. \n",
    "+ Entretanto, **por padrão**, a classe `LinearRegression` já faz isso automaticamente. \n",
    "+ Caso sua função hipótese não considere o peso $a_0$, então, durante a instanciação da classe vocês devem configurar o parâmetro `fit_intercept=False`.\n",
    "+ Documentação da classe:\n",
    "    + https://scikit-learn.org/stable/modules/generated/sklearn.linear_model.LinearRegression.html"
   ]
  },
  {
   "cell_type": "markdown",
   "metadata": {},
   "source": [
    "#### Calculating the MSE"
   ]
  },
  {
   "cell_type": "code",
   "execution_count": 8,
   "metadata": {},
   "outputs": [
    {
     "name": "stdout",
     "output_type": "stream",
     "text": [
      "MSE: 0.9910\n"
     ]
    }
   ],
   "source": [
    "# Hypothesis function. \n",
    "yhat = X.dot(a_sklearn)\n",
    "\n",
    "# MSE equation.\n",
    "Je_sklearn = (1.0/N)*np.sum(np.power((y_noisy - yhat), 2))\n",
    "print('MSE: %1.4f' % (Je_sklearn))"
   ]
  },
  {
   "cell_type": "markdown",
   "metadata": {},
   "source": [
    "## Comparing the results"
   ]
  },
  {
   "cell_type": "code",
   "execution_count": 9,
   "metadata": {},
   "outputs": [
    {
     "data": {
      "image/png": "[encoded data removed]",
      "text/plain": [
       "<Figure size 432x288 with 1 Axes>"
      ]
     },
     "metadata": {
      "needs_background": "light"
     },
     "output_type": "display_data"
    }
   ],
   "source": [
    "# Plot pair example/label.\n",
    "fig = plt.figure()\n",
    "plt.plot(x, y, label='True data')\n",
    "plt.plot(x, y_noisy, '.', label='noisy data')\n",
    "plt.plot(x, X.dot(a_optimum), 'rx', label='Normal equation')\n",
    "plt.plot(x, X.dot(a_sklearn), 'k--', label='Sckit-learn')\n",
    "\n",
    "plt.xlabel('x')\n",
    "plt.ylabel('y')\n",
    "plt.legend()\n",
    "plt.grid()\n",
    "plt.show()"
   ]
  },
  {
   "attachments": {},
   "cell_type": "markdown",
   "metadata": {},
   "source": [
    "#### Observações\n",
    "\n",
    "+ Com apenas 100 amostras, os valores obtidos são próximos dos exatos, porém, o ruído limita a aproximação.\n",
    "+ Se aumentarmos o número de exemplos, conseguimos melhorar a aproximação $N \\to \\infty \\therefore \\hat{a}_0 \\to a_0$ e $\\hat{a}_1 \\to a_1$."
   ]
  }
 ],
 "metadata": {
  "kernelspec": {
   "display_name": "Python 3 (ipykernel)",
   "language": "python",
   "name": "python3"
  },
  "language_info": {
   "codemirror_mode": {
    "name": "ipython",
    "version": 3
   },
   "file_extension": ".py",
   "mimetype": "text/x-python",
   "name": "python",
   "nbconvert_exporter": "python",
   "pygments_lexer": "ipython3",
   "version": "3.9.7"
  }
 },
 "nbformat": 4,
 "nbformat_minor": 4
}
