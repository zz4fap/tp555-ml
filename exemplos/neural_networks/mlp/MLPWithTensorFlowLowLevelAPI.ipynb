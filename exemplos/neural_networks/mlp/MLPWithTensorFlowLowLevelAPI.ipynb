{
 "cells": [
  {
   "cell_type": "code",
   "execution_count": 64,
   "metadata": {},
   "outputs": [],
   "source": [
    "try:\n",
    "    import tensorflow.compat.v1 as tf\n",
    "    tf.disable_v2_behavior()\n",
    "except ImportError:\n",
    "    import tensorflow as tf\n",
    "import numpy as np\n",
    "from datetime import datetime\n",
    "from tensorboard import notebook"
   ]
  },
  {
   "cell_type": "markdown",
   "metadata": {},
   "source": [
    "### Definição de funções."
   ]
  },
  {
   "cell_type": "code",
   "execution_count": 65,
   "metadata": {},
   "outputs": [],
   "source": [
    "# to make this notebook's output stable across runs\n",
    "def reset_graph(seed=42):\n",
    "    '''Apaga todos os nós adicionados ao grafo padrão.'''\n",
    "    tf.reset_default_graph()\n",
    "    tf.set_random_seed(seed)\n",
    "    np.random.seed(seed)\n",
    "    \n",
    "def createLogDir(root_logdir=\"tf_logs\"):\n",
    "    '''Cria no do diretório para se armazenar a rede.'''\n",
    "    now = datetime.utcnow().strftime(\"%Y%m%d%H%M%S\")\n",
    "    logdir = \"{}/run-{}/\".format(root_logdir, now)\n",
    "    return logdir\n",
    "    \n",
    "def shuffle_batch(X, y, batch_size):\n",
    "    '''Cria um novo mini-batch com amostras aleatórias a cada nova chamada.'''\n",
    "    rnd_idx = np.random.permutation(len(X))\n",
    "    n_batches = len(X) // batch_size\n",
    "    for batch_idx in np.array_split(rnd_idx, n_batches):\n",
    "        X_batch, y_batch = X[batch_idx], y[batch_idx]\n",
    "        yield X_batch, y_batch\n",
    "        \n",
    "def neuron_layer(X, n_neurons, name, activation=None):\n",
    "    '''Implementa uma camada da rede neural.\n",
    "           X: entrada\n",
    "           n_neurons: número de nós na camada.\n",
    "           name: string com o nome da camada.\n",
    "           activation: função de ativação (se None, não usa função de ativação.).\n",
    "    '''\n",
    "    # Escopo de nomes que irá conter todos os nós da camada.\n",
    "    with tf.name_scope(name):\n",
    "        n_inputs = int(X.get_shape()[1])\n",
    "        # Inicialização de He.\n",
    "        stddev = 2 / np.sqrt(n_inputs)\n",
    "        # Descarta e retira novamente quaisquer amostras que sejam maiores do que dois desvios padrão da média.\n",
    "        init = tf.truncated_normal((n_inputs, n_neurons), stddev=stddev)\n",
    "        # Tensor 2D (i.e., uma matriz) contendo todos os pesos de conexão entre cada entrada e cada nó da camada.\n",
    "        W = tf.Variable(init, name=\"weights\")\n",
    "        # Vetor que armazena os valores dos pesos de bias de cada um dos nós da camada.\n",
    "        b = tf.Variable(tf.zeros([n_neurons]), name=\"biases\")\n",
    "        # Calcula a combinação linear de cada um dos nós da camada.\n",
    "        z = tf.matmul(X, W) + b\n",
    "        # Função de ativação.\n",
    "        if activation==\"relu\":\n",
    "            return tf.nn.relu(z)\n",
    "        else:\n",
    "            return z"
   ]
  },
  {
   "cell_type": "markdown",
   "metadata": {},
   "source": [
    "### Download e pré-processamento da base de dados."
   ]
  },
  {
   "cell_type": "code",
   "execution_count": 66,
   "metadata": {},
   "outputs": [],
   "source": [
    "# Carrega a base de dados.\n",
    "(X_train, y_train), (X_test, y_test) = tf.keras.datasets.mnist.load_data()\n",
    "\n",
    "# Redimensionamento e escalonamento dos atributos (valores variando entre 0 e 1).\n",
    "X_train = X_train.astype(np.float32).reshape(-1, 28*28) / 255.0\n",
    "X_test = X_test.astype(np.float32).reshape(-1, 28*28) / 255.0\n",
    "\n",
    "y_train = y_train.astype(np.int32)\n",
    "y_test = y_test.astype(np.int32)\n",
    "\n",
    "X_valid, X_train = X_train[:5000], X_train[5000:]\n",
    "y_valid, y_train = y_train[:5000], y_train[5000:]"
   ]
  },
  {
   "cell_type": "markdown",
   "metadata": {},
   "source": [
    "### Definição de parâmetros da rede neural."
   ]
  },
  {
   "cell_type": "code",
   "execution_count": 67,
   "metadata": {},
   "outputs": [
    {
     "name": "stdout",
     "output_type": "stream",
     "text": [
      "./mlp_logs/run-20211116121823/\n"
     ]
    }
   ],
   "source": [
    "reset_graph()\n",
    "\n",
    "logDir = createLogDir(root_logdir=\"./mlp_logs\")\n",
    "print(logDir)\n",
    "\n",
    "learning_rate = 0.01\n",
    "\n",
    "# Imagens com 28 por 28 pixels, onde cada pixel será um atributo de entrada.\n",
    "n_inputs = 28*28 # MNIST\n",
    "# Nós das camadas ocultas.\n",
    "n_hidden1 = 300\n",
    "n_hidden2 = 100\n",
    "# Nós da camada de saída.\n",
    "n_outputs = 10"
   ]
  },
  {
   "cell_type": "markdown",
   "metadata": {},
   "source": [
    "### Definindo o grafo de computação."
   ]
  },
  {
   "cell_type": "code",
   "execution_count": 68,
   "metadata": {},
   "outputs": [],
   "source": [
    "# None: número de exemplos é variável. Ou seja, o tamanho do mini-batch pode ser alterado em tempo de execução.\n",
    "# O placeholder X será a camada de entrada.\n",
    "# A cada iteração de treinamento, ele transferir um novo mini-batch ao grafo de computação. \n",
    "X = tf.placeholder(tf.float32, shape=(None, n_inputs), name=\"X\")\n",
    "y = tf.placeholder(tf.int64, shape=(None), name=\"y\")\n",
    "\n",
    "# Cria-se duas camadas ocultas e a camada de saída.\n",
    "with tf.name_scope(\"dnn\"):\n",
    "    hidden1 = neuron_layer(X, n_hidden1, \"hidden1\", activation=\"relu\")\n",
    "    hidden2 = neuron_layer(hidden1, n_hidden2, \"hidden2\", activation=\"relu\")\n",
    "    # logits é a saída da rede neural antes de passar pela função de ativação do tipo softmax.\n",
    "    # Por razões de otimização, trataremos do cálculo do softmax posteriormente.\n",
    "    logits = neuron_layer(hidden2, n_outputs, \"outputs\")\n",
    "\n",
    "# Definição da função de custo.\n",
    "with tf.name_scope(\"loss\"):\n",
    "    # Equivalente a aplicar a função de ativação do tipo softmax e depois computar a entropia cruzada.\n",
    "    # Porém, é mais eficiente computacionalmente e lida com casos onde os logits são iguais a zero.\n",
    "    # labels são números inteiros variando de 0 a Q-1.\n",
    "    xentropy = tf.nn.sparse_softmax_cross_entropy_with_logits(labels=y, logits=logits)\n",
    "    # Calcula a entropia cruzada média.\n",
    "    loss = tf.reduce_mean(xentropy, name=\"loss\")\n",
    "\n",
    "# Definição do otimizador.\n",
    "with tf.name_scope(\"train\"):\n",
    "    # Instancia otimizador. \n",
    "    optimizer = tf.train.GradientDescentOptimizer(learning_rate)\n",
    "    # Minimize a função de custo, ou seja, a entropia cruzada média.\n",
    "    training_op = optimizer.minimize(loss)\n",
    "\n",
    "# Definição de como avaliar o modelo.\n",
    "with tf.name_scope(\"eval\"):\n",
    "    # Retorna vetor booleano indicando se cada logit de maior valor corresponde à classe em y.\n",
    "    correct = tf.nn.in_top_k(logits, y, 1)\n",
    "    # Converte o vetor booleano em float e calcula a média, resultando na acurácia.\n",
    "    accuracy = tf.reduce_mean(tf.cast(correct, tf.float32))\n",
    "\n",
    "# Cria nó de inicialização das variáveis.\n",
    "init = tf.global_variables_initializer()\n",
    "\n",
    "# Cria nó para salvar o modelo.\n",
    "saver = tf.train.Saver()\n",
    "\n",
    "# Cria nó para avaliar o custo.\n",
    "loss_summary = tf.summary.scalar('loss', loss)\n",
    "\n",
    "# Cria nó para avaliar a acurácia.\n",
    "acc_summary = tf.summary.scalar('accuracy', accuracy)\n",
    "\n",
    "# Cria nó para escrever o custo/acurácia em um arquivo.\n",
    "file_writer = tf.summary.FileWriter(logDir, tf.get_default_graph())"
   ]
  },
  {
   "cell_type": "markdown",
   "metadata": {},
   "source": [
    "### Executando o grafo de computação."
   ]
  },
  {
   "cell_type": "code",
   "execution_count": 69,
   "metadata": {},
   "outputs": [
    {
     "name": "stdout",
     "output_type": "stream",
     "text": [
      "0 Train accuracy: 0.92 Test accuracy: 0.9172\n",
      "1 Train accuracy: 0.94 Test accuracy: 0.9338\n",
      "2 Train accuracy: 0.96 Test accuracy: 0.943\n",
      "3 Train accuracy: 0.9 Test accuracy: 0.9472\n",
      "4 Train accuracy: 0.96 Test accuracy: 0.951\n",
      "5 Train accuracy: 0.94 Test accuracy: 0.9552\n",
      "6 Train accuracy: 1.0 Test accuracy: 0.9586\n",
      "7 Train accuracy: 0.96 Test accuracy: 0.9624\n",
      "8 Train accuracy: 0.96 Test accuracy: 0.9634\n",
      "9 Train accuracy: 0.94 Test accuracy: 0.966\n",
      "10 Train accuracy: 0.92 Test accuracy: 0.9676\n",
      "11 Train accuracy: 1.0 Test accuracy: 0.9682\n",
      "12 Train accuracy: 0.98 Test accuracy: 0.9682\n",
      "13 Train accuracy: 1.0 Test accuracy: 0.9692\n",
      "14 Train accuracy: 1.0 Test accuracy: 0.97\n",
      "15 Train accuracy: 0.94 Test accuracy: 0.9734\n",
      "16 Train accuracy: 1.0 Test accuracy: 0.9724\n",
      "17 Train accuracy: 1.0 Test accuracy: 0.9722\n",
      "18 Train accuracy: 1.0 Test accuracy: 0.9738\n",
      "19 Train accuracy: 0.98 Test accuracy: 0.9744\n"
     ]
    }
   ],
   "source": [
    "n_epochs = 20\n",
    "batch_size = 50\n",
    "\n",
    "# Cria-se uma sessão.\n",
    "with tf.Session() as sess:\n",
    "    # Inicializa as variáveis globais.\n",
    "    init.run()\n",
    "    for epoch in range(n_epochs):\n",
    "        # A cada nova iteração, a função shuffle_batch retorna um novo mini-btach com amostras aleatórias.\n",
    "        for X_batch, y_batch in shuffle_batch(X_train, y_train, batch_size):\n",
    "            # Realiza o treinamento, ou seja, atualização dos pesos/bias.\n",
    "            sess.run(training_op, feed_dict={X: X_batch, y: y_batch})\n",
    "        # Calcula as acurácias de treinamento e validação.\n",
    "        acc_train = accuracy.eval(feed_dict={X: X_batch, y: y_batch})\n",
    "        acc_test = accuracy.eval(feed_dict={X: X_valid, y: y_valid})\n",
    "        \n",
    "        # Calcula o custo.\n",
    "        summary_str = loss_summary.eval(feed_dict={X: X_batch, y: y_batch})\n",
    "        # Armazena o custo em arquivo.\n",
    "        file_writer.add_summary(summary_str, epoch)        \n",
    "        # Calcula o custo.\n",
    "        acc_summary_str = acc_summary.eval(feed_dict={X: X_batch, y: y_batch})        \n",
    "        # Armazena a acurácia em arquivo.\n",
    "        file_writer.add_summary(acc_summary_str, epoch)\n",
    "        \n",
    "        print(epoch, \"Train accuracy:\", acc_train, \"Test accuracy:\", acc_test)\n",
    "    # Salva os parâmetros do modelo.\n",
    "    save_path = saver.save(sess, logDir+\"my_model_finalv1.ckpt\")"
   ]
  },
  {
   "cell_type": "markdown",
   "metadata": {},
   "source": [
    "### Usando o modelo treinado."
   ]
  },
  {
   "cell_type": "code",
   "execution_count": 70,
   "metadata": {},
   "outputs": [
    {
     "name": "stdout",
     "output_type": "stream",
     "text": [
      "INFO:tensorflow:Restoring parameters from ./mlp_logs/run-20211116121823/my_model_finalv1.ckpt\n"
     ]
    }
   ],
   "source": [
    "with tf.Session() as sess:\n",
    "    # Carrega-se os parâmetros do modelo armazenado em disco.\n",
    "    saver.restore(sess, logDir+\"my_model_finalv1.ckpt\")\n",
    "    # Usa-se algumas imagens escalonadas para serem classificadas.\n",
    "    X_new_scaled = X_test[:20]\n",
    "    # Avaliamos o nó logits.\n",
    "    Z = logits.eval(feed_dict={X: X_new_scaled})\n",
    "    # Prediz a classe das imagens encontrando o índice do elemento com maior valor do vetor.\n",
    "    # Se quiséssemos encontrar a probabilidade de cada classe, deveríamos usar a função softmax.\n",
    "    y_pred = np.argmax(Z, axis=1)"
   ]
  },
  {
   "cell_type": "code",
   "execution_count": 71,
   "metadata": {},
   "outputs": [
    {
     "name": "stdout",
     "output_type": "stream",
     "text": [
      "Predicted classes: [7 2 1 0 4 1 4 9 6 9 0 6 9 0 1 5 9 7 3 4]\n",
      "Actual classes:    [7 2 1 0 4 1 4 9 5 9 0 6 9 0 1 5 9 7 3 4]\n"
     ]
    }
   ],
   "source": [
    "print(\"Predicted classes:\", y_pred)\n",
    "print(\"Actual classes:   \", y_test[:20])"
   ]
  },
  {
   "cell_type": "code",
   "execution_count": 72,
   "metadata": {},
   "outputs": [],
   "source": [
    "# Load the TensorBoard notebook extension\n",
    "#%load_ext tensorboard\n",
    "%reload_ext tensorboard"
   ]
  },
  {
   "cell_type": "code",
   "execution_count": 73,
   "metadata": {
    "scrolled": true
   },
   "outputs": [
    {
     "data": {
      "text/plain": [
       "Reusing TensorBoard on port 6006 (pid 2800), started 10:39:59 ago. (Use '!kill 2800' to kill it.)"
      ]
     },
     "metadata": {},
     "output_type": "display_data"
    },
    {
     "data": {
      "text/html": [
       "\n",
       "      <iframe id=\"tensorboard-frame-e6ec0370454b71bf\" width=\"100%\" height=\"800\" frameborder=\"0\">\n",
       "      </iframe>\n",
       "      <script>\n",
       "        (function() {\n",
       "          const frame = document.getElementById(\"tensorboard-frame-e6ec0370454b71bf\");\n",
       "          const url = new URL(\"/\", window.location);\n",
       "          const port = 6006;\n",
       "          if (port) {\n",
       "            url.port = port;\n",
       "          }\n",
       "          frame.src = url;\n",
       "        })();\n",
       "      </script>\n",
       "    "
      ],
      "text/plain": [
       "<IPython.core.display.HTML object>"
      ]
     },
     "metadata": {},
     "output_type": "display_data"
    }
   ],
   "source": [
    "%tensorboard --logdir=./mlp_logs"
   ]
  },
  {
   "cell_type": "code",
   "execution_count": null,
   "metadata": {},
   "outputs": [],
   "source": []
  }
 ],
 "metadata": {
  "kernelspec": {
   "display_name": "Python 3",
   "language": "python",
   "name": "python3"
  },
  "language_info": {
   "codemirror_mode": {
    "name": "ipython",
    "version": 3
   },
   "file_extension": ".py",
   "mimetype": "text/x-python",
   "name": "python",
   "nbconvert_exporter": "python",
   "pygments_lexer": "ipython3",
   "version": "3.7.7"
  }
 },
 "nbformat": 4,
 "nbformat_minor": 2
}
