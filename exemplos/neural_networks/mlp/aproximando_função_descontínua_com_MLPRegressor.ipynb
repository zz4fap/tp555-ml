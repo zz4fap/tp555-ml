{
 "cells": [
  {
   "cell_type": "code",
   "execution_count": 1,
   "id": "48ddec89",
   "metadata": {},
   "outputs": [],
   "source": [
    "# Import all necessary libraries.\n",
    "import numpy as np\n",
    "from sklearn.model_selection import train_test_split\n",
    "import matplotlib.pyplot as plt\n",
    "from sklearn.neural_network import MLPRegressor\n",
    "from sklearn.metrics import mean_squared_error\n",
    "from sklearn.model_selection import GridSearchCV\n",
    "from sklearn.model_selection import KFold"
   ]
  },
  {
   "cell_type": "code",
   "execution_count": 2,
   "id": "5ddaddfd",
   "metadata": {},
   "outputs": [],
   "source": [
    "seed = 235\n",
    "np.random.seed(seed)"
   ]
  },
  {
   "cell_type": "markdown",
   "id": "93c18eea",
   "metadata": {},
   "source": [
    "### Definição da função que gera valores descontínuos. "
   ]
  },
  {
   "cell_type": "code",
   "execution_count": 3,
   "id": "07ff4b0e",
   "metadata": {},
   "outputs": [],
   "source": [
    "def funcao_descontinua(x):\n",
    "    y = np.zeros((len(x),))\n",
    "    for v,i in zip(x, range(len(x))):\n",
    "        if v < 0:\n",
    "            y[i] = -1\n",
    "        elif v >= 0 and v < 1:\n",
    "            y[i] =  0\n",
    "        else:\n",
    "            y[i] =  1\n",
    "    return y"
   ]
  },
  {
   "cell_type": "markdown",
   "id": "33f1fe89",
   "metadata": {},
   "source": [
    "### Geração do conjunto de dados"
   ]
  },
  {
   "cell_type": "code",
   "execution_count": 4,
   "id": "c5ebd620",
   "metadata": {
    "scrolled": true
   },
   "outputs": [
    {
     "data": {
      "image/png": "[encoded data removed]",
      "text/plain": [
       "<Figure size 640x480 with 1 Axes>"
      ]
     },
     "metadata": {},
     "output_type": "display_data"
    }
   ],
   "source": [
    "N = 10000\n",
    "\n",
    "x = np.linspace(-1, 2, N).reshape(N,1)\n",
    "\n",
    "y = funcao_descontinua(x).ravel()\n",
    "\n",
    "plt.plot(x,y)\n",
    "plt.xlabel('x', fontsize=14)\n",
    "plt.ylabel('y', fontsize=14)\n",
    "plt.grid()\n",
    "plt.show()"
   ]
  },
  {
   "cell_type": "markdown",
   "id": "e9256324",
   "metadata": {},
   "source": [
    "### Encontrando os melhores hiperparâmetros."
   ]
  },
  {
   "cell_type": "code",
   "execution_count": 5,
   "id": "c5ac7e8d",
   "metadata": {},
   "outputs": [
    {
     "name": "stdout",
     "output_type": "stream",
     "text": [
      "Fitting 10 folds for each of 18 candidates, totalling 180 fits\n",
      "[CV 1/10] END activation=logistic, hidden_layer_sizes=(3, 4), solver=lbfgs;, score=-0.002 total time=   1.0s\n",
      "[CV 2/10] END activation=logistic, hidden_layer_sizes=(3, 4), solver=lbfgs;, score=-0.003 total time=   0.9s\n",
      "[CV 3/10] END activation=logistic, hidden_layer_sizes=(3, 4), solver=lbfgs;, score=-0.002 total time=   0.7s\n",
      "[CV 4/10] END activation=logistic, hidden_layer_sizes=(3, 4), solver=lbfgs;, score=-0.002 total time=   0.4s\n",
      "[CV 5/10] END activation=logistic, hidden_layer_sizes=(3, 4), solver=lbfgs;, score=-0.001 total time=   0.4s\n",
      "[CV 6/10] END activation=logistic, hidden_layer_sizes=(3, 4), solver=lbfgs;, score=-0.002 total time=   0.4s\n",
      "[CV 7/10] END activation=logistic, hidden_layer_sizes=(3, 4), solver=lbfgs;, score=-0.002 total time=   0.5s\n",
      "[CV 8/10] END activation=logistic, hidden_layer_sizes=(3, 4), solver=lbfgs;, score=-0.001 total time=   0.1s\n",
      "[CV 9/10] END activation=logistic, hidden_layer_sizes=(3, 4), solver=lbfgs;, score=-0.002 total time=   0.4s\n",
      "[CV 10/10] END activation=logistic, hidden_layer_sizes=(3, 4), solver=lbfgs;, score=-0.002 total time=   0.6s\n",
      "[CV 1/10] END activation=logistic, hidden_layer_sizes=(3, 4), solver=sgd;, score=-0.066 total time=   0.9s\n",
      "[CV 2/10] END activation=logistic, hidden_layer_sizes=(3, 4), solver=sgd;, score=-0.064 total time=   1.0s\n",
      "[CV 3/10] END activation=logistic, hidden_layer_sizes=(3, 4), solver=sgd;, score=-0.063 total time=   1.0s\n",
      "[CV 4/10] END activation=logistic, hidden_layer_sizes=(3, 4), solver=sgd;, score=-0.064 total time=   0.9s\n",
      "[CV 5/10] END activation=logistic, hidden_layer_sizes=(3, 4), solver=sgd;, score=-0.062 total time=   0.9s\n",
      "[CV 6/10] END activation=logistic, hidden_layer_sizes=(3, 4), solver=sgd;, score=-0.065 total time=   0.9s\n",
      "[CV 7/10] END activation=logistic, hidden_layer_sizes=(3, 4), solver=sgd;, score=-0.070 total time=   1.0s\n",
      "[CV 8/10] END activation=logistic, hidden_layer_sizes=(3, 4), solver=sgd;, score=-0.070 total time=   1.0s\n",
      "[CV 9/10] END activation=logistic, hidden_layer_sizes=(3, 4), solver=sgd;, score=-0.069 total time=   0.9s\n",
      "[CV 10/10] END activation=logistic, hidden_layer_sizes=(3, 4), solver=sgd;, score=-0.069 total time=   0.9s\n",
      "[CV 1/10] END activation=logistic, hidden_layer_sizes=(3, 4), solver=adam;, score=-0.061 total time=   0.2s\n",
      "[CV 2/10] END activation=logistic, hidden_layer_sizes=(3, 4), solver=adam;, score=-0.059 total time=   0.2s\n",
      "[CV 3/10] END activation=logistic, hidden_layer_sizes=(3, 4), solver=adam;, score=-0.060 total time=   0.3s\n",
      "[CV 4/10] END activation=logistic, hidden_layer_sizes=(3, 4), solver=adam;, score=-0.063 total time=   0.2s\n",
      "[CV 5/10] END activation=logistic, hidden_layer_sizes=(3, 4), solver=adam;, score=-0.059 total time=   0.2s\n",
      "[CV 6/10] END activation=logistic, hidden_layer_sizes=(3, 4), solver=adam;, score=-0.059 total time=   0.3s\n",
      "[CV 7/10] END activation=logistic, hidden_layer_sizes=(3, 4), solver=adam;, score=-0.067 total time=   0.2s\n",
      "[CV 8/10] END activation=logistic, hidden_layer_sizes=(3, 4), solver=adam;, score=-0.068 total time=   0.2s\n",
      "[CV 9/10] END activation=logistic, hidden_layer_sizes=(3, 4), solver=adam;, score=-0.065 total time=   0.2s\n",
      "[CV 10/10] END activation=logistic, hidden_layer_sizes=(3, 4), solver=adam;, score=-0.068 total time=   0.3s\n",
      "[CV 1/10] END activation=logistic, hidden_layer_sizes=(3, 6), solver=lbfgs;, score=-0.002 total time=   1.6s\n",
      "[CV 2/10] END activation=logistic, hidden_layer_sizes=(3, 6), solver=lbfgs;, score=-0.001 total time=   3.0s\n",
      "[CV 3/10] END activation=logistic, hidden_layer_sizes=(3, 6), solver=lbfgs;, score=-0.001 total time=   1.5s\n",
      "[CV 4/10] END activation=logistic, hidden_layer_sizes=(3, 6), solver=lbfgs;, score=-0.001 total time=   0.3s\n",
      "[CV 5/10] END activation=logistic, hidden_layer_sizes=(3, 6), solver=lbfgs;, score=-0.001 total time=   0.9s\n",
      "[CV 6/10] END activation=logistic, hidden_layer_sizes=(3, 6), solver=lbfgs;, score=-0.002 total time=   1.3s\n",
      "[CV 7/10] END activation=logistic, hidden_layer_sizes=(3, 6), solver=lbfgs;, score=-0.002 total time=   0.4s\n",
      "[CV 8/10] END activation=logistic, hidden_layer_sizes=(3, 6), solver=lbfgs;, score=-0.002 total time=   1.5s\n",
      "[CV 9/10] END activation=logistic, hidden_layer_sizes=(3, 6), solver=lbfgs;, score=-0.002 total time=   1.0s\n",
      "[CV 10/10] END activation=logistic, hidden_layer_sizes=(3, 6), solver=lbfgs;, score=-0.001 total time=   0.5s\n",
      "[CV 1/10] END activation=logistic, hidden_layer_sizes=(3, 6), solver=sgd;, score=-0.067 total time=   0.8s\n",
      "[CV 2/10] END activation=logistic, hidden_layer_sizes=(3, 6), solver=sgd;, score=-0.065 total time=   0.7s\n",
      "[CV 3/10] END activation=logistic, hidden_layer_sizes=(3, 6), solver=sgd;, score=-0.065 total time=   0.7s\n",
      "[CV 4/10] END activation=logistic, hidden_layer_sizes=(3, 6), solver=sgd;, score=-0.065 total time=   0.7s\n",
      "[CV 5/10] END activation=logistic, hidden_layer_sizes=(3, 6), solver=sgd;, score=-0.063 total time=   0.7s\n",
      "[CV 6/10] END activation=logistic, hidden_layer_sizes=(3, 6), solver=sgd;, score=-0.066 total time=   0.7s\n",
      "[CV 7/10] END activation=logistic, hidden_layer_sizes=(3, 6), solver=sgd;, score=-0.070 total time=   0.7s\n",
      "[CV 8/10] END activation=logistic, hidden_layer_sizes=(3, 6), solver=sgd;, score=-0.070 total time=   0.7s\n",
      "[CV 9/10] END activation=logistic, hidden_layer_sizes=(3, 6), solver=sgd;, score=-0.070 total time=   0.7s\n",
      "[CV 10/10] END activation=logistic, hidden_layer_sizes=(3, 6), solver=sgd;, score=-0.070 total time=   0.7s\n",
      "[CV 1/10] END activation=logistic, hidden_layer_sizes=(3, 6), solver=adam;, score=-0.060 total time=   0.2s\n",
      "[CV 2/10] END activation=logistic, hidden_layer_sizes=(3, 6), solver=adam;, score=-0.058 total time=   0.2s\n",
      "[CV 3/10] END activation=logistic, hidden_layer_sizes=(3, 6), solver=adam;, score=-0.059 total time=   0.2s\n",
      "[CV 4/10] END activation=logistic, hidden_layer_sizes=(3, 6), solver=adam;, score=-0.060 total time=   0.2s\n",
      "[CV 5/10] END activation=logistic, hidden_layer_sizes=(3, 6), solver=adam;, score=-0.058 total time=   0.2s\n",
      "[CV 6/10] END activation=logistic, hidden_layer_sizes=(3, 6), solver=adam;, score=-0.058 total time=   0.2s\n",
      "[CV 7/10] END activation=logistic, hidden_layer_sizes=(3, 6), solver=adam;, score=-0.065 total time=   0.2s\n",
      "[CV 8/10] END activation=logistic, hidden_layer_sizes=(3, 6), solver=adam;, score=-0.065 total time=   0.2s\n",
      "[CV 9/10] END activation=logistic, hidden_layer_sizes=(3, 6), solver=adam;, score=-0.063 total time=   0.2s\n",
      "[CV 10/10] END activation=logistic, hidden_layer_sizes=(3, 6), solver=adam;, score=-0.066 total time=   0.2s\n",
      "[CV 1/10] END activation=logistic, hidden_layer_sizes=(4, 8), solver=lbfgs;, score=-0.001 total time=   0.4s\n",
      "[CV 2/10] END activation=logistic, hidden_layer_sizes=(4, 8), solver=lbfgs;, score=-0.002 total time=   0.6s\n",
      "[CV 3/10] END activation=logistic, hidden_layer_sizes=(4, 8), solver=lbfgs;, score=-0.002 total time=   0.7s\n",
      "[CV 4/10] END activation=logistic, hidden_layer_sizes=(4, 8), solver=lbfgs;, score=-0.001 total time=   7.5s\n",
      "[CV 5/10] END activation=logistic, hidden_layer_sizes=(4, 8), solver=lbfgs;, score=-0.055 total time=   0.1s\n",
      "[CV 6/10] END activation=logistic, hidden_layer_sizes=(4, 8), solver=lbfgs;, score=-0.056 total time=   0.1s\n",
      "[CV 7/10] END activation=logistic, hidden_layer_sizes=(4, 8), solver=lbfgs;, score=-0.002 total time=   0.6s\n",
      "[CV 8/10] END activation=logistic, hidden_layer_sizes=(4, 8), solver=lbfgs;, score=-0.062 total time=   0.1s\n",
      "[CV 9/10] END activation=logistic, hidden_layer_sizes=(4, 8), solver=lbfgs;, score=-0.024 total time=   0.6s\n",
      "[CV 10/10] END activation=logistic, hidden_layer_sizes=(4, 8), solver=lbfgs;, score=-0.002 total time=   0.6s\n",
      "[CV 1/10] END activation=logistic, hidden_layer_sizes=(4, 8), solver=sgd;, score=-0.064 total time=   0.7s\n",
      "[CV 2/10] END activation=logistic, hidden_layer_sizes=(4, 8), solver=sgd;, score=-0.063 total time=   0.7s\n",
      "[CV 3/10] END activation=logistic, hidden_layer_sizes=(4, 8), solver=sgd;, score=-0.062 total time=   0.7s\n",
      "[CV 4/10] END activation=logistic, hidden_layer_sizes=(4, 8), solver=sgd;, score=-0.062 total time=   0.7s\n",
      "[CV 5/10] END activation=logistic, hidden_layer_sizes=(4, 8), solver=sgd;, score=-0.060 total time=   0.7s\n",
      "[CV 6/10] END activation=logistic, hidden_layer_sizes=(4, 8), solver=sgd;, score=-0.063 total time=   0.7s\n"
     ]
    },
    {
     "name": "stdout",
     "output_type": "stream",
     "text": [
      "[CV 7/10] END activation=logistic, hidden_layer_sizes=(4, 8), solver=sgd;, score=-0.068 total time=   0.8s\n",
      "[CV 8/10] END activation=logistic, hidden_layer_sizes=(4, 8), solver=sgd;, score=-0.068 total time=   0.7s\n",
      "[CV 9/10] END activation=logistic, hidden_layer_sizes=(4, 8), solver=sgd;, score=-0.067 total time=   0.7s\n",
      "[CV 10/10] END activation=logistic, hidden_layer_sizes=(4, 8), solver=sgd;, score=-0.068 total time=   0.7s\n",
      "[CV 1/10] END activation=logistic, hidden_layer_sizes=(4, 8), solver=adam;, score=-0.062 total time=   0.1s\n",
      "[CV 2/10] END activation=logistic, hidden_layer_sizes=(4, 8), solver=adam;, score=-0.060 total time=   0.1s\n",
      "[CV 3/10] END activation=logistic, hidden_layer_sizes=(4, 8), solver=adam;, score=-0.060 total time=   0.1s\n",
      "[CV 4/10] END activation=logistic, hidden_layer_sizes=(4, 8), solver=adam;, score=-0.060 total time=   0.1s\n",
      "[CV 5/10] END activation=logistic, hidden_layer_sizes=(4, 8), solver=adam;, score=-0.058 total time=   0.1s\n",
      "[CV 6/10] END activation=logistic, hidden_layer_sizes=(4, 8), solver=adam;, score=-0.060 total time=   0.1s\n",
      "[CV 7/10] END activation=logistic, hidden_layer_sizes=(4, 8), solver=adam;, score=-0.066 total time=   0.1s\n",
      "[CV 8/10] END activation=logistic, hidden_layer_sizes=(4, 8), solver=adam;, score=-0.066 total time=   0.1s\n",
      "[CV 9/10] END activation=logistic, hidden_layer_sizes=(4, 8), solver=adam;, score=-0.064 total time=   0.1s\n",
      "[CV 10/10] END activation=logistic, hidden_layer_sizes=(4, 8), solver=adam;, score=-0.067 total time=   0.1s\n",
      "[CV 1/10] END activation=relu, hidden_layer_sizes=(3, 4), solver=lbfgs;, score=-0.066 total time=   0.0s\n",
      "[CV 2/10] END activation=relu, hidden_layer_sizes=(3, 4), solver=lbfgs;, score=-0.065 total time=   0.0s\n",
      "[CV 3/10] END activation=relu, hidden_layer_sizes=(3, 4), solver=lbfgs;, score=-0.067 total time=   0.0s\n",
      "[CV 4/10] END activation=relu, hidden_layer_sizes=(3, 4), solver=lbfgs;, score=-0.064 total time=   0.0s\n",
      "[CV 5/10] END activation=relu, hidden_layer_sizes=(3, 4), solver=lbfgs;, score=-0.062 total time=   0.0s\n",
      "[CV 6/10] END activation=relu, hidden_layer_sizes=(3, 4), solver=lbfgs;, score=-0.065 total time=   0.0s\n",
      "[CV 7/10] END activation=relu, hidden_layer_sizes=(3, 4), solver=lbfgs;, score=-0.070 total time=   0.0s\n",
      "[CV 8/10] END activation=relu, hidden_layer_sizes=(3, 4), solver=lbfgs;, score=-0.068 total time=   0.0s\n",
      "[CV 9/10] END activation=relu, hidden_layer_sizes=(3, 4), solver=lbfgs;, score=-0.069 total time=   0.0s\n",
      "[CV 10/10] END activation=relu, hidden_layer_sizes=(3, 4), solver=lbfgs;, score=-0.072 total time=   0.0s\n",
      "[CV 1/10] END activation=relu, hidden_layer_sizes=(3, 4), solver=sgd;, score=-0.068 total time=   0.3s\n",
      "[CV 2/10] END activation=relu, hidden_layer_sizes=(3, 4), solver=sgd;, score=-0.067 total time=   0.2s\n",
      "[CV 3/10] END activation=relu, hidden_layer_sizes=(3, 4), solver=sgd;, score=-0.070 total time=   0.2s\n",
      "[CV 4/10] END activation=relu, hidden_layer_sizes=(3, 4), solver=sgd;, score=-0.067 total time=   0.2s\n",
      "[CV 5/10] END activation=relu, hidden_layer_sizes=(3, 4), solver=sgd;, score=-0.065 total time=   0.2s\n",
      "[CV 6/10] END activation=relu, hidden_layer_sizes=(3, 4), solver=sgd;, score=-0.067 total time=   0.2s\n",
      "[CV 7/10] END activation=relu, hidden_layer_sizes=(3, 4), solver=sgd;, score=-0.072 total time=   0.2s\n",
      "[CV 8/10] END activation=relu, hidden_layer_sizes=(3, 4), solver=sgd;, score=-0.071 total time=   0.2s\n",
      "[CV 9/10] END activation=relu, hidden_layer_sizes=(3, 4), solver=sgd;, score=-0.071 total time=   0.2s\n",
      "[CV 10/10] END activation=relu, hidden_layer_sizes=(3, 4), solver=sgd;, score=-0.075 total time=   0.2s\n",
      "[CV 1/10] END activation=relu, hidden_layer_sizes=(3, 4), solver=adam;, score=-0.062 total time=   0.2s\n",
      "[CV 2/10] END activation=relu, hidden_layer_sizes=(3, 4), solver=adam;, score=-0.061 total time=   0.2s\n",
      "[CV 3/10] END activation=relu, hidden_layer_sizes=(3, 4), solver=adam;, score=-0.062 total time=   0.2s\n",
      "[CV 4/10] END activation=relu, hidden_layer_sizes=(3, 4), solver=adam;, score=-0.060 total time=   0.2s\n",
      "[CV 5/10] END activation=relu, hidden_layer_sizes=(3, 4), solver=adam;, score=-0.058 total time=   0.2s\n",
      "[CV 6/10] END activation=relu, hidden_layer_sizes=(3, 4), solver=adam;, score=-0.061 total time=   0.2s\n",
      "[CV 7/10] END activation=relu, hidden_layer_sizes=(3, 4), solver=adam;, score=-0.065 total time=   0.2s\n",
      "[CV 8/10] END activation=relu, hidden_layer_sizes=(3, 4), solver=adam;, score=-0.064 total time=   0.2s\n",
      "[CV 9/10] END activation=relu, hidden_layer_sizes=(3, 4), solver=adam;, score=-0.065 total time=   0.2s\n",
      "[CV 10/10] END activation=relu, hidden_layer_sizes=(3, 4), solver=adam;, score=-0.067 total time=   0.2s\n",
      "[CV 1/10] END activation=relu, hidden_layer_sizes=(3, 6), solver=lbfgs;, score=-0.039 total time=   0.2s\n",
      "[CV 2/10] END activation=relu, hidden_layer_sizes=(3, 6), solver=lbfgs;, score=-0.036 total time=   0.2s\n",
      "[CV 3/10] END activation=relu, hidden_layer_sizes=(3, 6), solver=lbfgs;, score=-0.037 total time=   0.2s\n",
      "[CV 4/10] END activation=relu, hidden_layer_sizes=(3, 6), solver=lbfgs;, score=-0.000 total time=   0.1s\n",
      "[CV 5/10] END activation=relu, hidden_layer_sizes=(3, 6), solver=lbfgs;, score=-0.034 total time=   0.1s\n",
      "[CV 6/10] END activation=relu, hidden_layer_sizes=(3, 6), solver=lbfgs;, score=-0.037 total time=   0.1s\n",
      "[CV 7/10] END activation=relu, hidden_layer_sizes=(3, 6), solver=lbfgs;, score=-0.038 total time=   0.2s\n",
      "[CV 8/10] END activation=relu, hidden_layer_sizes=(3, 6), solver=lbfgs;, score=-0.000 total time=   0.1s\n",
      "[CV 9/10] END activation=relu, hidden_layer_sizes=(3, 6), solver=lbfgs;, score=-0.040 total time=   0.1s\n",
      "[CV 10/10] END activation=relu, hidden_layer_sizes=(3, 6), solver=lbfgs;, score=-0.038 total time=   0.2s\n",
      "[CV 1/10] END activation=relu, hidden_layer_sizes=(3, 6), solver=sgd;, score=-0.059 total time=   0.1s\n",
      "[CV 2/10] END activation=relu, hidden_layer_sizes=(3, 6), solver=sgd;, score=-0.058 total time=   0.1s\n",
      "[CV 3/10] END activation=relu, hidden_layer_sizes=(3, 6), solver=sgd;, score=-0.059 total time=   0.1s\n",
      "[CV 4/10] END activation=relu, hidden_layer_sizes=(3, 6), solver=sgd;, score=-0.057 total time=   0.1s\n",
      "[CV 5/10] END activation=relu, hidden_layer_sizes=(3, 6), solver=sgd;, score=-0.055 total time=   0.1s\n",
      "[CV 6/10] END activation=relu, hidden_layer_sizes=(3, 6), solver=sgd;, score=-0.058 total time=   0.1s\n",
      "[CV 7/10] END activation=relu, hidden_layer_sizes=(3, 6), solver=sgd;, score=-0.062 total time=   0.1s\n",
      "[CV 8/10] END activation=relu, hidden_layer_sizes=(3, 6), solver=sgd;, score=-0.061 total time=   0.1s\n",
      "[CV 9/10] END activation=relu, hidden_layer_sizes=(3, 6), solver=sgd;, score=-0.062 total time=   0.1s\n",
      "[CV 10/10] END activation=relu, hidden_layer_sizes=(3, 6), solver=sgd;, score=-0.064 total time=   0.1s\n",
      "[CV 1/10] END activation=relu, hidden_layer_sizes=(3, 6), solver=adam;, score=-0.053 total time=   0.1s\n",
      "[CV 2/10] END activation=relu, hidden_layer_sizes=(3, 6), solver=adam;, score=-0.051 total time=   0.1s\n",
      "[CV 3/10] END activation=relu, hidden_layer_sizes=(3, 6), solver=adam;, score=-0.051 total time=   0.1s\n",
      "[CV 4/10] END activation=relu, hidden_layer_sizes=(3, 6), solver=adam;, score=-0.052 total time=   0.1s\n",
      "[CV 5/10] END activation=relu, hidden_layer_sizes=(3, 6), solver=adam;, score=-0.050 total time=   0.1s\n",
      "[CV 6/10] END activation=relu, hidden_layer_sizes=(3, 6), solver=adam;, score=-0.051 total time=   0.1s\n",
      "[CV 7/10] END activation=relu, hidden_layer_sizes=(3, 6), solver=adam;, score=-0.057 total time=   0.1s\n",
      "[CV 8/10] END activation=relu, hidden_layer_sizes=(3, 6), solver=adam;, score=-0.057 total time=   0.1s\n",
      "[CV 9/10] END activation=relu, hidden_layer_sizes=(3, 6), solver=adam;, score=-0.055 total time=   0.2s\n",
      "[CV 10/10] END activation=relu, hidden_layer_sizes=(3, 6), solver=adam;, score=-0.058 total time=   0.1s\n",
      "[CV 1/10] END activation=relu, hidden_layer_sizes=(4, 8), solver=lbfgs;, score=-0.001 total time=   0.5s\n",
      "[CV 2/10] END activation=relu, hidden_layer_sizes=(4, 8), solver=lbfgs;, score=-0.001 total time=   0.5s\n",
      "[CV 3/10] END activation=relu, hidden_layer_sizes=(4, 8), solver=lbfgs;, score=-0.000 total time=   0.7s\n",
      "[CV 4/10] END activation=relu, hidden_layer_sizes=(4, 8), solver=lbfgs;, score=-0.001 total time=   0.9s\n",
      "[CV 5/10] END activation=relu, hidden_layer_sizes=(4, 8), solver=lbfgs;, score=-0.000 total time=   0.9s\n"
     ]
    },
    {
     "name": "stdout",
     "output_type": "stream",
     "text": [
      "[CV 6/10] END activation=relu, hidden_layer_sizes=(4, 8), solver=lbfgs;, score=-0.001 total time=   1.2s\n",
      "[CV 7/10] END activation=relu, hidden_layer_sizes=(4, 8), solver=lbfgs;, score=-0.000 total time=   0.5s\n",
      "[CV 8/10] END activation=relu, hidden_layer_sizes=(4, 8), solver=lbfgs;, score=-0.001 total time=   1.0s\n",
      "[CV 9/10] END activation=relu, hidden_layer_sizes=(4, 8), solver=lbfgs;, score=-0.000 total time=   0.6s\n",
      "[CV 10/10] END activation=relu, hidden_layer_sizes=(4, 8), solver=lbfgs;, score=-0.000 total time=   0.5s\n",
      "[CV 1/10] END activation=relu, hidden_layer_sizes=(4, 8), solver=sgd;, score=-0.053 total time=   0.3s\n",
      "[CV 2/10] END activation=relu, hidden_layer_sizes=(4, 8), solver=sgd;, score=-0.051 total time=   0.3s\n",
      "[CV 3/10] END activation=relu, hidden_layer_sizes=(4, 8), solver=sgd;, score=-0.051 total time=   0.3s\n",
      "[CV 4/10] END activation=relu, hidden_layer_sizes=(4, 8), solver=sgd;, score=-0.052 total time=   0.3s\n",
      "[CV 5/10] END activation=relu, hidden_layer_sizes=(4, 8), solver=sgd;, score=-0.049 total time=   0.3s\n",
      "[CV 6/10] END activation=relu, hidden_layer_sizes=(4, 8), solver=sgd;, score=-0.051 total time=   0.3s\n",
      "[CV 7/10] END activation=relu, hidden_layer_sizes=(4, 8), solver=sgd;, score=-0.056 total time=   0.3s\n",
      "[CV 8/10] END activation=relu, hidden_layer_sizes=(4, 8), solver=sgd;, score=-0.055 total time=   0.3s\n",
      "[CV 9/10] END activation=relu, hidden_layer_sizes=(4, 8), solver=sgd;, score=-0.056 total time=   0.3s\n",
      "[CV 10/10] END activation=relu, hidden_layer_sizes=(4, 8), solver=sgd;, score=-0.056 total time=   0.3s\n",
      "[CV 1/10] END activation=relu, hidden_layer_sizes=(4, 8), solver=adam;, score=-0.011 total time=   0.5s\n",
      "[CV 2/10] END activation=relu, hidden_layer_sizes=(4, 8), solver=adam;, score=-0.013 total time=   0.5s\n",
      "[CV 3/10] END activation=relu, hidden_layer_sizes=(4, 8), solver=adam;, score=-0.010 total time=   0.6s\n",
      "[CV 4/10] END activation=relu, hidden_layer_sizes=(4, 8), solver=adam;, score=-0.010 total time=   0.5s\n",
      "[CV 5/10] END activation=relu, hidden_layer_sizes=(4, 8), solver=adam;, score=-0.010 total time=   0.5s\n",
      "[CV 6/10] END activation=relu, hidden_layer_sizes=(4, 8), solver=adam;, score=-0.012 total time=   0.5s\n",
      "[CV 7/10] END activation=relu, hidden_layer_sizes=(4, 8), solver=adam;, score=-0.013 total time=   0.5s\n",
      "[CV 8/10] END activation=relu, hidden_layer_sizes=(4, 8), solver=adam;, score=-0.012 total time=   0.6s\n",
      "[CV 9/10] END activation=relu, hidden_layer_sizes=(4, 8), solver=adam;, score=-0.011 total time=   0.6s\n",
      "[CV 10/10] END activation=relu, hidden_layer_sizes=(4, 8), solver=adam;, score=-0.014 total time=   0.5s\n"
     ]
    },
    {
     "data": {
      "text/html": [
       "<style>#sk-container-id-1 {color: black;background-color: white;}#sk-container-id-1 pre{padding: 0;}#sk-container-id-1 div.sk-toggleable {background-color: white;}#sk-container-id-1 label.sk-toggleable__label {cursor: pointer;display: block;width: 100%;margin-bottom: 0;padding: 0.3em;box-sizing: border-box;text-align: center;}#sk-container-id-1 label.sk-toggleable__label-arrow:before {content: \"▸\";float: left;margin-right: 0.25em;color: #696969;}#sk-container-id-1 label.sk-toggleable__label-arrow:hover:before {color: black;}#sk-container-id-1 div.sk-estimator:hover label.sk-toggleable__label-arrow:before {color: black;}#sk-container-id-1 div.sk-toggleable__content {max-height: 0;max-width: 0;overflow: hidden;text-align: left;background-color: #f0f8ff;}#sk-container-id-1 div.sk-toggleable__content pre {margin: 0.2em;color: black;border-radius: 0.25em;background-color: #f0f8ff;}#sk-container-id-1 input.sk-toggleable__control:checked~div.sk-toggleable__content {max-height: 200px;max-width: 100%;overflow: auto;}#sk-container-id-1 input.sk-toggleable__control:checked~label.sk-toggleable__label-arrow:before {content: \"▾\";}#sk-container-id-1 div.sk-estimator input.sk-toggleable__control:checked~label.sk-toggleable__label {background-color: #d4ebff;}#sk-container-id-1 div.sk-label input.sk-toggleable__control:checked~label.sk-toggleable__label {background-color: #d4ebff;}#sk-container-id-1 input.sk-hidden--visually {border: 0;clip: rect(1px 1px 1px 1px);clip: rect(1px, 1px, 1px, 1px);height: 1px;margin: -1px;overflow: hidden;padding: 0;position: absolute;width: 1px;}#sk-container-id-1 div.sk-estimator {font-family: monospace;background-color: #f0f8ff;border: 1px dotted black;border-radius: 0.25em;box-sizing: border-box;margin-bottom: 0.5em;}#sk-container-id-1 div.sk-estimator:hover {background-color: #d4ebff;}#sk-container-id-1 div.sk-parallel-item::after {content: \"\";width: 100%;border-bottom: 1px solid gray;flex-grow: 1;}#sk-container-id-1 div.sk-label:hover label.sk-toggleable__label {background-color: #d4ebff;}#sk-container-id-1 div.sk-serial::before {content: \"\";position: absolute;border-left: 1px solid gray;box-sizing: border-box;top: 0;bottom: 0;left: 50%;z-index: 0;}#sk-container-id-1 div.sk-serial {display: flex;flex-direction: column;align-items: center;background-color: white;padding-right: 0.2em;padding-left: 0.2em;position: relative;}#sk-container-id-1 div.sk-item {position: relative;z-index: 1;}#sk-container-id-1 div.sk-parallel {display: flex;align-items: stretch;justify-content: center;background-color: white;position: relative;}#sk-container-id-1 div.sk-item::before, #sk-container-id-1 div.sk-parallel-item::before {content: \"\";position: absolute;border-left: 1px solid gray;box-sizing: border-box;top: 0;bottom: 0;left: 50%;z-index: -1;}#sk-container-id-1 div.sk-parallel-item {display: flex;flex-direction: column;z-index: 1;position: relative;background-color: white;}#sk-container-id-1 div.sk-parallel-item:first-child::after {align-self: flex-end;width: 50%;}#sk-container-id-1 div.sk-parallel-item:last-child::after {align-self: flex-start;width: 50%;}#sk-container-id-1 div.sk-parallel-item:only-child::after {width: 0;}#sk-container-id-1 div.sk-dashed-wrapped {border: 1px dashed gray;margin: 0 0.4em 0.5em 0.4em;box-sizing: border-box;padding-bottom: 0.4em;background-color: white;}#sk-container-id-1 div.sk-label label {font-family: monospace;font-weight: bold;display: inline-block;line-height: 1.2em;}#sk-container-id-1 div.sk-label-container {text-align: center;}#sk-container-id-1 div.sk-container {/* jupyter's `normalize.less` sets `[hidden] { display: none; }` but bootstrap.min.css set `[hidden] { display: none !important; }` so we also need the `!important` here to be able to override the default hidden behavior on the sphinx rendered scikit-learn.org. See: https://github.com/scikit-learn/scikit-learn/issues/21755 */display: inline-block !important;position: relative;}#sk-container-id-1 div.sk-text-repr-fallback {display: none;}</style><div id=\"sk-container-id-1\" class=\"sk-top-container\"><div class=\"sk-text-repr-fallback\"><pre>GridSearchCV(cv=KFold(n_splits=10, random_state=235, shuffle=True),\n",
       "             estimator=MLPRegressor(max_iter=5000, random_state=235),\n",
       "             param_grid={&#x27;activation&#x27;: [&#x27;logistic&#x27;, &#x27;relu&#x27;],\n",
       "                         &#x27;hidden_layer_sizes&#x27;: [(3, 4), (3, 6), (4, 8)],\n",
       "                         &#x27;solver&#x27;: [&#x27;lbfgs&#x27;, &#x27;sgd&#x27;, &#x27;adam&#x27;]},\n",
       "             scoring=&#x27;neg_mean_squared_error&#x27;, verbose=4)</pre><b>In a Jupyter environment, please rerun this cell to show the HTML representation or trust the notebook. <br />On GitHub, the HTML representation is unable to render, please try loading this page with nbviewer.org.</b></div><div class=\"sk-container\" hidden><div class=\"sk-item sk-dashed-wrapped\"><div class=\"sk-label-container\"><div class=\"sk-label sk-toggleable\"><input class=\"sk-toggleable__control sk-hidden--visually\" id=\"sk-estimator-id-1\" type=\"checkbox\" ><label for=\"sk-estimator-id-1\" class=\"sk-toggleable__label sk-toggleable__label-arrow\">GridSearchCV</label><div class=\"sk-toggleable__content\"><pre>GridSearchCV(cv=KFold(n_splits=10, random_state=235, shuffle=True),\n",
       "             estimator=MLPRegressor(max_iter=5000, random_state=235),\n",
       "             param_grid={&#x27;activation&#x27;: [&#x27;logistic&#x27;, &#x27;relu&#x27;],\n",
       "                         &#x27;hidden_layer_sizes&#x27;: [(3, 4), (3, 6), (4, 8)],\n",
       "                         &#x27;solver&#x27;: [&#x27;lbfgs&#x27;, &#x27;sgd&#x27;, &#x27;adam&#x27;]},\n",
       "             scoring=&#x27;neg_mean_squared_error&#x27;, verbose=4)</pre></div></div></div><div class=\"sk-parallel\"><div class=\"sk-parallel-item\"><div class=\"sk-item\"><div class=\"sk-label-container\"><div class=\"sk-label sk-toggleable\"><input class=\"sk-toggleable__control sk-hidden--visually\" id=\"sk-estimator-id-2\" type=\"checkbox\" ><label for=\"sk-estimator-id-2\" class=\"sk-toggleable__label sk-toggleable__label-arrow\">estimator: MLPRegressor</label><div class=\"sk-toggleable__content\"><pre>MLPRegressor(max_iter=5000, random_state=235)</pre></div></div></div><div class=\"sk-serial\"><div class=\"sk-item\"><div class=\"sk-estimator sk-toggleable\"><input class=\"sk-toggleable__control sk-hidden--visually\" id=\"sk-estimator-id-3\" type=\"checkbox\" ><label for=\"sk-estimator-id-3\" class=\"sk-toggleable__label sk-toggleable__label-arrow\">MLPRegressor</label><div class=\"sk-toggleable__content\"><pre>MLPRegressor(max_iter=5000, random_state=235)</pre></div></div></div></div></div></div></div></div></div></div>"
      ],
      "text/plain": [
       "GridSearchCV(cv=KFold(n_splits=10, random_state=235, shuffle=True),\n",
       "             estimator=MLPRegressor(max_iter=5000, random_state=235),\n",
       "             param_grid={'activation': ['logistic', 'relu'],\n",
       "                         'hidden_layer_sizes': [(3, 4), (3, 6), (4, 8)],\n",
       "                         'solver': ['lbfgs', 'sgd', 'adam']},\n",
       "             scoring='neg_mean_squared_error', verbose=4)"
      ]
     },
     "execution_count": 5,
     "metadata": {},
     "output_type": "execute_result"
    }
   ],
   "source": [
    "# Dictionary with the hyperparameters to be checked. \n",
    "parameters = {\n",
    "    'hidden_layer_sizes' : [(3,4), (3,6), (4,8)],\n",
    "    'activation' : ['logistic', 'relu'],\n",
    "    'solver' : ['lbfgs', 'sgd', 'adam']\n",
    "}\n",
    "\n",
    "# Instantiate MLPRegressor.\n",
    "reg = MLPRegressor(max_iter=5000, random_state=seed)\n",
    "\n",
    "# Instantiate KFold.\n",
    "kf = KFold(n_splits=10, shuffle=True, random_state=seed)\n",
    "\n",
    "# Instantiate GridSearchCV.\n",
    "gs = GridSearchCV(reg, parameters, scoring='neg_mean_squared_error', verbose=4, cv=kf)\n",
    "\n",
    "# Train the MLPRegressor with grid search.\n",
    "gs.fit(x, y)"
   ]
  },
  {
   "cell_type": "markdown",
   "id": "e7febfd2",
   "metadata": {},
   "source": [
    "### Melhores hiperparâmetros"
   ]
  },
  {
   "cell_type": "code",
   "execution_count": 6,
   "id": "48fa8d2e",
   "metadata": {},
   "outputs": [
    {
     "name": "stdout",
     "output_type": "stream",
     "text": [
      "{'activation': 'relu', 'hidden_layer_sizes': (4, 8), 'solver': 'lbfgs'}\n"
     ]
    }
   ],
   "source": [
    "print(gs.best_params_)"
   ]
  },
  {
   "cell_type": "markdown",
   "id": "14321f54",
   "metadata": {},
   "source": [
    "### MSE do melhor modelo"
   ]
  },
  {
   "cell_type": "code",
   "execution_count": 7,
   "id": "0468d563",
   "metadata": {},
   "outputs": [
    {
     "name": "stdout",
     "output_type": "stream",
     "text": [
      "MSE: 0.00040911706174301106\n"
     ]
    }
   ],
   "source": [
    "y_pred = gs.predict(x)\n",
    "        \n",
    "mse = mean_squared_error(y_pred, y)\n",
    "print('MSE:', mse)"
   ]
  },
  {
   "cell_type": "markdown",
   "id": "2b7422cb",
   "metadata": {},
   "source": [
    "### Comparando as funções original e aproximada"
   ]
  },
  {
   "cell_type": "code",
   "execution_count": 8,
   "id": "80147fc6",
   "metadata": {},
   "outputs": [
    {
     "data": {
      "image/png": "[encoded data removed]",
      "text/plain": [
       "<Figure size 640x480 with 1 Axes>"
      ]
     },
     "metadata": {},
     "output_type": "display_data"
    }
   ],
   "source": [
    "plt.plot(x,y)\n",
    "plt.plot(x,y_pred)\n",
    "plt.xlabel('x', fontsize=14)\n",
    "plt.ylabel('y', fontsize=14)\n",
    "plt.grid()\n",
    "plt.show()"
   ]
  }
 ],
 "metadata": {
  "kernelspec": {
   "display_name": "Python 3 (ipykernel)",
   "language": "python",
   "name": "python3"
  },
  "language_info": {
   "codemirror_mode": {
    "name": "ipython",
    "version": 3
   },
   "file_extension": ".py",
   "mimetype": "text/x-python",
   "name": "python",
   "nbconvert_exporter": "python",
   "pygments_lexer": "ipython3",
   "version": "3.10.9"
  }
 },
 "nbformat": 4,
 "nbformat_minor": 5
}
