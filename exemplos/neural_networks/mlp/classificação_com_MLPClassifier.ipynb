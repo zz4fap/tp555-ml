{
 "cells": [
  {
   "cell_type": "code",
   "execution_count": 1,
   "id": "69b76eeb",
   "metadata": {},
   "outputs": [],
   "source": [
    "# Import all necessary libraries and functions.\n",
    "import numpy as np\n",
    "from sklearn.metrics import confusion_matrix, accuracy_score\n",
    "from sklearn.neural_network import MLPClassifier\n",
    "from sklearn.model_selection import GridSearchCV\n",
    "from sklearn.datasets import load_digits\n",
    "from mpl_toolkits.mplot3d import Axes3D\n",
    "from matplotlib import cm\n",
    "import matplotlib.pyplot as plt\n",
    "import seaborn as sns"
   ]
  },
  {
   "cell_type": "code",
   "execution_count": 2,
   "id": "82b9cc5e",
   "metadata": {},
   "outputs": [],
   "source": [
    "seed = 42\n",
    "np.random.seed(seed)"
   ]
  },
  {
   "cell_type": "markdown",
   "id": "6d32327a",
   "metadata": {},
   "source": [
    "### Carregando a base de dados dos dígitos escritos à mão"
   ]
  },
  {
   "cell_type": "code",
   "execution_count": 3,
   "id": "3256a5b7",
   "metadata": {},
   "outputs": [],
   "source": [
    "X, y = load_digits(return_X_y=True)"
   ]
  },
  {
   "cell_type": "markdown",
   "id": "d1c44e74",
   "metadata": {},
   "source": [
    "### Plotando as 10 primeiras images da base de dados"
   ]
  },
  {
   "cell_type": "code",
   "execution_count": 4,
   "id": "cad87764",
   "metadata": {},
   "outputs": [
    {
     "data": {
      "image/png": "[encoded data removed]",
      "text/plain": [
       "<Figure size 500x500 with 10 Axes>"
      ]
     },
     "metadata": {},
     "output_type": "display_data"
    }
   ],
   "source": [
    "plt.figure(figsize=(5,5))\n",
    "for i in range(10):\n",
    "    plt.subplot(2,5,i+1)\n",
    "    plt.xticks([])\n",
    "    plt.yticks([])\n",
    "    plt.grid(False)\n",
    "    plt.imshow(X[i].reshape(8,8), cmap=plt.cm.binary)\n",
    "    plt.title(str(i))\n",
    "plt.show()"
   ]
  },
  {
   "cell_type": "markdown",
   "id": "39e044ee",
   "metadata": {},
   "source": [
    "### Encontrando os melhores hiperparâmetros"
   ]
  },
  {
   "cell_type": "code",
   "execution_count": 5,
   "id": "c52a6e91",
   "metadata": {},
   "outputs": [
    {
     "name": "stdout",
     "output_type": "stream",
     "text": [
      "Fitting 10 folds for each of 24 candidates, totalling 240 fits\n",
      "[CV 1/10] END activation=logistic, hidden_layer_sizes=(10,), solver=lbfgs;, score=0.883 total time=   3.4s\n",
      "[CV 2/10] END activation=logistic, hidden_layer_sizes=(10,), solver=lbfgs;, score=0.906 total time=   2.9s\n",
      "[CV 3/10] END activation=logistic, hidden_layer_sizes=(10,), solver=lbfgs;, score=0.861 total time=   3.0s\n",
      "[CV 4/10] END activation=logistic, hidden_layer_sizes=(10,), solver=lbfgs;, score=0.778 total time=   4.6s\n",
      "[CV 5/10] END activation=logistic, hidden_layer_sizes=(10,), solver=lbfgs;, score=0.872 total time=   2.7s\n",
      "[CV 6/10] END activation=logistic, hidden_layer_sizes=(10,), solver=lbfgs;, score=0.917 total time=   4.2s\n",
      "[CV 7/10] END activation=logistic, hidden_layer_sizes=(10,), solver=lbfgs;, score=0.928 total time=   1.9s\n",
      "[CV 8/10] END activation=logistic, hidden_layer_sizes=(10,), solver=lbfgs;, score=0.911 total time=   3.0s\n",
      "[CV 9/10] END activation=logistic, hidden_layer_sizes=(10,), solver=lbfgs;, score=0.793 total time=   8.4s\n",
      "[CV 10/10] END activation=logistic, hidden_layer_sizes=(10,), solver=lbfgs;, score=0.922 total time=   2.2s\n",
      "[CV 1/10] END activation=logistic, hidden_layer_sizes=(10,), solver=sgd;, score=0.894 total time=   3.7s\n",
      "[CV 2/10] END activation=logistic, hidden_layer_sizes=(10,), solver=sgd;, score=0.950 total time=   3.8s\n",
      "[CV 3/10] END activation=logistic, hidden_layer_sizes=(10,), solver=sgd;, score=0.911 total time=   3.3s\n",
      "[CV 4/10] END activation=logistic, hidden_layer_sizes=(10,), solver=sgd;, score=0.872 total time=   3.8s\n",
      "[CV 5/10] END activation=logistic, hidden_layer_sizes=(10,), solver=sgd;, score=0.906 total time=   3.1s\n",
      "[CV 6/10] END activation=logistic, hidden_layer_sizes=(10,), solver=sgd;, score=0.967 total time=   3.2s\n",
      "[CV 7/10] END activation=logistic, hidden_layer_sizes=(10,), solver=sgd;, score=0.939 total time=   3.3s\n",
      "[CV 8/10] END activation=logistic, hidden_layer_sizes=(10,), solver=sgd;, score=0.922 total time=   3.4s\n",
      "[CV 9/10] END activation=logistic, hidden_layer_sizes=(10,), solver=sgd;, score=0.860 total time=   3.8s\n",
      "[CV 10/10] END activation=logistic, hidden_layer_sizes=(10,), solver=sgd;, score=0.916 total time=   3.5s\n",
      "[CV 1/10] END activation=logistic, hidden_layer_sizes=(10,), solver=adam;, score=0.928 total time=   1.7s\n",
      "[CV 2/10] END activation=logistic, hidden_layer_sizes=(10,), solver=adam;, score=0.967 total time=   1.7s\n",
      "[CV 3/10] END activation=logistic, hidden_layer_sizes=(10,), solver=adam;, score=0.922 total time=   1.6s\n",
      "[CV 4/10] END activation=logistic, hidden_layer_sizes=(10,), solver=adam;, score=0.894 total time=   1.7s\n",
      "[CV 5/10] END activation=logistic, hidden_layer_sizes=(10,), solver=adam;, score=0.956 total time=   1.6s\n",
      "[CV 6/10] END activation=logistic, hidden_layer_sizes=(10,), solver=adam;, score=0.944 total time=   1.9s\n",
      "[CV 7/10] END activation=logistic, hidden_layer_sizes=(10,), solver=adam;, score=0.950 total time=   1.8s\n",
      "[CV 8/10] END activation=logistic, hidden_layer_sizes=(10,), solver=adam;, score=0.955 total time=   1.5s\n",
      "[CV 9/10] END activation=logistic, hidden_layer_sizes=(10,), solver=adam;, score=0.849 total time=   1.7s\n",
      "[CV 10/10] END activation=logistic, hidden_layer_sizes=(10,), solver=adam;, score=0.899 total time=   1.5s\n",
      "[CV 1/10] END activation=logistic, hidden_layer_sizes=(20,), solver=lbfgs;, score=0.822 total time=   0.4s\n",
      "[CV 2/10] END activation=logistic, hidden_layer_sizes=(20,), solver=lbfgs;, score=0.950 total time=   0.2s\n",
      "[CV 3/10] END activation=logistic, hidden_layer_sizes=(20,), solver=lbfgs;, score=0.883 total time=   0.6s\n",
      "[CV 4/10] END activation=logistic, hidden_layer_sizes=(20,), solver=lbfgs;, score=0.911 total time=   0.2s\n",
      "[CV 5/10] END activation=logistic, hidden_layer_sizes=(20,), solver=lbfgs;, score=0.889 total time=   0.4s\n",
      "[CV 6/10] END activation=logistic, hidden_layer_sizes=(20,), solver=lbfgs;, score=0.900 total time=   0.2s\n",
      "[CV 7/10] END activation=logistic, hidden_layer_sizes=(20,), solver=lbfgs;, score=0.894 total time=   0.4s\n",
      "[CV 8/10] END activation=logistic, hidden_layer_sizes=(20,), solver=lbfgs;, score=0.922 total time=   0.2s\n",
      "[CV 9/10] END activation=logistic, hidden_layer_sizes=(20,), solver=lbfgs;, score=0.877 total time=   0.4s\n",
      "[CV 10/10] END activation=logistic, hidden_layer_sizes=(20,), solver=lbfgs;, score=0.911 total time=   0.5s\n",
      "[CV 1/10] END activation=logistic, hidden_layer_sizes=(20,), solver=sgd;, score=0.911 total time=   2.8s\n",
      "[CV 2/10] END activation=logistic, hidden_layer_sizes=(20,), solver=sgd;, score=0.989 total time=   3.0s\n",
      "[CV 3/10] END activation=logistic, hidden_layer_sizes=(20,), solver=sgd;, score=0.922 total time=   2.8s\n",
      "[CV 4/10] END activation=logistic, hidden_layer_sizes=(20,), solver=sgd;, score=0.917 total time=   2.8s\n",
      "[CV 5/10] END activation=logistic, hidden_layer_sizes=(20,), solver=sgd;, score=0.933 total time=   3.0s\n",
      "[CV 6/10] END activation=logistic, hidden_layer_sizes=(20,), solver=sgd;, score=0.983 total time=   2.8s\n",
      "[CV 7/10] END activation=logistic, hidden_layer_sizes=(20,), solver=sgd;, score=0.961 total time=   2.7s\n",
      "[CV 8/10] END activation=logistic, hidden_layer_sizes=(20,), solver=sgd;, score=0.939 total time=   2.6s\n",
      "[CV 9/10] END activation=logistic, hidden_layer_sizes=(20,), solver=sgd;, score=0.883 total time=   2.6s\n",
      "[CV 10/10] END activation=logistic, hidden_layer_sizes=(20,), solver=sgd;, score=0.939 total time=   3.0s\n",
      "[CV 1/10] END activation=logistic, hidden_layer_sizes=(20,), solver=adam;, score=0.917 total time=   1.1s\n",
      "[CV 2/10] END activation=logistic, hidden_layer_sizes=(20,), solver=adam;, score=0.989 total time=   1.2s\n",
      "[CV 3/10] END activation=logistic, hidden_layer_sizes=(20,), solver=adam;, score=0.950 total time=   1.2s\n",
      "[CV 4/10] END activation=logistic, hidden_layer_sizes=(20,), solver=adam;, score=0.889 total time=   1.3s\n",
      "[CV 5/10] END activation=logistic, hidden_layer_sizes=(20,), solver=adam;, score=0.967 total time=   1.3s\n",
      "[CV 6/10] END activation=logistic, hidden_layer_sizes=(20,), solver=adam;, score=0.972 total time=   1.2s\n",
      "[CV 7/10] END activation=logistic, hidden_layer_sizes=(20,), solver=adam;, score=0.978 total time=   1.2s\n",
      "[CV 8/10] END activation=logistic, hidden_layer_sizes=(20,), solver=adam;, score=0.955 total time=   1.2s\n",
      "[CV 9/10] END activation=logistic, hidden_layer_sizes=(20,), solver=adam;, score=0.877 total time=   1.1s\n",
      "[CV 10/10] END activation=logistic, hidden_layer_sizes=(20,), solver=adam;, score=0.939 total time=   1.1s\n",
      "[CV 1/10] END activation=logistic, hidden_layer_sizes=(30,), solver=lbfgs;, score=0.894 total time=   0.2s\n",
      "[CV 2/10] END activation=logistic, hidden_layer_sizes=(30,), solver=lbfgs;, score=0.961 total time=   0.2s\n",
      "[CV 3/10] END activation=logistic, hidden_layer_sizes=(30,), solver=lbfgs;, score=0.872 total time=   0.1s\n",
      "[CV 4/10] END activation=logistic, hidden_layer_sizes=(30,), solver=lbfgs;, score=0.883 total time=   0.3s\n",
      "[CV 5/10] END activation=logistic, hidden_layer_sizes=(30,), solver=lbfgs;, score=0.928 total time=   0.2s\n",
      "[CV 6/10] END activation=logistic, hidden_layer_sizes=(30,), solver=lbfgs;, score=0.944 total time=   0.1s\n",
      "[CV 7/10] END activation=logistic, hidden_layer_sizes=(30,), solver=lbfgs;, score=0.944 total time=   0.1s\n",
      "[CV 8/10] END activation=logistic, hidden_layer_sizes=(30,), solver=lbfgs;, score=0.939 total time=   0.2s\n",
      "[CV 9/10] END activation=logistic, hidden_layer_sizes=(30,), solver=lbfgs;, score=0.883 total time=   0.1s\n",
      "[CV 10/10] END activation=logistic, hidden_layer_sizes=(30,), solver=lbfgs;, score=0.894 total time=   0.3s\n",
      "[CV 1/10] END activation=logistic, hidden_layer_sizes=(30,), solver=sgd;, score=0.939 total time=   2.2s\n",
      "[CV 2/10] END activation=logistic, hidden_layer_sizes=(30,), solver=sgd;, score=0.972 total time=   2.4s\n",
      "[CV 3/10] END activation=logistic, hidden_layer_sizes=(30,), solver=sgd;, score=0.900 total time=   2.3s\n",
      "[CV 4/10] END activation=logistic, hidden_layer_sizes=(30,), solver=sgd;, score=0.922 total time=   2.4s\n",
      "[CV 5/10] END activation=logistic, hidden_layer_sizes=(30,), solver=sgd;, score=0.956 total time=   2.4s\n",
      "[CV 6/10] END activation=logistic, hidden_layer_sizes=(30,), solver=sgd;, score=0.961 total time=   2.4s\n",
      "[CV 7/10] END activation=logistic, hidden_layer_sizes=(30,), solver=sgd;, score=0.983 total time=   2.0s\n"
     ]
    },
    {
     "name": "stdout",
     "output_type": "stream",
     "text": [
      "[CV 8/10] END activation=logistic, hidden_layer_sizes=(30,), solver=sgd;, score=0.978 total time=   2.5s\n",
      "[CV 9/10] END activation=logistic, hidden_layer_sizes=(30,), solver=sgd;, score=0.899 total time=   3.3s\n",
      "[CV 10/10] END activation=logistic, hidden_layer_sizes=(30,), solver=sgd;, score=0.933 total time=   3.1s\n",
      "[CV 1/10] END activation=logistic, hidden_layer_sizes=(30,), solver=adam;, score=0.922 total time=   1.4s\n",
      "[CV 2/10] END activation=logistic, hidden_layer_sizes=(30,), solver=adam;, score=0.972 total time=   1.5s\n",
      "[CV 3/10] END activation=logistic, hidden_layer_sizes=(30,), solver=adam;, score=0.883 total time=   0.9s\n",
      "[CV 4/10] END activation=logistic, hidden_layer_sizes=(30,), solver=adam;, score=0.900 total time=   0.9s\n",
      "[CV 5/10] END activation=logistic, hidden_layer_sizes=(30,), solver=adam;, score=0.972 total time=   1.0s\n",
      "[CV 6/10] END activation=logistic, hidden_layer_sizes=(30,), solver=adam;, score=0.950 total time=   0.9s\n",
      "[CV 7/10] END activation=logistic, hidden_layer_sizes=(30,), solver=adam;, score=0.967 total time=   1.0s\n",
      "[CV 8/10] END activation=logistic, hidden_layer_sizes=(30,), solver=adam;, score=0.978 total time=   1.1s\n",
      "[CV 9/10] END activation=logistic, hidden_layer_sizes=(30,), solver=adam;, score=0.899 total time=   0.9s\n",
      "[CV 10/10] END activation=logistic, hidden_layer_sizes=(30,), solver=adam;, score=0.950 total time=   1.1s\n",
      "[CV 1/10] END activation=logistic, hidden_layer_sizes=(40,), solver=lbfgs;, score=0.911 total time=   0.0s\n",
      "[CV 2/10] END activation=logistic, hidden_layer_sizes=(40,), solver=lbfgs;, score=0.961 total time=   0.0s\n",
      "[CV 3/10] END activation=logistic, hidden_layer_sizes=(40,), solver=lbfgs;, score=0.917 total time=   0.0s\n",
      "[CV 4/10] END activation=logistic, hidden_layer_sizes=(40,), solver=lbfgs;, score=0.928 total time=   0.0s\n",
      "[CV 5/10] END activation=logistic, hidden_layer_sizes=(40,), solver=lbfgs;, score=0.944 total time=   0.0s\n",
      "[CV 6/10] END activation=logistic, hidden_layer_sizes=(40,), solver=lbfgs;, score=0.972 total time=   0.0s\n",
      "[CV 7/10] END activation=logistic, hidden_layer_sizes=(40,), solver=lbfgs;, score=0.972 total time=   0.0s\n",
      "[CV 8/10] END activation=logistic, hidden_layer_sizes=(40,), solver=lbfgs;, score=0.950 total time=   0.0s\n",
      "[CV 9/10] END activation=logistic, hidden_layer_sizes=(40,), solver=lbfgs;, score=0.922 total time=   0.0s\n",
      "[CV 10/10] END activation=logistic, hidden_layer_sizes=(40,), solver=lbfgs;, score=0.922 total time=   0.0s\n",
      "[CV 1/10] END activation=logistic, hidden_layer_sizes=(40,), solver=sgd;, score=0.950 total time=   2.1s\n",
      "[CV 2/10] END activation=logistic, hidden_layer_sizes=(40,), solver=sgd;, score=0.967 total time=   2.4s\n",
      "[CV 3/10] END activation=logistic, hidden_layer_sizes=(40,), solver=sgd;, score=0.911 total time=   2.2s\n",
      "[CV 4/10] END activation=logistic, hidden_layer_sizes=(40,), solver=sgd;, score=0.933 total time=   2.2s\n",
      "[CV 5/10] END activation=logistic, hidden_layer_sizes=(40,), solver=sgd;, score=0.956 total time=   2.3s\n",
      "[CV 6/10] END activation=logistic, hidden_layer_sizes=(40,), solver=sgd;, score=0.972 total time=   2.4s\n",
      "[CV 7/10] END activation=logistic, hidden_layer_sizes=(40,), solver=sgd;, score=0.983 total time=   2.2s\n",
      "[CV 8/10] END activation=logistic, hidden_layer_sizes=(40,), solver=sgd;, score=0.972 total time=   2.4s\n",
      "[CV 9/10] END activation=logistic, hidden_layer_sizes=(40,), solver=sgd;, score=0.894 total time=   2.1s\n",
      "[CV 10/10] END activation=logistic, hidden_layer_sizes=(40,), solver=sgd;, score=0.944 total time=   2.3s\n",
      "[CV 1/10] END activation=logistic, hidden_layer_sizes=(40,), solver=adam;, score=0.933 total time=   0.9s\n",
      "[CV 2/10] END activation=logistic, hidden_layer_sizes=(40,), solver=adam;, score=0.989 total time=   0.9s\n",
      "[CV 3/10] END activation=logistic, hidden_layer_sizes=(40,), solver=adam;, score=0.922 total time=   1.1s\n",
      "[CV 4/10] END activation=logistic, hidden_layer_sizes=(40,), solver=adam;, score=0.933 total time=   1.4s\n",
      "[CV 5/10] END activation=logistic, hidden_layer_sizes=(40,), solver=adam;, score=0.967 total time=   1.4s\n",
      "[CV 6/10] END activation=logistic, hidden_layer_sizes=(40,), solver=adam;, score=0.978 total time=   1.3s\n",
      "[CV 7/10] END activation=logistic, hidden_layer_sizes=(40,), solver=adam;, score=0.983 total time=   1.4s\n",
      "[CV 8/10] END activation=logistic, hidden_layer_sizes=(40,), solver=adam;, score=0.978 total time=   1.2s\n",
      "[CV 9/10] END activation=logistic, hidden_layer_sizes=(40,), solver=adam;, score=0.899 total time=   1.3s\n",
      "[CV 10/10] END activation=logistic, hidden_layer_sizes=(40,), solver=adam;, score=0.950 total time=   1.1s\n",
      "[CV 1/10] END activation=relu, hidden_layer_sizes=(10,), solver=lbfgs;, score=0.861 total time=   0.9s\n",
      "[CV 2/10] END activation=relu, hidden_layer_sizes=(10,), solver=lbfgs;, score=0.883 total time=   1.3s\n",
      "[CV 3/10] END activation=relu, hidden_layer_sizes=(10,), solver=lbfgs;, score=0.733 total time=   0.9s\n",
      "[CV 4/10] END activation=relu, hidden_layer_sizes=(10,), solver=lbfgs;, score=0.822 total time=   0.5s\n",
      "[CV 5/10] END activation=relu, hidden_layer_sizes=(10,), solver=lbfgs;, score=0.922 total time=   0.5s\n",
      "[CV 6/10] END activation=relu, hidden_layer_sizes=(10,), solver=lbfgs;, score=0.894 total time=   1.1s\n",
      "[CV 7/10] END activation=relu, hidden_layer_sizes=(10,), solver=lbfgs;, score=0.911 total time=   3.0s\n",
      "[CV 8/10] END activation=relu, hidden_layer_sizes=(10,), solver=lbfgs;, score=0.888 total time=   1.8s\n",
      "[CV 9/10] END activation=relu, hidden_layer_sizes=(10,), solver=lbfgs;, score=0.782 total time=   2.0s\n"
     ]
    },
    {
     "name": "stderr",
     "output_type": "stream",
     "text": [
      "C:\\Users\\felipe.figueiredo\\AppData\\Local\\anaconda3\\lib\\site-packages\\sklearn\\neural_network\\_multilayer_perceptron.py:541: ConvergenceWarning: lbfgs failed to converge (status=1):\n",
      "STOP: TOTAL NO. of ITERATIONS REACHED LIMIT.\n",
      "\n",
      "Increase the number of iterations (max_iter) or scale the data as shown in:\n",
      "    https://scikit-learn.org/stable/modules/preprocessing.html\n",
      "  self.n_iter_ = _check_optimize_result(\"lbfgs\", opt_res, self.max_iter)\n"
     ]
    },
    {
     "name": "stdout",
     "output_type": "stream",
     "text": [
      "[CV 10/10] END activation=relu, hidden_layer_sizes=(10,), solver=lbfgs;, score=0.821 total time=   9.8s\n",
      "[CV 1/10] END activation=relu, hidden_layer_sizes=(10,), solver=sgd;, score=0.878 total time=   1.4s\n",
      "[CV 2/10] END activation=relu, hidden_layer_sizes=(10,), solver=sgd;, score=0.922 total time=   0.8s\n",
      "[CV 3/10] END activation=relu, hidden_layer_sizes=(10,), solver=sgd;, score=0.861 total time=   1.1s\n",
      "[CV 4/10] END activation=relu, hidden_layer_sizes=(10,), solver=sgd;, score=0.900 total time=   1.1s\n",
      "[CV 5/10] END activation=relu, hidden_layer_sizes=(10,), solver=sgd;, score=0.917 total time=   0.9s\n",
      "[CV 6/10] END activation=relu, hidden_layer_sizes=(10,), solver=sgd;, score=0.956 total time=   1.0s\n",
      "[CV 7/10] END activation=relu, hidden_layer_sizes=(10,), solver=sgd;, score=0.933 total time=   1.4s\n",
      "[CV 8/10] END activation=relu, hidden_layer_sizes=(10,), solver=sgd;, score=0.922 total time=   0.7s\n",
      "[CV 9/10] END activation=relu, hidden_layer_sizes=(10,), solver=sgd;, score=0.849 total time=   0.7s\n",
      "[CV 10/10] END activation=relu, hidden_layer_sizes=(10,), solver=sgd;, score=0.899 total time=   0.7s\n",
      "[CV 1/10] END activation=relu, hidden_layer_sizes=(10,), solver=adam;, score=0.861 total time=   0.9s\n",
      "[CV 2/10] END activation=relu, hidden_layer_sizes=(10,), solver=adam;, score=0.967 total time=   1.0s\n",
      "[CV 3/10] END activation=relu, hidden_layer_sizes=(10,), solver=adam;, score=0.856 total time=   1.0s\n",
      "[CV 4/10] END activation=relu, hidden_layer_sizes=(10,), solver=adam;, score=0.911 total time=   1.0s\n",
      "[CV 5/10] END activation=relu, hidden_layer_sizes=(10,), solver=adam;, score=0.917 total time=   1.0s\n",
      "[CV 6/10] END activation=relu, hidden_layer_sizes=(10,), solver=adam;, score=0.944 total time=   1.0s\n",
      "[CV 7/10] END activation=relu, hidden_layer_sizes=(10,), solver=adam;, score=0.961 total time=   1.1s\n",
      "[CV 8/10] END activation=relu, hidden_layer_sizes=(10,), solver=adam;, score=0.911 total time=   0.9s\n",
      "[CV 9/10] END activation=relu, hidden_layer_sizes=(10,), solver=adam;, score=0.894 total time=   1.0s\n",
      "[CV 10/10] END activation=relu, hidden_layer_sizes=(10,), solver=adam;, score=0.911 total time=   0.9s\n",
      "[CV 1/10] END activation=relu, hidden_layer_sizes=(20,), solver=lbfgs;, score=0.894 total time=   0.0s\n",
      "[CV 2/10] END activation=relu, hidden_layer_sizes=(20,), solver=lbfgs;, score=0.961 total time=   0.0s\n",
      "[CV 3/10] END activation=relu, hidden_layer_sizes=(20,), solver=lbfgs;, score=0.900 total time=   0.0s\n",
      "[CV 4/10] END activation=relu, hidden_layer_sizes=(20,), solver=lbfgs;, score=0.922 total time=   0.0s\n",
      "[CV 5/10] END activation=relu, hidden_layer_sizes=(20,), solver=lbfgs;, score=0.933 total time=   0.0s\n",
      "[CV 6/10] END activation=relu, hidden_layer_sizes=(20,), solver=lbfgs;, score=0.939 total time=   0.0s\n",
      "[CV 7/10] END activation=relu, hidden_layer_sizes=(20,), solver=lbfgs;, score=0.967 total time=   0.0s\n",
      "[CV 8/10] END activation=relu, hidden_layer_sizes=(20,), solver=lbfgs;, score=0.916 total time=   0.0s\n",
      "[CV 9/10] END activation=relu, hidden_layer_sizes=(20,), solver=lbfgs;, score=0.877 total time=   0.0s\n",
      "[CV 10/10] END activation=relu, hidden_layer_sizes=(20,), solver=lbfgs;, score=0.922 total time=   0.0s\n",
      "[CV 1/10] END activation=relu, hidden_layer_sizes=(20,), solver=sgd;, score=0.906 total time=   1.0s\n",
      "[CV 2/10] END activation=relu, hidden_layer_sizes=(20,), solver=sgd;, score=0.967 total time=   1.3s\n",
      "[CV 3/10] END activation=relu, hidden_layer_sizes=(20,), solver=sgd;, score=0.900 total time=   1.3s\n",
      "[CV 4/10] END activation=relu, hidden_layer_sizes=(20,), solver=sgd;, score=0.950 total time=   1.1s\n",
      "[CV 5/10] END activation=relu, hidden_layer_sizes=(20,), solver=sgd;, score=0.944 total time=   1.1s\n",
      "[CV 6/10] END activation=relu, hidden_layer_sizes=(20,), solver=sgd;, score=0.967 total time=   0.8s\n",
      "[CV 7/10] END activation=relu, hidden_layer_sizes=(20,), solver=sgd;, score=0.983 total time=   1.2s\n",
      "[CV 8/10] END activation=relu, hidden_layer_sizes=(20,), solver=sgd;, score=0.950 total time=   1.0s\n",
      "[CV 9/10] END activation=relu, hidden_layer_sizes=(20,), solver=sgd;, score=0.883 total time=   1.0s\n",
      "[CV 10/10] END activation=relu, hidden_layer_sizes=(20,), solver=sgd;, score=0.922 total time=   1.0s\n",
      "[CV 1/10] END activation=relu, hidden_layer_sizes=(20,), solver=adam;, score=0.889 total time=   0.9s\n",
      "[CV 2/10] END activation=relu, hidden_layer_sizes=(20,), solver=adam;, score=0.978 total time=   0.9s\n",
      "[CV 3/10] END activation=relu, hidden_layer_sizes=(20,), solver=adam;, score=0.922 total time=   1.0s\n",
      "[CV 4/10] END activation=relu, hidden_layer_sizes=(20,), solver=adam;, score=0.889 total time=   1.0s\n",
      "[CV 5/10] END activation=relu, hidden_layer_sizes=(20,), solver=adam;, score=0.961 total time=   0.8s\n",
      "[CV 6/10] END activation=relu, hidden_layer_sizes=(20,), solver=adam;, score=0.956 total time=   0.8s\n",
      "[CV 7/10] END activation=relu, hidden_layer_sizes=(20,), solver=adam;, score=0.978 total time=   0.9s\n",
      "[CV 8/10] END activation=relu, hidden_layer_sizes=(20,), solver=adam;, score=0.944 total time=   0.9s\n",
      "[CV 9/10] END activation=relu, hidden_layer_sizes=(20,), solver=adam;, score=0.894 total time=   0.8s\n",
      "[CV 10/10] END activation=relu, hidden_layer_sizes=(20,), solver=adam;, score=0.939 total time=   0.8s\n",
      "[CV 1/10] END activation=relu, hidden_layer_sizes=(30,), solver=lbfgs;, score=0.928 total time=   0.0s\n",
      "[CV 2/10] END activation=relu, hidden_layer_sizes=(30,), solver=lbfgs;, score=0.967 total time=   0.0s\n",
      "[CV 3/10] END activation=relu, hidden_layer_sizes=(30,), solver=lbfgs;, score=0.889 total time=   0.0s\n",
      "[CV 4/10] END activation=relu, hidden_layer_sizes=(30,), solver=lbfgs;, score=0.950 total time=   0.0s\n",
      "[CV 5/10] END activation=relu, hidden_layer_sizes=(30,), solver=lbfgs;, score=0.967 total time=   0.0s\n",
      "[CV 6/10] END activation=relu, hidden_layer_sizes=(30,), solver=lbfgs;, score=0.928 total time=   0.0s\n",
      "[CV 7/10] END activation=relu, hidden_layer_sizes=(30,), solver=lbfgs;, score=0.978 total time=   0.0s\n",
      "[CV 8/10] END activation=relu, hidden_layer_sizes=(30,), solver=lbfgs;, score=0.950 total time=   0.0s\n",
      "[CV 9/10] END activation=relu, hidden_layer_sizes=(30,), solver=lbfgs;, score=0.888 total time=   0.0s\n",
      "[CV 10/10] END activation=relu, hidden_layer_sizes=(30,), solver=lbfgs;, score=0.927 total time=   0.0s\n",
      "[CV 1/10] END activation=relu, hidden_layer_sizes=(30,), solver=sgd;, score=0.900 total time=   0.7s\n",
      "[CV 2/10] END activation=relu, hidden_layer_sizes=(30,), solver=sgd;, score=0.950 total time=   0.9s\n",
      "[CV 3/10] END activation=relu, hidden_layer_sizes=(30,), solver=sgd;, score=0.911 total time=   1.0s\n",
      "[CV 4/10] END activation=relu, hidden_layer_sizes=(30,), solver=sgd;, score=0.928 total time=   1.0s\n",
      "[CV 5/10] END activation=relu, hidden_layer_sizes=(30,), solver=sgd;, score=0.950 total time=   0.8s\n",
      "[CV 6/10] END activation=relu, hidden_layer_sizes=(30,), solver=sgd;, score=0.967 total time=   0.9s\n",
      "[CV 7/10] END activation=relu, hidden_layer_sizes=(30,), solver=sgd;, score=0.961 total time=   0.9s\n",
      "[CV 8/10] END activation=relu, hidden_layer_sizes=(30,), solver=sgd;, score=0.955 total time=   1.1s\n",
      "[CV 9/10] END activation=relu, hidden_layer_sizes=(30,), solver=sgd;, score=0.899 total time=   1.0s\n",
      "[CV 10/10] END activation=relu, hidden_layer_sizes=(30,), solver=sgd;, score=0.939 total time=   0.9s\n",
      "[CV 1/10] END activation=relu, hidden_layer_sizes=(30,), solver=adam;, score=0.906 total time=   0.5s\n",
      "[CV 2/10] END activation=relu, hidden_layer_sizes=(30,), solver=adam;, score=0.978 total time=   0.5s\n",
      "[CV 3/10] END activation=relu, hidden_layer_sizes=(30,), solver=adam;, score=0.900 total time=   0.6s\n",
      "[CV 4/10] END activation=relu, hidden_layer_sizes=(30,), solver=adam;, score=0.917 total time=   0.7s\n",
      "[CV 5/10] END activation=relu, hidden_layer_sizes=(30,), solver=adam;, score=0.967 total time=   0.6s\n",
      "[CV 6/10] END activation=relu, hidden_layer_sizes=(30,), solver=adam;, score=0.956 total time=   0.6s\n",
      "[CV 7/10] END activation=relu, hidden_layer_sizes=(30,), solver=adam;, score=0.972 total time=   0.6s\n",
      "[CV 8/10] END activation=relu, hidden_layer_sizes=(30,), solver=adam;, score=0.927 total time=   0.6s\n",
      "[CV 9/10] END activation=relu, hidden_layer_sizes=(30,), solver=adam;, score=0.899 total time=   0.5s\n",
      "[CV 10/10] END activation=relu, hidden_layer_sizes=(30,), solver=adam;, score=0.922 total time=   0.6s\n",
      "[CV 1/10] END activation=relu, hidden_layer_sizes=(40,), solver=lbfgs;, score=0.928 total time=   0.0s\n",
      "[CV 2/10] END activation=relu, hidden_layer_sizes=(40,), solver=lbfgs;, score=0.944 total time=   0.0s\n"
     ]
    },
    {
     "name": "stdout",
     "output_type": "stream",
     "text": [
      "[CV 3/10] END activation=relu, hidden_layer_sizes=(40,), solver=lbfgs;, score=0.906 total time=   0.0s\n",
      "[CV 4/10] END activation=relu, hidden_layer_sizes=(40,), solver=lbfgs;, score=0.911 total time=   0.0s\n",
      "[CV 5/10] END activation=relu, hidden_layer_sizes=(40,), solver=lbfgs;, score=0.956 total time=   0.0s\n",
      "[CV 6/10] END activation=relu, hidden_layer_sizes=(40,), solver=lbfgs;, score=0.944 total time=   0.0s\n",
      "[CV 7/10] END activation=relu, hidden_layer_sizes=(40,), solver=lbfgs;, score=0.972 total time=   0.0s\n",
      "[CV 8/10] END activation=relu, hidden_layer_sizes=(40,), solver=lbfgs;, score=0.950 total time=   0.0s\n",
      "[CV 9/10] END activation=relu, hidden_layer_sizes=(40,), solver=lbfgs;, score=0.899 total time=   0.0s\n",
      "[CV 10/10] END activation=relu, hidden_layer_sizes=(40,), solver=lbfgs;, score=0.939 total time=   0.0s\n",
      "[CV 1/10] END activation=relu, hidden_layer_sizes=(40,), solver=sgd;, score=0.922 total time=   0.7s\n",
      "[CV 2/10] END activation=relu, hidden_layer_sizes=(40,), solver=sgd;, score=0.956 total time=   0.7s\n",
      "[CV 3/10] END activation=relu, hidden_layer_sizes=(40,), solver=sgd;, score=0.906 total time=   0.7s\n",
      "[CV 4/10] END activation=relu, hidden_layer_sizes=(40,), solver=sgd;, score=0.900 total time=   0.7s\n",
      "[CV 5/10] END activation=relu, hidden_layer_sizes=(40,), solver=sgd;, score=0.939 total time=   0.6s\n",
      "[CV 6/10] END activation=relu, hidden_layer_sizes=(40,), solver=sgd;, score=0.950 total time=   0.6s\n",
      "[CV 7/10] END activation=relu, hidden_layer_sizes=(40,), solver=sgd;, score=0.978 total time=   0.8s\n",
      "[CV 8/10] END activation=relu, hidden_layer_sizes=(40,), solver=sgd;, score=0.955 total time=   0.7s\n",
      "[CV 9/10] END activation=relu, hidden_layer_sizes=(40,), solver=sgd;, score=0.899 total time=   0.7s\n",
      "[CV 10/10] END activation=relu, hidden_layer_sizes=(40,), solver=sgd;, score=0.922 total time=   0.7s\n",
      "[CV 1/10] END activation=relu, hidden_layer_sizes=(40,), solver=adam;, score=0.911 total time=   0.5s\n",
      "[CV 2/10] END activation=relu, hidden_layer_sizes=(40,), solver=adam;, score=0.978 total time=   0.5s\n",
      "[CV 3/10] END activation=relu, hidden_layer_sizes=(40,), solver=adam;, score=0.906 total time=   0.4s\n",
      "[CV 4/10] END activation=relu, hidden_layer_sizes=(40,), solver=adam;, score=0.906 total time=   0.5s\n",
      "[CV 5/10] END activation=relu, hidden_layer_sizes=(40,), solver=adam;, score=0.956 total time=   0.5s\n",
      "[CV 6/10] END activation=relu, hidden_layer_sizes=(40,), solver=adam;, score=0.972 total time=   0.6s\n",
      "[CV 7/10] END activation=relu, hidden_layer_sizes=(40,), solver=adam;, score=0.972 total time=   0.5s\n",
      "[CV 8/10] END activation=relu, hidden_layer_sizes=(40,), solver=adam;, score=0.966 total time=   0.5s\n",
      "[CV 9/10] END activation=relu, hidden_layer_sizes=(40,), solver=adam;, score=0.899 total time=   0.4s\n",
      "[CV 10/10] END activation=relu, hidden_layer_sizes=(40,), solver=adam;, score=0.939 total time=   0.5s\n"
     ]
    },
    {
     "data": {
      "text/html": [
       "<style>#sk-container-id-1 {color: black;background-color: white;}#sk-container-id-1 pre{padding: 0;}#sk-container-id-1 div.sk-toggleable {background-color: white;}#sk-container-id-1 label.sk-toggleable__label {cursor: pointer;display: block;width: 100%;margin-bottom: 0;padding: 0.3em;box-sizing: border-box;text-align: center;}#sk-container-id-1 label.sk-toggleable__label-arrow:before {content: \"▸\";float: left;margin-right: 0.25em;color: #696969;}#sk-container-id-1 label.sk-toggleable__label-arrow:hover:before {color: black;}#sk-container-id-1 div.sk-estimator:hover label.sk-toggleable__label-arrow:before {color: black;}#sk-container-id-1 div.sk-toggleable__content {max-height: 0;max-width: 0;overflow: hidden;text-align: left;background-color: #f0f8ff;}#sk-container-id-1 div.sk-toggleable__content pre {margin: 0.2em;color: black;border-radius: 0.25em;background-color: #f0f8ff;}#sk-container-id-1 input.sk-toggleable__control:checked~div.sk-toggleable__content {max-height: 200px;max-width: 100%;overflow: auto;}#sk-container-id-1 input.sk-toggleable__control:checked~label.sk-toggleable__label-arrow:before {content: \"▾\";}#sk-container-id-1 div.sk-estimator input.sk-toggleable__control:checked~label.sk-toggleable__label {background-color: #d4ebff;}#sk-container-id-1 div.sk-label input.sk-toggleable__control:checked~label.sk-toggleable__label {background-color: #d4ebff;}#sk-container-id-1 input.sk-hidden--visually {border: 0;clip: rect(1px 1px 1px 1px);clip: rect(1px, 1px, 1px, 1px);height: 1px;margin: -1px;overflow: hidden;padding: 0;position: absolute;width: 1px;}#sk-container-id-1 div.sk-estimator {font-family: monospace;background-color: #f0f8ff;border: 1px dotted black;border-radius: 0.25em;box-sizing: border-box;margin-bottom: 0.5em;}#sk-container-id-1 div.sk-estimator:hover {background-color: #d4ebff;}#sk-container-id-1 div.sk-parallel-item::after {content: \"\";width: 100%;border-bottom: 1px solid gray;flex-grow: 1;}#sk-container-id-1 div.sk-label:hover label.sk-toggleable__label {background-color: #d4ebff;}#sk-container-id-1 div.sk-serial::before {content: \"\";position: absolute;border-left: 1px solid gray;box-sizing: border-box;top: 0;bottom: 0;left: 50%;z-index: 0;}#sk-container-id-1 div.sk-serial {display: flex;flex-direction: column;align-items: center;background-color: white;padding-right: 0.2em;padding-left: 0.2em;position: relative;}#sk-container-id-1 div.sk-item {position: relative;z-index: 1;}#sk-container-id-1 div.sk-parallel {display: flex;align-items: stretch;justify-content: center;background-color: white;position: relative;}#sk-container-id-1 div.sk-item::before, #sk-container-id-1 div.sk-parallel-item::before {content: \"\";position: absolute;border-left: 1px solid gray;box-sizing: border-box;top: 0;bottom: 0;left: 50%;z-index: -1;}#sk-container-id-1 div.sk-parallel-item {display: flex;flex-direction: column;z-index: 1;position: relative;background-color: white;}#sk-container-id-1 div.sk-parallel-item:first-child::after {align-self: flex-end;width: 50%;}#sk-container-id-1 div.sk-parallel-item:last-child::after {align-self: flex-start;width: 50%;}#sk-container-id-1 div.sk-parallel-item:only-child::after {width: 0;}#sk-container-id-1 div.sk-dashed-wrapped {border: 1px dashed gray;margin: 0 0.4em 0.5em 0.4em;box-sizing: border-box;padding-bottom: 0.4em;background-color: white;}#sk-container-id-1 div.sk-label label {font-family: monospace;font-weight: bold;display: inline-block;line-height: 1.2em;}#sk-container-id-1 div.sk-label-container {text-align: center;}#sk-container-id-1 div.sk-container {/* jupyter's `normalize.less` sets `[hidden] { display: none; }` but bootstrap.min.css set `[hidden] { display: none !important; }` so we also need the `!important` here to be able to override the default hidden behavior on the sphinx rendered scikit-learn.org. See: https://github.com/scikit-learn/scikit-learn/issues/21755 */display: inline-block !important;position: relative;}#sk-container-id-1 div.sk-text-repr-fallback {display: none;}</style><div id=\"sk-container-id-1\" class=\"sk-top-container\"><div class=\"sk-text-repr-fallback\"><pre>GridSearchCV(cv=10, estimator=MLPClassifier(max_iter=10000, random_state=42),\n",
       "             param_grid={&#x27;activation&#x27;: [&#x27;logistic&#x27;, &#x27;relu&#x27;],\n",
       "                         &#x27;hidden_layer_sizes&#x27;: [(10,), (20,), (30,), (40,)],\n",
       "                         &#x27;solver&#x27;: [&#x27;lbfgs&#x27;, &#x27;sgd&#x27;, &#x27;adam&#x27;]},\n",
       "             scoring=&#x27;accuracy&#x27;, verbose=4)</pre><b>In a Jupyter environment, please rerun this cell to show the HTML representation or trust the notebook. <br />On GitHub, the HTML representation is unable to render, please try loading this page with nbviewer.org.</b></div><div class=\"sk-container\" hidden><div class=\"sk-item sk-dashed-wrapped\"><div class=\"sk-label-container\"><div class=\"sk-label sk-toggleable\"><input class=\"sk-toggleable__control sk-hidden--visually\" id=\"sk-estimator-id-1\" type=\"checkbox\" ><label for=\"sk-estimator-id-1\" class=\"sk-toggleable__label sk-toggleable__label-arrow\">GridSearchCV</label><div class=\"sk-toggleable__content\"><pre>GridSearchCV(cv=10, estimator=MLPClassifier(max_iter=10000, random_state=42),\n",
       "             param_grid={&#x27;activation&#x27;: [&#x27;logistic&#x27;, &#x27;relu&#x27;],\n",
       "                         &#x27;hidden_layer_sizes&#x27;: [(10,), (20,), (30,), (40,)],\n",
       "                         &#x27;solver&#x27;: [&#x27;lbfgs&#x27;, &#x27;sgd&#x27;, &#x27;adam&#x27;]},\n",
       "             scoring=&#x27;accuracy&#x27;, verbose=4)</pre></div></div></div><div class=\"sk-parallel\"><div class=\"sk-parallel-item\"><div class=\"sk-item\"><div class=\"sk-label-container\"><div class=\"sk-label sk-toggleable\"><input class=\"sk-toggleable__control sk-hidden--visually\" id=\"sk-estimator-id-2\" type=\"checkbox\" ><label for=\"sk-estimator-id-2\" class=\"sk-toggleable__label sk-toggleable__label-arrow\">estimator: MLPClassifier</label><div class=\"sk-toggleable__content\"><pre>MLPClassifier(max_iter=10000, random_state=42)</pre></div></div></div><div class=\"sk-serial\"><div class=\"sk-item\"><div class=\"sk-estimator sk-toggleable\"><input class=\"sk-toggleable__control sk-hidden--visually\" id=\"sk-estimator-id-3\" type=\"checkbox\" ><label for=\"sk-estimator-id-3\" class=\"sk-toggleable__label sk-toggleable__label-arrow\">MLPClassifier</label><div class=\"sk-toggleable__content\"><pre>MLPClassifier(max_iter=10000, random_state=42)</pre></div></div></div></div></div></div></div></div></div></div>"
      ],
      "text/plain": [
       "GridSearchCV(cv=10, estimator=MLPClassifier(max_iter=10000, random_state=42),\n",
       "             param_grid={'activation': ['logistic', 'relu'],\n",
       "                         'hidden_layer_sizes': [(10,), (20,), (30,), (40,)],\n",
       "                         'solver': ['lbfgs', 'sgd', 'adam']},\n",
       "             scoring='accuracy', verbose=4)"
      ]
     },
     "execution_count": 5,
     "metadata": {},
     "output_type": "execute_result"
    }
   ],
   "source": [
    "# Dictionary with the hyperparameters to be checked. \n",
    "parameters = {\n",
    "    'hidden_layer_sizes':[(10,), (20,), (30,), (40,)],\n",
    "    'activation' : ['logistic', 'relu'],\n",
    "    'solver' : ['lbfgs', 'sgd', 'adam']    \n",
    "}\n",
    "\n",
    "# Instantiate MLPClassifier.\n",
    "clf = MLPClassifier(max_iter=10000, random_state=seed)\n",
    "\n",
    "# Instantiate GridSearchCV.\n",
    "gs = GridSearchCV(clf, parameters, scoring='accuracy', verbose=4, cv=10)\n",
    "\n",
    "# Train the MLP regressor with grid search.\n",
    "gs.fit(X, y)"
   ]
  },
  {
   "cell_type": "markdown",
   "id": "f1ae5037",
   "metadata": {},
   "source": [
    "### Melhores hiperparâmetros"
   ]
  },
  {
   "cell_type": "code",
   "execution_count": 6,
   "id": "2ca30fc8",
   "metadata": {},
   "outputs": [
    {
     "name": "stdout",
     "output_type": "stream",
     "text": [
      "{'activation': 'logistic', 'hidden_layer_sizes': (40,), 'solver': 'adam'}\n"
     ]
    }
   ],
   "source": [
    "print(gs.best_params_)"
   ]
  },
  {
   "cell_type": "markdown",
   "id": "1038d1bd",
   "metadata": {},
   "source": [
    "### Acurácia"
   ]
  },
  {
   "cell_type": "code",
   "execution_count": 7,
   "id": "2e902576",
   "metadata": {},
   "outputs": [
    {
     "name": "stdout",
     "output_type": "stream",
     "text": [
      "Accuracy:  1.0\n"
     ]
    }
   ],
   "source": [
    "y_pred = gs.predict(X)\n",
    "        \n",
    "acc = accuracy_score(y_pred, y)\n",
    "print('Accuracy: ', acc)"
   ]
  },
  {
   "cell_type": "markdown",
   "id": "3542878b",
   "metadata": {},
   "source": [
    "### Matriz de confusão"
   ]
  },
  {
   "cell_type": "code",
   "execution_count": 8,
   "id": "d73fb0a9",
   "metadata": {},
   "outputs": [
    {
     "data": {
      "image/png": "[encoded data removed]",
      "text/plain": [
       "<Figure size 640x480 with 1 Axes>"
      ]
     },
     "metadata": {},
     "output_type": "display_data"
    }
   ],
   "source": [
    "# Plot the confusion matrix.\n",
    "numberOfClasses = 10\n",
    "mat = confusion_matrix(y, y_pred)\n",
    "sns.heatmap(mat.T, square=True, annot=True, fmt='d', cbar=False, xticklabels=range(numberOfClasses), yticklabels=range(numberOfClasses), cmap=\"Blues\")\n",
    "plt.xlabel('true label')\n",
    "plt.ylabel('predicted label')\n",
    "plt.show()"
   ]
  }
 ],
 "metadata": {
  "kernelspec": {
   "display_name": "Python 3 (ipykernel)",
   "language": "python",
   "name": "python3"
  },
  "language_info": {
   "codemirror_mode": {
    "name": "ipython",
    "version": 3
   },
   "file_extension": ".py",
   "mimetype": "text/x-python",
   "name": "python",
   "nbconvert_exporter": "python",
   "pygments_lexer": "ipython3",
   "version": "3.10.9"
  }
 },
 "nbformat": 4,
 "nbformat_minor": 5
}
