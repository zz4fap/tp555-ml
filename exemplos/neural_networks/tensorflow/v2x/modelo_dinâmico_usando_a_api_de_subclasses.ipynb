{
 "cells": [
  {
   "cell_type": "code",
   "execution_count": 1,
   "id": "b6bf5632",
   "metadata": {},
   "outputs": [],
   "source": [
    "import numpy as np\n",
    "import tensorflow as tf\n",
    "from tensorflow import keras\n",
    "import matplotlib.pyplot as plt\n",
    "import pandas as pd\n",
    "\n",
    "from sklearn.datasets import fetch_california_housing\n",
    "from sklearn.model_selection import train_test_split\n",
    "from sklearn.preprocessing import StandardScaler"
   ]
  },
  {
   "cell_type": "code",
   "execution_count": 2,
   "id": "bd7f7215",
   "metadata": {},
   "outputs": [],
   "source": [
    "# to make this notebook's output stable across runs\n",
    "np.random.seed(42)\n",
    "tf.random.set_seed(42)"
   ]
  },
  {
   "cell_type": "markdown",
   "id": "6580d3f0",
   "metadata": {},
   "source": [
    "### Herdando da classe keras.models.Model.\n",
    "\n",
    "Neste exemplo iremos definir e criar uma instância da classe `WideAndDeepModel`, que nos dá um modelo equivalente ao que acabamos de construir com a API Funcional. \n",
    "\n",
    "Depois de instanciado um objeto desta classe, podemos então compilá-lo, avaliá-lo e usá-lo para fazer previsões, exatamente como acabamos de fazer."
   ]
  },
  {
   "cell_type": "markdown",
   "id": "a60804a6",
   "metadata": {},
   "source": [
    "### Carregando o conjunto de dados para regressão. \n",
    "\n",
    "+ Vamos usar o conjunto de dados habitacional da Califórnia e criar um regressor com uma rede neural.\n",
    "\n",
    "+ Depois de carregar os dados, dividimos em um conjunto de treinamento, um conjunto de validação e um conjunto de teste, e padronizamos todos os atributos."
   ]
  },
  {
   "cell_type": "code",
   "execution_count": 3,
   "id": "3cdf138a",
   "metadata": {},
   "outputs": [],
   "source": [
    "housing = fetch_california_housing()\n",
    "\n",
    "X_train_full, X_test, y_train_full, y_test = train_test_split(housing.data, housing.target, random_state=42)\n",
    "X_train, X_valid, y_train, y_valid = train_test_split(X_train_full, y_train_full, random_state=42)\n",
    "\n",
    "scaler = StandardScaler()\n",
    "X_train = scaler.fit_transform(X_train)\n",
    "X_valid = scaler.transform(X_valid)\n",
    "X_test = scaler.transform(X_test)"
   ]
  },
  {
   "cell_type": "markdown",
   "id": "2d926798",
   "metadata": {},
   "source": [
    "### Definição da classe `WideAndDeepModel`."
   ]
  },
  {
   "cell_type": "code",
   "execution_count": 4,
   "id": "4beeb084",
   "metadata": {},
   "outputs": [],
   "source": [
    "class WideAndDeepModel(keras.models.Model):\n",
    "    def __init__(self, units=30, activation=\"relu\", **kwargs):\n",
    "        super().__init__(**kwargs) # handles standard args (e.g., name)\n",
    "        self.hidden1 = keras.layers.Dense(units, activation=activation)\n",
    "        self.hidden2 = keras.layers.Dense(units, activation=activation)\n",
    "        self.main_output = keras.layers.Dense(1)\n",
    "        self.aux_output = keras.layers.Dense(1)\n",
    "        \n",
    "    def call(self, inputs):\n",
    "        input_A, input_B = inputs\n",
    "        hidden1 = self.hidden1(input_B)\n",
    "        hidden2 = self.hidden2(hidden1)\n",
    "        concat = keras.layers.concatenate([input_A, hidden2])\n",
    "        main_output = self.main_output(concat, name=\"main_output\")\n",
    "        aux_output = self.aux_output(hidden2, name=\"aux_output\")\n",
    "        return main_output, aux_output"
   ]
  },
  {
   "cell_type": "markdown",
   "id": "a686ff48",
   "metadata": {},
   "source": [
    "### Instanciando um objeto da classe `WideAndDeepModel`."
   ]
  },
  {
   "cell_type": "code",
   "execution_count": 5,
   "id": "05666f61",
   "metadata": {},
   "outputs": [],
   "source": [
    "model = WideAndDeepModel()"
   ]
  },
  {
   "cell_type": "markdown",
   "id": "76e9dce9",
   "metadata": {},
   "source": [
    "### Compilando o modelo.\n",
    "\n",
    "+ A mesma função de perda é usada para ambas as saídas."
   ]
  },
  {
   "cell_type": "code",
   "execution_count": 6,
   "id": "6d668da5",
   "metadata": {},
   "outputs": [],
   "source": [
    "model.compile(loss=\"mse\", loss_weights=[0.9, 0.1], optimizer=keras.optimizers.SGD(learning_rate=1e-3))"
   ]
  },
  {
   "cell_type": "markdown",
   "id": "73c8d5e2",
   "metadata": {},
   "source": [
    "### Separando os atributos e treinando o modelo."
   ]
  },
  {
   "cell_type": "code",
   "execution_count": 7,
   "id": "ad6b3d0c",
   "metadata": {},
   "outputs": [
    {
     "name": "stdout",
     "output_type": "stream",
     "text": [
      "Epoch 1/10\n",
      "363/363 [==============================] - 7s 11ms/step - loss: 2.1365 - output_1_loss: 1.9196 - output_2_loss: 4.0890 - val_loss: 1.6233 - val_output_1_loss: 0.8468 - val_output_2_loss: 8.6117\n",
      "Epoch 2/10\n",
      "363/363 [==============================] - 3s 7ms/step - loss: 0.8905 - output_1_loss: 0.6969 - output_2_loss: 2.6326 - val_loss: 1.5163 - val_output_1_loss: 0.6836 - val_output_2_loss: 9.0109\n",
      "Epoch 3/10\n",
      "363/363 [==============================] - 4s 11ms/step - loss: 0.7429 - output_1_loss: 0.6088 - output_2_loss: 1.9499 - val_loss: 1.4639 - val_output_1_loss: 0.6229 - val_output_2_loss: 9.0326\n",
      "Epoch 4/10\n",
      "363/363 [==============================] - 4s 12ms/step - loss: 0.6771 - output_1_loss: 0.5691 - output_2_loss: 1.6485 - val_loss: 1.3388 - val_output_1_loss: 0.5481 - val_output_2_loss: 8.4552\n",
      "Epoch 5/10\n",
      "363/363 [==============================] - 4s 11ms/step - loss: 0.6381 - output_1_loss: 0.5434 - output_2_loss: 1.4911 - val_loss: 1.2177 - val_output_1_loss: 0.5194 - val_output_2_loss: 7.5030\n",
      "Epoch 6/10\n",
      "363/363 [==============================] - 3s 8ms/step - loss: 0.6079 - output_1_loss: 0.5207 - output_2_loss: 1.3923 - val_loss: 1.0935 - val_output_1_loss: 0.5106 - val_output_2_loss: 6.3396\n",
      "Epoch 7/10\n",
      "363/363 [==============================] - 3s 9ms/step - loss: 0.5853 - output_1_loss: 0.5040 - output_2_loss: 1.3175 - val_loss: 0.9918 - val_output_1_loss: 0.5115 - val_output_2_loss: 5.3151\n",
      "Epoch 8/10\n",
      "363/363 [==============================] - 3s 9ms/step - loss: 0.5666 - output_1_loss: 0.4898 - output_2_loss: 1.2572 - val_loss: 0.8733 - val_output_1_loss: 0.4733 - val_output_2_loss: 4.4740\n",
      "Epoch 9/10\n",
      "363/363 [==============================] - 6s 16ms/step - loss: 0.5504 - output_1_loss: 0.4771 - output_2_loss: 1.2101 - val_loss: 0.7832 - val_output_1_loss: 0.4555 - val_output_2_loss: 3.7323\n",
      "Epoch 10/10\n",
      "363/363 [==============================] - 3s 8ms/step - loss: 0.5373 - output_1_loss: 0.4671 - output_2_loss: 1.1695 - val_loss: 0.7170 - val_output_1_loss: 0.4604 - val_output_2_loss: 3.0262\n"
     ]
    }
   ],
   "source": [
    "# Separando os atributos.\n",
    "X_train_A, X_train_B = X_train[:, :5], X_train[:, 2:]\n",
    "X_valid_A, X_valid_B = X_valid[:, :5], X_valid[:, 2:]\n",
    "X_test_A, X_test_B = X_test[:, :5], X_test[:, 2:]\n",
    "\n",
    "# Treinando o modelo.\n",
    "history = model.fit((X_train_A, X_train_B), \n",
    "                    (y_train, y_train), \n",
    "                    epochs=20,\n",
    "                    validation_data=((X_valid_A, X_valid_B), (y_valid, y_valid))\n",
    "                   )"
   ]
  },
  {
   "cell_type": "markdown",
   "id": "e40cdf06",
   "metadata": {},
   "source": [
    "### Avaliando o modelo."
   ]
  },
  {
   "cell_type": "code",
   "execution_count": 8,
   "id": "35d173f5",
   "metadata": {},
   "outputs": [
    {
     "name": "stdout",
     "output_type": "stream",
     "text": [
      "162/162 [==============================] - 3s 15ms/step - loss: 0.5279 - output_1_loss: 0.4605 - output_2_loss: 1.1352\n"
     ]
    }
   ],
   "source": [
    "total_loss, main_loss, aux_loss = model.evaluate((X_test_A, X_test_B), (y_test, y_test))"
   ]
  },
  {
   "cell_type": "markdown",
   "id": "a4af3ff4",
   "metadata": {},
   "source": [
    "### Relizando predições com o modelo."
   ]
  },
  {
   "cell_type": "code",
   "execution_count": 9,
   "id": "50cd088f",
   "metadata": {},
   "outputs": [
    {
     "name": "stdout",
     "output_type": "stream",
     "text": [
      "1/1 [==============================] - 2s 2s/step\n"
     ]
    }
   ],
   "source": [
    "X_new_A, X_new_B = X_test_A[:3], X_test_B[:3]\n",
    "\n",
    "y_pred_main, y_pred_aux = model.predict([X_new_A, X_new_B])"
   ]
  },
  {
   "cell_type": "code",
   "execution_count": null,
   "id": "bef6b5e5",
   "metadata": {},
   "outputs": [],
   "source": []
  }
 ],
 "metadata": {
  "kernelspec": {
   "display_name": "Python 3 (ipykernel)",
   "language": "python",
   "name": "python3"
  },
  "language_info": {
   "codemirror_mode": {
    "name": "ipython",
    "version": 3
   },
   "file_extension": ".py",
   "mimetype": "text/x-python",
   "name": "python",
   "nbconvert_exporter": "python",
   "pygments_lexer": "ipython3",
   "version": "3.9.7"
  }
 },
 "nbformat": 4,
 "nbformat_minor": 5
}
