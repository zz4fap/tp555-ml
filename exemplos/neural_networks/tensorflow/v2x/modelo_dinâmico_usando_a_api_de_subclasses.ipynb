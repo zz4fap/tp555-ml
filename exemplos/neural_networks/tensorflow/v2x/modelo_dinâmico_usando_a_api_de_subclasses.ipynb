{
 "cells": [
  {
   "cell_type": "code",
   "execution_count": 1,
   "id": "9ef341f3",
   "metadata": {},
   "outputs": [],
   "source": [
    "import numpy as np\n",
    "import tensorflow as tf\n",
    "from tensorflow import keras\n",
    "import matplotlib.pyplot as plt\n",
    "import pandas as pd\n",
    "\n",
    "from sklearn.datasets import fetch_california_housing\n",
    "from sklearn.model_selection import train_test_split\n",
    "from sklearn.preprocessing import StandardScaler"
   ]
  },
  {
   "cell_type": "code",
   "execution_count": 2,
   "id": "30a12281",
   "metadata": {},
   "outputs": [],
   "source": [
    "# to make this notebook's output stable across runs\n",
    "np.random.seed(42)\n",
    "tf.random.set_seed(42)"
   ]
  },
  {
   "cell_type": "markdown",
   "id": "8298d3fc",
   "metadata": {},
   "source": [
    "### Herdando da classe keras.models.Model.\n",
    "\n",
    "Neste exemplo iremos definir e criar uma instância da classe `WideAndDeepModel`, que nos dá um modelo equivalente ao que construímos com a API Funcional (figura abaixo). \n",
    "\n",
    "<img src=\"../../../../figures/rna_com_multiplas_saidas.png\" width=\"300px\">\n",
    "\n",
    "Depois de instanciado um objeto desta classe, podemos então compilá-lo, avaliá-lo e usá-lo para fazer predições, exatamente como acabamos de fazer com o modelo criado com a API funcional."
   ]
  },
  {
   "cell_type": "markdown",
   "id": "57923de9",
   "metadata": {},
   "source": [
    "### Carregando o conjunto de dados para regressão. \n",
    "\n",
    "+ Vamos usar o conjunto de dados habitacional da Califórnia e criar um regressor com uma rede neural.\n",
    "\n",
    "\n",
    "+ Depois de carregar os dados, dividimos em um conjunto de treinamento, um conjunto de validação e um conjunto de teste, e padronizamos todos os atributos."
   ]
  },
  {
   "cell_type": "code",
   "execution_count": 3,
   "id": "c4818a77",
   "metadata": {},
   "outputs": [],
   "source": [
    "# Baixa a base de dados.\n",
    "housing = fetch_california_housing()\n",
    "\n",
    "# Divide o conjunto total de exemplos em conjuntos de treinamento e teste.\n",
    "X_train_full, X_test, y_train_full, y_test = train_test_split(housing.data, housing.target, random_state=42)\n",
    "\n",
    "# Divide o conjunto de treinamento em conjuntos de treinamento (menor) e validação.\n",
    "X_train, X_valid, y_train, y_valid = train_test_split(X_train_full, y_train_full, random_state=42)\n",
    "\n",
    "# Aplica padronização às matrizes de atributos.\n",
    "scaler = StandardScaler()\n",
    "X_train = scaler.fit_transform(X_train)\n",
    "X_valid = scaler.transform(X_valid)\n",
    "X_test = scaler.transform(X_test)"
   ]
  },
  {
   "cell_type": "markdown",
   "id": "558a61a4",
   "metadata": {},
   "source": [
    "### Definição da classe `WideAndDeepModel`.\n",
    "\n",
    "+ A classe `WideAndDeepModel` herda de `keras.models.Model`.\n",
    "+ No construtor, criamos todas as camadas necessárias.\n",
    "+ No método `call`, realizamos a conexão das várias camadas.\n",
    "\n",
    "\n",
    "**OSB**.: Este exemplo se parece muito com o que utilizou a **API funcional**, exceto que **não é necessário instanciar as entradas** (objetos da classe `Input`), apenas usamos o parâmetro `inputs` passado para o método `call()` e separamos a criação das camadas no construtor (`__init__`) de seu uso no método `call()`."
   ]
  },
  {
   "cell_type": "code",
   "execution_count": 4,
   "id": "7bafe5df",
   "metadata": {},
   "outputs": [],
   "source": [
    "class WideAndDeepModel(keras.models.Model):\n",
    "    \n",
    "    def __init__(self, units=30, activation=\"relu\", **kwargs):\n",
    "        super().__init__(**kwargs) # lida com parâmetros padrão como, por exemplo, name.\n",
    "        self.hidden1 = keras.layers.Dense(units, activation=activation, name=\"main_output\")\n",
    "        self.hidden2 = keras.layers.Dense(units, activation=activation, name=\"aux_output\")\n",
    "        self.main_output = keras.layers.Dense(1)\n",
    "        self.aux_output = keras.layers.Dense(1)\n",
    "        \n",
    "    def call(self, inputs):\n",
    "        input_A, input_B = inputs\n",
    "        hidden1 = self.hidden1(input_B)\n",
    "        hidden2 = self.hidden2(hidden1)\n",
    "        concat = keras.layers.concatenate([input_A, hidden2])\n",
    "        main_output = self.main_output(concat)\n",
    "        aux_output = self.aux_output(hidden2)\n",
    "        return main_output, aux_output"
   ]
  },
  {
   "cell_type": "markdown",
   "id": "1ac1ffab",
   "metadata": {},
   "source": [
    "### Instanciando um objeto da classe `WideAndDeepModel`."
   ]
  },
  {
   "cell_type": "code",
   "execution_count": 5,
   "id": "50d43ab0",
   "metadata": {},
   "outputs": [],
   "source": [
    "model = WideAndDeepModel()"
   ]
  },
  {
   "cell_type": "markdown",
   "id": "6e621f65",
   "metadata": {},
   "source": [
    "### Compilando o modelo.\n",
    "\n",
    "**OBS**.:\n",
    "\n",
    "+ A mesma função de perda é usada para ambas as saídas.\n",
    "+ Pesos diferentes para cada função de custo.\n",
    "+ Instanciamos um objeto da classe SGD para que possamos alterar o valor do passo de aprendizagem."
   ]
  },
  {
   "cell_type": "code",
   "execution_count": 6,
   "id": "f879627d",
   "metadata": {},
   "outputs": [],
   "source": [
    "model.compile(loss=\"mse\", \n",
    "              loss_weights=[0.9, 0.1], \n",
    "              optimizer=keras.optimizers.SGD(learning_rate=1e-3)\n",
    "             )"
   ]
  },
  {
   "cell_type": "markdown",
   "id": "dedd7e3b",
   "metadata": {},
   "source": [
    "### Separando os atributos e treinando o modelo.\n",
    "\n",
    "+ As matrizes de atributos A contém os atributos de 0 à 4 e as matrizes de atributos B, os atributos de 2 à 7."
   ]
  },
  {
   "cell_type": "code",
   "execution_count": 7,
   "id": "a1a83d11",
   "metadata": {},
   "outputs": [
    {
     "name": "stdout",
     "output_type": "stream",
     "text": [
      "Epoch 1/20\n",
      "363/363 [==============================] - 3s 5ms/step - loss: 2.1365 - output_1_loss: 1.9196 - output_2_loss: 4.0890 - val_loss: 1.6233 - val_output_1_loss: 0.8468 - val_output_2_loss: 8.6117\n",
      "Epoch 2/20\n",
      "363/363 [==============================] - 1s 3ms/step - loss: 0.8905 - output_1_loss: 0.6969 - output_2_loss: 2.6326 - val_loss: 1.5163 - val_output_1_loss: 0.6836 - val_output_2_loss: 9.0109\n",
      "Epoch 3/20\n",
      "363/363 [==============================] - 1s 3ms/step - loss: 0.7429 - output_1_loss: 0.6088 - output_2_loss: 1.9499 - val_loss: 1.4639 - val_output_1_loss: 0.6229 - val_output_2_loss: 9.0326\n",
      "Epoch 4/20\n",
      "363/363 [==============================] - 1s 3ms/step - loss: 0.6771 - output_1_loss: 0.5691 - output_2_loss: 1.6485 - val_loss: 1.3388 - val_output_1_loss: 0.5481 - val_output_2_loss: 8.4552\n",
      "Epoch 5/20\n",
      "363/363 [==============================] - 1s 3ms/step - loss: 0.6381 - output_1_loss: 0.5434 - output_2_loss: 1.4911 - val_loss: 1.2177 - val_output_1_loss: 0.5194 - val_output_2_loss: 7.5030\n",
      "Epoch 6/20\n",
      "363/363 [==============================] - 1s 4ms/step - loss: 0.6079 - output_1_loss: 0.5207 - output_2_loss: 1.3923 - val_loss: 1.0935 - val_output_1_loss: 0.5106 - val_output_2_loss: 6.3396\n",
      "Epoch 7/20\n",
      "363/363 [==============================] - 1s 4ms/step - loss: 0.5853 - output_1_loss: 0.5040 - output_2_loss: 1.3175 - val_loss: 0.9918 - val_output_1_loss: 0.5115 - val_output_2_loss: 5.3151\n",
      "Epoch 8/20\n",
      "363/363 [==============================] - 1s 4ms/step - loss: 0.5666 - output_1_loss: 0.4898 - output_2_loss: 1.2572 - val_loss: 0.8733 - val_output_1_loss: 0.4733 - val_output_2_loss: 4.4740\n",
      "Epoch 9/20\n",
      "363/363 [==============================] - 1s 4ms/step - loss: 0.5504 - output_1_loss: 0.4771 - output_2_loss: 1.2101 - val_loss: 0.7832 - val_output_1_loss: 0.4555 - val_output_2_loss: 3.7323\n",
      "Epoch 10/20\n",
      "363/363 [==============================] - 1s 4ms/step - loss: 0.5373 - output_1_loss: 0.4671 - output_2_loss: 1.1695 - val_loss: 0.7170 - val_output_1_loss: 0.4604 - val_output_2_loss: 3.0262\n",
      "Epoch 11/20\n",
      "363/363 [==============================] - 2s 4ms/step - loss: 0.5266 - output_1_loss: 0.4591 - output_2_loss: 1.1344 - val_loss: 0.6510 - val_output_1_loss: 0.4293 - val_output_2_loss: 2.6468\n",
      "Epoch 12/20\n",
      "363/363 [==============================] - 1s 4ms/step - loss: 0.5173 - output_1_loss: 0.4520 - output_2_loss: 1.1048 - val_loss: 0.6051 - val_output_1_loss: 0.4310 - val_output_2_loss: 2.1722\n",
      "Epoch 13/20\n",
      "363/363 [==============================] - 2s 4ms/step - loss: 0.5095 - output_1_loss: 0.4465 - output_2_loss: 1.0765 - val_loss: 0.5644 - val_output_1_loss: 0.4161 - val_output_2_loss: 1.8992\n",
      "Epoch 14/20\n",
      "363/363 [==============================] - 1s 4ms/step - loss: 0.5027 - output_1_loss: 0.4417 - output_2_loss: 1.0511 - val_loss: 0.5354 - val_output_1_loss: 0.4119 - val_output_2_loss: 1.6466\n",
      "Epoch 15/20\n",
      "363/363 [==============================] - 1s 4ms/step - loss: 0.4967 - output_1_loss: 0.4376 - output_2_loss: 1.0280 - val_loss: 0.5124 - val_output_1_loss: 0.4047 - val_output_2_loss: 1.4812\n",
      "Epoch 16/20\n",
      "363/363 [==============================] - 1s 4ms/step - loss: 0.4916 - output_1_loss: 0.4343 - output_2_loss: 1.0070 - val_loss: 0.4934 - val_output_1_loss: 0.4034 - val_output_2_loss: 1.3035\n",
      "Epoch 17/20\n",
      "363/363 [==============================] - 2s 4ms/step - loss: 0.4867 - output_1_loss: 0.4311 - output_2_loss: 0.9872 - val_loss: 0.4801 - val_output_1_loss: 0.3984 - val_output_2_loss: 1.2150\n",
      "Epoch 18/20\n",
      "363/363 [==============================] - 1s 4ms/step - loss: 0.4829 - output_1_loss: 0.4289 - output_2_loss: 0.9686 - val_loss: 0.4694 - val_output_1_loss: 0.3962 - val_output_2_loss: 1.1279\n",
      "Epoch 19/20\n",
      "363/363 [==============================] - 1s 4ms/step - loss: 0.4785 - output_1_loss: 0.4260 - output_2_loss: 0.9510 - val_loss: 0.4580 - val_output_1_loss: 0.3936 - val_output_2_loss: 1.0372\n",
      "Epoch 20/20\n",
      "363/363 [==============================] - 1s 4ms/step - loss: 0.4756 - output_1_loss: 0.4246 - output_2_loss: 0.9344 - val_loss: 0.4655 - val_output_1_loss: 0.4048 - val_output_2_loss: 1.0118\n"
     ]
    }
   ],
   "source": [
    "# Separando os atributos.\n",
    "X_train_A, X_train_B = X_train[:, :5], X_train[:, 2:]\n",
    "X_valid_A, X_valid_B = X_valid[:, :5], X_valid[:, 2:]\n",
    "X_test_A, X_test_B   = X_test[:, :5],  X_test[:, 2:]\n",
    "\n",
    "# Treinando o modelo.\n",
    "history = model.fit([X_train_A, X_train_B], \n",
    "                    [y_train, y_train], \n",
    "                    epochs=20,\n",
    "                    validation_data=([X_valid_A, X_valid_B], [y_valid, y_valid])\n",
    "                   )"
   ]
  },
  {
   "attachments": {},
   "cell_type": "markdown",
   "id": "d4c1ea68",
   "metadata": {},
   "source": [
    "### Resumo do modelo\n",
    "\n",
    "O método `summary()` só funciona após termos passado dados através do modelo.\n",
    "\n",
    "\n",
    "Apenas assim o framework consegue inspecionar o modelo e definir as entradas e saídas, mas mesmo assim, não temos informação sobre as dimensões das saídas de cada camada."
   ]
  },
  {
   "cell_type": "code",
   "execution_count": 8,
   "id": "b00b8f0b",
   "metadata": {},
   "outputs": [
    {
     "name": "stdout",
     "output_type": "stream",
     "text": [
      "Model: \"wide_and_deep_model\"\n",
      "_________________________________________________________________\n",
      " Layer (type)                Output Shape              Param #   \n",
      "=================================================================\n",
      " main_output (Dense)         multiple                  210       \n",
      "                                                                 \n",
      " aux_output (Dense)          multiple                  930       \n",
      "                                                                 \n",
      " dense (Dense)               multiple                  36        \n",
      "                                                                 \n",
      " dense_1 (Dense)             multiple                  31        \n",
      "                                                                 \n",
      "=================================================================\n",
      "Total params: 1,207\n",
      "Trainable params: 1,207\n",
      "Non-trainable params: 0\n",
      "_________________________________________________________________\n"
     ]
    }
   ],
   "source": [
    "model.summary()"
   ]
  },
  {
   "cell_type": "markdown",
   "id": "51273832",
   "metadata": {},
   "source": [
    "### Histórico de perda do modelo."
   ]
  },
  {
   "cell_type": "code",
   "execution_count": 9,
   "id": "8a216f11",
   "metadata": {},
   "outputs": [
    {
     "data": {
      "image/png": "[encoded data removed]",
      "text/plain": [
       "<Figure size 576x360 with 1 Axes>"
      ]
     },
     "metadata": {
      "needs_background": "light"
     },
     "output_type": "display_data"
    }
   ],
   "source": [
    "pd.DataFrame(history.history).plot(figsize=(8, 5))\n",
    "plt.grid(True)\n",
    "plt.xlabel('Iterations', fontsize=14)\n",
    "plt.ylabel('Loss', fontsize=14)\n",
    "plt.show()"
   ]
  },
  {
   "cell_type": "markdown",
   "id": "4c4d9cd2",
   "metadata": {},
   "source": [
    "### Avaliando o modelo."
   ]
  },
  {
   "cell_type": "code",
   "execution_count": 10,
   "id": "ab39ffff",
   "metadata": {},
   "outputs": [
    {
     "name": "stdout",
     "output_type": "stream",
     "text": [
      "162/162 [==============================] - 0s 3ms/step - loss: 0.4668 - output_1_loss: 0.4178 - output_2_loss: 0.9082\n"
     ]
    }
   ],
   "source": [
    "total_loss, main_loss, aux_loss = model.evaluate((X_test_A, X_test_B), (y_test, y_test))"
   ]
  },
  {
   "cell_type": "markdown",
   "id": "cec5bece",
   "metadata": {},
   "source": [
    "### Realizando predições com o modelo.\n",
    "\n",
    "Da mesma forma, o método `predict()` **retornará previsões para cada saída**.\n",
    "\n",
    "Testamos com os 3 primeiros exemplos do conjunto de teste."
   ]
  },
  {
   "cell_type": "code",
   "execution_count": 11,
   "id": "d8f5ab2c",
   "metadata": {},
   "outputs": [
    {
     "name": "stdout",
     "output_type": "stream",
     "text": [
      "1/1 [==============================] - 0s 195ms/step\n"
     ]
    }
   ],
   "source": [
    "X_new_A, X_new_B = X_test_A[:3], X_test_B[:3]\n",
    "\n",
    "y_pred_main, y_pred_aux = model.predict([X_new_A, X_new_B])"
   ]
  },
  {
   "cell_type": "code",
   "execution_count": 12,
   "id": "bcc3be35",
   "metadata": {},
   "outputs": [
    {
     "name": "stdout",
     "output_type": "stream",
     "text": [
      "Actual: 0.477 - Predicted main: 0.268 - Predicted aux: 0.959\n",
      "Actual: 0.458 - Predicted main: 1.981 - Predicted aux: 1.924\n",
      "Actual: 5.000 - Predicted main: 3.340 - Predicted aux: 2.515\n"
     ]
    }
   ],
   "source": [
    "for i in range(len(y_pred_main)):\n",
    "    print('Actual: %1.3f - Predicted main: %1.3f - Predicted aux: %1.3f' % (y_test[i], y_pred_main[i], y_pred_aux[i]))"
   ]
  },
  {
   "cell_type": "code",
   "execution_count": null,
   "id": "bb14099c",
   "metadata": {},
   "outputs": [],
   "source": []
  }
 ],
 "metadata": {
  "kernelspec": {
   "display_name": "Python 3 (ipykernel)",
   "language": "python",
   "name": "python3"
  },
  "language_info": {
   "codemirror_mode": {
    "name": "ipython",
    "version": 3
   },
   "file_extension": ".py",
   "mimetype": "text/x-python",
   "name": "python",
   "nbconvert_exporter": "python",
   "pygments_lexer": "ipython3",
   "version": "3.9.7"
  }
 },
 "nbformat": 4,
 "nbformat_minor": 5
}
