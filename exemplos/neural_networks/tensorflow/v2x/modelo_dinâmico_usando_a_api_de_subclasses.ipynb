{
  "cells": [
    {
      "cell_type": "code",
      "execution_count": 1,
      "id": "9ef341f3",
      "metadata": {
        "id": "9ef341f3"
      },
      "outputs": [],
      "source": [
        "import numpy as np\n",
        "import tensorflow as tf\n",
        "from tensorflow import keras\n",
        "import matplotlib.pyplot as plt\n",
        "import pandas as pd\n",
        "\n",
        "from sklearn.datasets import fetch_california_housing\n",
        "from sklearn.model_selection import train_test_split\n",
        "from sklearn.preprocessing import StandardScaler"
      ]
    },
    {
      "cell_type": "code",
      "execution_count": 2,
      "id": "30a12281",
      "metadata": {
        "id": "30a12281"
      },
      "outputs": [],
      "source": [
        "# to make this notebook's output stable across runs\n",
        "np.random.seed(42)\n",
        "tf.random.set_seed(42)"
      ]
    },
    {
      "cell_type": "markdown",
      "id": "8298d3fc",
      "metadata": {
        "id": "8298d3fc"
      },
      "source": [
        "### Herdando da classe keras.models.Model.\n",
        "\n",
        "Neste exemplo iremos definir e criar uma instância da classe `WideAndDeepModel`, que nos dá um modelo equivalente ao que construímos com a API Funcional (figura abaixo).\n",
        "\n",
        "<img src=\"https://github.com/zz4fap/tp555-ml/blob/main/figures/rna_com_multiplas_saidas.png?raw=1\" width=\"300px\">\n",
        "\n",
        "Depois de instanciado um objeto desta classe, podemos então compilá-lo, avaliá-lo e usá-lo para fazer predições, exatamente como acabamos de fazer com o modelo criado com a API funcional."
      ]
    },
    {
      "cell_type": "markdown",
      "id": "57923de9",
      "metadata": {
        "id": "57923de9"
      },
      "source": [
        "### Carregando o conjunto de dados para regressão.\n",
        "\n",
        "+ Vamos usar o conjunto de dados habitacional da Califórnia e criar um regressor com uma rede neural.\n",
        "\n",
        "\n",
        "+ Depois de carregar os dados, dividimos em um conjunto de treinamento, um conjunto de validação e um conjunto de teste, e padronizamos todos os atributos."
      ]
    },
    {
      "cell_type": "code",
      "execution_count": 3,
      "id": "c4818a77",
      "metadata": {
        "id": "c4818a77"
      },
      "outputs": [],
      "source": [
        "# Baixa a base de dados.\n",
        "housing = fetch_california_housing()\n",
        "\n",
        "# Divide o conjunto total de exemplos em conjuntos de treinamento e teste.\n",
        "X_train_full, X_test, y_train_full, y_test = train_test_split(housing.data, housing.target, random_state=42)\n",
        "\n",
        "# Divide o conjunto de treinamento em conjuntos de treinamento (menor) e validação.\n",
        "X_train, X_valid, y_train, y_valid = train_test_split(X_train_full, y_train_full, random_state=42)\n",
        "\n",
        "# Aplica padronização às matrizes de atributos.\n",
        "scaler = StandardScaler()\n",
        "X_train = scaler.fit_transform(X_train)\n",
        "X_valid = scaler.transform(X_valid)\n",
        "X_test = scaler.transform(X_test)"
      ]
    },
    {
      "cell_type": "markdown",
      "id": "558a61a4",
      "metadata": {
        "id": "558a61a4"
      },
      "source": [
        "### Definição da classe `WideAndDeepModel`.\n",
        "\n",
        "+ A classe `WideAndDeepModel` herda de `keras.models.Model`.\n",
        "+ No construtor, criamos todas as camadas necessárias.\n",
        "+ No método `call`, realizamos a conexão das várias camadas.\n",
        "\n",
        "\n",
        "**OSB**.: Este exemplo se parece muito com o que utilizou a **API funcional**, exceto que **não é necessário instanciar as entradas** (objetos da classe `Input`), apenas usamos o parâmetro `inputs` passado para o método `call()` e separamos a criação das camadas no construtor (`__init__`) de seu uso no método `call()`."
      ]
    },
    {
      "cell_type": "code",
      "execution_count": 4,
      "id": "7bafe5df",
      "metadata": {
        "id": "7bafe5df"
      },
      "outputs": [],
      "source": [
        "class WideAndDeepModel(keras.models.Model):\n",
        "\n",
        "    def __init__(self, units=30, activation=\"relu\", **kwargs):\n",
        "        super().__init__(**kwargs) # lida com parâmetros padrão como, por exemplo, name.\n",
        "        self.hidden1 = keras.layers.Dense(units, activation=activation, name=\"hidden1\")\n",
        "        self.hidden2 = keras.layers.Dense(units, activation=activation, name=\"hidden2\")\n",
        "        self.main_output = keras.layers.Dense(1, name=\"main_output\")\n",
        "        self.aux_output = keras.layers.Dense(1, name=\"aux_output\")\n",
        "\n",
        "    def call(self, inputs):\n",
        "        input_A, input_B = inputs\n",
        "        hidden1 = self.hidden1(input_B)\n",
        "        hidden2 = self.hidden2(hidden1)\n",
        "        concat = keras.layers.concatenate([input_A, hidden2])\n",
        "        main_output = self.main_output(concat)\n",
        "        aux_output = self.aux_output(hidden2)\n",
        "        return main_output, aux_output"
      ]
    },
    {
      "cell_type": "markdown",
      "id": "1ac1ffab",
      "metadata": {
        "id": "1ac1ffab"
      },
      "source": [
        "### Instanciando um objeto da classe `WideAndDeepModel`."
      ]
    },
    {
      "cell_type": "code",
      "execution_count": 5,
      "id": "50d43ab0",
      "metadata": {
        "id": "50d43ab0"
      },
      "outputs": [],
      "source": [
        "model = WideAndDeepModel()"
      ]
    },
    {
      "cell_type": "markdown",
      "id": "6e621f65",
      "metadata": {
        "id": "6e621f65"
      },
      "source": [
        "### Compilando o modelo.\n",
        "\n",
        "**OBS**.:\n",
        "\n",
        "+ A mesma função de perda é usada para ambas as saídas.\n",
        "+ Pesos diferentes para cada função de custo.\n",
        "+ Instanciamos um objeto da classe SGD para que possamos alterar o valor do passo de aprendizagem."
      ]
    },
    {
      "cell_type": "code",
      "execution_count": 6,
      "id": "f879627d",
      "metadata": {
        "id": "f879627d"
      },
      "outputs": [],
      "source": [
        "model.compile(loss=(\"mse\", \"mse\"),\n",
        "              loss_weights=(0.9, 0.1),\n",
        "              optimizer=keras.optimizers.SGD(learning_rate=1e-3)\n",
        "             )"
      ]
    },
    {
      "cell_type": "markdown",
      "id": "dedd7e3b",
      "metadata": {
        "id": "dedd7e3b"
      },
      "source": [
        "### Separando os atributos e treinando o modelo.\n",
        "\n",
        "+ As matrizes de atributos A contém os atributos de 0 à 4 e as matrizes de atributos B, os atributos de 2 à 7."
      ]
    },
    {
      "cell_type": "code",
      "execution_count": 7,
      "id": "a1a83d11",
      "metadata": {
        "id": "a1a83d11",
        "outputId": "738c7ce9-ffd0-4b0e-d93e-79e9083279fd",
        "colab": {
          "base_uri": "https://localhost:8080/"
        }
      },
      "outputs": [
        {
          "output_type": "stream",
          "name": "stdout",
          "text": [
            "Epoch 1/20\n",
            "\u001b[1m363/363\u001b[0m \u001b[32m━━━━━━━━━━━━━━━━━━━━\u001b[0m\u001b[37m\u001b[0m \u001b[1m3s\u001b[0m 5ms/step - loss: 3.5681 - mse_loss: 0.6627 - val_loss: 1.3013 - val_mse_loss: 0.4754\n",
            "Epoch 2/20\n",
            "\u001b[1m363/363\u001b[0m \u001b[32m━━━━━━━━━━━━━━━━━━━━\u001b[0m\u001b[37m\u001b[0m \u001b[1m3s\u001b[0m 5ms/step - loss: 1.1797 - mse_loss: 0.4424 - val_loss: 0.9956 - val_mse_loss: 0.3725\n",
            "Epoch 3/20\n",
            "\u001b[1m363/363\u001b[0m \u001b[32m━━━━━━━━━━━━━━━━━━━━\u001b[0m\u001b[37m\u001b[0m \u001b[1m3s\u001b[0m 7ms/step - loss: 0.9310 - mse_loss: 0.2836 - val_loss: 0.9892 - val_mse_loss: 0.3790\n",
            "Epoch 4/20\n",
            "\u001b[1m363/363\u001b[0m \u001b[32m━━━━━━━━━━━━━━━━━━━━\u001b[0m\u001b[37m\u001b[0m \u001b[1m4s\u001b[0m 4ms/step - loss: 0.8115 - mse_loss: 0.2081 - val_loss: 0.9766 - val_mse_loss: 0.3933\n",
            "Epoch 5/20\n",
            "\u001b[1m363/363\u001b[0m \u001b[32m━━━━━━━━━━━━━━━━━━━━\u001b[0m\u001b[37m\u001b[0m \u001b[1m3s\u001b[0m 5ms/step - loss: 0.7437 - mse_loss: 0.1731 - val_loss: 0.9465 - val_mse_loss: 0.3900\n",
            "Epoch 6/20\n",
            "\u001b[1m363/363\u001b[0m \u001b[32m━━━━━━━━━━━━━━━━━━━━\u001b[0m\u001b[37m\u001b[0m \u001b[1m1s\u001b[0m 2ms/step - loss: 0.6983 - mse_loss: 0.1558 - val_loss: 0.8908 - val_mse_loss: 0.3713\n",
            "Epoch 7/20\n",
            "\u001b[1m363/363\u001b[0m \u001b[32m━━━━━━━━━━━━━━━━━━━━\u001b[0m\u001b[37m\u001b[0m \u001b[1m1s\u001b[0m 2ms/step - loss: 0.6619 - mse_loss: 0.1451 - val_loss: 0.8267 - val_mse_loss: 0.3436\n",
            "Epoch 8/20\n",
            "\u001b[1m363/363\u001b[0m \u001b[32m━━━━━━━━━━━━━━━━━━━━\u001b[0m\u001b[37m\u001b[0m \u001b[1m1s\u001b[0m 2ms/step - loss: 0.6318 - mse_loss: 0.1375 - val_loss: 0.7694 - val_mse_loss: 0.3094\n",
            "Epoch 9/20\n",
            "\u001b[1m363/363\u001b[0m \u001b[32m━━━━━━━━━━━━━━━━━━━━\u001b[0m\u001b[37m\u001b[0m \u001b[1m1s\u001b[0m 2ms/step - loss: 0.6086 - mse_loss: 0.1321 - val_loss: 0.7178 - val_mse_loss: 0.2760\n",
            "Epoch 10/20\n",
            "\u001b[1m363/363\u001b[0m \u001b[32m━━━━━━━━━━━━━━━━━━━━\u001b[0m\u001b[37m\u001b[0m \u001b[1m2s\u001b[0m 3ms/step - loss: 0.5899 - mse_loss: 0.1279 - val_loss: 0.6702 - val_mse_loss: 0.2443\n",
            "Epoch 11/20\n",
            "\u001b[1m363/363\u001b[0m \u001b[32m━━━━━━━━━━━━━━━━━━━━\u001b[0m\u001b[37m\u001b[0m \u001b[1m1s\u001b[0m 3ms/step - loss: 0.5739 - mse_loss: 0.1242 - val_loss: 0.6285 - val_mse_loss: 0.2162\n",
            "Epoch 12/20\n",
            "\u001b[1m363/363\u001b[0m \u001b[32m━━━━━━━━━━━━━━━━━━━━\u001b[0m\u001b[37m\u001b[0m \u001b[1m1s\u001b[0m 2ms/step - loss: 0.5602 - mse_loss: 0.1209 - val_loss: 0.5915 - val_mse_loss: 0.1938\n",
            "Epoch 13/20\n",
            "\u001b[1m363/363\u001b[0m \u001b[32m━━━━━━━━━━━━━━━━━━━━\u001b[0m\u001b[37m\u001b[0m \u001b[1m1s\u001b[0m 2ms/step - loss: 0.5483 - mse_loss: 0.1179 - val_loss: 0.5602 - val_mse_loss: 0.1748\n",
            "Epoch 14/20\n",
            "\u001b[1m363/363\u001b[0m \u001b[32m━━━━━━━━━━━━━━━━━━━━\u001b[0m\u001b[37m\u001b[0m \u001b[1m1s\u001b[0m 2ms/step - loss: 0.5380 - mse_loss: 0.1151 - val_loss: 0.5344 - val_mse_loss: 0.1581\n",
            "Epoch 15/20\n",
            "\u001b[1m363/363\u001b[0m \u001b[32m━━━━━━━━━━━━━━━━━━━━\u001b[0m\u001b[37m\u001b[0m \u001b[1m1s\u001b[0m 2ms/step - loss: 0.5290 - mse_loss: 0.1124 - val_loss: 0.5158 - val_mse_loss: 0.1465\n",
            "Epoch 16/20\n",
            "\u001b[1m363/363\u001b[0m \u001b[32m━━━━━━━━━━━━━━━━━━━━\u001b[0m\u001b[37m\u001b[0m \u001b[1m1s\u001b[0m 2ms/step - loss: 0.5210 - mse_loss: 0.1098 - val_loss: 0.5009 - val_mse_loss: 0.1367\n",
            "Epoch 17/20\n",
            "\u001b[1m363/363\u001b[0m \u001b[32m━━━━━━━━━━━━━━━━━━━━\u001b[0m\u001b[37m\u001b[0m \u001b[1m1s\u001b[0m 2ms/step - loss: 0.5140 - mse_loss: 0.1073 - val_loss: 0.4885 - val_mse_loss: 0.1282\n",
            "Epoch 18/20\n",
            "\u001b[1m363/363\u001b[0m \u001b[32m━━━━━━━━━━━━━━━━━━━━\u001b[0m\u001b[37m\u001b[0m \u001b[1m1s\u001b[0m 2ms/step - loss: 0.5077 - mse_loss: 0.1050 - val_loss: 0.4780 - val_mse_loss: 0.1206\n",
            "Epoch 19/20\n",
            "\u001b[1m363/363\u001b[0m \u001b[32m━━━━━━━━━━━━━━━━━━━━\u001b[0m\u001b[37m\u001b[0m \u001b[1m1s\u001b[0m 2ms/step - loss: 0.5020 - mse_loss: 0.1028 - val_loss: 0.4689 - val_mse_loss: 0.1140\n",
            "Epoch 20/20\n",
            "\u001b[1m363/363\u001b[0m \u001b[32m━━━━━━━━━━━━━━━━━━━━\u001b[0m\u001b[37m\u001b[0m \u001b[1m2s\u001b[0m 3ms/step - loss: 0.4968 - mse_loss: 0.1007 - val_loss: 0.4611 - val_mse_loss: 0.1083\n"
          ]
        }
      ],
      "source": [
        "# Separando os atributos.\n",
        "X_train_A, X_train_B = X_train[:, :5], X_train[:, 2:]\n",
        "X_valid_A, X_valid_B = X_valid[:, :5], X_valid[:, 2:]\n",
        "X_test_A, X_test_B   = X_test[:, :5],  X_test[:, 2:]\n",
        "\n",
        "# Treinando o modelo.\n",
        "history = model.fit((X_train_A, X_train_B),\n",
        "                    (y_train, y_train),\n",
        "                    epochs=20,\n",
        "                    validation_data=((X_valid_A, X_valid_B), (y_valid, y_valid))\n",
        "                   )"
      ]
    },
    {
      "cell_type": "markdown",
      "id": "d4c1ea68",
      "metadata": {
        "id": "d4c1ea68"
      },
      "source": [
        "### Resumo do modelo\n",
        "\n",
        "O método `summary()` só funciona após termos passado dados através do modelo.\n",
        "\n",
        "\n",
        "Apenas assim o framework consegue inspecionar o modelo e definir as entradas e saídas, mas mesmo assim, não temos informação sobre as dimensões das saídas de cada camada."
      ]
    },
    {
      "cell_type": "code",
      "execution_count": 8,
      "id": "b00b8f0b",
      "metadata": {
        "id": "b00b8f0b",
        "outputId": "0a899fe0-4a67-495c-ba64-fdd2560726ff",
        "colab": {
          "base_uri": "https://localhost:8080/",
          "height": 273
        }
      },
      "outputs": [
        {
          "output_type": "display_data",
          "data": {
            "text/plain": [
              "\u001b[1mModel: \"wide_and_deep_model\"\u001b[0m\n"
            ],
            "text/html": [
              "<pre style=\"white-space:pre;overflow-x:auto;line-height:normal;font-family:Menlo,'DejaVu Sans Mono',consolas,'Courier New',monospace\"><span style=\"font-weight: bold\">Model: \"wide_and_deep_model\"</span>\n",
              "</pre>\n"
            ]
          },
          "metadata": {}
        },
        {
          "output_type": "display_data",
          "data": {
            "text/plain": [
              "┏━━━━━━━━━━━━━━━━━━━━━━━━━━━━━━━━━━━━━━┳━━━━━━━━━━━━━━━━━━━━━━━━━━━━━┳━━━━━━━━━━━━━━━━━┓\n",
              "┃\u001b[1m \u001b[0m\u001b[1mLayer (type)                        \u001b[0m\u001b[1m \u001b[0m┃\u001b[1m \u001b[0m\u001b[1mOutput Shape               \u001b[0m\u001b[1m \u001b[0m┃\u001b[1m \u001b[0m\u001b[1m        Param #\u001b[0m\u001b[1m \u001b[0m┃\n",
              "┡━━━━━━━━━━━━━━━━━━━━━━━━━━━━━━━━━━━━━━╇━━━━━━━━━━━━━━━━━━━━━━━━━━━━━╇━━━━━━━━━━━━━━━━━┩\n",
              "│ hidden1 (\u001b[38;5;33mDense\u001b[0m)                      │ (\u001b[38;5;45mNone\u001b[0m, \u001b[38;5;34m30\u001b[0m)                  │             \u001b[38;5;34m210\u001b[0m │\n",
              "├──────────────────────────────────────┼─────────────────────────────┼─────────────────┤\n",
              "│ hidden2 (\u001b[38;5;33mDense\u001b[0m)                      │ (\u001b[38;5;45mNone\u001b[0m, \u001b[38;5;34m30\u001b[0m)                  │             \u001b[38;5;34m930\u001b[0m │\n",
              "├──────────────────────────────────────┼─────────────────────────────┼─────────────────┤\n",
              "│ main_output (\u001b[38;5;33mDense\u001b[0m)                  │ (\u001b[38;5;45mNone\u001b[0m, \u001b[38;5;34m1\u001b[0m)                   │              \u001b[38;5;34m36\u001b[0m │\n",
              "├──────────────────────────────────────┼─────────────────────────────┼─────────────────┤\n",
              "│ aux_output (\u001b[38;5;33mDense\u001b[0m)                   │ (\u001b[38;5;45mNone\u001b[0m, \u001b[38;5;34m1\u001b[0m)                   │              \u001b[38;5;34m31\u001b[0m │\n",
              "└──────────────────────────────────────┴─────────────────────────────┴─────────────────┘\n"
            ],
            "text/html": [
              "<pre style=\"white-space:pre;overflow-x:auto;line-height:normal;font-family:Menlo,'DejaVu Sans Mono',consolas,'Courier New',monospace\">┏━━━━━━━━━━━━━━━━━━━━━━━━━━━━━━━━━━━━━━┳━━━━━━━━━━━━━━━━━━━━━━━━━━━━━┳━━━━━━━━━━━━━━━━━┓\n",
              "┃<span style=\"font-weight: bold\"> Layer (type)                         </span>┃<span style=\"font-weight: bold\"> Output Shape                </span>┃<span style=\"font-weight: bold\">         Param # </span>┃\n",
              "┡━━━━━━━━━━━━━━━━━━━━━━━━━━━━━━━━━━━━━━╇━━━━━━━━━━━━━━━━━━━━━━━━━━━━━╇━━━━━━━━━━━━━━━━━┩\n",
              "│ hidden1 (<span style=\"color: #0087ff; text-decoration-color: #0087ff\">Dense</span>)                      │ (<span style=\"color: #00d7ff; text-decoration-color: #00d7ff\">None</span>, <span style=\"color: #00af00; text-decoration-color: #00af00\">30</span>)                  │             <span style=\"color: #00af00; text-decoration-color: #00af00\">210</span> │\n",
              "├──────────────────────────────────────┼─────────────────────────────┼─────────────────┤\n",
              "│ hidden2 (<span style=\"color: #0087ff; text-decoration-color: #0087ff\">Dense</span>)                      │ (<span style=\"color: #00d7ff; text-decoration-color: #00d7ff\">None</span>, <span style=\"color: #00af00; text-decoration-color: #00af00\">30</span>)                  │             <span style=\"color: #00af00; text-decoration-color: #00af00\">930</span> │\n",
              "├──────────────────────────────────────┼─────────────────────────────┼─────────────────┤\n",
              "│ main_output (<span style=\"color: #0087ff; text-decoration-color: #0087ff\">Dense</span>)                  │ (<span style=\"color: #00d7ff; text-decoration-color: #00d7ff\">None</span>, <span style=\"color: #00af00; text-decoration-color: #00af00\">1</span>)                   │              <span style=\"color: #00af00; text-decoration-color: #00af00\">36</span> │\n",
              "├──────────────────────────────────────┼─────────────────────────────┼─────────────────┤\n",
              "│ aux_output (<span style=\"color: #0087ff; text-decoration-color: #0087ff\">Dense</span>)                   │ (<span style=\"color: #00d7ff; text-decoration-color: #00d7ff\">None</span>, <span style=\"color: #00af00; text-decoration-color: #00af00\">1</span>)                   │              <span style=\"color: #00af00; text-decoration-color: #00af00\">31</span> │\n",
              "└──────────────────────────────────────┴─────────────────────────────┴─────────────────┘\n",
              "</pre>\n"
            ]
          },
          "metadata": {}
        },
        {
          "output_type": "display_data",
          "data": {
            "text/plain": [
              "\u001b[1m Total params: \u001b[0m\u001b[38;5;34m1,209\u001b[0m (4.73 KB)\n"
            ],
            "text/html": [
              "<pre style=\"white-space:pre;overflow-x:auto;line-height:normal;font-family:Menlo,'DejaVu Sans Mono',consolas,'Courier New',monospace\"><span style=\"font-weight: bold\"> Total params: </span><span style=\"color: #00af00; text-decoration-color: #00af00\">1,209</span> (4.73 KB)\n",
              "</pre>\n"
            ]
          },
          "metadata": {}
        },
        {
          "output_type": "display_data",
          "data": {
            "text/plain": [
              "\u001b[1m Trainable params: \u001b[0m\u001b[38;5;34m1,207\u001b[0m (4.71 KB)\n"
            ],
            "text/html": [
              "<pre style=\"white-space:pre;overflow-x:auto;line-height:normal;font-family:Menlo,'DejaVu Sans Mono',consolas,'Courier New',monospace\"><span style=\"font-weight: bold\"> Trainable params: </span><span style=\"color: #00af00; text-decoration-color: #00af00\">1,207</span> (4.71 KB)\n",
              "</pre>\n"
            ]
          },
          "metadata": {}
        },
        {
          "output_type": "display_data",
          "data": {
            "text/plain": [
              "\u001b[1m Non-trainable params: \u001b[0m\u001b[38;5;34m0\u001b[0m (0.00 B)\n"
            ],
            "text/html": [
              "<pre style=\"white-space:pre;overflow-x:auto;line-height:normal;font-family:Menlo,'DejaVu Sans Mono',consolas,'Courier New',monospace\"><span style=\"font-weight: bold\"> Non-trainable params: </span><span style=\"color: #00af00; text-decoration-color: #00af00\">0</span> (0.00 B)\n",
              "</pre>\n"
            ]
          },
          "metadata": {}
        },
        {
          "output_type": "display_data",
          "data": {
            "text/plain": [
              "\u001b[1m Optimizer params: \u001b[0m\u001b[38;5;34m2\u001b[0m (12.00 B)\n"
            ],
            "text/html": [
              "<pre style=\"white-space:pre;overflow-x:auto;line-height:normal;font-family:Menlo,'DejaVu Sans Mono',consolas,'Courier New',monospace\"><span style=\"font-weight: bold\"> Optimizer params: </span><span style=\"color: #00af00; text-decoration-color: #00af00\">2</span> (12.00 B)\n",
              "</pre>\n"
            ]
          },
          "metadata": {}
        }
      ],
      "source": [
        "model.summary()"
      ]
    },
    {
      "cell_type": "markdown",
      "id": "51273832",
      "metadata": {
        "id": "51273832"
      },
      "source": [
        "### Histórico de perda do modelo."
      ]
    },
    {
      "cell_type": "code",
      "execution_count": 9,
      "id": "8a216f11",
      "metadata": {
        "id": "8a216f11",
        "outputId": "c4c24087-783c-4ba1-b16d-7af3b8842eda",
        "colab": {
          "base_uri": "https://localhost:8080/",
          "height": 470
        }
      },
      "outputs": [
        {
          "output_type": "display_data",
          "data": {
            "text/plain": [
              "<Figure size 800x500 with 1 Axes>"
            ],
            "image/png": "[encoded data removed]"
          },
          "metadata": {}
        }
      ],
      "source": [
        "pd.DataFrame(history.history).plot(figsize=(8, 5))\n",
        "plt.grid(True)\n",
        "plt.xlabel('Iterations', fontsize=14)\n",
        "plt.ylabel('Loss', fontsize=14)\n",
        "plt.show()"
      ]
    },
    {
      "cell_type": "markdown",
      "id": "4c4d9cd2",
      "metadata": {
        "id": "4c4d9cd2"
      },
      "source": [
        "### Avaliando o modelo."
      ]
    },
    {
      "cell_type": "code",
      "execution_count": 10,
      "id": "ab39ffff",
      "metadata": {
        "id": "ab39ffff",
        "outputId": "1497807a-f420-43f4-d60d-4ea5d073e507",
        "colab": {
          "base_uri": "https://localhost:8080/"
        }
      },
      "outputs": [
        {
          "output_type": "stream",
          "name": "stdout",
          "text": [
            "\u001b[1m162/162\u001b[0m \u001b[32m━━━━━━━━━━━━━━━━━━━━\u001b[0m\u001b[37m\u001b[0m \u001b[1m0s\u001b[0m 2ms/step - loss: 0.4753 - mse_loss: 0.0932\n"
          ]
        }
      ],
      "source": [
        "total_loss, main_loss, aux_loss = model.evaluate((X_test_A, X_test_B), (y_test, y_test))"
      ]
    },
    {
      "cell_type": "markdown",
      "id": "cec5bece",
      "metadata": {
        "id": "cec5bece"
      },
      "source": [
        "### Realizando predições com o modelo.\n",
        "\n",
        "Da mesma forma, o método `predict()` **retornará previsões para cada saída**.\n",
        "\n",
        "Testamos com os 3 primeiros exemplos do conjunto de teste."
      ]
    },
    {
      "cell_type": "code",
      "execution_count": 11,
      "id": "d8f5ab2c",
      "metadata": {
        "id": "d8f5ab2c",
        "outputId": "426831e9-4f00-461c-9d4b-dd214788b819",
        "colab": {
          "base_uri": "https://localhost:8080/"
        }
      },
      "outputs": [
        {
          "output_type": "stream",
          "name": "stdout",
          "text": [
            "\u001b[1m1/1\u001b[0m \u001b[32m━━━━━━━━━━━━━━━━━━━━\u001b[0m\u001b[37m\u001b[0m \u001b[1m0s\u001b[0m 66ms/step\n"
          ]
        }
      ],
      "source": [
        "X_new_A, X_new_B = X_test_A[:3], X_test_B[:3]\n",
        "\n",
        "y_pred_main, y_pred_aux = model.predict([X_new_A, X_new_B])"
      ]
    },
    {
      "cell_type": "code",
      "execution_count": 12,
      "id": "bcc3be35",
      "metadata": {
        "id": "bcc3be35",
        "outputId": "48f89c70-e485-4b66-b1be-188cf2c21a38",
        "colab": {
          "base_uri": "https://localhost:8080/"
        }
      },
      "outputs": [
        {
          "output_type": "stream",
          "name": "stdout",
          "text": [
            "Actual: 0.477 - Predicted main: 0.402 - Predicted aux: 1.245\n",
            "Actual: 0.458 - Predicted main: 1.906 - Predicted aux: 1.832\n",
            "Actual: 5.000 - Predicted main: 3.139 - Predicted aux: 2.430\n"
          ]
        }
      ],
      "source": [
        "for i in range(len(y_pred_main)):\n",
        "    print('Actual: %1.3f - Predicted main: %1.3f - Predicted aux: %1.3f' % (y_test[i], y_pred_main[i,0], y_pred_aux[i,0]))"
      ]
    }
  ],
  "metadata": {
    "kernelspec": {
      "display_name": "Python 3 (ipykernel)",
      "language": "python",
      "name": "python3"
    },
    "language_info": {
      "codemirror_mode": {
        "name": "ipython",
        "version": 3
      },
      "file_extension": ".py",
      "mimetype": "text/x-python",
      "name": "python",
      "nbconvert_exporter": "python",
      "pygments_lexer": "ipython3",
      "version": "3.9.7"
    },
    "colab": {
      "provenance": []
    }
  },
  "nbformat": 4,
  "nbformat_minor": 5
}