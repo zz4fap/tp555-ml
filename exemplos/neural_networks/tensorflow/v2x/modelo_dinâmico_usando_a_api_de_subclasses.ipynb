{
 "cells": [
  {
   "cell_type": "code",
   "execution_count": 1,
   "id": "9ef341f3",
   "metadata": {},
   "outputs": [],
   "source": [
    "import numpy as np\n",
    "import tensorflow as tf\n",
    "from tensorflow import keras\n",
    "import matplotlib.pyplot as plt\n",
    "import pandas as pd\n",
    "\n",
    "from sklearn.datasets import fetch_california_housing\n",
    "from sklearn.model_selection import train_test_split\n",
    "from sklearn.preprocessing import StandardScaler"
   ]
  },
  {
   "cell_type": "code",
   "execution_count": 2,
   "id": "30a12281",
   "metadata": {},
   "outputs": [],
   "source": [
    "# to make this notebook's output stable across runs\n",
    "np.random.seed(42)\n",
    "tf.random.set_seed(42)"
   ]
  },
  {
   "cell_type": "markdown",
   "id": "8298d3fc",
   "metadata": {},
   "source": [
    "### Herdando da classe keras.models.Model.\n",
    "\n",
    "Neste exemplo iremos definir e criar uma instância da classe `WideAndDeepModel`, que nos dá um modelo equivalente ao que acabamos de construir com a API Funcional. \n",
    "\n",
    "Depois de instanciado um objeto desta classe, podemos então compilá-lo, avaliá-lo e usá-lo para fazer previsões, exatamente como acabamos de fazer."
   ]
  },
  {
   "cell_type": "markdown",
   "id": "57923de9",
   "metadata": {},
   "source": [
    "### Carregando o conjunto de dados para regressão. \n",
    "\n",
    "+ Vamos usar o conjunto de dados habitacional da Califórnia e criar um regressor com uma rede neural.\n",
    "\n",
    "+ Depois de carregar os dados, dividimos em um conjunto de treinamento, um conjunto de validação e um conjunto de teste, e padronizamos todos os atributos."
   ]
  },
  {
   "cell_type": "code",
   "execution_count": 3,
   "id": "c4818a77",
   "metadata": {},
   "outputs": [],
   "source": [
    "housing = fetch_california_housing()\n",
    "\n",
    "X_train_full, X_test, y_train_full, y_test = train_test_split(housing.data, housing.target, random_state=42)\n",
    "X_train, X_valid, y_train, y_valid = train_test_split(X_train_full, y_train_full, random_state=42)\n",
    "\n",
    "scaler = StandardScaler()\n",
    "X_train = scaler.fit_transform(X_train)\n",
    "X_valid = scaler.transform(X_valid)\n",
    "X_test = scaler.transform(X_test)"
   ]
  },
  {
   "cell_type": "markdown",
   "id": "558a61a4",
   "metadata": {},
   "source": [
    "### Definição da classe `WideAndDeepModel`.\n",
    "\n",
    "+ A classe `WideAndDeepModel` herda de `keras.models.Model`.\n",
    "+ No construtor, criamos todas as camadas necessárias.\n",
    "+ No método `call`, realizamos os cálculos.\n",
    "\n",
    "\n",
    "Este exemplo se parece muito com o que utilizou a API Funcional, exceto que não é necessário instanciar as entradas (`Input`), apenas usamos o parâmetro de entrada passado para o método `call()` e separamos a criação das camadas no construtor de seu uso no método `call()`."
   ]
  },
  {
   "cell_type": "code",
   "execution_count": 8,
   "id": "7bafe5df",
   "metadata": {},
   "outputs": [],
   "source": [
    "class WideAndDeepModel(keras.models.Model):\n",
    "    def __init__(self, units=30, activation=\"relu\", **kwargs):\n",
    "        super().__init__(**kwargs) # handles standard args (e.g., name)\n",
    "        self.hidden1 = keras.layers.Dense(units, activation=activation, name=\"main_output\")\n",
    "        self.hidden2 = keras.layers.Dense(units, activation=activation, name=\"aux_output\")\n",
    "        self.main_output = keras.layers.Dense(1)\n",
    "        self.aux_output = keras.layers.Dense(1)\n",
    "        \n",
    "    def call(self, inputs):\n",
    "        input_A, input_B = inputs\n",
    "        hidden1 = self.hidden1(input_B)\n",
    "        hidden2 = self.hidden2(hidden1)\n",
    "        concat = keras.layers.concatenate([input_A, hidden2])\n",
    "        main_output = self.main_output(concat)\n",
    "        aux_output = self.aux_output(hidden2)\n",
    "        return main_output, aux_output"
   ]
  },
  {
   "cell_type": "markdown",
   "id": "1ac1ffab",
   "metadata": {},
   "source": [
    "### Instanciando um objeto da classe `WideAndDeepModel`."
   ]
  },
  {
   "cell_type": "code",
   "execution_count": 9,
   "id": "50d43ab0",
   "metadata": {},
   "outputs": [],
   "source": [
    "model = WideAndDeepModel()"
   ]
  },
  {
   "cell_type": "markdown",
   "id": "6e621f65",
   "metadata": {},
   "source": [
    "### Compilando o modelo.\n",
    "\n",
    "+ A mesma função de perda é usada para ambas as saídas."
   ]
  },
  {
   "cell_type": "code",
   "execution_count": 10,
   "id": "f879627d",
   "metadata": {},
   "outputs": [],
   "source": [
    "model.compile(loss=\"mse\", loss_weights=[0.9, 0.1], optimizer=keras.optimizers.SGD(learning_rate=1e-3))"
   ]
  },
  {
   "cell_type": "markdown",
   "id": "dedd7e3b",
   "metadata": {},
   "source": [
    "### Separando os atributos e treinando o modelo."
   ]
  },
  {
   "cell_type": "code",
   "execution_count": 11,
   "id": "a1a83d11",
   "metadata": {},
   "outputs": [
    {
     "name": "stdout",
     "output_type": "stream",
     "text": [
      "Epoch 1/20\n",
      "363/363 [==============================] - 4s 6ms/step - loss: 2.0984 - output_1_loss: 1.8521 - output_2_loss: 4.3151 - val_loss: 1.5430 - val_output_1_loss: 0.9144 - val_output_2_loss: 7.2005\n",
      "Epoch 2/20\n",
      "363/363 [==============================] - 2s 6ms/step - loss: 0.9781 - output_1_loss: 0.7778 - output_2_loss: 2.7815 - val_loss: 1.3118 - val_output_1_loss: 0.6824 - val_output_2_loss: 6.9755\n",
      "Epoch 3/20\n",
      "363/363 [==============================] - 2s 5ms/step - loss: 0.8065 - output_1_loss: 0.6685 - output_2_loss: 2.0489 - val_loss: 1.2622 - val_output_1_loss: 0.6458 - val_output_2_loss: 6.8096\n",
      "Epoch 4/20\n",
      "363/363 [==============================] - 1s 4ms/step - loss: 0.7198 - output_1_loss: 0.6114 - output_2_loss: 1.6951 - val_loss: 1.2022 - val_output_1_loss: 0.6136 - val_output_2_loss: 6.5002\n",
      "Epoch 5/20\n",
      "363/363 [==============================] - 1s 4ms/step - loss: 0.6700 - output_1_loss: 0.5756 - output_2_loss: 1.5195 - val_loss: 1.1395 - val_output_1_loss: 0.5936 - val_output_2_loss: 6.0520\n",
      "Epoch 6/20\n",
      "363/363 [==============================] - 1s 4ms/step - loss: 0.6351 - output_1_loss: 0.5480 - output_2_loss: 1.4197 - val_loss: 1.0780 - val_output_1_loss: 0.5756 - val_output_2_loss: 5.5994\n",
      "Epoch 7/20\n",
      "363/363 [==============================] - 1s 4ms/step - loss: 0.6103 - output_1_loss: 0.5275 - output_2_loss: 1.3558 - val_loss: 1.0279 - val_output_1_loss: 0.5736 - val_output_2_loss: 5.1171\n",
      "Epoch 8/20\n",
      "363/363 [==============================] - 1s 4ms/step - loss: 0.5898 - output_1_loss: 0.5102 - output_2_loss: 1.3066 - val_loss: 0.9418 - val_output_1_loss: 0.5303 - val_output_2_loss: 4.6458\n",
      "Epoch 9/20\n",
      "363/363 [==============================] - 2s 4ms/step - loss: 0.5722 - output_1_loss: 0.4951 - output_2_loss: 1.2663 - val_loss: 0.8708 - val_output_1_loss: 0.4978 - val_output_2_loss: 4.2276\n",
      "Epoch 10/20\n",
      "363/363 [==============================] - 1s 4ms/step - loss: 0.5571 - output_1_loss: 0.4823 - output_2_loss: 1.2303 - val_loss: 0.8195 - val_output_1_loss: 0.4841 - val_output_2_loss: 3.8377\n",
      "Epoch 11/20\n",
      "363/363 [==============================] - 1s 4ms/step - loss: 0.5438 - output_1_loss: 0.4713 - output_2_loss: 1.1969 - val_loss: 0.7537 - val_output_1_loss: 0.4494 - val_output_2_loss: 3.4921\n",
      "Epoch 12/20\n",
      "363/363 [==============================] - 2s 5ms/step - loss: 0.5341 - output_1_loss: 0.4640 - output_2_loss: 1.1655 - val_loss: 0.7160 - val_output_1_loss: 0.4406 - val_output_2_loss: 3.1950\n",
      "Epoch 13/20\n",
      "363/363 [==============================] - 2s 6ms/step - loss: 0.5261 - output_1_loss: 0.4579 - output_2_loss: 1.1393 - val_loss: 0.6766 - val_output_1_loss: 0.4277 - val_output_2_loss: 2.9166\n",
      "Epoch 14/20\n",
      "363/363 [==============================] - 2s 5ms/step - loss: 0.5196 - output_1_loss: 0.4534 - output_2_loss: 1.1154 - val_loss: 0.6483 - val_output_1_loss: 0.4205 - val_output_2_loss: 2.6986\n",
      "Epoch 15/20\n",
      "363/363 [==============================] - 1s 4ms/step - loss: 0.5139 - output_1_loss: 0.4494 - output_2_loss: 1.0940 - val_loss: 0.6235 - val_output_1_loss: 0.4134 - val_output_2_loss: 2.5145\n",
      "Epoch 16/20\n",
      "363/363 [==============================] - 1s 4ms/step - loss: 0.5087 - output_1_loss: 0.4459 - output_2_loss: 1.0736 - val_loss: 0.6047 - val_output_1_loss: 0.4097 - val_output_2_loss: 2.3605\n",
      "Epoch 17/20\n",
      "363/363 [==============================] - 2s 4ms/step - loss: 0.5036 - output_1_loss: 0.4424 - output_2_loss: 1.0548 - val_loss: 0.5920 - val_output_1_loss: 0.4066 - val_output_2_loss: 2.2606\n",
      "Epoch 18/20\n",
      "363/363 [==============================] - 2s 4ms/step - loss: 0.5000 - output_1_loss: 0.4404 - output_2_loss: 1.0365 - val_loss: 0.5791 - val_output_1_loss: 0.4037 - val_output_2_loss: 2.1570\n",
      "Epoch 19/20\n",
      "363/363 [==============================] - 1s 4ms/step - loss: 0.4956 - output_1_loss: 0.4375 - output_2_loss: 1.0193 - val_loss: 0.5688 - val_output_1_loss: 0.4018 - val_output_2_loss: 2.0722\n",
      "Epoch 20/20\n",
      "363/363 [==============================] - 1s 4ms/step - loss: 0.4919 - output_1_loss: 0.4352 - output_2_loss: 1.0028 - val_loss: 0.5611 - val_output_1_loss: 0.4013 - val_output_2_loss: 1.9989\n"
     ]
    }
   ],
   "source": [
    "# Separando os atributos.\n",
    "X_train_A, X_train_B = X_train[:, :5], X_train[:, 2:]\n",
    "X_valid_A, X_valid_B = X_valid[:, :5], X_valid[:, 2:]\n",
    "X_test_A, X_test_B = X_test[:, :5], X_test[:, 2:]\n",
    "\n",
    "# Treinando o modelo.\n",
    "history = model.fit((X_train_A, X_train_B), \n",
    "                    (y_train, y_train), \n",
    "                    epochs=20,\n",
    "                    validation_data=((X_valid_A, X_valid_B), (y_valid, y_valid))\n",
    "                   )"
   ]
  },
  {
   "cell_type": "markdown",
   "id": "51273832",
   "metadata": {},
   "source": [
    "### Histórico de perda do modelo."
   ]
  },
  {
   "cell_type": "code",
   "execution_count": 19,
   "id": "8a216f11",
   "metadata": {},
   "outputs": [
    {
     "data": {
      "image/png": "[encoded data removed]",
      "text/plain": [
       "<Figure size 576x360 with 1 Axes>"
      ]
     },
     "metadata": {
      "needs_background": "light"
     },
     "output_type": "display_data"
    }
   ],
   "source": [
    "pd.DataFrame(history.history).plot(figsize=(8, 5))\n",
    "plt.grid(True)\n",
    "plt.xlabel('Iterations', fontsize=14)\n",
    "plt.ylabel('Loss', fontsize=14)\n",
    "plt.show()"
   ]
  },
  {
   "cell_type": "markdown",
   "id": "4c4d9cd2",
   "metadata": {},
   "source": [
    "### Avaliando o modelo."
   ]
  },
  {
   "cell_type": "code",
   "execution_count": 12,
   "id": "ab39ffff",
   "metadata": {},
   "outputs": [
    {
     "name": "stdout",
     "output_type": "stream",
     "text": [
      "162/162 [==============================] - 0s 3ms/step - loss: 0.4822 - output_1_loss: 0.4278 - output_2_loss: 0.9714\n"
     ]
    }
   ],
   "source": [
    "total_loss, main_loss, aux_loss = model.evaluate((X_test_A, X_test_B), (y_test, y_test))"
   ]
  },
  {
   "cell_type": "markdown",
   "id": "cec5bece",
   "metadata": {},
   "source": [
    "### Realizando predições com o modelo."
   ]
  },
  {
   "cell_type": "code",
   "execution_count": 14,
   "id": "d8f5ab2c",
   "metadata": {},
   "outputs": [
    {
     "name": "stdout",
     "output_type": "stream",
     "text": [
      "1/1 [==============================] - 0s 29ms/step\n"
     ]
    }
   ],
   "source": [
    "X_new_A, X_new_B = X_test_A[:3], X_test_B[:3]\n",
    "\n",
    "y_pred_main, y_pred_aux = model.predict([X_new_A, X_new_B])"
   ]
  },
  {
   "cell_type": "code",
   "execution_count": null,
   "id": "bcc3be35",
   "metadata": {},
   "outputs": [],
   "source": []
  }
 ],
 "metadata": {
  "kernelspec": {
   "display_name": "Python 3 (ipykernel)",
   "language": "python",
   "name": "python3"
  },
  "language_info": {
   "codemirror_mode": {
    "name": "ipython",
    "version": 3
   },
   "file_extension": ".py",
   "mimetype": "text/x-python",
   "name": "python",
   "nbconvert_exporter": "python",
   "pygments_lexer": "ipython3",
   "version": "3.9.7"
  }
 },
 "nbformat": 4,
 "nbformat_minor": 5
}
