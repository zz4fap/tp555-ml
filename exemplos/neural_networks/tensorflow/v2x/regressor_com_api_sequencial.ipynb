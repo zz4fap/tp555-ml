{
 "cells": [
  {
   "cell_type": "code",
   "execution_count": 1,
   "id": "a2604f77",
   "metadata": {},
   "outputs": [],
   "source": [
    "import numpy as np\n",
    "import tensorflow as tf\n",
    "from tensorflow import keras\n",
    "import matplotlib.pyplot as plt\n",
    "import pandas as pd\n",
    "\n",
    "from sklearn.datasets import fetch_california_housing\n",
    "from sklearn.model_selection import train_test_split\n",
    "from sklearn.preprocessing import StandardScaler"
   ]
  },
  {
   "cell_type": "code",
   "execution_count": 2,
   "id": "57557cd8",
   "metadata": {},
   "outputs": [],
   "source": [
    "# to make this notebook's output stable across runs\n",
    "np.random.seed(42)\n",
    "tf.random.set_seed(42)"
   ]
  },
  {
   "cell_type": "markdown",
   "id": "a8c88dfb",
   "metadata": {},
   "source": [
    "### Carregando o conjunto de dados para regressão. \n",
    "\n",
    "+ Vamos usar o conjunto de dados habitacional da Califórnia e criar um regressor com uma rede neural.\n",
    "    + Esse conjunto possui 20640 exemplos e 8 atributos e 1 rótulo numéricos.\n",
    "    + O rótulo é o valor médio de casas no estado da Califórnia expresso em centenas de milhares de dólares.\n",
    "    + Para mais informações, acesse: https://scikit-learn.org/stable/datasets/real_world.html#california-housing-dataset\n",
    "\n",
    "+ Usamos a função `fetch_california_housing()` do Scikit-Learn para carregar os dados.\n",
    "\n",
    "+ Depois de carregar os dados, dividimos em um conjunto de treinamento, um conjunto de validação e um conjunto de teste, e padronizamos todos os atributos."
   ]
  },
  {
   "cell_type": "code",
   "execution_count": 3,
   "id": "8287c638",
   "metadata": {},
   "outputs": [],
   "source": [
    "housing = fetch_california_housing()\n",
    "\n",
    "X_train_full, X_test, y_train_full, y_test = train_test_split(housing.data, housing.target, random_state=42)\n",
    "X_train, X_valid, y_train, y_valid = train_test_split(X_train_full, y_train_full, random_state=42)\n",
    "\n",
    "scaler = StandardScaler()\n",
    "X_train = scaler.fit_transform(X_train)\n",
    "X_valid = scaler.transform(X_valid)\n",
    "X_test = scaler.transform(X_test)"
   ]
  },
  {
   "cell_type": "markdown",
   "id": "927498cc",
   "metadata": {},
   "source": [
    "### Criando e compilando um modelo sequencial.\n",
    "\n",
    "+ Construir, treinar, avaliar e usar um regressor MLP usando a API Sequential é bastante semelhante ao que fizemos para a classificação. \n",
    "\n",
    "+ O modelo abaixo é o de um regressor MLP com uma oculta. Na sequência, descrevemos cada uma das linhas de código da célula abaixo.\n",
    "\n",
    "+ As principais diferenças são:\n",
    "    + Camada de saída possui um único neurônio (já que queremos apenas prever um único valor) e não usa função de ativação (se o parâmetro `activation` não é especificado, usa-se ativação \"linear\" por padrão). \n",
    "    + Função de perda é o erro quadrático médio (MSE). \n",
    "    \n",
    "+ Como o conjunto de dados é bastante ruidoso, usamos apenas uma única camada oculta com poucos neurônios para evitar o sobreajuste."
   ]
  },
  {
   "cell_type": "code",
   "execution_count": 4,
   "id": "9d39dae6",
   "metadata": {},
   "outputs": [],
   "source": [
    "model = keras.models.Sequential([\n",
    "    keras.layers.Dense(30, activation=\"relu\", input_shape=X_train.shape[1:]),\n",
    "    keras.layers.Dense(1)\n",
    "])\n",
    "\n",
    "model.compile(loss=\"mean_squared_error\", optimizer=keras.optimizers.SGD(learning_rate=1e-3))"
   ]
  },
  {
   "cell_type": "markdown",
   "id": "0fdb30c0",
   "metadata": {},
   "source": [
    "**IMPORTANTE**\n",
    "\n",
    "+ Para podermos configurar valores diferentes do padrão, precisamos passar a classe do otimizador com o valor desejado para os hiperparâmetros (e.g., `keras.optimizers.SGD(learning_rate=1e-3)`)."
   ]
  },
  {
   "cell_type": "markdown",
   "id": "79e783d6",
   "metadata": {},
   "source": [
    "### Resumo do modelo."
   ]
  },
  {
   "cell_type": "code",
   "execution_count": 5,
   "id": "9c8766cb",
   "metadata": {},
   "outputs": [
    {
     "name": "stdout",
     "output_type": "stream",
     "text": [
      "Model: \"sequential\"\n",
      "_________________________________________________________________\n",
      " Layer (type)                Output Shape              Param #   \n",
      "=================================================================\n",
      " dense (Dense)               (None, 30)                270       \n",
      "                                                                 \n",
      " dense_1 (Dense)             (None, 1)                 31        \n",
      "                                                                 \n",
      "=================================================================\n",
      "Total params: 301\n",
      "Trainable params: 301\n",
      "Non-trainable params: 0\n",
      "_________________________________________________________________\n"
     ]
    }
   ],
   "source": [
    "model.summary()"
   ]
  },
  {
   "cell_type": "markdown",
   "id": "8ff7dc0f",
   "metadata": {},
   "source": [
    "### Treinando o modelo."
   ]
  },
  {
   "cell_type": "code",
   "execution_count": 6,
   "id": "5dacda6c",
   "metadata": {},
   "outputs": [
    {
     "name": "stdout",
     "output_type": "stream",
     "text": [
      "Epoch 1/50\n",
      "363/363 [==============================] - 3s 5ms/step - loss: 1.6419 - val_loss: 0.8560\n",
      "Epoch 2/50\n",
      "363/363 [==============================] - 1s 4ms/step - loss: 0.7047 - val_loss: 0.6531\n",
      "Epoch 3/50\n",
      "363/363 [==============================] - 1s 3ms/step - loss: 0.6345 - val_loss: 0.6099\n",
      "Epoch 4/50\n",
      "363/363 [==============================] - 1s 4ms/step - loss: 0.5977 - val_loss: 0.5658\n",
      "Epoch 5/50\n",
      "363/363 [==============================] - 1s 4ms/step - loss: 0.5706 - val_loss: 0.5355\n",
      "Epoch 6/50\n",
      "363/363 [==============================] - 1s 4ms/step - loss: 0.5472 - val_loss: 0.5173\n",
      "Epoch 7/50\n",
      "363/363 [==============================] - 1s 4ms/step - loss: 0.5288 - val_loss: 0.5081\n",
      "Epoch 8/50\n",
      "363/363 [==============================] - 2s 4ms/step - loss: 0.5130 - val_loss: 0.4799\n",
      "Epoch 9/50\n",
      "363/363 [==============================] - 1s 3ms/step - loss: 0.4992 - val_loss: 0.4690\n",
      "Epoch 10/50\n",
      "363/363 [==============================] - 1s 3ms/step - loss: 0.4875 - val_loss: 0.4656\n",
      "Epoch 11/50\n",
      "363/363 [==============================] - 1s 4ms/step - loss: 0.4777 - val_loss: 0.4482\n",
      "Epoch 12/50\n",
      "363/363 [==============================] - 1s 4ms/step - loss: 0.4688 - val_loss: 0.4479\n",
      "Epoch 13/50\n",
      "363/363 [==============================] - 1s 3ms/step - loss: 0.4615 - val_loss: 0.4296\n",
      "Epoch 14/50\n",
      "363/363 [==============================] - 1s 3ms/step - loss: 0.4547 - val_loss: 0.4233\n",
      "Epoch 15/50\n",
      "363/363 [==============================] - 1s 4ms/step - loss: 0.4488 - val_loss: 0.4176\n",
      "Epoch 16/50\n",
      "363/363 [==============================] - 2s 4ms/step - loss: 0.4435 - val_loss: 0.4123\n",
      "Epoch 17/50\n",
      "363/363 [==============================] - 2s 5ms/step - loss: 0.4389 - val_loss: 0.4071\n",
      "Epoch 18/50\n",
      "363/363 [==============================] - 1s 4ms/step - loss: 0.4347 - val_loss: 0.4037\n",
      "Epoch 19/50\n",
      "363/363 [==============================] - 2s 5ms/step - loss: 0.4306 - val_loss: 0.4000\n",
      "Epoch 20/50\n",
      "363/363 [==============================] - 2s 5ms/step - loss: 0.4273 - val_loss: 0.3969\n",
      "Epoch 21/50\n",
      "363/363 [==============================] - 2s 4ms/step - loss: 0.4240 - val_loss: 0.3938\n",
      "Epoch 22/50\n",
      "363/363 [==============================] - 1s 4ms/step - loss: 0.4211 - val_loss: 0.3913\n",
      "Epoch 23/50\n",
      "363/363 [==============================] - 1s 4ms/step - loss: 0.4183 - val_loss: 0.3884\n",
      "Epoch 24/50\n",
      "363/363 [==============================] - 2s 4ms/step - loss: 0.4158 - val_loss: 0.3871\n",
      "Epoch 25/50\n",
      "363/363 [==============================] - 1s 4ms/step - loss: 0.4135 - val_loss: 0.3857\n",
      "Epoch 26/50\n",
      "363/363 [==============================] - 1s 3ms/step - loss: 0.4115 - val_loss: 0.3818\n",
      "Epoch 27/50\n",
      "363/363 [==============================] - 1s 3ms/step - loss: 0.4096 - val_loss: 0.3800\n",
      "Epoch 28/50\n",
      "363/363 [==============================] - 1s 4ms/step - loss: 0.4077 - val_loss: 0.3794\n",
      "Epoch 29/50\n",
      "363/363 [==============================] - 1s 3ms/step - loss: 0.4061 - val_loss: 0.3769\n",
      "Epoch 30/50\n",
      "363/363 [==============================] - 2s 4ms/step - loss: 0.4045 - val_loss: 0.3763\n",
      "Epoch 31/50\n",
      "363/363 [==============================] - 2s 4ms/step - loss: 0.4027 - val_loss: 0.3740\n",
      "Epoch 32/50\n",
      "363/363 [==============================] - 2s 5ms/step - loss: 0.4015 - val_loss: 0.3750\n",
      "Epoch 33/50\n",
      "363/363 [==============================] - 2s 6ms/step - loss: 0.4003 - val_loss: 0.3714\n",
      "Epoch 34/50\n",
      "363/363 [==============================] - 1s 4ms/step - loss: 0.3988 - val_loss: 0.3704\n",
      "Epoch 35/50\n",
      "363/363 [==============================] - 1s 3ms/step - loss: 0.3975 - val_loss: 0.3739\n",
      "Epoch 36/50\n",
      "363/363 [==============================] - 1s 3ms/step - loss: 0.3963 - val_loss: 0.3685\n",
      "Epoch 37/50\n",
      "363/363 [==============================] - 2s 4ms/step - loss: 0.3952 - val_loss: 0.3683\n",
      "Epoch 38/50\n",
      "363/363 [==============================] - 1s 3ms/step - loss: 0.3940 - val_loss: 0.3661\n",
      "Epoch 39/50\n",
      "363/363 [==============================] - 1s 4ms/step - loss: 0.3929 - val_loss: 0.3654\n",
      "Epoch 40/50\n",
      "363/363 [==============================] - 2s 4ms/step - loss: 0.3918 - val_loss: 0.3643\n",
      "Epoch 41/50\n",
      "363/363 [==============================] - 1s 3ms/step - loss: 0.3907 - val_loss: 0.3648\n",
      "Epoch 42/50\n",
      "363/363 [==============================] - 1s 3ms/step - loss: 0.3898 - val_loss: 0.3686\n",
      "Epoch 43/50\n",
      "363/363 [==============================] - 1s 3ms/step - loss: 0.3888 - val_loss: 0.3675\n",
      "Epoch 44/50\n",
      "363/363 [==============================] - 1s 3ms/step - loss: 0.3879 - val_loss: 0.3693\n",
      "Epoch 45/50\n",
      "363/363 [==============================] - 1s 3ms/step - loss: 0.3871 - val_loss: 0.3629\n",
      "Epoch 46/50\n",
      "363/363 [==============================] - 1s 3ms/step - loss: 0.3860 - val_loss: 0.3638\n",
      "Epoch 47/50\n",
      "363/363 [==============================] - 1s 4ms/step - loss: 0.3853 - val_loss: 0.3619\n",
      "Epoch 48/50\n",
      "363/363 [==============================] - 1s 3ms/step - loss: 0.3844 - val_loss: 0.3702\n",
      "Epoch 49/50\n",
      "363/363 [==============================] - 1s 3ms/step - loss: 0.3837 - val_loss: 0.3613\n",
      "Epoch 50/50\n",
      "363/363 [==============================] - 1s 3ms/step - loss: 0.3829 - val_loss: 0.3579\n"
     ]
    }
   ],
   "source": [
    "history = model.fit(X_train, y_train, epochs=50, validation_data=(X_valid, y_valid))"
   ]
  },
  {
   "cell_type": "markdown",
   "id": "492e827e",
   "metadata": {},
   "source": [
    "### Avaliando o modelo."
   ]
  },
  {
   "cell_type": "code",
   "execution_count": 7,
   "id": "16be0942",
   "metadata": {},
   "outputs": [
    {
     "data": {
      "image/png": "[encoded data removed]",
      "text/plain": [
       "<Figure size 576x360 with 1 Axes>"
      ]
     },
     "metadata": {
      "needs_background": "light"
     },
     "output_type": "display_data"
    }
   ],
   "source": [
    "pd.DataFrame(history.history).plot(figsize=(8, 5))\n",
    "plt.grid(True)\n",
    "plt.gca().set_ylim(0, 1)\n",
    "plt.show()"
   ]
  },
  {
   "cell_type": "markdown",
   "id": "12f90bd1",
   "metadata": {},
   "source": [
    "### Fazendo predições com o modelo treinado.\n",
    "\n",
    "+ Usamos o método `predict()` do modelo para fazer previsões em novos exemplos. \n",
    "    + Como não temos novos exemplos, usaremos apenas os 3 primeiros exemplos do conjunto de teste."
   ]
  },
  {
   "cell_type": "code",
   "execution_count": 11,
   "id": "6d80d37e",
   "metadata": {},
   "outputs": [
    {
     "name": "stdout",
     "output_type": "stream",
     "text": [
      "1/1 [==============================] - 0s 32ms/step\n"
     ]
    }
   ],
   "source": [
    "X_new = X_test[:3]\n",
    "y_pred = model.predict(X_new)"
   ]
  },
  {
   "cell_type": "code",
   "execution_count": 17,
   "id": "3806d4b1",
   "metadata": {},
   "outputs": [
    {
     "name": "stdout",
     "output_type": "stream",
     "text": [
      "Actual: 0.477 - Predicted: 0.475\n",
      "Actual: 0.458 - Predicted: 1.792\n",
      "Actual: 5.000 - Predicted: 3.463\n"
     ]
    }
   ],
   "source": [
    "for i in range(len(y_pred)):\n",
    "    print('Actual: %1.3f - Predicted: %1.3f' % (y_test[i], y_pred[i]))"
   ]
  },
  {
   "cell_type": "code",
   "execution_count": null,
   "id": "01da1711",
   "metadata": {},
   "outputs": [],
   "source": []
  }
 ],
 "metadata": {
  "kernelspec": {
   "display_name": "Python 3 (ipykernel)",
   "language": "python",
   "name": "python3"
  },
  "language_info": {
   "codemirror_mode": {
    "name": "ipython",
    "version": 3
   },
   "file_extension": ".py",
   "mimetype": "text/x-python",
   "name": "python",
   "nbconvert_exporter": "python",
   "pygments_lexer": "ipython3",
   "version": "3.9.7"
  }
 },
 "nbformat": 4,
 "nbformat_minor": 5
}
