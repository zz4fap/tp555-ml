{
 "cells": [
  {
   "cell_type": "code",
   "execution_count": 1,
   "id": "d3462d33",
   "metadata": {},
   "outputs": [],
   "source": [
    "import numpy as np\n",
    "import tensorflow as tf\n",
    "from tensorflow import keras\n",
    "import matplotlib.pyplot as plt\n",
    "import pandas as pd\n",
    "\n",
    "from sklearn.datasets import fetch_california_housing\n",
    "from sklearn.model_selection import train_test_split\n",
    "from sklearn.preprocessing import StandardScaler"
   ]
  },
  {
   "cell_type": "code",
   "execution_count": 2,
   "id": "b5bb0875",
   "metadata": {},
   "outputs": [],
   "source": [
    "np.random.seed(42)\n",
    "tf.random.set_seed(42)"
   ]
  },
  {
   "cell_type": "markdown",
   "id": "d115d036",
   "metadata": {},
   "source": [
    "### Carregando o conjunto de dados para regressão. \n",
    "\n",
    "+ Vamos usar o conjunto de dados habitacional da Califórnia e criar um regressor com uma rede neural.\n",
    "\n",
    "+ Depois de carregar os dados, dividimos em um conjunto de treinamento, um conjunto de validação e um conjunto de teste, e padronizamos todos os atributos."
   ]
  },
  {
   "cell_type": "code",
   "execution_count": 3,
   "id": "19295cd5",
   "metadata": {},
   "outputs": [],
   "source": [
    "# Baixa a base de dados.\n",
    "housing = fetch_california_housing()\n",
    "\n",
    "# Divide o conjunto total de exemplos em conjuntos de treinamento e teste.\n",
    "X_train_full, X_test, y_train_full, y_test = train_test_split(housing.data, housing.target, random_state=42)\n",
    "\n",
    "# Divide o conjunto de treinamento em conjuntos de treinamento (menor) e validação.\n",
    "X_train, X_valid, y_train, y_valid = train_test_split(X_train_full, y_train_full, random_state=42)\n",
    "\n",
    "# Aplica padronização às matrizes de atributos.\n",
    "scaler = StandardScaler()\n",
    "X_train = scaler.fit_transform(X_train)\n",
    "X_valid = scaler.transform(X_valid)\n",
    "X_test = scaler.transform(X_test)"
   ]
  },
  {
   "cell_type": "markdown",
   "id": "93e6299d",
   "metadata": {},
   "source": [
    "### Criando e compilando o modelo.\n",
    "\n",
    "+ Neste exemplos usaremos a API sequencial, mas o método `save()` funciona também para a API funcional."
   ]
  },
  {
   "cell_type": "code",
   "execution_count": 4,
   "id": "dd86746e",
   "metadata": {},
   "outputs": [],
   "source": [
    "model = keras.models.Sequential(\n",
    "    [\n",
    "        keras.layers.Dense(30, activation=\"relu\", input_shape=[8]),\n",
    "        keras.layers.Dense(30, activation=\"relu\"),\n",
    "        keras.layers.Dense(1)\n",
    "    ]\n",
    ")\n",
    "\n",
    "model.compile(loss=\"mse\", optimizer=keras.optimizers.SGD(learning_rate=1e-3))"
   ]
  },
  {
   "cell_type": "markdown",
   "id": "e23be100",
   "metadata": {},
   "source": [
    "### Treinando o modelo."
   ]
  },
  {
   "cell_type": "code",
   "execution_count": 5,
   "id": "a0733c17",
   "metadata": {},
   "outputs": [
    {
     "name": "stdout",
     "output_type": "stream",
     "text": [
      "Epoch 1/10\n",
      "363/363 [==============================] - 3s 4ms/step - loss: 1.8866 - val_loss: 0.7126\n",
      "Epoch 2/10\n",
      "363/363 [==============================] - 1s 3ms/step - loss: 0.6577 - val_loss: 0.6880\n",
      "Epoch 3/10\n",
      "363/363 [==============================] - 1s 3ms/step - loss: 0.5934 - val_loss: 0.5803\n",
      "Epoch 4/10\n",
      "363/363 [==============================] - 1s 3ms/step - loss: 0.5557 - val_loss: 0.5166\n",
      "Epoch 5/10\n",
      "363/363 [==============================] - 1s 3ms/step - loss: 0.5272 - val_loss: 0.4895\n",
      "Epoch 6/10\n",
      "363/363 [==============================] - 1s 3ms/step - loss: 0.5033 - val_loss: 0.4951\n",
      "Epoch 7/10\n",
      "363/363 [==============================] - 1s 3ms/step - loss: 0.4854 - val_loss: 0.4861\n",
      "Epoch 8/10\n",
      "363/363 [==============================] - 1s 3ms/step - loss: 0.4709 - val_loss: 0.4554\n",
      "Epoch 9/10\n",
      "363/363 [==============================] - 1s 3ms/step - loss: 0.4578 - val_loss: 0.4413\n",
      "Epoch 10/10\n",
      "363/363 [==============================] - 2s 4ms/step - loss: 0.4474 - val_loss: 0.4379\n"
     ]
    }
   ],
   "source": [
    "history = model.fit(X_train, y_train, \n",
    "                    epochs=10, \n",
    "                    validation_data=(X_valid, y_valid)\n",
    "                   )"
   ]
  },
  {
   "cell_type": "markdown",
   "id": "106d68e0",
   "metadata": {},
   "source": [
    "### Salvando o modelo."
   ]
  },
  {
   "cell_type": "code",
   "execution_count": 6,
   "id": "4679cbb0",
   "metadata": {},
   "outputs": [],
   "source": [
    "model.save(\"./my_keras_model.h5\")"
   ]
  },
  {
   "cell_type": "markdown",
   "id": "e0d50fd4",
   "metadata": {},
   "source": [
    "### Carregando o modelo salvo."
   ]
  },
  {
   "cell_type": "code",
   "execution_count": 7,
   "id": "8b1aaad2",
   "metadata": {},
   "outputs": [],
   "source": [
    "loaded_model = keras.models.load_model(\"./my_keras_model.h5\")"
   ]
  },
  {
   "cell_type": "markdown",
   "id": "c436a8b5",
   "metadata": {},
   "source": [
    "### Realizando predições com o modelo salvo."
   ]
  },
  {
   "cell_type": "code",
   "execution_count": 8,
   "id": "c1c42d64",
   "metadata": {},
   "outputs": [
    {
     "name": "stdout",
     "output_type": "stream",
     "text": [
      "1/1 [==============================] - 0s 334ms/step\n"
     ]
    }
   ],
   "source": [
    "X_new = X_test[:3]\n",
    "\n",
    "y_pred = loaded_model.predict(X_new)"
   ]
  },
  {
   "cell_type": "code",
   "execution_count": 9,
   "id": "2ad508bd",
   "metadata": {},
   "outputs": [
    {
     "name": "stdout",
     "output_type": "stream",
     "text": [
      "Actual: 0.477 - Predicted: 0.540\n",
      "Actual: 0.458 - Predicted: 1.651\n",
      "Actual: 5.000 - Predicted: 3.010\n"
     ]
    }
   ],
   "source": [
    "for i in range(len(y_pred)):\n",
    "    print('Actual: %1.3f - Predicted: %1.3f' % (y_test[i], y_pred[i]))"
   ]
  },
  {
   "cell_type": "markdown",
   "id": "1c8d0af6",
   "metadata": {},
   "source": [
    "### Salvando os pesos de modelos criados a partir de subclasses da classe `Model`.\n",
    "\n",
    "+ O método `save()` e a função `load_model` funcionam ao usar as APIs sequencial e funcional, **mas, infelizmente, não ao usar subclasses da classe `Model`.** \n",
    "\n",
    "+ Porém, podemos usar os métodos `save_weights()` e `load_weights()` para pelo menos salvar e restaurar os parâmetros do modelo. \n",
    "\n",
    "+ Entretanto, precisaremos salvar e restaurar todo o resto nós mesmos."
   ]
  },
  {
   "cell_type": "code",
   "execution_count": 10,
   "id": "f845e42a",
   "metadata": {},
   "outputs": [],
   "source": [
    "class Regressor(keras.models.Model):\n",
    "    \n",
    "    def __init__(self, units=30, activation=\"relu\", **kwargs):\n",
    "        super().__init__(**kwargs) # lida com parâmetros padrão como, por exemplo, name.\n",
    "        self.hidden = keras.layers.Dense(units, activation=activation, name=\"input\")\n",
    "        self.out = keras.layers.Dense(1)       \n",
    "        \n",
    "    def call(self, inputs):\n",
    "        hidden = self.hidden(inputs)\n",
    "        out = self.out(hidden)\n",
    "        return out"
   ]
  },
  {
   "cell_type": "code",
   "execution_count": 11,
   "id": "d7837cd9",
   "metadata": {},
   "outputs": [],
   "source": [
    "model = Regressor()"
   ]
  },
  {
   "cell_type": "code",
   "execution_count": 12,
   "id": "dfb3c75b",
   "metadata": {},
   "outputs": [],
   "source": [
    "model.compile(\n",
    "    loss=\"mse\", \n",
    "    optimizer=keras.optimizers.SGD(learning_rate=1e-3)\n",
    ")"
   ]
  },
  {
   "cell_type": "code",
   "execution_count": 13,
   "id": "3ec28f46",
   "metadata": {},
   "outputs": [
    {
     "name": "stdout",
     "output_type": "stream",
     "text": [
      "Epoch 1/20\n",
      "363/363 [==============================] - 5s 9ms/step - loss: 1.7566 - val_loss: 0.8978\n",
      "Epoch 2/20\n",
      "363/363 [==============================] - 2s 5ms/step - loss: 0.8452 - val_loss: 1.0379\n",
      "Epoch 3/20\n",
      "363/363 [==============================] - 1s 3ms/step - loss: 0.7734 - val_loss: 0.8684\n",
      "Epoch 4/20\n",
      "363/363 [==============================] - 1s 4ms/step - loss: 0.7197 - val_loss: 0.7182\n",
      "Epoch 5/20\n",
      "363/363 [==============================] - 2s 5ms/step - loss: 0.6758 - val_loss: 0.6508\n",
      "Epoch 6/20\n",
      "363/363 [==============================] - 2s 6ms/step - loss: 0.6374 - val_loss: 0.6208\n",
      "Epoch 7/20\n",
      "363/363 [==============================] - 2s 5ms/step - loss: 0.6046 - val_loss: 0.6002\n",
      "Epoch 8/20\n",
      "363/363 [==============================] - 1s 4ms/step - loss: 0.5756 - val_loss: 0.5443\n",
      "Epoch 9/20\n",
      "363/363 [==============================] - 1s 4ms/step - loss: 0.5497 - val_loss: 0.5202\n",
      "Epoch 10/20\n",
      "363/363 [==============================] - 2s 5ms/step - loss: 0.5274 - val_loss: 0.5022\n",
      "Epoch 11/20\n",
      "363/363 [==============================] - 2s 5ms/step - loss: 0.5089 - val_loss: 0.4703\n",
      "Epoch 12/20\n",
      "363/363 [==============================] - 2s 5ms/step - loss: 0.4930 - val_loss: 0.4579\n",
      "Epoch 13/20\n",
      "363/363 [==============================] - 1s 4ms/step - loss: 0.4800 - val_loss: 0.4436\n",
      "Epoch 14/20\n",
      "363/363 [==============================] - 1s 3ms/step - loss: 0.4690 - val_loss: 0.4339\n",
      "Epoch 15/20\n",
      "363/363 [==============================] - 1s 4ms/step - loss: 0.4597 - val_loss: 0.4260\n",
      "Epoch 16/20\n",
      "363/363 [==============================] - 2s 4ms/step - loss: 0.4519 - val_loss: 0.4196\n",
      "Epoch 17/20\n",
      "363/363 [==============================] - 2s 6ms/step - loss: 0.4454 - val_loss: 0.4180\n",
      "Epoch 18/20\n",
      "363/363 [==============================] - 1s 3ms/step - loss: 0.4397 - val_loss: 0.4187\n",
      "Epoch 19/20\n",
      "363/363 [==============================] - 1s 3ms/step - loss: 0.4344 - val_loss: 0.4108\n",
      "Epoch 20/20\n",
      "363/363 [==============================] - 1s 3ms/step - loss: 0.4304 - val_loss: 0.4223\n"
     ]
    }
   ],
   "source": [
    "# Treinando o modelo.\n",
    "history = model.fit(X_train, \n",
    "                    y_train, \n",
    "                    epochs=20,\n",
    "                    validation_data=(X_valid, y_valid)\n",
    "                   )"
   ]
  },
  {
   "cell_type": "code",
   "execution_count": 14,
   "id": "6aba8686",
   "metadata": {},
   "outputs": [],
   "source": [
    "model.save_weights(\"./my_keras_weights.ckpt\")"
   ]
  },
  {
   "cell_type": "markdown",
   "id": "6da1244a",
   "metadata": {},
   "source": [
    "### Importante\n",
    "\n",
    "+ Para carregar os pesos, **precisamos antes ter um modelo instanciado e compilado**."
   ]
  },
  {
   "cell_type": "code",
   "execution_count": 15,
   "id": "f32414a8",
   "metadata": {},
   "outputs": [
    {
     "data": {
      "text/plain": [
       "<tensorflow.python.training.tracking.util.CheckpointLoadStatus at 0x22ce1630460>"
      ]
     },
     "execution_count": 15,
     "metadata": {},
     "output_type": "execute_result"
    }
   ],
   "source": [
    "loaded_model = Regressor()\n",
    "\n",
    "loaded_model.compile(\n",
    "    loss=\"mse\", \n",
    "    optimizer=keras.optimizers.SGD(learning_rate=1e-3)\n",
    ")\n",
    "\n",
    "loaded_model.load_weights(\"./my_keras_weights.ckpt\")"
   ]
  },
  {
   "cell_type": "markdown",
   "id": "760e9617",
   "metadata": {},
   "source": [
    "Depois dos pesos terem sido carregados, podemos fazer predições normalmente."
   ]
  },
  {
   "cell_type": "code",
   "execution_count": 16,
   "id": "a145855f",
   "metadata": {},
   "outputs": [
    {
     "name": "stdout",
     "output_type": "stream",
     "text": [
      "1/1 [==============================] - 0s 173ms/step\n"
     ]
    }
   ],
   "source": [
    "y_pred = loaded_model.predict(X_new)"
   ]
  },
  {
   "cell_type": "code",
   "execution_count": 18,
   "id": "965c3b13",
   "metadata": {},
   "outputs": [
    {
     "name": "stdout",
     "output_type": "stream",
     "text": [
      "Actual: 0.477 - Predicted: 0.481\n",
      "Actual: 0.458 - Predicted: 1.703\n",
      "Actual: 5.000 - Predicted: 3.254\n"
     ]
    }
   ],
   "source": [
    "for i in range(len(y_pred)):\n",
    "    print('Actual: %1.3f - Predicted: %1.3f' % (y_test[i], y_pred[i]))"
   ]
  },
  {
   "cell_type": "code",
   "execution_count": null,
   "id": "0ac82f70",
   "metadata": {},
   "outputs": [],
   "source": []
  }
 ],
 "metadata": {
  "kernelspec": {
   "display_name": "Python 3 (ipykernel)",
   "language": "python",
   "name": "python3"
  },
  "language_info": {
   "codemirror_mode": {
    "name": "ipython",
    "version": 3
   },
   "file_extension": ".py",
   "mimetype": "text/x-python",
   "name": "python",
   "nbconvert_exporter": "python",
   "pygments_lexer": "ipython3",
   "version": "3.9.7"
  }
 },
 "nbformat": 4,
 "nbformat_minor": 5
}
