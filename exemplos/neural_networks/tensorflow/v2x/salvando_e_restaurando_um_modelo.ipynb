{
 "cells": [
  {
   "cell_type": "code",
   "execution_count": 1,
   "id": "d3462d33",
   "metadata": {},
   "outputs": [],
   "source": [
    "import numpy as np\n",
    "import tensorflow as tf\n",
    "from tensorflow import keras\n",
    "import matplotlib.pyplot as plt\n",
    "import pandas as pd\n",
    "\n",
    "from sklearn.datasets import fetch_california_housing\n",
    "from sklearn.model_selection import train_test_split\n",
    "from sklearn.preprocessing import StandardScaler"
   ]
  },
  {
   "cell_type": "code",
   "execution_count": 2,
   "id": "b5bb0875",
   "metadata": {},
   "outputs": [],
   "source": [
    "np.random.seed(42)\n",
    "tf.random.set_seed(42)"
   ]
  },
  {
   "cell_type": "markdown",
   "id": "d115d036",
   "metadata": {},
   "source": [
    "### Carregando o conjunto de dados para regressão. \n",
    "\n",
    "+ Vamos usar o conjunto de dados habitacional da Califórnia e criar um regressor com uma rede neural.\n",
    "\n",
    "+ Depois de carregar os dados, dividimos em um conjunto de treinamento, um conjunto de validação e um conjunto de teste, e padronizamos todos os atributos."
   ]
  },
  {
   "cell_type": "code",
   "execution_count": 3,
   "id": "19295cd5",
   "metadata": {},
   "outputs": [],
   "source": [
    "housing = fetch_california_housing()\n",
    "\n",
    "X_train_full, X_test, y_train_full, y_test = train_test_split(housing.data, housing.target, random_state=42)\n",
    "X_train, X_valid, y_train, y_valid = train_test_split(X_train_full, y_train_full, random_state=42)\n",
    "\n",
    "scaler = StandardScaler()\n",
    "X_train = scaler.fit_transform(X_train)\n",
    "X_valid = scaler.transform(X_valid)\n",
    "X_test = scaler.transform(X_test)"
   ]
  },
  {
   "cell_type": "markdown",
   "id": "93e6299d",
   "metadata": {},
   "source": [
    "### Criando e compilando o modelo.\n",
    "\n",
    "+ Usamos a API sequencial."
   ]
  },
  {
   "cell_type": "code",
   "execution_count": 4,
   "id": "dd86746e",
   "metadata": {},
   "outputs": [],
   "source": [
    "model = keras.models.Sequential([\n",
    "    keras.layers.Dense(30, activation=\"relu\", input_shape=[8]),\n",
    "    keras.layers.Dense(30, activation=\"relu\"),\n",
    "    keras.layers.Dense(1)\n",
    "])\n",
    "\n",
    "model.compile(loss=\"mse\", optimizer=keras.optimizers.SGD(learning_rate=1e-3))"
   ]
  },
  {
   "cell_type": "markdown",
   "id": "e23be100",
   "metadata": {},
   "source": [
    "### Treinando o modelo."
   ]
  },
  {
   "cell_type": "code",
   "execution_count": 5,
   "id": "a0733c17",
   "metadata": {},
   "outputs": [
    {
     "name": "stdout",
     "output_type": "stream",
     "text": [
      "Epoch 1/10\n",
      "363/363 [==============================] - 2s 4ms/step - loss: 1.8866 - val_loss: 0.7126\n",
      "Epoch 2/10\n",
      "363/363 [==============================] - 1s 3ms/step - loss: 0.6577 - val_loss: 0.6880\n",
      "Epoch 3/10\n",
      "363/363 [==============================] - 1s 3ms/step - loss: 0.5934 - val_loss: 0.5803\n",
      "Epoch 4/10\n",
      "363/363 [==============================] - 2s 4ms/step - loss: 0.5557 - val_loss: 0.5166\n",
      "Epoch 5/10\n",
      "363/363 [==============================] - 2s 5ms/step - loss: 0.5272 - val_loss: 0.4895\n",
      "Epoch 6/10\n",
      "363/363 [==============================] - 3s 7ms/step - loss: 0.5033 - val_loss: 0.4951\n",
      "Epoch 7/10\n",
      "363/363 [==============================] - 2s 4ms/step - loss: 0.4854 - val_loss: 0.4861\n",
      "Epoch 8/10\n",
      "363/363 [==============================] - 1s 4ms/step - loss: 0.4709 - val_loss: 0.4554\n",
      "Epoch 9/10\n",
      "363/363 [==============================] - 2s 4ms/step - loss: 0.4578 - val_loss: 0.4413\n",
      "Epoch 10/10\n",
      "363/363 [==============================] - 1s 4ms/step - loss: 0.4474 - val_loss: 0.4379\n"
     ]
    }
   ],
   "source": [
    "history = model.fit(X_train, y_train, epochs=10, validation_data=(X_valid, y_valid))"
   ]
  },
  {
   "cell_type": "markdown",
   "id": "106d68e0",
   "metadata": {},
   "source": [
    "### Salvando o modelo."
   ]
  },
  {
   "cell_type": "code",
   "execution_count": 6,
   "id": "4679cbb0",
   "metadata": {},
   "outputs": [],
   "source": [
    "model.save(\"my_keras_model.h5\")"
   ]
  },
  {
   "cell_type": "markdown",
   "id": "e0d50fd4",
   "metadata": {},
   "source": [
    "### Carregando o modelo salvo."
   ]
  },
  {
   "cell_type": "code",
   "execution_count": 7,
   "id": "8b1aaad2",
   "metadata": {},
   "outputs": [],
   "source": [
    "loaded_model = keras.models.load_model(\"my_keras_model.h5\")"
   ]
  },
  {
   "cell_type": "markdown",
   "id": "c436a8b5",
   "metadata": {},
   "source": [
    "### Realizando predições com o modelo salvo."
   ]
  },
  {
   "cell_type": "code",
   "execution_count": 8,
   "id": "c1c42d64",
   "metadata": {},
   "outputs": [
    {
     "name": "stdout",
     "output_type": "stream",
     "text": [
      "1/1 [==============================] - 0s 162ms/step\n"
     ]
    },
    {
     "data": {
      "text/plain": [
       "array([[0.54002357],\n",
       "       [1.650597  ],\n",
       "       [3.0098243 ]], dtype=float32)"
      ]
     },
     "execution_count": 8,
     "metadata": {},
     "output_type": "execute_result"
    }
   ],
   "source": [
    "X_new = X_test[:3]\n",
    "\n",
    "loaded_model.predict(X_new)"
   ]
  },
  {
   "cell_type": "markdown",
   "id": "1c8d0af6",
   "metadata": {},
   "source": [
    "### Salvando os pesos de modelos criados a partir de subclasses da classe `Model`.\n",
    "\n",
    "+ O método `save()` e a função `load_model` funcionam ao usar as APIs sequencial e funcional, mas, infelizmente, não ao usar subclasses da classe `Model`. \n",
    "\n",
    "+ Porém, podemos usar os métodos `save_weights()` e `load_weights()` para pelo menos salvar e restaurar os parâmetros do modelo. \n",
    "\n",
    "+ Entretanto, precisaremos salvar e restaurar todo o resto nós mesmos."
   ]
  },
  {
   "cell_type": "code",
   "execution_count": 9,
   "id": "6aba8686",
   "metadata": {},
   "outputs": [],
   "source": [
    "model.save_weights(\"my_keras_weights.ckpt\")"
   ]
  },
  {
   "cell_type": "markdown",
   "id": "6da1244a",
   "metadata": {},
   "source": [
    "#### Importante\n",
    "\n",
    "Para carregar os pesos, precisamos antes ter um modelo instanciado e compilado."
   ]
  },
  {
   "cell_type": "code",
   "execution_count": 10,
   "id": "f32414a8",
   "metadata": {},
   "outputs": [
    {
     "data": {
      "text/plain": [
       "<tensorflow.python.training.tracking.util.CheckpointLoadStatus at 0x1cbf04a3850>"
      ]
     },
     "execution_count": 10,
     "metadata": {},
     "output_type": "execute_result"
    }
   ],
   "source": [
    "model.load_weights(\"my_keras_weights.ckpt\")"
   ]
  },
  {
   "cell_type": "markdown",
   "id": "760e9617",
   "metadata": {},
   "source": [
    "Depois dos pesos terem sido carregados, podemos fazer predições normalmente."
   ]
  },
  {
   "cell_type": "code",
   "execution_count": 11,
   "id": "a145855f",
   "metadata": {},
   "outputs": [
    {
     "name": "stdout",
     "output_type": "stream",
     "text": [
      "1/1 [==============================] - 0s 118ms/step\n"
     ]
    },
    {
     "data": {
      "text/plain": [
       "array([[0.54002357],\n",
       "       [1.650597  ],\n",
       "       [3.0098243 ]], dtype=float32)"
      ]
     },
     "execution_count": 11,
     "metadata": {},
     "output_type": "execute_result"
    }
   ],
   "source": [
    "model.predict(X_new)"
   ]
  },
  {
   "cell_type": "code",
   "execution_count": null,
   "id": "965c3b13",
   "metadata": {},
   "outputs": [],
   "source": []
  }
 ],
 "metadata": {
  "kernelspec": {
   "display_name": "Python 3 (ipykernel)",
   "language": "python",
   "name": "python3"
  },
  "language_info": {
   "codemirror_mode": {
    "name": "ipython",
    "version": 3
   },
   "file_extension": ".py",
   "mimetype": "text/x-python",
   "name": "python",
   "nbconvert_exporter": "python",
   "pygments_lexer": "ipython3",
   "version": "3.9.7"
  }
 },
 "nbformat": 4,
 "nbformat_minor": 5
}
