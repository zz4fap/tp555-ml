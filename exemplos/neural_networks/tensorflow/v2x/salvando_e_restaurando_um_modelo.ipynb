{
  "cells": [
    {
      "cell_type": "code",
      "execution_count": 1,
      "id": "d3462d33",
      "metadata": {
        "id": "d3462d33"
      },
      "outputs": [],
      "source": [
        "import numpy as np\n",
        "import tensorflow as tf\n",
        "from tensorflow import keras\n",
        "import matplotlib.pyplot as plt\n",
        "\n",
        "from sklearn.datasets import fetch_california_housing\n",
        "from sklearn.model_selection import train_test_split\n",
        "from sklearn.preprocessing import StandardScaler"
      ]
    },
    {
      "cell_type": "code",
      "execution_count": 2,
      "id": "b5bb0875",
      "metadata": {
        "id": "b5bb0875"
      },
      "outputs": [],
      "source": [
        "np.random.seed(42)\n",
        "tf.random.set_seed(42)"
      ]
    },
    {
      "cell_type": "markdown",
      "id": "d115d036",
      "metadata": {
        "id": "d115d036"
      },
      "source": [
        "### Carregando o conjunto de dados para regressão.\n",
        "\n",
        "+ Vamos usar o conjunto de dados habitacional da Califórnia e criar um regressor com uma rede neural.\n",
        "\n",
        "+ Depois de carregar os dados, dividimos em um conjunto de treinamento, um conjunto de validação e um conjunto de teste, e padronizamos todos os atributos."
      ]
    },
    {
      "cell_type": "code",
      "execution_count": 3,
      "id": "19295cd5",
      "metadata": {
        "id": "19295cd5"
      },
      "outputs": [],
      "source": [
        "# Baixa a base de dados.\n",
        "housing = fetch_california_housing()\n",
        "\n",
        "# Divide o conjunto total de exemplos em conjuntos de treinamento e teste.\n",
        "X_train_full, X_test, y_train_full, y_test = train_test_split(housing.data, housing.target, random_state=42)\n",
        "\n",
        "# Divide o conjunto de treinamento em conjuntos de treinamento (menor) e validação.\n",
        "X_train, X_valid, y_train, y_valid = train_test_split(X_train_full, y_train_full, random_state=42)\n",
        "\n",
        "# Aplica padronização às matrizes de atributos.\n",
        "scaler = StandardScaler()\n",
        "X_train = scaler.fit_transform(X_train)\n",
        "X_valid = scaler.transform(X_valid)\n",
        "X_test = scaler.transform(X_test)"
      ]
    },
    {
      "cell_type": "markdown",
      "id": "93e6299d",
      "metadata": {
        "id": "93e6299d"
      },
      "source": [
        "### Criando e compilando o modelo.\n",
        "\n",
        "+ Neste exemplos usaremos a API sequencial, mas o método `save()` funciona também para a API funcional."
      ]
    },
    {
      "cell_type": "code",
      "execution_count": 4,
      "id": "dd86746e",
      "metadata": {
        "id": "dd86746e"
      },
      "outputs": [],
      "source": [
        "model = keras.models.Sequential(\n",
        "    [\n",
        "        keras.layers.Input(shape=[8]),\n",
        "        keras.layers.Dense(30, activation=\"relu\", name='hidden1'),\n",
        "        keras.layers.Dense(30, activation=\"relu\", name='hidden2'),\n",
        "        keras.layers.Dense(1, name='output')\n",
        "    ]\n",
        ")\n",
        "\n",
        "model.compile(loss=\"mse\", optimizer=keras.optimizers.SGD(learning_rate=1e-3))"
      ]
    },
    {
      "cell_type": "markdown",
      "id": "e23be100",
      "metadata": {
        "id": "e23be100"
      },
      "source": [
        "### Treinando o modelo."
      ]
    },
    {
      "cell_type": "code",
      "execution_count": 5,
      "id": "a0733c17",
      "metadata": {
        "id": "a0733c17",
        "outputId": "ca2a0cf4-707d-411b-81aa-c5dc94a38905",
        "colab": {
          "base_uri": "https://localhost:8080/"
        }
      },
      "outputs": [
        {
          "output_type": "stream",
          "name": "stdout",
          "text": [
            "Epoch 1/10\n",
            "\u001b[1m363/363\u001b[0m \u001b[32m━━━━━━━━━━━━━━━━━━━━\u001b[0m\u001b[37m\u001b[0m \u001b[1m2s\u001b[0m 4ms/step - loss: 2.6836 - val_loss: 1.9253\n",
            "Epoch 2/10\n",
            "\u001b[1m363/363\u001b[0m \u001b[32m━━━━━━━━━━━━━━━━━━━━\u001b[0m\u001b[37m\u001b[0m \u001b[1m2s\u001b[0m 2ms/step - loss: 0.8198 - val_loss: 0.6977\n",
            "Epoch 3/10\n",
            "\u001b[1m363/363\u001b[0m \u001b[32m━━━━━━━━━━━━━━━━━━━━\u001b[0m\u001b[37m\u001b[0m \u001b[1m1s\u001b[0m 2ms/step - loss: 0.7034 - val_loss: 0.6032\n",
            "Epoch 4/10\n",
            "\u001b[1m363/363\u001b[0m \u001b[32m━━━━━━━━━━━━━━━━━━━━\u001b[0m\u001b[37m\u001b[0m \u001b[1m1s\u001b[0m 2ms/step - loss: 0.6609 - val_loss: 0.5869\n",
            "Epoch 5/10\n",
            "\u001b[1m363/363\u001b[0m \u001b[32m━━━━━━━━━━━━━━━━━━━━\u001b[0m\u001b[37m\u001b[0m \u001b[1m1s\u001b[0m 2ms/step - loss: 0.6294 - val_loss: 0.5665\n",
            "Epoch 6/10\n",
            "\u001b[1m363/363\u001b[0m \u001b[32m━━━━━━━━━━━━━━━━━━━━\u001b[0m\u001b[37m\u001b[0m \u001b[1m1s\u001b[0m 2ms/step - loss: 0.6034 - val_loss: 0.5448\n",
            "Epoch 7/10\n",
            "\u001b[1m363/363\u001b[0m \u001b[32m━━━━━━━━━━━━━━━━━━━━\u001b[0m\u001b[37m\u001b[0m \u001b[1m1s\u001b[0m 2ms/step - loss: 0.5812 - val_loss: 0.5240\n",
            "Epoch 8/10\n",
            "\u001b[1m363/363\u001b[0m \u001b[32m━━━━━━━━━━━━━━━━━━━━\u001b[0m\u001b[37m\u001b[0m \u001b[1m1s\u001b[0m 2ms/step - loss: 0.5620 - val_loss: 0.5052\n",
            "Epoch 9/10\n",
            "\u001b[1m363/363\u001b[0m \u001b[32m━━━━━━━━━━━━━━━━━━━━\u001b[0m\u001b[37m\u001b[0m \u001b[1m1s\u001b[0m 2ms/step - loss: 0.5450 - val_loss: 0.4888\n",
            "Epoch 10/10\n",
            "\u001b[1m363/363\u001b[0m \u001b[32m━━━━━━━━━━━━━━━━━━━━\u001b[0m\u001b[37m\u001b[0m \u001b[1m1s\u001b[0m 2ms/step - loss: 0.5300 - val_loss: 0.4732\n"
          ]
        }
      ],
      "source": [
        "history = model.fit(X_train, y_train,\n",
        "                    epochs=10,\n",
        "                    validation_data=(X_valid, y_valid)\n",
        "                   )"
      ]
    },
    {
      "cell_type": "markdown",
      "id": "106d68e0",
      "metadata": {
        "id": "106d68e0"
      },
      "source": [
        "### Salvando o modelo."
      ]
    },
    {
      "cell_type": "code",
      "execution_count": 6,
      "id": "4679cbb0",
      "metadata": {
        "id": "4679cbb0"
      },
      "outputs": [],
      "source": [
        "model.save(\"./my_keras_model.keras\")"
      ]
    },
    {
      "cell_type": "markdown",
      "id": "e0d50fd4",
      "metadata": {
        "id": "e0d50fd4"
      },
      "source": [
        "### Carregando o modelo salvo."
      ]
    },
    {
      "cell_type": "code",
      "execution_count": 7,
      "id": "8b1aaad2",
      "metadata": {
        "id": "8b1aaad2"
      },
      "outputs": [],
      "source": [
        "loaded_model = keras.models.load_model(\"./my_keras_model.keras\")"
      ]
    },
    {
      "cell_type": "markdown",
      "id": "c436a8b5",
      "metadata": {
        "id": "c436a8b5"
      },
      "source": [
        "### Realizando predições com o modelo salvo."
      ]
    },
    {
      "cell_type": "code",
      "execution_count": 8,
      "id": "c1c42d64",
      "metadata": {
        "id": "c1c42d64",
        "outputId": "355eef01-e8f3-4b84-a246-55289e57926f",
        "colab": {
          "base_uri": "https://localhost:8080/"
        }
      },
      "outputs": [
        {
          "output_type": "stream",
          "name": "stdout",
          "text": [
            "\u001b[1m1/1\u001b[0m \u001b[32m━━━━━━━━━━━━━━━━━━━━\u001b[0m\u001b[37m\u001b[0m \u001b[1m0s\u001b[0m 53ms/step\n"
          ]
        }
      ],
      "source": [
        "X_new = X_test[:3]\n",
        "\n",
        "y_pred = loaded_model.predict(X_new)"
      ]
    },
    {
      "cell_type": "code",
      "execution_count": 16,
      "id": "2ad508bd",
      "metadata": {
        "id": "2ad508bd",
        "outputId": "3f4bc549-41c9-49c6-e93d-d43cc015ab6d",
        "colab": {
          "base_uri": "https://localhost:8080/"
        }
      },
      "outputs": [
        {
          "output_type": "stream",
          "name": "stdout",
          "text": [
            "Actual: 0.477 - Predicted: 0.667\n",
            "Actual: 0.458 - Predicted: 1.668\n",
            "Actual: 5.000 - Predicted: 3.141\n"
          ]
        }
      ],
      "source": [
        "for i in range(len(y_pred)):\n",
        "    print('Actual: %1.3f - Predicted: %1.3f' % (y_test[i], y_pred[i,0]))"
      ]
    }
  ],
  "metadata": {
    "kernelspec": {
      "display_name": "Python 3 (ipykernel)",
      "language": "python",
      "name": "python3"
    },
    "language_info": {
      "codemirror_mode": {
        "name": "ipython",
        "version": 3
      },
      "file_extension": ".py",
      "mimetype": "text/x-python",
      "name": "python",
      "nbconvert_exporter": "python",
      "pygments_lexer": "ipython3",
      "version": "3.10.9"
    },
    "colab": {
      "provenance": []
    }
  },
  "nbformat": 4,
  "nbformat_minor": 5
}