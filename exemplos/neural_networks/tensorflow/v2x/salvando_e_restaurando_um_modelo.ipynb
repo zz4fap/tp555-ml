{
 "cells": [
  {
   "cell_type": "code",
   "execution_count": 1,
   "id": "d3462d33",
   "metadata": {},
   "outputs": [],
   "source": [
    "import numpy as np\n",
    "import tensorflow as tf\n",
    "from tensorflow import keras\n",
    "import matplotlib.pyplot as plt\n",
    "import pandas as pd\n",
    "\n",
    "from sklearn.datasets import fetch_california_housing\n",
    "from sklearn.model_selection import train_test_split\n",
    "from sklearn.preprocessing import StandardScaler"
   ]
  },
  {
   "cell_type": "code",
   "execution_count": 2,
   "id": "b5bb0875",
   "metadata": {},
   "outputs": [],
   "source": [
    "np.random.seed(42)\n",
    "tf.random.set_seed(42)"
   ]
  },
  {
   "cell_type": "markdown",
   "id": "d115d036",
   "metadata": {},
   "source": [
    "### Carregando o conjunto de dados para regressão. \n",
    "\n",
    "+ Vamos usar o conjunto de dados habitacional da Califórnia e criar um regressor com uma rede neural.\n",
    "\n",
    "+ Depois de carregar os dados, dividimos em um conjunto de treinamento, um conjunto de validação e um conjunto de teste, e padronizamos todos os atributos."
   ]
  },
  {
   "cell_type": "code",
   "execution_count": 3,
   "id": "19295cd5",
   "metadata": {},
   "outputs": [],
   "source": [
    "# Baixa a base de dados.\n",
    "housing = fetch_california_housing()\n",
    "\n",
    "# Divide o conjunto total de exemplos em conjuntos de treinamento e teste.\n",
    "X_train_full, X_test, y_train_full, y_test = train_test_split(housing.data, housing.target, random_state=42)\n",
    "\n",
    "# Divide o conjunto de treinamento em conjuntos de treinamento (menor) e validação.\n",
    "X_train, X_valid, y_train, y_valid = train_test_split(X_train_full, y_train_full, random_state=42)\n",
    "\n",
    "# Aplica padronização às matrizes de atributos.\n",
    "scaler = StandardScaler()\n",
    "X_train = scaler.fit_transform(X_train)\n",
    "X_valid = scaler.transform(X_valid)\n",
    "X_test = scaler.transform(X_test)"
   ]
  },
  {
   "cell_type": "markdown",
   "id": "93e6299d",
   "metadata": {},
   "source": [
    "### Criando e compilando o modelo.\n",
    "\n",
    "+ Neste exemplos usaremos a API sequencial, mas o método `save()` funciona também para a API funcional."
   ]
  },
  {
   "cell_type": "code",
   "execution_count": 5,
   "id": "dd86746e",
   "metadata": {},
   "outputs": [],
   "source": [
    "model = keras.models.Sequential(\n",
    "    [\n",
    "        keras.layers.Dense(30, activation=\"relu\", input_shape=[8]),\n",
    "        keras.layers.Dense(30, activation=\"relu\"),\n",
    "        keras.layers.Dense(1)\n",
    "    ]\n",
    ")\n",
    "\n",
    "model.compile(loss=\"mse\", optimizer=keras.optimizers.SGD(learning_rate=1e-3))"
   ]
  },
  {
   "cell_type": "markdown",
   "id": "e23be100",
   "metadata": {},
   "source": [
    "### Treinando o modelo."
   ]
  },
  {
   "cell_type": "code",
   "execution_count": 6,
   "id": "a0733c17",
   "metadata": {},
   "outputs": [
    {
     "name": "stdout",
     "output_type": "stream",
     "text": [
      "Epoch 1/10\n",
      "363/363 [==============================] - 2s 4ms/step - loss: 1.8542 - val_loss: 1.3779\n",
      "Epoch 2/10\n",
      "363/363 [==============================] - 1s 3ms/step - loss: 0.7854 - val_loss: 0.6885\n",
      "Epoch 3/10\n",
      "363/363 [==============================] - 1s 3ms/step - loss: 0.6817 - val_loss: 0.6645\n",
      "Epoch 4/10\n",
      "363/363 [==============================] - 1s 3ms/step - loss: 0.6283 - val_loss: 0.5944\n",
      "Epoch 5/10\n",
      "363/363 [==============================] - 1s 3ms/step - loss: 0.5868 - val_loss: 0.5505\n",
      "Epoch 6/10\n",
      "363/363 [==============================] - 1s 4ms/step - loss: 0.5510 - val_loss: 0.5211\n",
      "Epoch 7/10\n",
      "363/363 [==============================] - 2s 5ms/step - loss: 0.5225 - val_loss: 0.5055\n",
      "Epoch 8/10\n",
      "363/363 [==============================] - 2s 5ms/step - loss: 0.4993 - val_loss: 0.4648\n",
      "Epoch 9/10\n",
      "363/363 [==============================] - 2s 5ms/step - loss: 0.4803 - val_loss: 0.4442\n",
      "Epoch 10/10\n",
      "363/363 [==============================] - 2s 6ms/step - loss: 0.4649 - val_loss: 0.4304\n"
     ]
    }
   ],
   "source": [
    "history = model.fit(X_train, y_train, \n",
    "                    epochs=10, \n",
    "                    validation_data=(X_valid, y_valid)\n",
    "                   )"
   ]
  },
  {
   "cell_type": "markdown",
   "id": "106d68e0",
   "metadata": {},
   "source": [
    "### Salvando o modelo."
   ]
  },
  {
   "cell_type": "code",
   "execution_count": 8,
   "id": "4679cbb0",
   "metadata": {},
   "outputs": [],
   "source": [
    "model.save(\"./my_keras_model.h5\")"
   ]
  },
  {
   "cell_type": "markdown",
   "id": "e0d50fd4",
   "metadata": {},
   "source": [
    "### Carregando o modelo salvo."
   ]
  },
  {
   "cell_type": "code",
   "execution_count": 9,
   "id": "8b1aaad2",
   "metadata": {},
   "outputs": [],
   "source": [
    "loaded_model = keras.models.load_model(\"./my_keras_model.h5\")"
   ]
  },
  {
   "cell_type": "markdown",
   "id": "c436a8b5",
   "metadata": {},
   "source": [
    "### Realizando predições com o modelo salvo."
   ]
  },
  {
   "cell_type": "code",
   "execution_count": 11,
   "id": "c1c42d64",
   "metadata": {},
   "outputs": [
    {
     "name": "stdout",
     "output_type": "stream",
     "text": [
      "1/1 [==============================] - 0s 24ms/step\n"
     ]
    }
   ],
   "source": [
    "X_new = X_test[:3]\n",
    "\n",
    "y_pred = loaded_model.predict(X_new)"
   ]
  },
  {
   "cell_type": "code",
   "execution_count": 12,
   "id": "2ad508bd",
   "metadata": {},
   "outputs": [
    {
     "name": "stdout",
     "output_type": "stream",
     "text": [
      "Actual: 0.477 - Predicted: 0.804\n",
      "Actual: 0.458 - Predicted: 1.559\n",
      "Actual: 5.000 - Predicted: 3.003\n"
     ]
    }
   ],
   "source": [
    "for i in range(len(y_pred)):\n",
    "    print('Actual: %1.3f - Predicted: %1.3f' % (y_test[i], y_pred[i]))"
   ]
  },
  {
   "cell_type": "markdown",
   "id": "1c8d0af6",
   "metadata": {},
   "source": [
    "### Salvando os pesos de modelos criados a partir de subclasses da classe `Model`.\n",
    "\n",
    "+ O método `save()` e a função `load_model` funcionam ao usar as APIs sequencial e funcional, mas, infelizmente, não ao usar subclasses da classe `Model`. \n",
    "\n",
    "+ Porém, podemos usar os métodos `save_weights()` e `load_weights()` para pelo menos salvar e restaurar os parâmetros do modelo. \n",
    "\n",
    "+ Entretanto, precisaremos salvar e restaurar todo o resto nós mesmos."
   ]
  },
  {
   "cell_type": "code",
   "execution_count": 14,
   "id": "6aba8686",
   "metadata": {},
   "outputs": [],
   "source": [
    "model.save_weights(\"./my_keras_weights.ckpt\")"
   ]
  },
  {
   "cell_type": "markdown",
   "id": "6da1244a",
   "metadata": {},
   "source": [
    "#### Importante\n",
    "\n",
    "Para carregar os pesos, **precisamos antes ter um modelo instanciado e compilado**."
   ]
  },
  {
   "cell_type": "code",
   "execution_count": 18,
   "id": "f32414a8",
   "metadata": {},
   "outputs": [
    {
     "data": {
      "text/plain": [
       "<tensorflow.python.training.tracking.util.CheckpointLoadStatus at 0x22afac6fa00>"
      ]
     },
     "execution_count": 18,
     "metadata": {},
     "output_type": "execute_result"
    }
   ],
   "source": [
    "model.load_weights(\"./my_keras_weights.ckpt\")"
   ]
  },
  {
   "cell_type": "markdown",
   "id": "760e9617",
   "metadata": {},
   "source": [
    "Depois dos pesos terem sido carregados, podemos fazer predições normalmente."
   ]
  },
  {
   "cell_type": "code",
   "execution_count": 16,
   "id": "a145855f",
   "metadata": {},
   "outputs": [
    {
     "name": "stdout",
     "output_type": "stream",
     "text": [
      "1/1 [==============================] - 0s 80ms/step\n"
     ]
    }
   ],
   "source": [
    "y_pred = model.predict(X_new)"
   ]
  },
  {
   "cell_type": "code",
   "execution_count": 17,
   "id": "965c3b13",
   "metadata": {},
   "outputs": [
    {
     "name": "stdout",
     "output_type": "stream",
     "text": [
      "Actual: 0.477 - Predicted: 0.804\n",
      "Actual: 0.458 - Predicted: 1.559\n",
      "Actual: 5.000 - Predicted: 3.003\n"
     ]
    }
   ],
   "source": [
    "for i in range(len(y_pred)):\n",
    "    print('Actual: %1.3f - Predicted: %1.3f' % (y_test[i], y_pred[i]))"
   ]
  }
 ],
 "metadata": {
  "kernelspec": {
   "display_name": "Python 3 (ipykernel)",
   "language": "python",
   "name": "python3"
  },
  "language_info": {
   "codemirror_mode": {
    "name": "ipython",
    "version": 3
   },
   "file_extension": ".py",
   "mimetype": "text/x-python",
   "name": "python",
   "nbconvert_exporter": "python",
   "pygments_lexer": "ipython3",
   "version": "3.9.7"
  }
 },
 "nbformat": 4,
 "nbformat_minor": 5
}
