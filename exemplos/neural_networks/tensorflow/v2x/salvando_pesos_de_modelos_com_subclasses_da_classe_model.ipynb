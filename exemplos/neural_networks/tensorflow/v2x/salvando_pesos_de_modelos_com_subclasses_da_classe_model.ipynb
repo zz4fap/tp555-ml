{
  "nbformat": 4,
  "nbformat_minor": 0,
  "metadata": {
    "colab": {
      "provenance": []
    },
    "kernelspec": {
      "name": "python3",
      "display_name": "Python 3"
    },
    "language_info": {
      "name": "python"
    }
  },
  "cells": [
    {
      "cell_type": "code",
      "source": [
        "import numpy as np\n",
        "import tensorflow as tf\n",
        "from tensorflow import keras\n",
        "import matplotlib.pyplot as plt\n",
        "\n",
        "from sklearn.datasets import fetch_california_housing\n",
        "from sklearn.model_selection import train_test_split\n",
        "from sklearn.preprocessing import StandardScaler"
      ],
      "metadata": {
        "id": "cwESHi4DNKa2"
      },
      "execution_count": 9,
      "outputs": []
    },
    {
      "cell_type": "code",
      "source": [
        "np.random.seed(42)\n",
        "tf.random.set_seed(42)"
      ],
      "metadata": {
        "id": "x5BBb88ANMfQ"
      },
      "execution_count": 10,
      "outputs": []
    },
    {
      "cell_type": "markdown",
      "source": [
        "### Carregando o conjunto de dados para regressão.\n",
        "\n",
        "+ Vamos usar o conjunto de dados habitacional da Califórnia e criar um regressor com uma rede neural.\n",
        "\n",
        "+ Depois de carregar os dados, dividimos em um conjunto de treinamento, um conjunto de validação e um conjunto de teste, e padronizamos todos os atributos."
      ],
      "metadata": {
        "id": "QrV7gAiLNhEh"
      }
    },
    {
      "cell_type": "code",
      "source": [
        "# Baixa a base de dados.\n",
        "housing = fetch_california_housing()\n",
        "\n",
        "# Divide o conjunto total de exemplos em conjuntos de treinamento e teste.\n",
        "X_train_full, X_test, y_train_full, y_test = train_test_split(housing.data, housing.target, random_state=42)\n",
        "\n",
        "# Divide o conjunto de treinamento em conjuntos de treinamento (menor) e validação.\n",
        "X_train, X_valid, y_train, y_valid = train_test_split(X_train_full, y_train_full, random_state=42)\n",
        "\n",
        "# Aplica padronização às matrizes de atributos.\n",
        "scaler = StandardScaler()\n",
        "X_train = scaler.fit_transform(X_train)\n",
        "X_valid = scaler.transform(X_valid)\n",
        "X_test = scaler.transform(X_test)"
      ],
      "metadata": {
        "id": "4YMb7qEgNgeG"
      },
      "execution_count": 11,
      "outputs": []
    },
    {
      "cell_type": "markdown",
      "source": [
        "### Salvando os pesos de modelos criados a partir de subclasses da classe `Model`.\n",
        "\n",
        "+ O método `save()` e a função `load_model` funcionam ao usar as APIs sequencial e funcional, **mas, infelizmente, não ao usar subclasses da classe `Model`.**\n",
        "\n",
        "+ Porém, podemos usar os métodos `save_weights()` e `load_weights()` para pelo menos salvar e restaurar os parâmetros do modelo.\n",
        "\n",
        "+ Entretanto, precisaremos salvar e restaurar todo o resto nós mesmos."
      ],
      "metadata": {
        "id": "PQmHGIBLMgaE"
      }
    },
    {
      "cell_type": "code",
      "execution_count": 12,
      "metadata": {
        "id": "b5Cb_h0OMfGr"
      },
      "outputs": [],
      "source": [
        "class Regressor(keras.models.Model):\n",
        "\n",
        "    def __init__(self, units=30, activation=\"relu\", **kwargs):\n",
        "        super().__init__(**kwargs) # lida com parâmetros padrão como, por exemplo, name.\n",
        "        self.hidden = keras.layers.Dense(units, activation=activation, name=\"input\")\n",
        "        self.out = keras.layers.Dense(1)\n",
        "\n",
        "    def call(self, inputs):\n",
        "        hidden = self.hidden(inputs)\n",
        "        out = self.out(hidden)\n",
        "        return out"
      ]
    },
    {
      "cell_type": "code",
      "source": [
        "model = Regressor()"
      ],
      "metadata": {
        "id": "ou0Za2lKMlhq"
      },
      "execution_count": 13,
      "outputs": []
    },
    {
      "cell_type": "code",
      "source": [
        "model.compile(\n",
        "    loss=\"mse\",\n",
        "    optimizer=keras.optimizers.SGD(learning_rate=1e-3)\n",
        ")"
      ],
      "metadata": {
        "id": "_kyUvk5PMm9D"
      },
      "execution_count": 14,
      "outputs": []
    },
    {
      "cell_type": "code",
      "source": [
        "# Treinando o modelo.\n",
        "history = model.fit(X_train,\n",
        "                    y_train,\n",
        "                    epochs=20,\n",
        "                    validation_data=(X_valid, y_valid)\n",
        "                   )"
      ],
      "metadata": {
        "colab": {
          "base_uri": "https://localhost:8080/"
        },
        "id": "Era6L75hMm__",
        "outputId": "396b8bb1-c289-4c61-c81f-fb699411d9b6"
      },
      "execution_count": 15,
      "outputs": [
        {
          "output_type": "stream",
          "name": "stdout",
          "text": [
            "Epoch 1/20\n",
            "\u001b[1m363/363\u001b[0m \u001b[32m━━━━━━━━━━━━━━━━━━━━\u001b[0m\u001b[37m\u001b[0m \u001b[1m1s\u001b[0m 2ms/step - loss: 2.4101 - val_loss: 0.8490\n",
            "Epoch 2/20\n",
            "\u001b[1m363/363\u001b[0m \u001b[32m━━━━━━━━━━━━━━━━━━━━\u001b[0m\u001b[37m\u001b[0m \u001b[1m1s\u001b[0m 2ms/step - loss: 0.8218 - val_loss: 0.7208\n",
            "Epoch 3/20\n",
            "\u001b[1m363/363\u001b[0m \u001b[32m━━━━━━━━━━━━━━━━━━━━\u001b[0m\u001b[37m\u001b[0m \u001b[1m1s\u001b[0m 2ms/step - loss: 0.7360 - val_loss: 0.6585\n",
            "Epoch 4/20\n",
            "\u001b[1m363/363\u001b[0m \u001b[32m━━━━━━━━━━━━━━━━━━━━\u001b[0m\u001b[37m\u001b[0m \u001b[1m1s\u001b[0m 2ms/step - loss: 0.6853 - val_loss: 0.6130\n",
            "Epoch 5/20\n",
            "\u001b[1m363/363\u001b[0m \u001b[32m━━━━━━━━━━━━━━━━━━━━\u001b[0m\u001b[37m\u001b[0m \u001b[1m1s\u001b[0m 1ms/step - loss: 0.6455 - val_loss: 0.5771\n",
            "Epoch 6/20\n",
            "\u001b[1m363/363\u001b[0m \u001b[32m━━━━━━━━━━━━━━━━━━━━\u001b[0m\u001b[37m\u001b[0m \u001b[1m1s\u001b[0m 4ms/step - loss: 0.6130 - val_loss: 0.5482\n",
            "Epoch 7/20\n",
            "\u001b[1m363/363\u001b[0m \u001b[32m━━━━━━━━━━━━━━━━━━━━\u001b[0m\u001b[37m\u001b[0m \u001b[1m3s\u001b[0m 4ms/step - loss: 0.5860 - val_loss: 0.5242\n",
            "Epoch 8/20\n",
            "\u001b[1m363/363\u001b[0m \u001b[32m━━━━━━━━━━━━━━━━━━━━\u001b[0m\u001b[37m\u001b[0m \u001b[1m3s\u001b[0m 5ms/step - loss: 0.5634 - val_loss: 0.5043\n",
            "Epoch 9/20\n",
            "\u001b[1m363/363\u001b[0m \u001b[32m━━━━━━━━━━━━━━━━━━━━\u001b[0m\u001b[37m\u001b[0m \u001b[1m3s\u001b[0m 7ms/step - loss: 0.5442 - val_loss: 0.4876\n",
            "Epoch 10/20\n",
            "\u001b[1m363/363\u001b[0m \u001b[32m━━━━━━━━━━━━━━━━━━━━\u001b[0m\u001b[37m\u001b[0m \u001b[1m2s\u001b[0m 4ms/step - loss: 0.5277 - val_loss: 0.4740\n",
            "Epoch 11/20\n",
            "\u001b[1m363/363\u001b[0m \u001b[32m━━━━━━━━━━━━━━━━━━━━\u001b[0m\u001b[37m\u001b[0m \u001b[1m2s\u001b[0m 1ms/step - loss: 0.5139 - val_loss: 0.4629\n",
            "Epoch 12/20\n",
            "\u001b[1m363/363\u001b[0m \u001b[32m━━━━━━━━━━━━━━━━━━━━\u001b[0m\u001b[37m\u001b[0m \u001b[1m1s\u001b[0m 2ms/step - loss: 0.5021 - val_loss: 0.4536\n",
            "Epoch 13/20\n",
            "\u001b[1m363/363\u001b[0m \u001b[32m━━━━━━━━━━━━━━━━━━━━\u001b[0m\u001b[37m\u001b[0m \u001b[1m1s\u001b[0m 2ms/step - loss: 0.4920 - val_loss: 0.4461\n",
            "Epoch 14/20\n",
            "\u001b[1m363/363\u001b[0m \u001b[32m━━━━━━━━━━━━━━━━━━━━\u001b[0m\u001b[37m\u001b[0m \u001b[1m1s\u001b[0m 1ms/step - loss: 0.4833 - val_loss: 0.4400\n",
            "Epoch 15/20\n",
            "\u001b[1m363/363\u001b[0m \u001b[32m━━━━━━━━━━━━━━━━━━━━\u001b[0m\u001b[37m\u001b[0m \u001b[1m1s\u001b[0m 1ms/step - loss: 0.4757 - val_loss: 0.4348\n",
            "Epoch 16/20\n",
            "\u001b[1m363/363\u001b[0m \u001b[32m━━━━━━━━━━━━━━━━━━━━\u001b[0m\u001b[37m\u001b[0m \u001b[1m1s\u001b[0m 1ms/step - loss: 0.4690 - val_loss: 0.4305\n",
            "Epoch 17/20\n",
            "\u001b[1m363/363\u001b[0m \u001b[32m━━━━━━━━━━━━━━━━━━━━\u001b[0m\u001b[37m\u001b[0m \u001b[1m1s\u001b[0m 2ms/step - loss: 0.4631 - val_loss: 0.4268\n",
            "Epoch 18/20\n",
            "\u001b[1m363/363\u001b[0m \u001b[32m━━━━━━━━━━━━━━━━━━━━\u001b[0m\u001b[37m\u001b[0m \u001b[1m1s\u001b[0m 2ms/step - loss: 0.4577 - val_loss: 0.4236\n",
            "Epoch 19/20\n",
            "\u001b[1m363/363\u001b[0m \u001b[32m━━━━━━━━━━━━━━━━━━━━\u001b[0m\u001b[37m\u001b[0m \u001b[1m1s\u001b[0m 2ms/step - loss: 0.4527 - val_loss: 0.4208\n",
            "Epoch 20/20\n",
            "\u001b[1m363/363\u001b[0m \u001b[32m━━━━━━━━━━━━━━━━━━━━\u001b[0m\u001b[37m\u001b[0m \u001b[1m1s\u001b[0m 1ms/step - loss: 0.4482 - val_loss: 0.4185\n"
          ]
        }
      ]
    },
    {
      "cell_type": "code",
      "source": [
        "X_new = X_test[:3]\n",
        "\n",
        "y_pred = model.predict(X_new)\n",
        "\n",
        "for i in range(len(y_pred)):\n",
        "    print('Actual: %1.3f - Predicted: %1.3f' % (y_test[i], y_pred[i,0]))"
      ],
      "metadata": {
        "colab": {
          "base_uri": "https://localhost:8080/"
        },
        "id": "1vuZgPHYMpKH",
        "outputId": "187a240b-b3d6-4c3b-c2ee-86b85ecbdcf9"
      },
      "execution_count": 18,
      "outputs": [
        {
          "output_type": "stream",
          "name": "stdout",
          "text": [
            "\u001b[1m1/1\u001b[0m \u001b[32m━━━━━━━━━━━━━━━━━━━━\u001b[0m\u001b[37m\u001b[0m \u001b[1m0s\u001b[0m 60ms/step\n",
            "Actual: 0.477 - Predicted: 0.483\n",
            "Actual: 0.458 - Predicted: 1.642\n",
            "Actual: 5.000 - Predicted: 3.264\n"
          ]
        }
      ]
    },
    {
      "cell_type": "code",
      "source": [
        "model.save_weights(\"./my_keras_weights.weights.h5\")"
      ],
      "metadata": {
        "id": "CHjTk-nKMpM9"
      },
      "execution_count": 19,
      "outputs": []
    },
    {
      "cell_type": "markdown",
      "source": [
        "### Importante\n",
        "\n",
        "+ Para carregar os pesos, **precisamos antes ter um modelo instanciado e compilado**."
      ],
      "metadata": {
        "id": "DLqUujJjMuaz"
      }
    },
    {
      "cell_type": "code",
      "source": [
        "loaded_model = Regressor()\n",
        "\n",
        "loaded_model.compile(\n",
        "    loss=\"mse\",\n",
        "    optimizer=keras.optimizers.SGD(learning_rate=1e-3)\n",
        ")\n",
        "\n",
        "loaded_model.load_weights(\"./my_keras_weights.weights.h5\")"
      ],
      "metadata": {
        "id": "eg68gSWDMvUO"
      },
      "execution_count": 20,
      "outputs": []
    },
    {
      "cell_type": "markdown",
      "source": [
        "Depois dos pesos terem sido carregados, podemos fazer predições normalmente."
      ],
      "metadata": {
        "id": "Q08kfeNNM00b"
      }
    },
    {
      "cell_type": "code",
      "source": [
        "y_pred = loaded_model.predict(X_new)"
      ],
      "metadata": {
        "colab": {
          "base_uri": "https://localhost:8080/"
        },
        "id": "xZhWBBXzMxP4",
        "outputId": "d2d8e6df-b412-46cb-fa85-3b2b2d3a9b3f"
      },
      "execution_count": 21,
      "outputs": [
        {
          "output_type": "stream",
          "name": "stdout",
          "text": [
            "\u001b[1m1/1\u001b[0m \u001b[32m━━━━━━━━━━━━━━━━━━━━\u001b[0m\u001b[37m\u001b[0m \u001b[1m0s\u001b[0m 79ms/step\n"
          ]
        }
      ]
    },
    {
      "cell_type": "code",
      "source": [
        "for i in range(len(y_pred)):\n",
        "    print('Actual: %1.3f - Predicted: %1.3f' % (y_test[i], y_pred[i,0]))"
      ],
      "metadata": {
        "colab": {
          "base_uri": "https://localhost:8080/"
        },
        "id": "oHsQpRcyM5ba",
        "outputId": "a3d435b5-66c2-4bd7-da0d-b3c7422c2249"
      },
      "execution_count": 22,
      "outputs": [
        {
          "output_type": "stream",
          "name": "stdout",
          "text": [
            "Actual: 0.477 - Predicted: 0.143\n",
            "Actual: 0.458 - Predicted: 0.119\n",
            "Actual: 5.000 - Predicted: -1.284\n"
          ]
        }
      ]
    }
  ]
}