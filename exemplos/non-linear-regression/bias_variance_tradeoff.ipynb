{
 "cells": [
  {
   "cell_type": "markdown",
   "metadata": {},
   "source": [
    "# The Bias-Variance Tradeoff\n",
    "\n",
    "Seja $y_{noisy}$ a variável que queremos predizer e $\\hat{y}$ nossa função hipótese. Se considerarmos o número de amostras $N$ consideradas no cálculo do erro quadrático médio como tendendo ao infinito, então temos\n",
    "\n",
    "$$\\lim_{N \\to \\infty} \\frac{1}{N} \\sum_{n=0}^{N-1} (y_{noisy} - \\hat{y})^2 \n",
    "%\n",
    "\\\\ = E[(y_{noisy} - \\hat{y})^2].\n",
    "$$\n",
    "\n",
    "Lembrando que $y_{noisy} = y + w$, então\n",
    "$$E[(y_{noisy} - \\hat{y})^2] = E[(y + w - \\hat{y})^2].$$\n",
    "\n",
    "Expandindo a equação acima e agrupando alguns termos, temos\n",
    "\n",
    "$$ E[ (y - \\hat{y})^2 + 2 w (y - \\hat{y}) + w^2  ].$$\n",
    "\n",
    "Como $w$ é ruído branco Gaussiano, então $E[w] = 0$, e, desta forma, a equação acima pode ser simplificada para\n",
    "\n",
    "$$E[ (y - \\hat{y})^2 + w^2  ] \\\\= E[ (y - \\hat{y})^2 ] + E[ w^2 ],$$\n",
    "\n",
    "onde o primeiro termo é o **erro redutível** e o segundo termo o **erro irredutível**, aquele devido ao ruído e que não conseguimos diminuir.\n",
    "\n",
    "Conseguimos expandir o primeiro termo e separar os termos referentes à **variância** e ao **bias** deste estimador. Assumindo que os valores de $y$ não são aleatórios (i.e., determinísticos), podemos re-escrever o segundo termo como\n",
    "\n",
    "$$E[ (y - \\hat{y})^2 ] = y^2 -2 y E[\\hat{y}] + E[\\hat{y}^2].$$\n",
    "\n",
    "O último termo da equação acima pode ser re-escrito como $E[\\hat{y}^2] = \\text{var}(\\hat{y}) + E[\\hat{y}]^2$, e, então, temos\n",
    "\n",
    "$$E[ (y - \\hat{y})^2 ] = (y - E[\\hat{y}])^2 + (E[\\hat{y}^2]-E[\\hat{y}]^2) \\\\= \\text{bias}(\\hat{y})^2 + \\text{var}(\\hat{y}).$$\n",
    "\n",
    "O primeiro termo da equação acima nos dá o valor do **bias** ao quadrado, enquanto o segundo termo nos dá a **variância** do estimador.\n",
    "\n",
    "Portanto, podemos reescrever a equação do erro como\n",
    "\n",
    "$$E[(y_{noisy} - \\hat{y})^2] = \\text{bias}(\\hat{y})^2 + \\text{var}(\\hat{y}) + \\text{var}(w).$$\n",
    "\n",
    "Os dois primeiros termos são sempre positivos e portanto $E[(y_{noisy} - \\hat{y})^2]$ nunca será igual a zero se $\\text{var}(w) \\neq 0$. Também podemos ver que para minimizar o erro, devemos ter ambos valores, **bias** e **variâncias** com os menores valores possíveis. Portanto, para se ter um modelo que generalize bem, ambos valores devem ser pequenos.\n",
    "\n",
    "+ **erro total**: resultante da soma dos erros de bias, variância e irredutível.\n",
    "    * Pode ser aproximado pelo **erro de validação**.\n",
    "+ **bias** (ou viés): parte do erro que diz, na média, quanto $\\hat{y} \\neq y$, ou seja, mede o erro entre a aproximação e a função verdadeira. É uma medida de quão perto o modelo pode capturar a função de mapeamento verdadeiro.\n",
    "    * Um modelo tem um **bias** alto quando, por exemplo, não consegue capturar padrões significativos nos dados.\n",
    "+ **variância**: parte do erro que diz o quanto $\\hat{y}$ é inconsistente (i.e., varia) através de diferentes conjuntos de treinamento. Mede a variação no desempenho do modelo quando ele se ajusta a diferentes conjuntos de treinamento.\n",
    "    * Um modelo tem alta **variância** quando, por exemplo, ele treina tão bem que captura não apenas os padrões significativos, mas também o ruído presente nos dados.\n",
    "+ **erro irredutível**: é o limite inferior do erro de generalização. É o erro causado por elementos fora do nosso controle, como ruído nas amostras.\n",
    "\n",
    "O desafio está em encontrar a **capacidade ideal** ou **ponto de balanço**: ponto onde os valores de **bias** e de **variância** são baixos."
   ]
  },
  {
   "cell_type": "markdown",
   "metadata": {},
   "source": [
    "<img src=\"../../figures/erros_aproximação_estimação.png\" width=\"400\" height=\"400\">"
   ]
  },
  {
   "cell_type": "code",
   "execution_count": 4,
   "metadata": {},
   "outputs": [],
   "source": [
    "# Import all the necessary libraries.\n",
    "import numpy as np\n",
    "import matplotlib.pyplot as plt\n",
    "from sklearn.preprocessing import PolynomialFeatures\n",
    "from sklearn.linear_model import LinearRegression\n",
    "from sklearn.preprocessing import StandardScaler\n",
    "from sklearn.pipeline import Pipeline\n",
    "from sklearn.metrics import mean_squared_error\n",
    "from sklearn.model_selection import train_test_split\n",
    "#!pip install mlxtend\n",
    "from mlxtend.evaluate import bias_variance_decomp"
   ]
  },
  {
   "cell_type": "code",
   "execution_count": 5,
   "metadata": {},
   "outputs": [],
   "source": [
    "# Reset pseudo random number generator so that the results are reproducible.\n",
    "seed = 1012019\n",
    "np.random.seed(seed)"
   ]
  },
  {
   "cell_type": "code",
   "execution_count": 6,
   "metadata": {},
   "outputs": [],
   "source": [
    "def genTargetFunction(N):\n",
    "    # Attribute.\n",
    "    x1 = np.linspace(-3, 3, N).reshape(N, 1)\n",
    "    # Create target function.\n",
    "    y = 1.0 + x1 + x1**2\n",
    "    # Noisy version of the target function.\n",
    "    y_noisy = y + np.random.randn(N, 1)\n",
    "    return x1, y_noisy, y"
   ]
  },
  {
   "cell_type": "code",
   "execution_count": 7,
   "metadata": {},
   "outputs": [],
   "source": [
    "# Number of examples.\n",
    "N = 200\n",
    "\n",
    "# Generate dataset.\n",
    "x1, y_noisy, y = genTargetFunction(N)\n",
    "\n",
    "# Split dataset.\n",
    "X_train, X_test, y_train, y_test = train_test_split(x1, y_noisy, test_size=0.5, random_state=seed)"
   ]
  },
  {
   "cell_type": "code",
   "execution_count": 8,
   "metadata": {},
   "outputs": [
    {
     "data": {
      "image/png": "[encoded data removed]",
      "text/plain": [
       "<Figure size 432x288 with 1 Axes>"
      ]
     },
     "metadata": {
      "needs_background": "light"
     },
     "output_type": "display_data"
    }
   ],
   "source": [
    "plt.plot(x1,y_noisy,'.', label='Noisy')\n",
    "plt.plot(x1,y,label='True')\n",
    "plt.grid()\n",
    "plt.legend()\n",
    "plt.xlabel('x')\n",
    "plt.ylabel('y')\n",
    "plt.show()"
   ]
  },
  {
   "cell_type": "code",
   "execution_count": 9,
   "metadata": {},
   "outputs": [],
   "source": [
    "# Polinomial degrees to be tested.\n",
    "degrees = [1, 2, 3, 4, 5, 6, 7, 8, 9, 10]\n",
    "\n",
    "# Include column of ones once the target function has a bias.\n",
    "include_bias = True\n",
    "\n",
    "mse = np.zeros((len(degrees),))\n",
    "var = np.zeros((len(degrees),))\n",
    "bias = np.zeros((len(degrees),))\n",
    "\n",
    "# Iterate over different polynomial degrees.\n",
    "for i in range(len(degrees)):\n",
    "    \n",
    "        # Instantiate a polynomial with the given degree.\n",
    "        poly = PolynomialFeatures(degree=degrees[i], include_bias=include_bias)\n",
    "        # Instantiate a scaler that will standardize the features.\n",
    "        scaler = StandardScaler()\n",
    "        # Instantiate a linear regressor.\n",
    "        reg = LinearRegression()\n",
    "\n",
    "        # Create a pipeline of actions.\n",
    "        model = Pipeline([\n",
    "            (\"poly\", poly),\n",
    "            (\"scaler\", scaler),\n",
    "            (\"reg\", reg),\n",
    "        ])\n",
    "        \n",
    "        # estimate bias and variance\n",
    "        mse[i], bias[i], var[i] = bias_variance_decomp(model, X_train, y_train.ravel(), X_test, y_test.ravel(), loss='mse', num_rounds=200, random_seed=seed)        "
   ]
  },
  {
   "cell_type": "code",
   "execution_count": 10,
   "metadata": {},
   "outputs": [
    {
     "data": {
      "image/png": "[encoded data removed]",
      "text/plain": [
       "<Figure size 432x288 with 1 Axes>"
      ]
     },
     "metadata": {
      "needs_background": "light"
     },
     "output_type": "display_data"
    }
   ],
   "source": [
    "fig = plt.figure()\n",
    "\n",
    "plt.plot(degrees, mse, label='MSE')\n",
    "plt.plot(degrees, bias, label='bias')\n",
    "plt.plot(degrees, var, label='var')\n",
    "plt.yscale('log')\n",
    "plt.legend()\n",
    "plt.xlabel('Complexity (polynomial order)')\n",
    "plt.ylabel('Error')\n",
    "plt.grid()\n",
    "\n",
    "if(0):\n",
    "    left, bottom, width, height = [0.3, 0.55, 0.4, 0.3]\n",
    "    ax3 = fig.add_axes([left, bottom, width, height])\n",
    "    plt.plot(degrees, mse, label='MSE')\n",
    "    plt.plot(degrees, bias, label='bias')\n",
    "    plt.plot(degrees, var, label='var')\n",
    "    ax3.set_ylim(-0.5, 2)\n",
    "    ax3.set_xlim(1, 10)\n",
    "\n",
    "plt.show()"
   ]
  },
  {
   "cell_type": "code",
   "execution_count": null,
   "metadata": {},
   "outputs": [],
   "source": []
  }
 ],
 "metadata": {
  "kernelspec": {
   "display_name": "Python 3 (ipykernel)",
   "language": "python",
   "name": "python3"
  },
  "language_info": {
   "codemirror_mode": {
    "name": "ipython",
    "version": 3
   },
   "file_extension": ".py",
   "mimetype": "text/x-python",
   "name": "python",
   "nbconvert_exporter": "python",
   "pygments_lexer": "ipython3",
   "version": "3.9.7"
  }
 },
 "nbformat": 4,
 "nbformat_minor": 2
}
