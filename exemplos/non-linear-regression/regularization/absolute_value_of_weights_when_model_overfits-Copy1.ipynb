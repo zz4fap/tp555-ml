{
 "cells": [
  {
   "cell_type": "code",
   "execution_count": 1,
   "metadata": {},
   "outputs": [],
   "source": [
    "# Import all the necessary libraries.\n",
    "import numpy as np\n",
    "import matplotlib.pyplot as plt\n",
    "from sklearn.preprocessing import PolynomialFeatures\n",
    "from sklearn.preprocessing import StandardScaler\n",
    "from sklearn.linear_model import Ridge\n",
    "from sklearn.pipeline import Pipeline\n",
    "from sklearn.metrics import mean_squared_error\n",
    "from sklearn.linear_model import LinearRegression"
   ]
  },
  {
   "cell_type": "code",
   "execution_count": 2,
   "metadata": {},
   "outputs": [],
   "source": [
    "# Reset pseudo random number generator so that the results are reproducible.\n",
    "np.random.seed(42)"
   ]
  },
  {
   "cell_type": "markdown",
   "metadata": {},
   "source": [
    "### Generating the target function and its noisy version.\n",
    "\n",
    "Neste exemplo, treinamos polinômios de ordem 1, 5, 10, e 20 para se ajustarem à seguinte função objetivo\n",
    "\n",
    "$$y = 1 + x_1 + x_2^2.$$\n",
    "\n",
    "Geramos 20 amostras da função objetivo e as corrompemos com ruído Gaussiano normal padrão."
   ]
  },
  {
   "cell_type": "code",
   "execution_count": 3,
   "metadata": {},
   "outputs": [],
   "source": [
    "# Sets the number of examples.\n",
    "N = 20\n",
    "\n",
    "# Attribute.\n",
    "x1 = np.random.randn(N, 1)\n",
    "x2 = np.sqrt(100)*np.random.randn(N, 1)\n",
    "\n",
    "# Target function.\n",
    "y = 1 + x1 + x2**2\n",
    "\n",
    "# Noise.\n",
    "w = np.random.randn(N, 1)\n",
    "\n",
    "# Observable function (noisy).\n",
    "y_noisy = y + w\n",
    "\n",
    "x = np.c_[x1, x2]"
   ]
  },
  {
   "cell_type": "markdown",
   "metadata": {},
   "source": [
    "### Polinômio de ordem 1"
   ]
  },
  {
   "cell_type": "code",
   "execution_count": 4,
   "metadata": {},
   "outputs": [],
   "source": [
    "# Polynomial order.\n",
    "model_order = 1"
   ]
  },
  {
   "cell_type": "code",
   "execution_count": 5,
   "metadata": {},
   "outputs": [],
   "source": [
    "# Instantiate a polynomial features object.\n",
    "poly = PolynomialFeatures(model_order)\n",
    "\n",
    "# Create the polynomial matrix.\n",
    "X = poly.fit_transform(x)\n",
    "\n",
    "# Instantiate standard scaler. \n",
    "scaler = StandardScaler()\n",
    "\n",
    "# Create the attribute matrix and standardize the samples.\n",
    "X = scaler.fit_transform(X)\n",
    "\n",
    "# Instantiate.\n",
    "reg1 = LinearRegression()\n",
    "\n",
    "# Train.\n",
    "reg1.fit(X, y_noisy)\n",
    "\n",
    "# Predict.\n",
    "ypred = reg1.predict(X)"
   ]
  },
  {
   "cell_type": "markdown",
   "metadata": {},
   "source": [
    "### Polinômio de ordem 2"
   ]
  },
  {
   "cell_type": "code",
   "execution_count": 6,
   "metadata": {},
   "outputs": [],
   "source": [
    "# Polynomial order.\n",
    "model_order = 2"
   ]
  },
  {
   "cell_type": "code",
   "execution_count": 7,
   "metadata": {},
   "outputs": [],
   "source": [
    "# Instantiate a polynomial features object.\n",
    "poly = PolynomialFeatures(model_order)\n",
    "\n",
    "# Create the polynomial matrix.\n",
    "X = poly.fit_transform(x)\n",
    "\n",
    "# Instantiate standard scaler. \n",
    "scaler = StandardScaler()\n",
    "\n",
    "# Create the attribute matrix and standardize the samples.\n",
    "X = scaler.fit_transform(X)\n",
    "\n",
    "# Instantiate.\n",
    "reg2 = LinearRegression()\n",
    "\n",
    "# Train.\n",
    "reg2.fit(X, y_noisy)\n",
    "\n",
    "# Predict.\n",
    "ypred = reg2.predict(X)"
   ]
  },
  {
   "cell_type": "markdown",
   "metadata": {},
   "source": [
    "### Polinômio de ordem 5"
   ]
  },
  {
   "cell_type": "code",
   "execution_count": 8,
   "metadata": {},
   "outputs": [],
   "source": [
    "# Polynomial order.\n",
    "model_order = 5"
   ]
  },
  {
   "cell_type": "code",
   "execution_count": 9,
   "metadata": {},
   "outputs": [],
   "source": [
    "# Instantiate a polynomial features object.\n",
    "poly = PolynomialFeatures(model_order)\n",
    "\n",
    "# Create the polynomial matrix.\n",
    "X = poly.fit_transform(x)\n",
    "\n",
    "# Instantiate standard scaler. \n",
    "scaler = StandardScaler()\n",
    "\n",
    "# Create the attribute matrix and standardize the samples.\n",
    "X = scaler.fit_transform(X)\n",
    "\n",
    "# Instantiate.\n",
    "reg5 = LinearRegression()\n",
    "\n",
    "# Train.\n",
    "reg5.fit(X, y_noisy)\n",
    "\n",
    "# Predict.\n",
    "ypred = reg5.predict(X)"
   ]
  },
  {
   "cell_type": "markdown",
   "metadata": {},
   "source": [
    "### Polinômio de ordem 10"
   ]
  },
  {
   "cell_type": "code",
   "execution_count": 10,
   "metadata": {},
   "outputs": [],
   "source": [
    "# Polynomial order.\n",
    "model_order = 10"
   ]
  },
  {
   "cell_type": "code",
   "execution_count": 11,
   "metadata": {},
   "outputs": [],
   "source": [
    "# Instantiate a polynomial features object.\n",
    "poly = PolynomialFeatures(model_order)\n",
    "\n",
    "# Create the polynomial matrix.\n",
    "X = poly.fit_transform(x)\n",
    "\n",
    "# Instantiate standard scaler. \n",
    "scaler = StandardScaler()\n",
    "\n",
    "# Create the attribute matrix and standardize the samples.\n",
    "X = scaler.fit_transform(X)\n",
    "\n",
    "reg10 = LinearRegression()\n",
    "\n",
    "reg10.fit(X, y_noisy)\n",
    "\n",
    "ypred = reg10.predict(X)"
   ]
  },
  {
   "cell_type": "markdown",
   "metadata": {},
   "source": [
    "### Polinômio de ordem 20"
   ]
  },
  {
   "cell_type": "code",
   "execution_count": 12,
   "metadata": {},
   "outputs": [],
   "source": [
    "# Polynomial order.\n",
    "model_order = 20"
   ]
  },
  {
   "cell_type": "code",
   "execution_count": 13,
   "metadata": {},
   "outputs": [],
   "source": [
    "# Instantiate a polynomial features object.\n",
    "poly = PolynomialFeatures(model_order)\n",
    "\n",
    "# Create the polynomial matrix.\n",
    "X = poly.fit_transform(x)\n",
    "\n",
    "# Instantiate standard scaler. \n",
    "scaler = StandardScaler()\n",
    "\n",
    "# Create the attribute matrix and standardize the samples.\n",
    "X = scaler.fit_transform(X)\n",
    "\n",
    "reg20 = LinearRegression()\n",
    "\n",
    "reg20.fit(X, y_noisy)\n",
    "\n",
    "ypred = reg20.predict(X)"
   ]
  },
  {
   "cell_type": "markdown",
   "metadata": {},
   "source": [
    "### Pesos do polinômio de ordem 1"
   ]
  },
  {
   "cell_type": "code",
   "execution_count": 14,
   "metadata": {},
   "outputs": [
    {
     "name": "stdout",
     "output_type": "stream",
     "text": [
      "[96.90068681]\n",
      "[[  0.          15.06166761 -11.88012891]]\n"
     ]
    }
   ],
   "source": [
    "print(reg1.intercept_)\n",
    "print(reg1.coef_)"
   ]
  },
  {
   "cell_type": "markdown",
   "metadata": {},
   "source": [
    "### Pesos do polinômio de ordem 2"
   ]
  },
  {
   "cell_type": "code",
   "execution_count": 15,
   "metadata": {},
   "outputs": [
    {
     "name": "stdout",
     "output_type": "stream",
     "text": [
      "[96.90068681]\n",
      "[[  0.           0.86207773   0.15069831   0.30972531   0.25962233\n",
      "  114.07633442]]\n"
     ]
    }
   ],
   "source": [
    "print(reg2.intercept_)\n",
    "print(reg2.coef_)"
   ]
  },
  {
   "cell_type": "markdown",
   "metadata": {},
   "source": [
    "### Pesos do polinômio de ordem 5"
   ]
  },
  {
   "cell_type": "code",
   "execution_count": 16,
   "metadata": {},
   "outputs": [
    {
     "name": "stdout",
     "output_type": "stream",
     "text": [
      "[96.90068681]\n",
      "[[ 1.16898491e-10  1.97641710e+00 -7.14293720e+00  4.50648070e+00\n",
      "  -2.63776680e+01  1.46229682e+02  4.35581568e+01  6.53689119e+01\n",
      "  -1.84612829e+02  3.02461345e+02 -6.19829451e+01  1.82862987e+01\n",
      "   7.40213476e+01  2.89445723e+01 -6.58661986e+01 -1.50416725e+02\n",
      "  -1.29700961e+02  2.86279450e+02  7.21278691e+01 -1.95982037e+00\n",
      "  -3.63241602e+02]]\n"
     ]
    }
   ],
   "source": [
    "print(reg5.intercept_)\n",
    "print(reg5.coef_)"
   ]
  },
  {
   "cell_type": "markdown",
   "metadata": {},
   "source": [
    "### Pesos do polinômio de ordem 10"
   ]
  },
  {
   "cell_type": "code",
   "execution_count": 17,
   "metadata": {},
   "outputs": [
    {
     "name": "stdout",
     "output_type": "stream",
     "text": [
      "[96.90068681]\n",
      "[[-1.06226139e-10 -1.22572519e+00 -4.94001091e+00  5.09775236e-01\n",
      "   4.35230516e+00  8.49484273e+01  1.83001889e+01  1.51351126e+01\n",
      "  -1.01839654e+01 -7.33236566e+00 -9.05076685e+00 -4.41173648e+01\n",
      "   5.22474960e+01  5.64562747e+01  6.23795780e+00 -6.91477563e+00\n",
      "   3.18418087e+01  3.80189224e+01 -9.16028231e-01 -3.16552763e+00\n",
      "   1.30200911e+01  7.76431337e+00  2.58566290e+00 -9.68995919e+00\n",
      "   4.17874349e+00 -9.78841651e-01 -1.80529110e+01 -8.90108834e+00\n",
      "  -6.22308067e+00 -1.13096065e+00  7.89776767e+00 -4.70331331e-01\n",
      "   2.96500245e+00  4.84069019e+00  1.67500157e+01  1.02104229e+01\n",
      "   1.70733549e+00  1.15030939e+01 -5.48482583e+00  1.06397312e+01\n",
      "  -1.95304349e+00  4.91749299e+00 -4.10140698e+00 -2.37323664e+01\n",
      "  -6.07998253e-01 -1.72174792e+00 -7.84577459e+00  1.64563437e+00\n",
      "  -6.79400045e+00 -1.94278976e+00 -5.78566152e+00 -2.98208301e+00\n",
      "   4.34665238e+00  1.07921119e+01  2.75547771e+00 -1.67085735e+00\n",
      "   1.15536882e+01 -4.29011872e+00  1.09168011e+01 -1.36352472e+00\n",
      "   8.87345070e+00  3.72315325e+00  3.32891265e+00  2.86457587e+00\n",
      "  -1.66308591e+01  5.35758926e+00]]\n"
     ]
    }
   ],
   "source": [
    "print(reg10.intercept_)\n",
    "print(reg10.coef_)"
   ]
  },
  {
   "cell_type": "markdown",
   "metadata": {},
   "source": [
    "### Pesos do polinômio de ordem 20"
   ]
  },
  {
   "cell_type": "code",
   "execution_count": 18,
   "metadata": {},
   "outputs": [
    {
     "name": "stdout",
     "output_type": "stream",
     "text": [
      "[96.90068681]\n",
      "[[-1.37703182e-11 -1.23898651e+00 -4.82662403e+00  4.78760194e-01\n",
      "   4.92603700e+00  8.48227810e+01  1.76874733e+01  1.34328596e+01\n",
      "  -8.58675664e+00 -9.04753611e+00 -8.41465055e+00 -4.30994093e+01\n",
      "   5.17315448e+01  5.44069460e+01  5.29992365e+00 -4.21593597e+00\n",
      "   3.27722769e+01  3.49294981e+01  2.12799194e+00 -4.25256694e+00\n",
      "   1.10514396e+01  7.41824364e+00 -3.97610439e+00 -6.87859945e+00\n",
      "  -1.29288578e+00 -2.01318654e+00 -1.01759036e+01 -1.16933857e+01\n",
      "  -4.71643012e+00  4.06921026e+00  7.82026967e+00  3.95477533e+00\n",
      "   4.99418358e+00  7.10490644e+00  1.40505301e+01  1.03424019e+01\n",
      "   2.35874898e+00  3.92430273e+00 -3.72975114e+00  3.94540584e+00\n",
      "  -2.65109668e+00  8.96911517e-01 -7.96551667e+00 -1.48473789e+01\n",
      "  -5.86811221e+00 -1.18791805e+00 -1.95113886e+00  2.10741007e+00\n",
      "  -1.87469919e+00  2.98875206e-02 -1.64317047e+00  3.93519920e-02\n",
      "   6.60470337e+00  8.83826550e+00  4.62225119e+00 -8.51197725e-01\n",
      "   4.37244017e+00 -3.20364852e+00  4.51609547e+00 -1.63995511e+00\n",
      "   4.10266519e+00  1.11123847e+00  1.14392474e+00 -3.73186855e+00\n",
      "  -8.54040039e+00 -1.12630349e+00  6.27743369e-01 -2.88352388e+00\n",
      "   1.50338108e+00 -2.40638774e+00 -9.57898501e-02 -2.20564838e+00\n",
      "  -2.16352732e+00 -2.81710863e+00 -1.52889752e+00  3.07800165e+00\n",
      "   3.75692972e+00  1.42649086e+00 -1.84892531e+00  3.96193442e+00\n",
      "  -2.74018946e+00  3.80244393e+00 -1.86475556e+00  3.42459231e+00\n",
      "   3.76826282e-01  3.41217462e+00  2.78728664e+00  1.29990914e+00\n",
      "   5.26946818e-01 -4.73612098e+00  9.88355884e-01  1.25646640e+00\n",
      "  -2.86963075e+00  1.30634218e+00 -2.22407633e+00  2.37791439e-01\n",
      "  -1.63284633e+00 -1.08816185e+00 -2.10837770e+00 -2.49582683e+00\n",
      "  -3.19704831e+00 -2.30771942e+00  6.98263376e-01  1.50873130e+00\n",
      "   4.36358005e-02 -1.93307440e+00  3.46556381e+00 -2.15798096e+00\n",
      "   3.17270226e+00 -1.66928811e+00  2.76458713e+00 -5.75873877e-01\n",
      "   2.39253726e+00  1.41599551e+00  2.68113148e+00  3.56023952e+00\n",
      "   1.06168420e+00  2.43200234e+00 -3.16148328e+00  1.78286242e+00\n",
      "   1.34143116e+00 -2.64456354e+00  1.07152368e+00 -2.02035011e+00\n",
      "   3.03399390e-01 -1.38419942e+00 -4.70082763e-01 -1.21444574e+00\n",
      "  -1.21957881e+00 -2.05222807e+00 -2.27422051e+00 -3.28206921e+00\n",
      "  -2.46897541e+00 -1.97525018e-01  7.46221794e-01 -5.33031480e-01\n",
      "  -1.70066353e+00  2.99340901e+00 -1.61799424e+00  2.67307326e+00\n",
      "  -1.27340630e+00  2.33720441e+00 -7.89057138e-01  1.85558060e+00\n",
      "   3.09266299e-01  1.54770427e+00  1.83602336e+00  2.07486013e+00\n",
      "   3.96719453e+00  2.83106025e-01  2.88208596e+00 -2.58000271e+00\n",
      "   2.04440137e+00  1.20148606e+00 -2.37503309e+00  8.24796088e-01\n",
      "  -1.83076219e+00  2.35896230e-01 -1.29252460e+00 -2.79157444e-01\n",
      "  -9.18227460e-01 -6.11949856e-01 -1.08972765e+00 -9.65967194e-01\n",
      "  -2.01055312e+00 -1.94704499e+00 -3.12180707e+00 -2.07748491e+00\n",
      "  -4.04433705e-01  5.69227646e-01 -7.91606870e-01 -1.37971195e+00\n",
      "   2.57692939e+00 -1.16767039e+00  2.27063693e+00 -8.85657557e-01\n",
      "   2.00863574e+00 -6.35221163e-01  1.64246708e+00 -1.03291973e-01\n",
      "   1.05531827e+00  7.86187055e-01  9.42590163e-01  1.97378442e+00\n",
      "   1.56058986e+00  4.21079758e+00 -7.17099733e-01  2.83308925e+00\n",
      "  -2.36862248e+00  2.10694057e+00  9.81231700e-01 -2.11273963e+00\n",
      "   5.94021640e-01 -1.65617887e+00  1.30420842e-01 -1.22780887e+00\n",
      "  -2.54939948e-01 -8.74478164e-01 -4.43359354e-01 -7.46065061e-01\n",
      "  -4.06953544e-01 -1.08883633e+00 -6.45108443e-01 -1.94920547e+00\n",
      "  -1.64743584e+00 -2.69454301e+00 -1.44477729e+00 -4.23859449e-01\n",
      "   5.94560135e-01 -9.28636312e-01 -1.05700360e+00  2.22353135e+00\n",
      "  -8.04522701e-01  1.94679965e+00 -5.63364801e-01  1.73745937e+00\n",
      "  -3.95538131e-01  1.49857603e+00 -1.43505987e-01  9.69333118e-01\n",
      "   3.66167317e-01  4.52352966e-01  1.00417998e+00  5.25855743e-01\n",
      "   2.00050921e+00  1.07425044e+00  4.29890535e+00 -1.50019988e+00\n",
      "   2.68497951e+00 -2.28143337e+00  2.09908641e+00]]\n"
     ]
    }
   ],
   "source": [
    "print(reg20.intercept_)\n",
    "print(reg20.coef_)"
   ]
  },
  {
   "cell_type": "markdown",
   "metadata": {},
   "source": [
    "### Conclusão\n",
    "\n",
    "+ O aumento da flexibilidade do modelo resulta no aumento da magnitude dos pesos.\n",
    "\n",
    "\n",
    "+ O que a **regularização faz é restringir as magnitudes** e, **consequentemente, minimizar a função de erro e a flexibilidade do modelo**."
   ]
  }
 ],
 "metadata": {
  "kernelspec": {
   "display_name": "Python 3 (ipykernel)",
   "language": "python",
   "name": "python3"
  },
  "language_info": {
   "codemirror_mode": {
    "name": "ipython",
    "version": 3
   },
   "file_extension": ".py",
   "mimetype": "text/x-python",
   "name": "python",
   "nbconvert_exporter": "python",
   "pygments_lexer": "ipython3",
   "version": "3.9.13"
  }
 },
 "nbformat": 4,
 "nbformat_minor": 2
}
