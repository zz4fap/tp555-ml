{
 "cells": [
  {
   "cell_type": "code",
   "execution_count": 59,
   "metadata": {},
   "outputs": [],
   "source": [
    "# Import all the necessary libraries.\n",
    "import numpy as np\n",
    "import pandas as pd\n",
    "import matplotlib\n",
    "import matplotlib.pyplot as plt\n",
    "from sklearn.model_selection import train_test_split\n",
    "from sklearn.preprocessing import PolynomialFeatures\n",
    "from sklearn.preprocessing import StandardScaler\n",
    "from sklearn.linear_model import LinearRegression\n",
    "from sklearn.linear_model import Lasso\n",
    "from sklearn.pipeline import Pipeline\n",
    "from sklearn.metrics import mean_squared_error"
   ]
  },
  {
   "cell_type": "code",
   "execution_count": 60,
   "metadata": {},
   "outputs": [],
   "source": [
    "# Reset pseudo random number generator so that the results are reproducible.\n",
    "seed = 42\n",
    "np.random.seed(seed)"
   ]
  },
  {
   "cell_type": "code",
   "execution_count": 61,
   "metadata": {},
   "outputs": [],
   "source": [
    "# Sets the number of examples.\n",
    "N = 1000\n",
    "\n",
    "# Attribute.\n",
    "x1 = np.random.rand(N, 1)\n",
    "x2 = 2*np.random.rand(N, 1)\n",
    "x3 = 3*np.random.rand(N, 1)\n",
    "\n",
    "# Target function.\n",
    "y = 1.0 + x1 + x2 + x3 + x1**2 + x1*x2 + x1*x3 + x2**2 + x2*x3 + x3**2\n",
    "\n",
    "# Noisy function.\n",
    "y_noisy = y + np.random.randn(N, 1)"
   ]
  },
  {
   "cell_type": "code",
   "execution_count": 62,
   "metadata": {},
   "outputs": [],
   "source": [
    "X = np.c_[x1, x2, x3]\n",
    "\n",
    "X_train, X_val, y_train, y_val = train_test_split(X, y_noisy, test_size=0.2, random_state=seed)"
   ]
  },
  {
   "cell_type": "code",
   "execution_count": 63,
   "metadata": {},
   "outputs": [],
   "source": [
    "# Regularization factor.\n",
    "lambdas = [1]\n",
    "\n",
    "# Polynomial order.\n",
    "model_order = 2"
   ]
  },
  {
   "cell_type": "code",
   "execution_count": 64,
   "metadata": {},
   "outputs": [
    {
     "name": "stdout",
     "output_type": "stream",
     "text": [
      "[[0 0 0]\n",
      " [1 0 0]\n",
      " [0 1 0]\n",
      " [0 0 1]\n",
      " [2 0 0]\n",
      " [1 1 0]\n",
      " [1 0 1]\n",
      " [0 2 0]\n",
      " [0 1 1]\n",
      " [0 0 2]]\n",
      "Lambda: 1.0000e+00:\n",
      "[11.70190957]\n",
      "[0.         0.         0.         0.         0.         0.16731659\n",
      " 0.88463521 0.         3.00193405 1.38473182]\n",
      "---------------------------------------------\n"
     ]
    }
   ],
   "source": [
    "include_bias = True\n",
    "\n",
    "# Plot original data versus noisy version.\n",
    "for i in range(0, len(lambdas)):\n",
    "\n",
    "    # Instantiate a polynomial with the given degree.\n",
    "    poly = PolynomialFeatures(degree=model_order, include_bias=include_bias)\n",
    "    # Instantiate a scaler that will standardize the features.\n",
    "    scaler = StandardScaler()\n",
    "    # Instantiate a Ridge regressor.\n",
    "    reg = Lasso(alpha=lambdas[i], random_state=seed) if lambdas[i] > 0 else LinearRegression()\n",
    "    # Create a pipeline of actions.\n",
    "    model = Pipeline([\n",
    "        (\"poly\", poly),\n",
    "        (\"scaler\", scaler),\n",
    "        (\"reg\", reg),\n",
    "    ])\n",
    "    # Train model.\n",
    "    model.fit(X_train, y_train)\n",
    "    # Print coefs\n",
    "    print(model.named_steps['poly'].powers_)\n",
    "    print('Lambda: %1.4e:' % (lambdas[i]))\n",
    "    print(model.named_steps['reg'].intercept_)\n",
    "    print(model.named_steps['reg'].coef_)\n",
    "    print('---------------------------------------------')\n",
    "    # Predict.\n",
    "    y_test_regul = model.predict(X_val)"
   ]
  },
  {
   "cell_type": "code",
   "execution_count": 65,
   "metadata": {},
   "outputs": [
    {
     "data": {
      "text/plain": [
       "Text(0.5, 1.0, 'Feature importance using Lasso')"
      ]
     },
     "execution_count": 65,
     "metadata": {},
     "output_type": "execute_result"
    },
    {
     "data": {
      "image/png": "[encoded data removed]",
      "text/plain": [
       "<Figure size 576x720 with 1 Axes>"
      ]
     },
     "metadata": {
      "needs_background": "light"
     },
     "output_type": "display_data"
    }
   ],
   "source": [
    "coef = pd.Series(model.named_steps['reg'].coef_)\n",
    "imp_coef = coef.sort_values()\n",
    "matplotlib.rcParams['figure.figsize'] = (8.0, 10.0)\n",
    "imp_coef.plot(kind = \"barh\")\n",
    "plt.title(\"Feature importance using Lasso\")"
   ]
  },
  {
   "cell_type": "code",
   "execution_count": null,
   "metadata": {},
   "outputs": [],
   "source": []
  },
  {
   "cell_type": "code",
   "execution_count": null,
   "metadata": {},
   "outputs": [],
   "source": []
  }
 ],
 "metadata": {
  "kernelspec": {
   "display_name": "Python 3",
   "language": "python",
   "name": "python3"
  },
  "language_info": {
   "codemirror_mode": {
    "name": "ipython",
    "version": 3
   },
   "file_extension": ".py",
   "mimetype": "text/x-python",
   "name": "python",
   "nbconvert_exporter": "python",
   "pygments_lexer": "ipython3",
   "version": "3.7.7"
  }
 },
 "nbformat": 4,
 "nbformat_minor": 4
}
