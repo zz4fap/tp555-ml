{
 "cells": [
  {
   "cell_type": "markdown",
   "metadata": {},
   "source": [
    "### `PolynomialFeatures`\n",
    "\n",
    "A classe `PolynomialFeatures` cria a matriz de atributos com as combinações polinomiais dos atributos."
   ]
  },
  {
   "cell_type": "code",
   "execution_count": 42,
   "metadata": {},
   "outputs": [],
   "source": [
    "# Import all the necessary libraries.\n",
    "import numpy as np\n",
    "import matplotlib.pyplot as plt\n",
    "from sklearn.preprocessing import PolynomialFeatures"
   ]
  },
  {
   "cell_type": "markdown",
   "metadata": {},
   "source": [
    "## Polinômio em 1 variável, $x_1$"
   ]
  },
  {
   "cell_type": "code",
   "execution_count": 43,
   "metadata": {},
   "outputs": [],
   "source": [
    "# Reset pseudo random number generator so that the results are reproducible.\n",
    "np.random.seed(42)"
   ]
  },
  {
   "cell_type": "code",
   "execution_count": 44,
   "metadata": {},
   "outputs": [],
   "source": [
    "# Sets the number of examples.\n",
    "N = 7\n",
    "\n",
    "# Create target function and its noisy version.\n",
    "x1 = np.linspace(-3, 3, N).reshape(N, 1)"
   ]
  },
  {
   "cell_type": "markdown",
   "metadata": {},
   "source": [
    "### Polinômio de segunda ordem em uma variável:\n",
    "\n",
    "$y = 1 + x_1 + x_1^2$"
   ]
  },
  {
   "cell_type": "code",
   "execution_count": 45,
   "metadata": {},
   "outputs": [
    {
     "name": "stdout",
     "output_type": "stream",
     "text": [
      "Dimensões: (7, 3)\n",
      "1\tx1\tx1^2\n",
      "---------------------\n",
      "1.0\t-3.0\t9.0\t\n",
      "1.0\t-2.0\t4.0\t\n",
      "1.0\t-1.0\t1.0\t\n",
      "1.0\t0.0\t0.0\t\n",
      "1.0\t1.0\t1.0\t\n",
      "1.0\t2.0\t4.0\t\n",
      "1.0\t3.0\t9.0\t\n"
     ]
    }
   ],
   "source": [
    "# Instantiate a polynomial with the given degree.\n",
    "# OBS.: include_bias: Include column of ones once the target function has a bias.\n",
    "poly = PolynomialFeatures(degree=2, include_bias=True)\n",
    "\n",
    "res = poly.fit_transform(x1)\n",
    "\n",
    "print('Dimensões:', res.shape)\n",
    "\n",
    "print('1\\tx1\\tx1^2')\n",
    "print('---------------------')\n",
    "for i in range(res.shape[0]):\n",
    "    for j in range(res.shape[1]):\n",
    "        print('%1.1f\\t' % (res[i,j]),end='')\n",
    "    print('')"
   ]
  },
  {
   "cell_type": "markdown",
   "metadata": {},
   "source": [
    "## Polinômio em 2 variáveis, $x_1$ e $x_2$"
   ]
  },
  {
   "cell_type": "code",
   "execution_count": 31,
   "metadata": {},
   "outputs": [],
   "source": [
    "# Reset pseudo random number generator so that the results are reproducible.\n",
    "np.random.seed(42)"
   ]
  },
  {
   "cell_type": "code",
   "execution_count": 32,
   "metadata": {},
   "outputs": [],
   "source": [
    "# Sets the number of examples.\n",
    "N = 7\n",
    "\n",
    "# Create target function and its noisy version.\n",
    "x1 = np.linspace(-3, 3, N).reshape(N, 1)\n",
    "x2 = np.linspace(-3, 3, N).reshape(N, 1)\n",
    "\n",
    "X = np.c_[x1, x2]"
   ]
  },
  {
   "cell_type": "markdown",
   "metadata": {},
   "source": [
    "### Polinômio de segunda ordem em duas variáveis:\n",
    "\n",
    "$y = a_0 + a_1x_1 + a_2x_2 + a_3x_1^2 + a_4x_1x_2 + a_5x_2^2$"
   ]
  },
  {
   "cell_type": "code",
   "execution_count": 46,
   "metadata": {},
   "outputs": [
    {
     "name": "stdout",
     "output_type": "stream",
     "text": [
      "Dimensões: (7, 6)\n",
      "1\tx1\tx2\tx1^2\tx1x2\tx2^2\n",
      "-----------------------------------------------\n",
      "1.0\t-3.0\t-3.0\t9.0\t9.0\t9.0\t\n",
      "1.0\t-2.0\t-2.0\t4.0\t4.0\t4.0\t\n",
      "1.0\t-1.0\t-1.0\t1.0\t1.0\t1.0\t\n",
      "1.0\t0.0\t0.0\t0.0\t0.0\t0.0\t\n",
      "1.0\t1.0\t1.0\t1.0\t1.0\t1.0\t\n",
      "1.0\t2.0\t2.0\t4.0\t4.0\t4.0\t\n",
      "1.0\t3.0\t3.0\t9.0\t9.0\t9.0\t\n"
     ]
    }
   ],
   "source": [
    "# Instantiate a polynomial with the given degree.\n",
    "# OBS.: include_bias: Include column of ones once the target function has a bias.\n",
    "poly = PolynomialFeatures(degree=2, include_bias=True)\n",
    "\n",
    "res = poly.fit_transform(X)\n",
    "\n",
    "print('Dimensões:', res.shape)\n",
    "\n",
    "print('1\\tx1\\tx2\\tx1^2\\tx1x2\\tx2^2')\n",
    "print('-----------------------------------------------')\n",
    "for i in range(res.shape[0]):\n",
    "    for j in range(res.shape[1]):\n",
    "        print('%1.1f\\t' % (res[i,j]),end='')\n",
    "    print('')"
   ]
  },
  {
   "cell_type": "markdown",
   "metadata": {},
   "source": [
    "#### Podemos usar `powers_` se não soubermos qual a combinação de atributos."
   ]
  },
  {
   "cell_type": "code",
   "execution_count": 34,
   "metadata": {},
   "outputs": [
    {
     "data": {
      "text/plain": [
       "array([[0, 0],\n",
       "       [1, 0],\n",
       "       [0, 1],\n",
       "       [2, 0],\n",
       "       [1, 1],\n",
       "       [0, 2]], dtype=int64)"
      ]
     },
     "execution_count": 34,
     "metadata": {},
     "output_type": "execute_result"
    }
   ],
   "source": [
    "poly.powers_"
   ]
  },
  {
   "cell_type": "markdown",
   "metadata": {},
   "source": [
    "### Polinômio de terceira ordem em duas variáveis:\n",
    "\n",
    "$y = a_0 + a_1x_1 + a_2x_2 + a_3x_1^2 + a_4x_1x_2 + a_5x_2^2 + a_6x_1^3 + a_7x_1^2x_2 + a_8x_1x_2^2 + a_9x_2^3$"
   ]
  },
  {
   "cell_type": "code",
   "execution_count": 47,
   "metadata": {},
   "outputs": [
    {
     "name": "stdout",
     "output_type": "stream",
     "text": [
      "Dimensões: (7, 10)\n",
      "1\tx1\tx2\tx1^2\tx1x2\tx2^2\tx_1^3\tx_1^2x_2 x_1x_2^2\tx_2^3\n",
      "-----------------------------------------------\n",
      "1.0\t-3.0\t-3.0\t9.0\t9.0\t9.0\t-27.0\t-27.0\t-27.0\t-27.0\t\n",
      "1.0\t-2.0\t-2.0\t4.0\t4.0\t4.0\t-8.0\t-8.0\t-8.0\t-8.0\t\n",
      "1.0\t-1.0\t-1.0\t1.0\t1.0\t1.0\t-1.0\t-1.0\t-1.0\t-1.0\t\n",
      "1.0\t0.0\t0.0\t0.0\t0.0\t0.0\t0.0\t0.0\t0.0\t0.0\t\n",
      "1.0\t1.0\t1.0\t1.0\t1.0\t1.0\t1.0\t1.0\t1.0\t1.0\t\n",
      "1.0\t2.0\t2.0\t4.0\t4.0\t4.0\t8.0\t8.0\t8.0\t8.0\t\n",
      "1.0\t3.0\t3.0\t9.0\t9.0\t9.0\t27.0\t27.0\t27.0\t27.0\t\n"
     ]
    }
   ],
   "source": [
    "# Instantiate a polynomial with the given degree.\n",
    "# OBS.: include_bias: Include column of ones once the target function has a bias.\n",
    "poly = PolynomialFeatures(degree=3, include_bias=True)\n",
    "\n",
    "res = poly.fit_transform(X)\n",
    "\n",
    "print('Dimensões:', res.shape)\n",
    "\n",
    "print('1\\tx1\\tx2\\tx1^2\\tx1x2\\tx2^2\\tx_1^3\\tx_1^2x_2 x_1x_2^2\\tx_2^3')\n",
    "print('-----------------------------------------------')\n",
    "for i in range(res.shape[0]):\n",
    "    for j in range(res.shape[1]):\n",
    "        print('%1.1f\\t' % (res[i,j]),end='')\n",
    "    print('')"
   ]
  },
  {
   "cell_type": "markdown",
   "metadata": {},
   "source": [
    "## Polinômio em 3 variáveis"
   ]
  },
  {
   "cell_type": "code",
   "execution_count": 48,
   "metadata": {},
   "outputs": [],
   "source": [
    "# Reset pseudo random number generator so that the results are reproducible.\n",
    "np.random.seed(42)"
   ]
  },
  {
   "cell_type": "code",
   "execution_count": 49,
   "metadata": {},
   "outputs": [],
   "source": [
    "# Sets the number of examples.\n",
    "N = 7\n",
    "\n",
    "# Create target function and its noisy version.\n",
    "x1 = np.linspace(-3, 3, N).reshape(N, 1)\n",
    "x2 = np.linspace(-3, 3, N).reshape(N, 1)\n",
    "x3 = np.linspace(-3, 3, N).reshape(N, 1)\n",
    "\n",
    "X = np.c_[x1, x2, x3]"
   ]
  },
  {
   "cell_type": "markdown",
   "metadata": {},
   "source": [
    "### Polinômio de segunda ordem em três variáveis:\n",
    "\n",
    "$y = a_0 + a_1x_1 + a_2x_2 + a_3x_3 + a_4x_1^2 + a_5x_1x_2 + a_6x_1x_3 + a_7x_2^2 + a_8x_2x_3 + a_9x_3^2$"
   ]
  },
  {
   "cell_type": "code",
   "execution_count": 51,
   "metadata": {},
   "outputs": [
    {
     "name": "stdout",
     "output_type": "stream",
     "text": [
      "Dimensões: (7, 10)\n",
      "1\tx1\tx2\tx3\tx1^2\tx1x2\tx1x3\tx2^2\tx2x3\tx3^2\n",
      "----------------------------------------------------------------------------\n",
      "1.0\t-3.0\t-3.0\t-3.0\t9.0\t9.0\t9.0\t9.0\t9.0\t9.0\t\n",
      "1.0\t-2.0\t-2.0\t-2.0\t4.0\t4.0\t4.0\t4.0\t4.0\t4.0\t\n",
      "1.0\t-1.0\t-1.0\t-1.0\t1.0\t1.0\t1.0\t1.0\t1.0\t1.0\t\n",
      "1.0\t0.0\t0.0\t0.0\t0.0\t0.0\t0.0\t0.0\t0.0\t0.0\t\n",
      "1.0\t1.0\t1.0\t1.0\t1.0\t1.0\t1.0\t1.0\t1.0\t1.0\t\n",
      "1.0\t2.0\t2.0\t2.0\t4.0\t4.0\t4.0\t4.0\t4.0\t4.0\t\n",
      "1.0\t3.0\t3.0\t3.0\t9.0\t9.0\t9.0\t9.0\t9.0\t9.0\t\n"
     ]
    }
   ],
   "source": [
    "# Instantiate a polynomial with the given degree.\n",
    "# OBS.: include_bias: Include column of ones once the target function has a bias.\n",
    "poly = PolynomialFeatures(degree=2, include_bias=True)\n",
    "\n",
    "res = poly.fit_transform(X)\n",
    "\n",
    "print('Dimensões:', res.shape)\n",
    "\n",
    "print('1\\tx1\\tx2\\tx3\\tx1^2\\tx1x2\\tx1x3\\tx2^2\\tx2x3\\tx3^2')\n",
    "print('----------------------------------------------------------------------------')\n",
    "for i in range(res.shape[0]):\n",
    "    for j in range(res.shape[1]):\n",
    "        print('%1.1f\\t' % (res[i,j]),end='')\n",
    "    print('')"
   ]
  },
  {
   "cell_type": "code",
   "execution_count": null,
   "metadata": {},
   "outputs": [],
   "source": []
  }
 ],
 "metadata": {
  "kernelspec": {
   "display_name": "Python 3",
   "language": "python",
   "name": "python3"
  },
  "language_info": {
   "codemirror_mode": {
    "name": "ipython",
    "version": 3
   },
   "file_extension": ".py",
   "mimetype": "text/x-python",
   "name": "python",
   "nbconvert_exporter": "python",
   "pygments_lexer": "ipython3",
   "version": "3.7.7"
  }
 },
 "nbformat": 4,
 "nbformat_minor": 4
}
