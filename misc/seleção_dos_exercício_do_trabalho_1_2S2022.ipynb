{
 "cells": [
  {
   "cell_type": "code",
   "execution_count": null,
   "id": "d5c224cd",
   "metadata": {},
   "outputs": [],
   "source": [
    "import random\n",
    "import sequencia_de_exercícios"
   ]
  },
  {
   "cell_type": "code",
   "execution_count": null,
   "id": "ab8fe131",
   "metadata": {},
   "outputs": [],
   "source": [
    "matrícula = "
   ]
  },
  {
   "cell_type": "code",
   "execution_count": null,
   "id": "6d0d9049",
   "metadata": {},
   "outputs": [],
   "source": [
    "exercícios(matrícula)"
   ]
  },
  {
   "cell_type": "code",
   "execution_count": null,
   "id": "3ed1b494",
   "metadata": {},
   "outputs": [],
   "source": []
  }
 ],
 "metadata": {
  "kernelspec": {
   "display_name": "Python 3 (ipykernel)",
   "language": "python",
   "name": "python3"
  },
  "language_info": {
   "codemirror_mode": {
    "name": "ipython",
    "version": 3
   },
   "file_extension": ".py",
   "mimetype": "text/x-python",
   "name": "python",
   "nbconvert_exporter": "python",
   "pygments_lexer": "ipython3",
   "version": "3.9.7"
  }
 },
 "nbformat": 4,
 "nbformat_minor": 5
}
