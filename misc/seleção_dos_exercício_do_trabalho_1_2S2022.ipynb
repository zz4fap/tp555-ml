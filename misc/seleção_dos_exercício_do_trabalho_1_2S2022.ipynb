{
 "cells": [
  {
   "cell_type": "markdown",
   "id": "a431fce0",
   "metadata": {},
   "source": [
    "# Troque as interrogações pelo número de sua matrícula e execute o código abaixo."
   ]
  },
  {
   "cell_type": "code",
   "execution_count": 3,
   "id": "ab8fe131",
   "metadata": {},
   "outputs": [
    {
     "ename": "SyntaxError",
     "evalue": "invalid syntax (Temp/ipykernel_1092/1080895849.py, line 1)",
     "output_type": "error",
     "traceback": [
      "\u001b[1;36m  File \u001b[1;32m\"C:\\Users\\FELIPE~1.FIG\\AppData\\Local\\Temp/ipykernel_1092/1080895849.py\"\u001b[1;36m, line \u001b[1;32m1\u001b[0m\n\u001b[1;33m    matrícula = ?????\u001b[0m\n\u001b[1;37m                ^\u001b[0m\n\u001b[1;31mSyntaxError\u001b[0m\u001b[1;31m:\u001b[0m invalid syntax\n"
     ]
    }
   ],
   "source": [
    "matrícula = ?????"
   ]
  },
  {
   "cell_type": "code",
   "execution_count": 2,
   "id": "d5c224cd",
   "metadata": {},
   "outputs": [],
   "source": [
    "import random\n",
    "import sequencia_de_exercícios"
   ]
  },
  {
   "cell_type": "code",
   "execution_count": 4,
   "id": "6d0d9049",
   "metadata": {},
   "outputs": [
    {
     "ename": "NameError",
     "evalue": "name 'exercícios' is not defined",
     "output_type": "error",
     "traceback": [
      "\u001b[1;31m---------------------------------------------------------------------------\u001b[0m",
      "\u001b[1;31mNameError\u001b[0m                                 Traceback (most recent call last)",
      "\u001b[1;32mC:\\Users\\FELIPE~1.FIG\\AppData\\Local\\Temp/ipykernel_1092/2126878843.py\u001b[0m in \u001b[0;36m<module>\u001b[1;34m\u001b[0m\n\u001b[1;32m----> 1\u001b[1;33m \u001b[0mexercícios\u001b[0m\u001b[1;33m(\u001b[0m\u001b[0mmatrícula\u001b[0m\u001b[1;33m)\u001b[0m\u001b[1;33m\u001b[0m\u001b[1;33m\u001b[0m\u001b[0m\n\u001b[0m",
      "\u001b[1;31mNameError\u001b[0m: name 'exercícios' is not defined"
     ]
    }
   ],
   "source": [
    "exercícios(matrícula)"
   ]
  },
  {
   "cell_type": "code",
   "execution_count": null,
   "id": "f1a0decb",
   "metadata": {},
   "outputs": [],
   "source": []
  }
 ],
 "metadata": {
  "kernelspec": {
   "display_name": "Python 3 (ipykernel)",
   "language": "python",
   "name": "python3"
  },
  "language_info": {
   "codemirror_mode": {
    "name": "ipython",
    "version": 3
   },
   "file_extension": ".py",
   "mimetype": "text/x-python",
   "name": "python",
   "nbconvert_exporter": "python",
   "pygments_lexer": "ipython3",
   "version": "3.9.7"
  }
 },
 "nbformat": 4,
 "nbformat_minor": 5
}
