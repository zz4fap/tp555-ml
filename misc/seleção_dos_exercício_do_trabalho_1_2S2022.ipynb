{
 "cells": [
  {
   "cell_type": "markdown",
   "id": "70fee9de",
   "metadata": {},
   "source": [
    "# Troque as interrogações pelo número de sua matrícula e execute todas as células de código abaixo."
   ]
  },
  {
   "cell_type": "code",
   "execution_count": 1,
   "id": "ab8fe131",
   "metadata": {},
   "outputs": [
    {
     "ename": "SyntaxError",
     "evalue": "invalid syntax (Temp/ipykernel_7760/1080895849.py, line 1)",
     "output_type": "error",
     "traceback": [
      "\u001b[1;36m  File \u001b[1;32m\"C:\\Users\\FELIPE~1.FIG\\AppData\\Local\\Temp/ipykernel_7760/1080895849.py\"\u001b[1;36m, line \u001b[1;32m1\u001b[0m\n\u001b[1;33m    matrícula = ?????\u001b[0m\n\u001b[1;37m                ^\u001b[0m\n\u001b[1;31mSyntaxError\u001b[0m\u001b[1;31m:\u001b[0m invalid syntax\n"
     ]
    }
   ],
   "source": [
    "matrícula = ?????"
   ]
  },
  {
   "cell_type": "code",
   "execution_count": null,
   "id": "d5c224cd",
   "metadata": {},
   "outputs": [],
   "source": [
    "import random\n",
    "import sequencia_de_exercícios"
   ]
  },
  {
   "cell_type": "markdown",
   "id": "cc8fbaf0",
   "metadata": {},
   "source": [
    "### A função abaixo imprimirá os exercícios que você precisa resolver."
   ]
  },
  {
   "cell_type": "code",
   "execution_count": null,
   "id": "6d0d9049",
   "metadata": {},
   "outputs": [],
   "source": [
    "exercícios(matrícula)"
   ]
  },
  {
   "cell_type": "code",
   "execution_count": null,
   "id": "30833652",
   "metadata": {},
   "outputs": [],
   "source": []
  }
 ],
 "metadata": {
  "kernelspec": {
   "display_name": "Python 3 (ipykernel)",
   "language": "python",
   "name": "python3"
  },
  "language_info": {
   "codemirror_mode": {
    "name": "ipython",
    "version": 3
   },
   "file_extension": ".py",
   "mimetype": "text/x-python",
   "name": "python",
   "nbconvert_exporter": "python",
   "pygments_lexer": "ipython3",
   "version": "3.9.7"
  }
 },
 "nbformat": 4,
 "nbformat_minor": 5
}
