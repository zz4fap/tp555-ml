{
 "cells": [
  {
   "cell_type": "markdown",
   "id": "42fa31ae",
   "metadata": {},
   "source": [
    "# Troque as interrogações pelo número de sua matrícula e execute todas as células de código abaixo."
   ]
  },
  {
   "cell_type": "code",
   "execution_count": 1,
   "id": "ab8fe131",
   "metadata": {},
   "outputs": [
    {
     "ename": "SyntaxError",
     "evalue": "invalid syntax (Temp/ipykernel_14828/1080895849.py, line 1)",
     "output_type": "error",
     "traceback": [
      "\u001b[1;36m  File \u001b[1;32m\"C:\\Users\\FELIPE~1.FIG\\AppData\\Local\\Temp/ipykernel_14828/1080895849.py\"\u001b[1;36m, line \u001b[1;32m1\u001b[0m\n\u001b[1;33m    matrícula = ?????\u001b[0m\n\u001b[1;37m                ^\u001b[0m\n\u001b[1;31mSyntaxError\u001b[0m\u001b[1;31m:\u001b[0m invalid syntax\n"
     ]
    }
   ],
   "source": [
    "matrícula = ?????"
   ]
  },
  {
   "cell_type": "code",
   "execution_count": 2,
   "id": "d5c224cd",
   "metadata": {},
   "outputs": [
    {
     "ename": "SyntaxError",
     "evalue": "invalid syntax (sequencia_de_exercícios.py, line 8)",
     "output_type": "error",
     "traceback": [
      "Traceback \u001b[1;36m(most recent call last)\u001b[0m:\n",
      "  File \u001b[0;32m\"C:\\Users\\felipe.figueiredo\\Anaconda3\\lib\\site-packages\\IPython\\core\\interactiveshell.py\"\u001b[0m, line \u001b[0;32m3444\u001b[0m, in \u001b[0;35mrun_code\u001b[0m\n    exec(code_obj, self.user_global_ns, self.user_ns)\n",
      "\u001b[1;36m  File \u001b[1;32m\"C:\\Users\\FELIPE~1.FIG\\AppData\\Local\\Temp/ipykernel_14828/2840714077.py\"\u001b[1;36m, line \u001b[1;32m7\u001b[1;36m, in \u001b[1;35m<module>\u001b[1;36m\u001b[0m\n\u001b[1;33m    import sequencia_de_exercícios\u001b[0m\n",
      "\u001b[1;36m  File \u001b[1;32m\"C:\\Users\\felipe.figueiredo\\Documents\\work\\tp555-ml\\misc\\sequencia_de_exercícios.py\"\u001b[1;36m, line \u001b[1;32m8\u001b[0m\n\u001b[1;33m    <!DOCTYPE html>\u001b[0m\n\u001b[1;37m    ^\u001b[0m\n\u001b[1;31mSyntaxError\u001b[0m\u001b[1;31m:\u001b[0m invalid syntax\n"
     ]
    }
   ],
   "source": [
    "import random\n",
    "import urllib\n",
    "\n",
    "# Retrieve the dataset from dropbox.\n",
    "urllib.request.urlretrieve('https://github.com/zz4fap/tp555-ml/blob/main/misc/sequencia_de_exerc%C3%ADcios.py', 'sequencia_de_exercícios.py')\n",
    "\n",
    "import sequencia_de_exercícios"
   ]
  },
  {
   "cell_type": "markdown",
   "id": "443a3233",
   "metadata": {},
   "source": [
    "### A função abaixo imprimirá os exercícios que você precisa resolver."
   ]
  },
  {
   "cell_type": "code",
   "execution_count": null,
   "id": "6d0d9049",
   "metadata": {},
   "outputs": [],
   "source": [
    "exercícios(matrícula)"
   ]
  },
  {
   "cell_type": "code",
   "execution_count": null,
   "id": "3b8410ec",
   "metadata": {},
   "outputs": [],
   "source": []
  }
 ],
 "metadata": {
  "kernelspec": {
   "display_name": "Python 3 (ipykernel)",
   "language": "python",
   "name": "python3"
  },
  "language_info": {
   "codemirror_mode": {
    "name": "ipython",
    "version": 3
   },
   "file_extension": ".py",
   "mimetype": "text/x-python",
   "name": "python",
   "nbconvert_exporter": "python",
   "pygments_lexer": "ipython3",
   "version": "3.9.7"
  }
 },
 "nbformat": 4,
 "nbformat_minor": 5
}
