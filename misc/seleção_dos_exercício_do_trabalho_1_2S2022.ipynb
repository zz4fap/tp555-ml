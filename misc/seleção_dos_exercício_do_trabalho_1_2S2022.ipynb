{
 "cells": [
  {
   "cell_type": "code",
   "execution_count": 1,
   "id": "d5c224cd",
   "metadata": {},
   "outputs": [],
   "source": [
    "import random"
   ]
  },
  {
   "cell_type": "code",
   "execution_count": 2,
   "id": "ab8fe131",
   "metadata": {},
   "outputs": [],
   "source": [
    "matrícula = 123"
   ]
  },
  {
   "cell_type": "code",
   "execution_count": 3,
   "id": "6d0d9049",
   "metadata": {},
   "outputs": [],
   "source": [
    "exercicios_lista2 = [1, 2, 3, 4]\n",
    "\n",
    "exercicios_lista3 = [1, 2, 3, 4]"
   ]
  },
  {
   "cell_type": "code",
   "execution_count": 4,
   "id": "1f5a1ac9",
   "metadata": {},
   "outputs": [],
   "source": [
    "random.seed(matrícula)\n",
    "\n",
    "lista2 = random.sample(exercicios_lista2, len(exercicios_lista2))\n",
    "\n",
    "lista3 = random.sample(exercicios_lista3, len(exercicios_lista3))"
   ]
  },
  {
   "cell_type": "code",
   "execution_count": 5,
   "id": "9f7a527d",
   "metadata": {},
   "outputs": [
    {
     "name": "stdout",
     "output_type": "stream",
     "text": [
      "Da lista 2, você deve resolver os seguintes exercícios: [1, 2, 4, 3]\n",
      "Da lista 3, você deve resolver os seguintes exercícios: [3, 1, 4, 2]\n"
     ]
    }
   ],
   "source": [
    "print('Da lista 2, você deve resolver os seguintes exercícios:', lista2)\n",
    "print('Da lista 3, você deve resolver os seguintes exercícios:', lista3)"
   ]
  },
  {
   "cell_type": "code",
   "execution_count": null,
   "id": "6b34957f",
   "metadata": {},
   "outputs": [],
   "source": []
  }
 ],
 "metadata": {
  "kernelspec": {
   "display_name": "Python 3 (ipykernel)",
   "language": "python",
   "name": "python3"
  },
  "language_info": {
   "codemirror_mode": {
    "name": "ipython",
    "version": 3
   },
   "file_extension": ".py",
   "mimetype": "text/x-python",
   "name": "python",
   "nbconvert_exporter": "python",
   "pygments_lexer": "ipython3",
   "version": "3.9.7"
  }
 },
 "nbformat": 4,
 "nbformat_minor": 5
}
