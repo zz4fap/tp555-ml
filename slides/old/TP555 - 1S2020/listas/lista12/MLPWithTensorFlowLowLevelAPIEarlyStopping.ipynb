{
 "cells": [
  {
   "cell_type": "code",
   "execution_count": 9,
   "metadata": {},
   "outputs": [],
   "source": [
    "import tensorflow as tf\n",
    "import numpy as np\n",
    "import tfgraphviz as tfg\n",
    "from tensorboard import notebook\n",
    "from datetime import datetime"
   ]
  },
  {
   "cell_type": "code",
   "execution_count": 10,
   "metadata": {},
   "outputs": [],
   "source": [
    "# to make this notebook's output stable across runs\n",
    "def reset_graph(seed=42):\n",
    "    tf.reset_default_graph()\n",
    "    tf.set_random_seed(seed)\n",
    "    np.random.seed(seed)\n",
    "    \n",
    "def shuffle_batch(X, y, batch_size):\n",
    "    rnd_idx = np.random.permutation(len(X))\n",
    "    n_batches = len(X) // batch_size\n",
    "    for batch_idx in np.array_split(rnd_idx, n_batches):\n",
    "        X_batch, y_batch = X[batch_idx], y[batch_idx]\n",
    "        yield X_batch, y_batch\n",
    "        \n",
    "def logdirname(root_logdir='./'):\n",
    "    now = datetime.utcnow().strftime(\"%Y%m%d%H%M%S\")\n",
    "    logdir = \"{}/run-{}/\".format(root_logdir, now)\n",
    "    return logdir"
   ]
  },
  {
   "cell_type": "code",
   "execution_count": 11,
   "metadata": {},
   "outputs": [],
   "source": [
    "reset_graph()\n",
    "\n",
    "n_inputs = 28*28 # MNIST\n",
    "n_hidden1 = 300\n",
    "n_hidden2 = 100\n",
    "n_outputs = 10"
   ]
  },
  {
   "cell_type": "code",
   "execution_count": 12,
   "metadata": {},
   "outputs": [],
   "source": [
    "def neuron_layer(X, n_neurons, name, activation=None):\n",
    "    with tf.name_scope(name):\n",
    "        n_inputs = int(X.get_shape()[1])\n",
    "        stddev = 2 / np.sqrt(n_inputs)\n",
    "        init = tf.truncated_normal((n_inputs, n_neurons), stddev=stddev)\n",
    "        W = tf.Variable(init, name=\"weights\")\n",
    "        b = tf.Variable(tf.zeros([n_neurons]), name=\"biases\")\n",
    "        z = tf.matmul(X, W) + b\n",
    "        if activation==\"relu\":\n",
    "            return tf.nn.relu(z)\n",
    "        else:\n",
    "            return z"
   ]
  },
  {
   "cell_type": "code",
   "execution_count": 13,
   "metadata": {},
   "outputs": [],
   "source": [
    "(X_train, y_train), (X_test, y_test) = tf.keras.datasets.mnist.load_data()\n",
    "X_train = X_train.astype(np.float32).reshape(-1, 28*28) / 255.0\n",
    "X_test = X_test.astype(np.float32).reshape(-1, 28*28) / 255.0\n",
    "y_train = y_train.astype(np.int32)\n",
    "y_test = y_test.astype(np.int32)\n",
    "X_valid, X_train = X_train[:5000], X_train[5000:]\n",
    "y_valid, y_train = y_train[:5000], y_train[5000:]"
   ]
  },
  {
   "cell_type": "code",
   "execution_count": 14,
   "metadata": {},
   "outputs": [],
   "source": [
    "X = tf.placeholder(tf.float32, shape=(None, n_inputs), name=\"X\")\n",
    "y = tf.placeholder(tf.int64, shape=(None), name=\"y\")\n",
    "\n",
    "with tf.name_scope(\"dnn\"):\n",
    "    hidden1 = tf.keras.layers.Dense(n_hidden1, name=\"hidden1\", activation=tf.nn.relu)(X)\n",
    "    hidden2 = tf.keras.layers.Dense(n_hidden2, name=\"hidden2\", activation=tf.nn.relu)(hidden1)\n",
    "    logits = tf.keras.layers.Dense(n_outputs, name=\"outputs\")(hidden2)\n",
    "    \n",
    "with tf.name_scope(\"loss\"):\n",
    "    xentropy = tf.nn.sparse_softmax_cross_entropy_with_logits(labels=y, logits=logits)\n",
    "    loss = tf.reduce_mean(xentropy, name=\"loss\")\n",
    "    \n",
    "learning_rate = 0.01\n",
    "momentum = 0.9\n",
    "\n",
    "with tf.name_scope(\"train\"):\n",
    "    optimizer = tf.train.MomentumOptimizer(learning_rate=learning_rate, momentum=momentum)\n",
    "    training_op = optimizer.minimize(loss)\n",
    "    \n",
    "with tf.name_scope(\"eval\"):\n",
    "    correct = tf.nn.in_top_k(logits, y, 1)\n",
    "    accuracy = tf.reduce_mean(tf.cast(correct, tf.float32))\n",
    "    \n",
    "init = tf.global_variables_initializer()\n",
    "saver = tf.train.Saver()\n",
    "\n",
    "loss_summary = tf.summary.scalar('loss', loss)\n",
    "file_writer = tf.summary.FileWriter(logdirname(), tf.get_default_graph())"
   ]
  },
  {
   "cell_type": "code",
   "execution_count": 16,
   "metadata": {},
   "outputs": [
    {
     "name": "stdout",
     "output_type": "stream",
     "text": [
      "0 Train accuracy: 0.94 Test accuracy: 0.958\n",
      "1 Train accuracy: 0.96 Test accuracy: 0.9656\n",
      "2 Train accuracy: 0.96 Test accuracy: 0.976\n",
      "3 Train accuracy: 0.98 Test accuracy: 0.978\n",
      "4 Train accuracy: 0.98 Test accuracy: 0.9774\n",
      "5 Train accuracy: 1.0 Test accuracy: 0.9802\n",
      "6 Train accuracy: 1.0 Test accuracy: 0.9816\n",
      "7 Train accuracy: 1.0 Test accuracy: 0.9828\n",
      "8 Train accuracy: 0.98 Test accuracy: 0.9816\n",
      "9 Train accuracy: 0.98 Test accuracy: 0.9816\n",
      "10 Train accuracy: 1.0 Test accuracy: 0.983\n",
      "11 Train accuracy: 1.0 Test accuracy: 0.9802\n",
      "12 Train accuracy: 1.0 Test accuracy: 0.9834\n",
      "13 Train accuracy: 1.0 Test accuracy: 0.9834\n",
      "14 Train accuracy: 1.0 Test accuracy: 0.984\n",
      "15 Train accuracy: 1.0 Test accuracy: 0.984\n",
      "16 Train accuracy: 1.0 Test accuracy: 0.9844\n",
      "17 Train accuracy: 1.0 Test accuracy: 0.9844\n",
      "18 Train accuracy: 1.0 Test accuracy: 0.9852\n",
      "19 Train accuracy: 1.0 Test accuracy: 0.9852\n",
      "20 Train accuracy: 1.0 Test accuracy: 0.9846\n",
      "21 Train accuracy: 1.0 Test accuracy: 0.9852\n",
      "22 Train accuracy: 1.0 Test accuracy: 0.9854\n",
      "23 Train accuracy: 1.0 Test accuracy: 0.9854\n",
      "24 Train accuracy: 1.0 Test accuracy: 0.985\n",
      "25 Train accuracy: 1.0 Test accuracy: 0.9854\n",
      "26 Train accuracy: 1.0 Test accuracy: 0.9854\n",
      "27 Train accuracy: 1.0 Test accuracy: 0.9854\n",
      "28 Train accuracy: 1.0 Test accuracy: 0.9852\n",
      "29 Train accuracy: 1.0 Test accuracy: 0.9852\n",
      "30 Train accuracy: 1.0 Test accuracy: 0.985\n",
      "31 Train accuracy: 1.0 Test accuracy: 0.9846\n",
      "32 Train accuracy: 1.0 Test accuracy: 0.9852\n",
      "33 Train accuracy: 1.0 Test accuracy: 0.9858\n",
      "34 Train accuracy: 1.0 Test accuracy: 0.9856\n",
      "35 Train accuracy: 1.0 Test accuracy: 0.9858\n",
      "36 Train accuracy: 1.0 Test accuracy: 0.9854\n",
      "37 Train accuracy: 1.0 Test accuracy: 0.9852\n",
      "38 Train accuracy: 1.0 Test accuracy: 0.9852\n",
      "39 Train accuracy: 1.0 Test accuracy: 0.9858\n",
      "40 Train accuracy: 1.0 Test accuracy: 0.9854\n",
      "41 Train accuracy: 1.0 Test accuracy: 0.9856\n",
      "42 Train accuracy: 1.0 Test accuracy: 0.9854\n",
      "43 Train accuracy: 1.0 Test accuracy: 0.9854\n",
      "44 Train accuracy: 1.0 Test accuracy: 0.9856\n",
      "45 Train accuracy: 1.0 Test accuracy: 0.9856\n",
      "46 Train accuracy: 1.0 Test accuracy: 0.9856\n",
      "47 Train accuracy: 1.0 Test accuracy: 0.9854\n",
      "48 Train accuracy: 1.0 Test accuracy: 0.9856\n",
      "49 Train accuracy: 1.0 Test accuracy: 0.9856\n",
      "50 Train accuracy: 1.0 Test accuracy: 0.9854\n",
      "51 Train accuracy: 1.0 Test accuracy: 0.9854\n",
      "52 Train accuracy: 1.0 Test accuracy: 0.9856\n",
      "53 Train accuracy: 1.0 Test accuracy: 0.9854\n",
      "54 Train accuracy: 1.0 Test accuracy: 0.9858\n",
      "55 Train accuracy: 1.0 Test accuracy: 0.9856\n",
      "56 Train accuracy: 1.0 Test accuracy: 0.9854\n",
      "57 Train accuracy: 1.0 Test accuracy: 0.9854\n",
      "58 Train accuracy: 1.0 Test accuracy: 0.9856\n",
      "59 Train accuracy: 1.0 Test accuracy: 0.9856\n",
      "60 Train accuracy: 1.0 Test accuracy: 0.9858\n",
      "61 Train accuracy: 1.0 Test accuracy: 0.9854\n",
      "62 Train accuracy: 1.0 Test accuracy: 0.9854\n",
      "63 Train accuracy: 1.0 Test accuracy: 0.9856\n",
      "64 Train accuracy: 1.0 Test accuracy: 0.9858\n",
      "65 Train accuracy: 1.0 Test accuracy: 0.9856\n",
      "66 Train accuracy: 1.0 Test accuracy: 0.9858\n",
      "67 Train accuracy: 1.0 Test accuracy: 0.9854\n",
      "68 Train accuracy: 1.0 Test accuracy: 0.9856\n",
      "69 Train accuracy: 1.0 Test accuracy: 0.9858\n",
      "70 Train accuracy: 1.0 Test accuracy: 0.9854\n",
      "71 Train accuracy: 1.0 Test accuracy: 0.9858\n",
      "72 Train accuracy: 1.0 Test accuracy: 0.9856\n",
      "73 Train accuracy: 1.0 Test accuracy: 0.9858\n",
      "74 Train accuracy: 1.0 Test accuracy: 0.9854\n",
      "75 Train accuracy: 1.0 Test accuracy: 0.9854\n",
      "76 Train accuracy: 1.0 Test accuracy: 0.9858\n",
      "77 Train accuracy: 1.0 Test accuracy: 0.9854\n",
      "78 Train accuracy: 1.0 Test accuracy: 0.9854\n",
      "79 Train accuracy: 1.0 Test accuracy: 0.9854\n",
      "80 Train accuracy: 1.0 Test accuracy: 0.9856\n",
      "81 Train accuracy: 1.0 Test accuracy: 0.9854\n",
      "82 Train accuracy: 1.0 Test accuracy: 0.9856\n",
      "83 Train accuracy: 1.0 Test accuracy: 0.9854\n",
      "84 Train accuracy: 1.0 Test accuracy: 0.9854\n",
      "85 Train accuracy: 1.0 Test accuracy: 0.9854\n",
      "86 Train accuracy: 1.0 Test accuracy: 0.9854\n",
      "87 Train accuracy: 1.0 Test accuracy: 0.9854\n",
      "88 Train accuracy: 1.0 Test accuracy: 0.9856\n",
      "89 Train accuracy: 1.0 Test accuracy: 0.9856\n",
      "90 Train accuracy: 1.0 Test accuracy: 0.9854\n",
      "91 Train accuracy: 1.0 Test accuracy: 0.9856\n",
      "92 Train accuracy: 1.0 Test accuracy: 0.9854\n",
      "93 Train accuracy: 1.0 Test accuracy: 0.9856\n",
      "94 Train accuracy: 1.0 Test accuracy: 0.9858\n",
      "95 Train accuracy: 1.0 Test accuracy: 0.9856\n",
      "96 Train accuracy: 1.0 Test accuracy: 0.9854\n",
      "97 Train accuracy: 1.0 Test accuracy: 0.9858\n",
      "98 Train accuracy: 1.0 Test accuracy: 0.9856\n",
      "99 Train accuracy: 1.0 Test accuracy: 0.9854\n",
      "Early stopping\n"
     ]
    }
   ],
   "source": [
    "n_epochs = 400\n",
    "batch_size = 50\n",
    "\n",
    "best_loss = np.infty\n",
    "epochs_without_progress = 0\n",
    "max_epochs_without_progress = 50\n",
    "\n",
    "with tf.Session() as sess:\n",
    "    init.run()\n",
    "    idx = 0\n",
    "    for epoch in range(n_epochs):\n",
    "        for X_batch, y_batch in shuffle_batch(X_train, y_train, batch_size):\n",
    "            sess.run(training_op, feed_dict={X: X_batch, y: y_batch})\n",
    "        if(epoch%5==0):\n",
    "            summary_str = loss_summary.eval(feed_dict={X: X_batch, y: y_batch})\n",
    "            file_writer.add_summary(summary_str, idx)\n",
    "            idx += 1\n",
    "            loss_val = loss.eval(feed_dict={X: X_batch, y: y_batch})\n",
    "            if(loss_val < best_loss):\n",
    "                saver.save(sess, \"./model_early_stopping_final.ckpt\")\n",
    "                best_loss = loss_val\n",
    "            else:\n",
    "                epochs_without_progress += 5\n",
    "                if(epochs_without_progress > max_epochs_without_progress):\n",
    "                    print(\"Early stopping\")\n",
    "                    break\n",
    "        acc_train = accuracy.eval(feed_dict={X: X_batch, y: y_batch})\n",
    "        acc_test = accuracy.eval(feed_dict={X: X_valid, y: y_valid})\n",
    "        print(epoch, \"Train accuracy:\", acc_train, \"Test accuracy:\", acc_test)"
   ]
  },
  {
   "cell_type": "code",
   "execution_count": 17,
   "metadata": {},
   "outputs": [
    {
     "name": "stdout",
     "output_type": "stream",
     "text": [
      "WARNING:tensorflow:From C:\\ProgramData\\Anaconda3\\lib\\site-packages\\tensorflow\\python\\training\\saver.py:1276: checkpoint_exists (from tensorflow.python.training.checkpoint_management) is deprecated and will be removed in a future version.\n",
      "Instructions for updating:\n",
      "Use standard file APIs to check for files with this prefix.\n",
      "INFO:tensorflow:Restoring parameters from ./model_early_stopping_final.ckpt\n"
     ]
    }
   ],
   "source": [
    "with tf.Session() as sess:\n",
    "    saver.restore(sess, \"./model_early_stopping_final.ckpt\") # or better, use save_path\n",
    "    X_new_scaled = X_test[:20]\n",
    "    Z = logits.eval(feed_dict={X: X_new_scaled})\n",
    "    y_pred = np.argmax(Z, axis=1)"
   ]
  },
  {
   "cell_type": "code",
   "execution_count": 18,
   "metadata": {},
   "outputs": [
    {
     "name": "stdout",
     "output_type": "stream",
     "text": [
      "Predicted classes: [7 2 1 0 4 1 4 9 5 9 0 6 9 0 1 5 9 7 3 4]\n",
      "Actual classes:    [7 2 1 0 4 1 4 9 5 9 0 6 9 0 1 5 9 7 3 4]\n"
     ]
    }
   ],
   "source": [
    "print(\"Predicted classes:\", y_pred)\n",
    "print(\"Actual classes:   \", y_test[:20])"
   ]
  },
  {
   "cell_type": "code",
   "execution_count": 29,
   "metadata": {},
   "outputs": [
    {
     "name": "stdout",
     "output_type": "stream",
     "text": [
      "INFO:tensorflow:Restoring parameters from ./model_early_stopping_final.ckpt\n",
      "Error:  1.82 %\n",
      "Success:  98.18 %\n"
     ]
    }
   ],
   "source": [
    "with tf.Session() as sess:\n",
    "    saver.restore(sess, \"./model_early_stopping_final.ckpt\") # or better, use save_path\n",
    "    X_new_scaled = X_test\n",
    "    Z = logits.eval(feed_dict={X: X_new_scaled})\n",
    "    y_pred = np.argmax(Z, axis=1)\n",
    "    error = 0\n",
    "    success = 0\n",
    "    for i in range(0,len(y_pred)):\n",
    "        if(y_pred[i]!=y_test[i]):\n",
    "            error += 1\n",
    "        else:\n",
    "            success += 1\n",
    "    print('Error: ',(error/len(y_pred))*100,'%')\n",
    "    print('Success: ',(success/len(y_pred))*100,'%')"
   ]
  },
  {
   "cell_type": "code",
   "execution_count": 19,
   "metadata": {},
   "outputs": [
    {
     "data": {
      "text/plain": [
       "'G.gv.pdf'"
      ]
     },
     "execution_count": 19,
     "metadata": {},
     "output_type": "execute_result"
    }
   ],
   "source": [
    "g = tfg.board(tf.get_default_graph())\n",
    "g.view()"
   ]
  },
  {
   "cell_type": "code",
   "execution_count": 20,
   "metadata": {},
   "outputs": [],
   "source": [
    "# Load the TensorBoard notebook extension\n",
    "%load_ext tensorboard\n",
    "#%reload_ext tensorboard"
   ]
  },
  {
   "cell_type": "code",
   "execution_count": 21,
   "metadata": {},
   "outputs": [
    {
     "data": {
      "text/plain": [
       "Reusing TensorBoard on port 6006 (pid 14016), started 10:16:05 ago. (Use '!kill 14016' to kill it.)"
      ]
     },
     "metadata": {},
     "output_type": "display_data"
    },
    {
     "data": {
      "text/html": [
       "\n",
       "        <iframe\n",
       "            width=\"100%\"\n",
       "            height=\"800\"\n",
       "            src=\"http://localhost:6006\"\n",
       "            frameborder=\"0\"\n",
       "            allowfullscreen\n",
       "        ></iframe>\n",
       "        "
      ],
      "text/plain": [
       "<IPython.lib.display.IFrame at 0x27347c2ce10>"
      ]
     },
     "metadata": {},
     "output_type": "display_data"
    }
   ],
   "source": [
    "%tensorboard --logdir ./"
   ]
  },
  {
   "cell_type": "code",
   "execution_count": null,
   "metadata": {},
   "outputs": [],
   "source": []
  }
 ],
 "metadata": {
  "kernelspec": {
   "display_name": "Python 3",
   "language": "python",
   "name": "python3"
  },
  "language_info": {
   "codemirror_mode": {
    "name": "ipython",
    "version": 3
   },
   "file_extension": ".py",
   "mimetype": "text/x-python",
   "name": "python",
   "nbconvert_exporter": "python",
   "pygments_lexer": "ipython3",
   "version": "3.7.3"
  }
 },
 "nbformat": 4,
 "nbformat_minor": 2
}
