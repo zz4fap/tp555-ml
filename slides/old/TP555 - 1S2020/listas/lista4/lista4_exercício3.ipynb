{
 "cells": [
  {
   "cell_type": "code",
   "execution_count": 23,
   "metadata": {},
   "outputs": [],
   "source": [
    "# Import all necessary libraries.\n",
    "import numpy as np\n",
    "import cmath\n",
    "import scipy as sp\n",
    "from scipy.special import erfc\n",
    "from sklearn.naive_bayes import GaussianNB\n",
    "import matplotlib.pyplot as plt"
   ]
  },
  {
   "cell_type": "code",
   "execution_count": 33,
   "metadata": {},
   "outputs": [],
   "source": [
    "X = np.array([[1.83,81.65,30.48],\n",
    "[1.80,86.18,27.94],\n",
    "[1.70,77.11,30.48],\n",
    "[1.80,74.84,25.40],\n",
    "[1.52,45.36,15.24],\n",
    "[1.68,68.04,20.32],\n",
    "[1.65,58.97,17.78],\n",
    "[1.75,68.04,22.86]])\n",
    "\n",
    "y = np.array(['masculino','masculino','masculino','masculino','feminino','feminino','feminino','feminino'])"
   ]
  },
  {
   "cell_type": "code",
   "execution_count": 34,
   "metadata": {},
   "outputs": [
    {
     "name": "stdout",
     "output_type": "stream",
     "text": [
      "Resposta: sexo feminino\n"
     ]
    }
   ],
   "source": [
    "# Instantiate a Gaussian naive Bayes classifier.\n",
    "gnb = GaussianNB()\n",
    "\n",
    "# fit.\n",
    "gnb.fit(X, y)\n",
    "\n",
    "# Predict.\n",
    "print('Resposta: sexo %s' % gnb.predict([[1.83,58.97,20.32]])[0])"
   ]
  },
  {
   "cell_type": "code",
   "execution_count": 35,
   "metadata": {},
   "outputs": [
    {
     "name": "stdout",
     "output_type": "stream",
     "text": [
      "[[9.99999851e-01 1.48534481e-07]]\n"
     ]
    }
   ],
   "source": [
    "print(gnb.predict_proba([[1.83,58.97,20.32]]) )"
   ]
  },
  {
   "cell_type": "code",
   "execution_count": 36,
   "metadata": {},
   "outputs": [],
   "source": [
    "P_fem = 1.0/2.0\n",
    "P_mas = 1.0/2.0"
   ]
  },
  {
   "cell_type": "code",
   "execution_count": 48,
   "metadata": {},
   "outputs": [
    {
     "name": "stdout",
     "output_type": "stream",
     "text": [
      "8.735117486990957e-05\n",
      "4.367558743495478e-05\n"
     ]
    }
   ],
   "source": [
    "mu_altura_mas = (X[0:3+1,0].mean())\n",
    "std_altura_mas = (X[0:3+1,0].std())\n",
    "P_altura_mas = sp.stats.norm.pdf(1.83, mu_altura_mas, std_altura_mas)\n",
    "P_altura_mas_X_P_mas = P_altura_mas*P_mas\n",
    "\n",
    "mu_peso_mas = (X[0:3+1,1].mean())\n",
    "std_peso_mas = (X[0:3+1,1].std())\n",
    "P_peso_mas = sp.stats.norm.pdf(58.97, mu_peso_mas, std_peso_mas)\n",
    "P_peso_mas_X_P_mas = P_peso_mas*P_mas\n",
    "\n",
    "mu_tam_mas = (X[0:3+1,2].mean())\n",
    "std_tam_mas = (X[0:3+1,2].std())\n",
    "P_atm_mas = sp.stats.norm.pdf(20.32, mu_tam_mas, std_tam_mas)\n",
    "P_atm_mas_X_P_mas = P_atm_mas*P_mas"
   ]
  },
  {
   "cell_type": "code",
   "execution_count": 38,
   "metadata": {},
   "outputs": [],
   "source": [
    "mu_altura_fem = (X[4:4+3+1,0].mean())\n",
    "std_altura_fem = (X[4:4+3+1,0].std())\n",
    "\n",
    "P_altura_fem = sp.stats.norm.pdf(1.83, mu_altura_fem, std_altura_fem)\n",
    "\n",
    "P_altura_fem_X_P_fem = P_altura_fem*P_fem\n",
    "\n",
    "mu_peso_fem = (X[4:4+3+1,1].mean())\n",
    "std_peso_fem = (X[4:4+3+1,1].std())\n",
    "\n",
    "P_peso_fem = sp.stats.norm.pdf(58.97, mu_peso_fem, std_peso_fem)\n",
    "\n",
    "P_peso_fem_X_P_fem = P_peso_fem*P_fem\n",
    "\n",
    "mu_tam_fem = (X[4:4+3+1,2].mean())\n",
    "std_tam_fem = (X[4:4+3+1,2].std())\n",
    "\n",
    "P_atm_fem = sp.stats.norm.pdf(20.32, mu_tam_fem, std_tam_fem)\n",
    "\n",
    "P_atm_fem_X_P_fem = P_atm_fem*P_fem"
   ]
  },
  {
   "cell_type": "code",
   "execution_count": 39,
   "metadata": {},
   "outputs": [],
   "source": [
    "P_alt = P_altura_mas_X_P_mas + P_altura_fem_X_P_fem\n",
    "P_peso = P_peso_mas_X_P_mas + P_peso_fem_X_P_fem\n",
    "P_tam = P_atm_mas_X_P_mas + P_atm_fem_X_P_fem"
   ]
  },
  {
   "cell_type": "code",
   "execution_count": 51,
   "metadata": {},
   "outputs": [
    {
     "name": "stdout",
     "output_type": "stream",
     "text": [
      "4.9734204879857895e-08\n"
     ]
    }
   ],
   "source": [
    "print((P_altura_mas*P_peso_mas*P_atm_mas*P_mas)/(P_alt*P_peso*P_tam))"
   ]
  },
  {
   "cell_type": "code",
   "execution_count": 52,
   "metadata": {},
   "outputs": [
    {
     "name": "stdout",
     "output_type": "stream",
     "text": [
      "0.3348187663718195\n"
     ]
    }
   ],
   "source": [
    "print((P_altura_fem*P_peso_fem*P_atm_fem*P_fem)/(P_alt*P_peso*P_tam))"
   ]
  },
  {
   "cell_type": "code",
   "execution_count": null,
   "metadata": {},
   "outputs": [],
   "source": []
  }
 ],
 "metadata": {
  "kernelspec": {
   "display_name": "Python 3",
   "language": "python",
   "name": "python3"
  },
  "language_info": {
   "codemirror_mode": {
    "name": "ipython",
    "version": 3
   },
   "file_extension": ".py",
   "mimetype": "text/x-python",
   "name": "python",
   "nbconvert_exporter": "python",
   "pygments_lexer": "ipython3",
   "version": "3.7.3"
  }
 },
 "nbformat": 4,
 "nbformat_minor": 2
}
